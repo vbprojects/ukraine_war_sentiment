{
 "cells": [
  {
   "cell_type": "code",
   "execution_count": 1,
   "metadata": {},
   "outputs": [],
   "source": [
    "%run header.py"
   ]
  },
  {
   "cell_type": "code",
   "execution_count": 2,
   "metadata": {},
   "outputs": [
    {
     "data": {
      "text/plain": [
       "<dask.config.set at 0x1ed6fba75d0>"
      ]
     },
     "execution_count": 2,
     "metadata": {},
     "output_type": "execute_result"
    }
   ],
   "source": [
    "dask.config.set(scheduler='threading')"
   ]
  },
  {
   "cell_type": "code",
   "execution_count": 3,
   "metadata": {},
   "outputs": [],
   "source": [
    "import dask_ml\n",
    "from dask_ml import feature_extraction\n",
    "from dask_tfidf import DaskTfidfTransformer\n",
    "import dask.bag as db\n",
    "import pandas as pd\n",
    "import random\n",
    "import scipy.spatial as sp\n",
    "import numexpr\n",
    "import plotly_express as px\n",
    "import sklearn.feature_extraction.text as sktext\n",
    "numexpr.set_num_threads(1)\n",
    "import re"
   ]
  },
  {
   "cell_type": "code",
   "execution_count": 4,
   "metadata": {},
   "outputs": [],
   "source": [
    "ukraine_geo_data = pd.read_html(\"https://en.wikipedia.org/wiki/List_of_cities_in_Ukraine\")[0]\n",
    "ukraine_cities = ukraine_geo_data['City name'].astype(str)\n",
    "ukraine_oblasts = ukraine_geo_data['Oblast'].astype(str)\n",
    "nw = []\n",
    "for w in ukraine_cities:\n",
    "  nw.append(w[0:-3] if '[' in w else w)\n",
    "pattern_str = '|'.join([f'\\\\b{w}\\\\b' for w in nw])\n",
    "pattern_str = r'(?i)' + pattern_str\n",
    "# pattern = re.compile(pattern_str, flags=re.IGNORECASE)"
   ]
  },
  {
   "cell_type": "code",
   "execution_count": 5,
   "metadata": {},
   "outputs": [],
   "source": [
    "# full_sample = dd.read_parquet(cleaned_data_path_str + \"/*\").sample(frac = sampling_rate).dropna().drop_duplicates().persist()\n",
    "# sample_with_cities = full_sample.text.str.contains(pattern_str)\n",
    "# ddf = full_sample[sample_with_cities]\n",
    "# ddf = ddf.sort_values('tweetcreatedts').reset_index(drop = True)\n",
    "# ddf.persist()"
   ]
  },
  {
   "cell_type": "code",
   "execution_count": 6,
   "metadata": {},
   "outputs": [],
   "source": [
    "ddf = dd.read_parquet(cleaned_data_path_str + \"/*\").sample(frac = 0.5).dropna().drop_duplicates().persist()"
   ]
  },
  {
   "cell_type": "code",
   "execution_count": 7,
   "metadata": {},
   "outputs": [],
   "source": [
    "newsdf = dd.read_csv(news_csv_path_str).dropna()\n",
    "newsdf['text'] = newsdf['headline'] + ' ' + newsdf['desc']\n",
    "newsdflen = newsdf.shape[0].compute()\n",
    "ddflen = ddf.shape[0].compute()"
   ]
  },
  {
   "cell_type": "code",
   "execution_count": 8,
   "metadata": {},
   "outputs": [],
   "source": [
    "# sample_bag = dask.bag.concat([newsdf.text.to_bag(), ddf.text.to_bag()]).persist()\n",
    "# vectorizer = dask_ml.feature_extraction.text.HashingVectorizer()\n",
    "# vecs = vectorizer.fit_transform(sample_bag)\n",
    "# vecs.persist()\n",
    "# vecs.compute_chunk_sizes()\n",
    "# # news_vecs = vecs[-1*newsdflen:].persist()\n",
    "# # tweet_vecs = vecs[:ddflen].persist()\n",
    "# tfidf = DaskTfidfTransformer().fit_transform(X = vecs)\n",
    "# news_tfidf = tfidf[-1*newsdflen:].persist()\n",
    "# tweet_tfidf = tfidf[:ddflen].persist()"
   ]
  },
  {
   "cell_type": "code",
   "execution_count": 9,
   "metadata": {},
   "outputs": [],
   "source": [
    "news_articles = pd.read_csv(news_csv_path_str).dropna()\n",
    "news_articles['text'] = news_articles['headline'] + ' ' + news_articles['desc']"
   ]
  },
  {
   "cell_type": "code",
   "execution_count": 10,
   "metadata": {},
   "outputs": [],
   "source": [
    "article_dt_ranges = [(date - pd.Timedelta(days = timedelta), date + pd.Timedelta(days = timedelta + 1)) for date in pd.to_datetime(news_articles['date'])]"
   ]
  },
  {
   "cell_type": "code",
   "execution_count": 11,
   "metadata": {},
   "outputs": [
    {
     "data": {
      "text/plain": [
       "'Russia-Ukraine war: U.S. imposes new sanctions over Russia’s illegal annexation Russian President Vladimir Putin announced the illegal annexation of the Donetsk, Luhansk, Kherson and Zaporizhzhia regions at a ceremony in Moscow. '"
      ]
     },
     "execution_count": 11,
     "metadata": {},
     "output_type": "execute_result"
    }
   ],
   "source": [
    "# i = random.randint(0, len(article_dt_ranges))\n",
    "i = 184\n",
    "dl, ul = article_dt_ranges[i]\n",
    "ddft = ddf.query(f'\"{str(str(dl.date()))}\" <= tweetcreatedts < \"{str(ul.date())}\"').repartition(npartitions = 10).drop_duplicates().persist()\n",
    "news_articles.text[i]"
   ]
  },
  {
   "cell_type": "code",
   "execution_count": 12,
   "metadata": {},
   "outputs": [],
   "source": [
    "import torch\n",
    "import pyro\n",
    "import pyro.distributions as dist"
   ]
  },
  {
   "cell_type": "code",
   "execution_count": 13,
   "metadata": {},
   "outputs": [
    {
     "data": {
      "application/vnd.plotly.v1+json": {
       "config": {
        "plotlyServerURL": "https://plot.ly"
       },
       "data": [
        {
         "alignmentgroup": "True",
         "hovertemplate": "variable=corrected_relevant<br>date=%{x}<br>value=%{y}<extra></extra>",
         "legendgroup": "corrected_relevant",
         "marker": {
          "color": "#636efa",
          "pattern": {
           "shape": ""
          }
         },
         "name": "corrected_relevant",
         "offsetgroup": "corrected_relevant",
         "orientation": "v",
         "showlegend": true,
         "textposition": "auto",
         "type": "bar",
         "x": [
          "2022-09-27T00:00:00",
          "2022-09-27T01:00:00",
          "2022-09-27T02:00:00",
          "2022-09-27T03:00:00",
          "2022-09-27T04:00:00",
          "2022-09-27T05:00:00",
          "2022-09-27T06:00:00",
          "2022-09-27T07:00:00",
          "2022-09-27T08:00:00",
          "2022-09-27T09:00:00",
          "2022-09-27T10:00:00",
          "2022-09-27T11:00:00",
          "2022-09-27T12:00:00",
          "2022-09-27T13:00:00",
          "2022-09-27T14:00:00",
          "2022-09-27T15:00:00",
          "2022-09-27T16:00:00",
          "2022-09-27T17:00:00",
          "2022-09-27T18:00:00",
          "2022-09-27T19:00:00",
          "2022-09-27T20:00:00",
          "2022-09-27T21:00:00",
          "2022-09-27T22:00:00",
          "2022-09-27T23:00:00",
          "2022-09-28T00:00:00",
          "2022-09-28T01:00:00",
          "2022-09-28T02:00:00",
          "2022-09-28T03:00:00",
          "2022-09-28T04:00:00",
          "2022-09-28T05:00:00",
          "2022-09-28T06:00:00",
          "2022-09-28T07:00:00",
          "2022-09-28T08:00:00",
          "2022-09-28T09:00:00",
          "2022-09-28T10:00:00",
          "2022-09-28T11:00:00",
          "2022-09-28T12:00:00",
          "2022-09-28T13:00:00",
          "2022-09-28T14:00:00",
          "2022-09-28T15:00:00",
          "2022-09-28T16:00:00",
          "2022-09-28T17:00:00",
          "2022-09-28T18:00:00",
          "2022-09-28T19:00:00",
          "2022-09-28T20:00:00",
          "2022-09-28T21:00:00",
          "2022-09-28T22:00:00",
          "2022-09-28T23:00:00",
          "2022-09-29T00:00:00",
          "2022-09-29T01:00:00",
          "2022-09-29T02:00:00",
          "2022-09-29T03:00:00",
          "2022-09-29T04:00:00",
          "2022-09-29T05:00:00",
          "2022-09-29T06:00:00",
          "2022-09-29T07:00:00",
          "2022-09-29T08:00:00",
          "2022-09-29T09:00:00",
          "2022-09-29T10:00:00",
          "2022-09-29T11:00:00",
          "2022-09-29T12:00:00",
          "2022-09-29T13:00:00",
          "2022-09-29T14:00:00",
          "2022-09-29T15:00:00",
          "2022-09-29T16:00:00",
          "2022-09-29T17:00:00",
          "2022-09-29T18:00:00",
          "2022-09-29T19:00:00",
          "2022-09-29T20:00:00",
          "2022-09-29T21:00:00",
          "2022-09-29T22:00:00",
          "2022-09-29T23:00:00",
          "2022-09-30T00:00:00",
          "2022-09-30T01:00:00",
          "2022-09-30T02:00:00",
          "2022-09-30T03:00:00",
          "2022-09-30T04:00:00",
          "2022-09-30T05:00:00",
          "2022-09-30T06:00:00",
          "2022-09-30T07:00:00",
          "2022-09-30T08:00:00",
          "2022-09-30T09:00:00",
          "2022-09-30T10:00:00",
          "2022-09-30T11:00:00",
          "2022-09-30T12:00:00",
          "2022-09-30T13:00:00",
          "2022-09-30T14:00:00",
          "2022-09-30T15:00:00",
          "2022-09-30T16:00:00",
          "2022-09-30T17:00:00",
          "2022-09-30T18:00:00",
          "2022-09-30T19:00:00",
          "2022-09-30T20:00:00",
          "2022-09-30T21:00:00",
          "2022-09-30T22:00:00",
          "2022-09-30T23:00:00",
          "2022-10-01T00:00:00",
          "2022-10-01T01:00:00",
          "2022-10-01T02:00:00",
          "2022-10-01T03:00:00",
          "2022-10-01T04:00:00",
          "2022-10-01T05:00:00",
          "2022-10-01T06:00:00",
          "2022-10-01T07:00:00",
          "2022-10-01T08:00:00",
          "2022-10-01T09:00:00",
          "2022-10-01T10:00:00",
          "2022-10-01T11:00:00",
          "2022-10-01T12:00:00",
          "2022-10-01T13:00:00",
          "2022-10-01T14:00:00",
          "2022-10-01T15:00:00",
          "2022-10-01T16:00:00",
          "2022-10-01T17:00:00",
          "2022-10-01T18:00:00",
          "2022-10-01T19:00:00",
          "2022-10-01T20:00:00",
          "2022-10-01T21:00:00",
          "2022-10-01T22:00:00",
          "2022-10-01T23:00:00",
          "2022-10-02T00:00:00",
          "2022-10-02T01:00:00",
          "2022-10-02T02:00:00",
          "2022-10-02T03:00:00",
          "2022-10-02T04:00:00",
          "2022-10-02T05:00:00",
          "2022-10-02T06:00:00",
          "2022-10-02T07:00:00",
          "2022-10-02T08:00:00",
          "2022-10-02T09:00:00",
          "2022-10-02T10:00:00",
          "2022-10-02T11:00:00",
          "2022-10-02T12:00:00",
          "2022-10-02T13:00:00",
          "2022-10-02T14:00:00",
          "2022-10-02T15:00:00",
          "2022-10-02T16:00:00",
          "2022-10-02T17:00:00",
          "2022-10-02T18:00:00",
          "2022-10-02T19:00:00",
          "2022-10-02T20:00:00",
          "2022-10-02T21:00:00",
          "2022-10-02T22:00:00",
          "2022-10-02T23:00:00",
          "2022-10-03T00:00:00",
          "2022-10-03T01:00:00",
          "2022-10-03T02:00:00",
          "2022-10-03T03:00:00",
          "2022-10-03T04:00:00",
          "2022-10-03T05:00:00",
          "2022-10-03T06:00:00",
          "2022-10-03T07:00:00",
          "2022-10-03T08:00:00",
          "2022-10-03T09:00:00",
          "2022-10-03T10:00:00",
          "2022-10-03T11:00:00",
          "2022-10-03T12:00:00",
          "2022-10-03T13:00:00",
          "2022-10-03T14:00:00",
          "2022-10-03T15:00:00",
          "2022-10-03T16:00:00",
          "2022-10-03T17:00:00",
          "2022-10-03T18:00:00",
          "2022-10-03T19:00:00",
          "2022-10-03T20:00:00",
          "2022-10-03T21:00:00",
          "2022-10-03T22:00:00",
          "2022-10-03T23:00:00"
         ],
         "xaxis": "x",
         "y": [
          4.6042346753717815,
          23.360093853514908,
          11.981812971952536,
          15.768788819875777,
          10.914767841788478,
          24.03289551532363,
          13.332629141602215,
          24.91543992148831,
          19.57571902228391,
          19.00580181245075,
          18.590912419449328,
          11.405098831985624,
          13.42145937673901,
          19.65835602905052,
          21.350554281345566,
          17.40476462522852,
          32.74582548978596,
          31.741300270889774,
          21.588222789115648,
          25.469911003236245,
          23.512400903904574,
          31.371068299258596,
          7.987875314635024,
          13.658139659995697,
          29.16015294402128,
          35.81881057538953,
          29.098688646170444,
          22.777139406487233,
          32.74430352536544,
          34.54728730327772,
          38.785830230115536,
          22.748879928315414,
          18.596933071169712,
          31.00946611505122,
          31.604551113063856,
          21.055567074435,
          14.127851975514748,
          16.946858645733208,
          30.40836518858308,
          13.537039152955517,
          18.58546852122987,
          27.332786344377304,
          28.496454081632653,
          28.756351132686085,
          17.869424686967477,
          21.86468396614993,
          15.975750629270047,
          19.12139552399398,
          19.951683593277718,
          10.90137713164029,
          20.54025080906149,
          15.768788819875777,
          20.010407709945547,
          7.510279848538635,
          13.332629141602215,
          22.748879928315414,
          16.63936116894132,
          23.007023246650906,
          52.98410039543059,
          34.21529649595687,
          29.668489148580967,
          23.72560210402649,
          25.232473241590213,
          28.363320130002034,
          31.860803179251203,
          33.50470584149476,
          21.588222789115648,
          23.00508090614887,
          22.57190486774839,
          40.87745263236726,
          26.24587603380079,
          53.266744673983226,
          41.43811207834603,
          37.376150165623855,
          29.098688646170444,
          50.81054175293306,
          40.02081541989109,
          36.049343272985446,
          37.57377303542442,
          46.58103985321728,
          49.91808350682397,
          48.01465721040189,
          53.91364601640305,
          54.39354827562375,
          172.3597941012799,
          192.51631421552923,
          166.27552879714577,
          123.76721511273615,
          0.8850223105347557,
          8.817027853024937,
          17.270578231292518,
          16.43220064724919,
          24.452896940060757,
          38.02553733243466,
          50.20950197770586,
          45.071860877985806,
          35.29913251118366,
          54.506885658201455,
          54.77400215749731,
          63.07515527950311,
          36.382559472628266,
          58.58018281860135,
          44.846116203571086,
          51.997439836149525,
          35.236294240111036,
          46.01404649330181,
          39.04091608084359,
          33.33798120118875,
          38.14520033388982,
          28.470722524831785,
          36.87823012232416,
          31.58642469022954,
          36.28591473192498,
          39.67662533861222,
          25.905867346938777,
          19.71864077669903,
          26.33388901237312,
          21.86468396614993,
          15.975750629270047,
          30.047907251990537,
          12.27795913432475,
          9.344037541405964,
          23.963625943905072,
          17.52087646652864,
          10.914767841788478,
          22.530839545615905,
          24.241143893822212,
          22.748879928315414,
          14.681789266712931,
          12.003664302600473,
          18.590912419449328,
          14.914360011058125,
          24.01734835837507,
          18.980481683221193,
          14.880689347604486,
          14.181660065001017,
          18.58546852122987,
          22.04256963256234,
          13.816462585034014,
          22.18347087378641,
          18.80992072312366,
          16.16085336628473,
          13.693500539374327,
          13.658139659995697,
          21.486428485068313,
          23.360093853514908,
          17.11687567421791,
          14.016701173222913,
          30.925175551734025,
          16.522615666784997,
          21.81702950443999,
          22.748879928315414,
          12.72421736448454,
          18.00549645390071,
          18.590912419449328,
          24.5648282535075,
          23.31095575959933,
          25.759225141514474,
          16.82164882772681,
          16.76014371318302,
          27.435691626577427,
          21.160866847259847,
          19.861164965986394,
          17.25381067961165,
          31.97686522931022,
          27.56851456601513,
          10.270125404530745,
          16.38976759199484
         ],
         "yaxis": "y"
        }
       ],
       "layout": {
        "barmode": "relative",
        "legend": {
         "title": {
          "text": "variable"
         },
         "tracegroupgap": 0
        },
        "margin": {
         "t": 60
        },
        "template": {
         "data": {
          "bar": [
           {
            "error_x": {
             "color": "#2a3f5f"
            },
            "error_y": {
             "color": "#2a3f5f"
            },
            "marker": {
             "line": {
              "color": "#E5ECF6",
              "width": 0.5
             },
             "pattern": {
              "fillmode": "overlay",
              "size": 10,
              "solidity": 0.2
             }
            },
            "type": "bar"
           }
          ],
          "barpolar": [
           {
            "marker": {
             "line": {
              "color": "#E5ECF6",
              "width": 0.5
             },
             "pattern": {
              "fillmode": "overlay",
              "size": 10,
              "solidity": 0.2
             }
            },
            "type": "barpolar"
           }
          ],
          "carpet": [
           {
            "aaxis": {
             "endlinecolor": "#2a3f5f",
             "gridcolor": "white",
             "linecolor": "white",
             "minorgridcolor": "white",
             "startlinecolor": "#2a3f5f"
            },
            "baxis": {
             "endlinecolor": "#2a3f5f",
             "gridcolor": "white",
             "linecolor": "white",
             "minorgridcolor": "white",
             "startlinecolor": "#2a3f5f"
            },
            "type": "carpet"
           }
          ],
          "choropleth": [
           {
            "colorbar": {
             "outlinewidth": 0,
             "ticks": ""
            },
            "type": "choropleth"
           }
          ],
          "contour": [
           {
            "colorbar": {
             "outlinewidth": 0,
             "ticks": ""
            },
            "colorscale": [
             [
              0,
              "#0d0887"
             ],
             [
              0.1111111111111111,
              "#46039f"
             ],
             [
              0.2222222222222222,
              "#7201a8"
             ],
             [
              0.3333333333333333,
              "#9c179e"
             ],
             [
              0.4444444444444444,
              "#bd3786"
             ],
             [
              0.5555555555555556,
              "#d8576b"
             ],
             [
              0.6666666666666666,
              "#ed7953"
             ],
             [
              0.7777777777777778,
              "#fb9f3a"
             ],
             [
              0.8888888888888888,
              "#fdca26"
             ],
             [
              1,
              "#f0f921"
             ]
            ],
            "type": "contour"
           }
          ],
          "contourcarpet": [
           {
            "colorbar": {
             "outlinewidth": 0,
             "ticks": ""
            },
            "type": "contourcarpet"
           }
          ],
          "heatmap": [
           {
            "colorbar": {
             "outlinewidth": 0,
             "ticks": ""
            },
            "colorscale": [
             [
              0,
              "#0d0887"
             ],
             [
              0.1111111111111111,
              "#46039f"
             ],
             [
              0.2222222222222222,
              "#7201a8"
             ],
             [
              0.3333333333333333,
              "#9c179e"
             ],
             [
              0.4444444444444444,
              "#bd3786"
             ],
             [
              0.5555555555555556,
              "#d8576b"
             ],
             [
              0.6666666666666666,
              "#ed7953"
             ],
             [
              0.7777777777777778,
              "#fb9f3a"
             ],
             [
              0.8888888888888888,
              "#fdca26"
             ],
             [
              1,
              "#f0f921"
             ]
            ],
            "type": "heatmap"
           }
          ],
          "heatmapgl": [
           {
            "colorbar": {
             "outlinewidth": 0,
             "ticks": ""
            },
            "colorscale": [
             [
              0,
              "#0d0887"
             ],
             [
              0.1111111111111111,
              "#46039f"
             ],
             [
              0.2222222222222222,
              "#7201a8"
             ],
             [
              0.3333333333333333,
              "#9c179e"
             ],
             [
              0.4444444444444444,
              "#bd3786"
             ],
             [
              0.5555555555555556,
              "#d8576b"
             ],
             [
              0.6666666666666666,
              "#ed7953"
             ],
             [
              0.7777777777777778,
              "#fb9f3a"
             ],
             [
              0.8888888888888888,
              "#fdca26"
             ],
             [
              1,
              "#f0f921"
             ]
            ],
            "type": "heatmapgl"
           }
          ],
          "histogram": [
           {
            "marker": {
             "pattern": {
              "fillmode": "overlay",
              "size": 10,
              "solidity": 0.2
             }
            },
            "type": "histogram"
           }
          ],
          "histogram2d": [
           {
            "colorbar": {
             "outlinewidth": 0,
             "ticks": ""
            },
            "colorscale": [
             [
              0,
              "#0d0887"
             ],
             [
              0.1111111111111111,
              "#46039f"
             ],
             [
              0.2222222222222222,
              "#7201a8"
             ],
             [
              0.3333333333333333,
              "#9c179e"
             ],
             [
              0.4444444444444444,
              "#bd3786"
             ],
             [
              0.5555555555555556,
              "#d8576b"
             ],
             [
              0.6666666666666666,
              "#ed7953"
             ],
             [
              0.7777777777777778,
              "#fb9f3a"
             ],
             [
              0.8888888888888888,
              "#fdca26"
             ],
             [
              1,
              "#f0f921"
             ]
            ],
            "type": "histogram2d"
           }
          ],
          "histogram2dcontour": [
           {
            "colorbar": {
             "outlinewidth": 0,
             "ticks": ""
            },
            "colorscale": [
             [
              0,
              "#0d0887"
             ],
             [
              0.1111111111111111,
              "#46039f"
             ],
             [
              0.2222222222222222,
              "#7201a8"
             ],
             [
              0.3333333333333333,
              "#9c179e"
             ],
             [
              0.4444444444444444,
              "#bd3786"
             ],
             [
              0.5555555555555556,
              "#d8576b"
             ],
             [
              0.6666666666666666,
              "#ed7953"
             ],
             [
              0.7777777777777778,
              "#fb9f3a"
             ],
             [
              0.8888888888888888,
              "#fdca26"
             ],
             [
              1,
              "#f0f921"
             ]
            ],
            "type": "histogram2dcontour"
           }
          ],
          "mesh3d": [
           {
            "colorbar": {
             "outlinewidth": 0,
             "ticks": ""
            },
            "type": "mesh3d"
           }
          ],
          "parcoords": [
           {
            "line": {
             "colorbar": {
              "outlinewidth": 0,
              "ticks": ""
             }
            },
            "type": "parcoords"
           }
          ],
          "pie": [
           {
            "automargin": true,
            "type": "pie"
           }
          ],
          "scatter": [
           {
            "fillpattern": {
             "fillmode": "overlay",
             "size": 10,
             "solidity": 0.2
            },
            "type": "scatter"
           }
          ],
          "scatter3d": [
           {
            "line": {
             "colorbar": {
              "outlinewidth": 0,
              "ticks": ""
             }
            },
            "marker": {
             "colorbar": {
              "outlinewidth": 0,
              "ticks": ""
             }
            },
            "type": "scatter3d"
           }
          ],
          "scattercarpet": [
           {
            "marker": {
             "colorbar": {
              "outlinewidth": 0,
              "ticks": ""
             }
            },
            "type": "scattercarpet"
           }
          ],
          "scattergeo": [
           {
            "marker": {
             "colorbar": {
              "outlinewidth": 0,
              "ticks": ""
             }
            },
            "type": "scattergeo"
           }
          ],
          "scattergl": [
           {
            "marker": {
             "colorbar": {
              "outlinewidth": 0,
              "ticks": ""
             }
            },
            "type": "scattergl"
           }
          ],
          "scattermapbox": [
           {
            "marker": {
             "colorbar": {
              "outlinewidth": 0,
              "ticks": ""
             }
            },
            "type": "scattermapbox"
           }
          ],
          "scatterpolar": [
           {
            "marker": {
             "colorbar": {
              "outlinewidth": 0,
              "ticks": ""
             }
            },
            "type": "scatterpolar"
           }
          ],
          "scatterpolargl": [
           {
            "marker": {
             "colorbar": {
              "outlinewidth": 0,
              "ticks": ""
             }
            },
            "type": "scatterpolargl"
           }
          ],
          "scatterternary": [
           {
            "marker": {
             "colorbar": {
              "outlinewidth": 0,
              "ticks": ""
             }
            },
            "type": "scatterternary"
           }
          ],
          "surface": [
           {
            "colorbar": {
             "outlinewidth": 0,
             "ticks": ""
            },
            "colorscale": [
             [
              0,
              "#0d0887"
             ],
             [
              0.1111111111111111,
              "#46039f"
             ],
             [
              0.2222222222222222,
              "#7201a8"
             ],
             [
              0.3333333333333333,
              "#9c179e"
             ],
             [
              0.4444444444444444,
              "#bd3786"
             ],
             [
              0.5555555555555556,
              "#d8576b"
             ],
             [
              0.6666666666666666,
              "#ed7953"
             ],
             [
              0.7777777777777778,
              "#fb9f3a"
             ],
             [
              0.8888888888888888,
              "#fdca26"
             ],
             [
              1,
              "#f0f921"
             ]
            ],
            "type": "surface"
           }
          ],
          "table": [
           {
            "cells": {
             "fill": {
              "color": "#EBF0F8"
             },
             "line": {
              "color": "white"
             }
            },
            "header": {
             "fill": {
              "color": "#C8D4E3"
             },
             "line": {
              "color": "white"
             }
            },
            "type": "table"
           }
          ]
         },
         "layout": {
          "annotationdefaults": {
           "arrowcolor": "#2a3f5f",
           "arrowhead": 0,
           "arrowwidth": 1
          },
          "autotypenumbers": "strict",
          "coloraxis": {
           "colorbar": {
            "outlinewidth": 0,
            "ticks": ""
           }
          },
          "colorscale": {
           "diverging": [
            [
             0,
             "#8e0152"
            ],
            [
             0.1,
             "#c51b7d"
            ],
            [
             0.2,
             "#de77ae"
            ],
            [
             0.3,
             "#f1b6da"
            ],
            [
             0.4,
             "#fde0ef"
            ],
            [
             0.5,
             "#f7f7f7"
            ],
            [
             0.6,
             "#e6f5d0"
            ],
            [
             0.7,
             "#b8e186"
            ],
            [
             0.8,
             "#7fbc41"
            ],
            [
             0.9,
             "#4d9221"
            ],
            [
             1,
             "#276419"
            ]
           ],
           "sequential": [
            [
             0,
             "#0d0887"
            ],
            [
             0.1111111111111111,
             "#46039f"
            ],
            [
             0.2222222222222222,
             "#7201a8"
            ],
            [
             0.3333333333333333,
             "#9c179e"
            ],
            [
             0.4444444444444444,
             "#bd3786"
            ],
            [
             0.5555555555555556,
             "#d8576b"
            ],
            [
             0.6666666666666666,
             "#ed7953"
            ],
            [
             0.7777777777777778,
             "#fb9f3a"
            ],
            [
             0.8888888888888888,
             "#fdca26"
            ],
            [
             1,
             "#f0f921"
            ]
           ],
           "sequentialminus": [
            [
             0,
             "#0d0887"
            ],
            [
             0.1111111111111111,
             "#46039f"
            ],
            [
             0.2222222222222222,
             "#7201a8"
            ],
            [
             0.3333333333333333,
             "#9c179e"
            ],
            [
             0.4444444444444444,
             "#bd3786"
            ],
            [
             0.5555555555555556,
             "#d8576b"
            ],
            [
             0.6666666666666666,
             "#ed7953"
            ],
            [
             0.7777777777777778,
             "#fb9f3a"
            ],
            [
             0.8888888888888888,
             "#fdca26"
            ],
            [
             1,
             "#f0f921"
            ]
           ]
          },
          "colorway": [
           "#636efa",
           "#EF553B",
           "#00cc96",
           "#ab63fa",
           "#FFA15A",
           "#19d3f3",
           "#FF6692",
           "#B6E880",
           "#FF97FF",
           "#FECB52"
          ],
          "font": {
           "color": "#2a3f5f"
          },
          "geo": {
           "bgcolor": "white",
           "lakecolor": "white",
           "landcolor": "#E5ECF6",
           "showlakes": true,
           "showland": true,
           "subunitcolor": "white"
          },
          "hoverlabel": {
           "align": "left"
          },
          "hovermode": "closest",
          "mapbox": {
           "style": "light"
          },
          "paper_bgcolor": "white",
          "plot_bgcolor": "#E5ECF6",
          "polar": {
           "angularaxis": {
            "gridcolor": "white",
            "linecolor": "white",
            "ticks": ""
           },
           "bgcolor": "#E5ECF6",
           "radialaxis": {
            "gridcolor": "white",
            "linecolor": "white",
            "ticks": ""
           }
          },
          "scene": {
           "xaxis": {
            "backgroundcolor": "#E5ECF6",
            "gridcolor": "white",
            "gridwidth": 2,
            "linecolor": "white",
            "showbackground": true,
            "ticks": "",
            "zerolinecolor": "white"
           },
           "yaxis": {
            "backgroundcolor": "#E5ECF6",
            "gridcolor": "white",
            "gridwidth": 2,
            "linecolor": "white",
            "showbackground": true,
            "ticks": "",
            "zerolinecolor": "white"
           },
           "zaxis": {
            "backgroundcolor": "#E5ECF6",
            "gridcolor": "white",
            "gridwidth": 2,
            "linecolor": "white",
            "showbackground": true,
            "ticks": "",
            "zerolinecolor": "white"
           }
          },
          "shapedefaults": {
           "line": {
            "color": "#2a3f5f"
           }
          },
          "ternary": {
           "aaxis": {
            "gridcolor": "white",
            "linecolor": "white",
            "ticks": ""
           },
           "baxis": {
            "gridcolor": "white",
            "linecolor": "white",
            "ticks": ""
           },
           "bgcolor": "#E5ECF6",
           "caxis": {
            "gridcolor": "white",
            "linecolor": "white",
            "ticks": ""
           }
          },
          "title": {
           "x": 0.05
          },
          "xaxis": {
           "automargin": true,
           "gridcolor": "white",
           "linecolor": "white",
           "ticks": "",
           "title": {
            "standoff": 15
           },
           "zerolinecolor": "white",
           "zerolinewidth": 2
          },
          "yaxis": {
           "automargin": true,
           "gridcolor": "white",
           "linecolor": "white",
           "ticks": "",
           "title": {
            "standoff": 15
           },
           "zerolinecolor": "white",
           "zerolinewidth": 2
          }
         }
        },
        "xaxis": {
         "anchor": "y",
         "domain": [
          0,
          1
         ],
         "title": {
          "text": "date"
         }
        },
        "yaxis": {
         "anchor": "x",
         "domain": [
          0,
          1
         ],
         "title": {
          "text": "value"
         }
        }
       }
      }
     },
     "metadata": {},
     "output_type": "display_data"
    }
   ],
   "source": [
    "tfd = sktext.TfidfVectorizer()\n",
    "tfd.fit(dd.concat([ddft.text, newsdf.text]))\n",
    "tweets_tfidf = tfd.transform(ddft.text)\n",
    "news_tfidf = tfd.transform([news_articles.text[i]])\n",
    "relevance = news_tfidf.dot(tweets_tfidf.T).toarray().flatten()\n",
    "dates = ddft.tweetcreatedts.compute().to_numpy()\n",
    "df = pd.DataFrame({'relevance': relevance, 'date': dates})\n",
    "rdf = df.assign(relevant = df.relevance > np.quantile(df.relevance, .95))\n",
    "unscaled = rdf.groupby(pd.Grouper(key = 'date', freq = 'H'))['relevant'].sum().to_frame()\n",
    "\n",
    "x = rdf.groupby(rdf.date.dt.hour).date.count().to_numpy()\n",
    "hour_scaler = dict(enumerate(1  + (-1 * ((x - np.mean(x)) / x))))\n",
    "\n",
    "x = rdf.groupby(rdf.date.dt.dayofweek).date.count().to_numpy()\n",
    "day_scaler = dict(enumerate(1  + (-1 * ((x - np.mean(x)) / x))))\n",
    "\n",
    "unscaled['hour_scaler'] = [hour_scaler[x] for x in unscaled.index.hour]\n",
    "# unscaled['day_scaler'] = [day_scaler[x] for x in unscaled.index.dayofweek]\n",
    "\n",
    "scaled = unscaled.assign(corrected_relevant = unscaled.relevant * unscaled.hour_scaler)\n",
    "\n",
    "px.bar(scaled.corrected_relevant)"
   ]
  },
  {
   "cell_type": "code",
   "execution_count": 113,
   "metadata": {},
   "outputs": [],
   "source": [
    "\n",
    "def piecewise_model(data):\n",
    "    # Parameters are positive, so we model their logs\n",
    "    change_point = pyro.sample(\"change_point\", dist.Uniform(0, len(data)))\n",
    "    \n",
    "    pre_std = pyro.sample(\"pre_std\", dist.LogNormal(0, 1))\n",
    "    pre_baseline = pyro.sample(\"pre_baseline\", dist.Normal(torch.mean(data), torch.std(data)))\n",
    "    \n",
    "    post_sigma = pyro.sample(\"post_sigma\", dist.LogNormal(0, 1))\n",
    "    post_baseline = pyro.sample(\"post_baseline\", dist.Normal(torch.mean(data), torch.std(data)))\n",
    "    relevance_decay = pyro.sample(\"relevance_decay\", dist.LogNormal(0, 1))\n",
    "    \n",
    "    with pyro.plate(\"data\", len(data)) as inds:\n",
    "\n",
    "            \n",
    "        # pre_idx = torch.arange(len(data)) < change_point\n",
    "        # pyro.sample(\"pre_obs\", dist.Normal(pre_baseline, pre_std), obs=data[pre_idx])\n",
    "        \n",
    "        # post_idx = torch.arange(len(data)) >= change_point\n",
    "        \n",
    "        # # Adjust post_means calculation to only consider the range after the change_point\n",
    "        # adjusted_times = torch.arange(len(data))[post_idx] - change_point\n",
    "        # post_means = torch.exp(-1 * relevance_decay * adjusted_times.float()) + post_baseline\n",
    "        \n",
    "        # pyro.sample(\"post_obs\", dist.Normal(post_means, post_sigma), obs=data[post_idx])\n",
    "        \n",
    "        for i in range(len(data)):\n",
    "            if i < change_point:\n",
    "                pyro.sample(f\"pre_obs_{i}\", dist.Normal(pre_baseline, pre_std), obs=data[i])\n",
    "            else:\n",
    "                adjusted_time = i - change_point\n",
    "                post_mean = torch.exp(-1 * relevance_decay * adjusted_time) + post_baseline\n",
    "                # print(post_mean, post_sigma, data[i])\n",
    "                pyro.sample(f\"post_obs_{i}\", dist.Normal(post_mean, post_sigma), obs=data[i])"
   ]
  },
  {
   "cell_type": "code",
   "execution_count": 94,
   "metadata": {},
   "outputs": [],
   "source": [
    "import torch\n",
    "import pyro\n",
    "import pyro.distributions as dist\n",
    "\n",
    "def vectorized_piecewise_model(data):\n",
    "    # Parameters are positive, so we model their logs\n",
    "    change_point = pyro.sample(\"change_point\", dist.Uniform(0, len(data)))\n",
    "    \n",
    "    pre_std = pyro.sample(\"pre_std\", dist.LogNormal(0, 1))\n",
    "    pre_baseline = pyro.sample(\"pre_baseline\", dist.Normal(torch.mean(data), torch.std(data)))\n",
    "    \n",
    "    post_sigma = pyro.sample(\"post_sigma\", dist.LogNormal(0, 1))\n",
    "    post_baseline = pyro.sample(\"post_baseline\", dist.Normal(torch.mean(data), torch.std(data)))\n",
    "    relevance_decay = pyro.sample(\"relevance_decay\", dist.Poisson(1))\n",
    "    \n",
    "    with pyro.plate(\"data\", len(data)) as index:\n",
    "        time_index = index.float()\n",
    "        \n",
    "        # Compute condition masks\n",
    "        pre_mask = time_index < change_point\n",
    "        post_mask = time_index >= change_point\n",
    "        \n",
    "        # Compute the post_means for all time points in one go\n",
    "        adjusted_times = time_index - change_point\n",
    "        post_means = torch.exp(-relevance_decay * adjusted_times) * post_mask + post_baseline\n",
    "        \n",
    "        print(post_means)\n",
    "        \n",
    "        # Observations\n",
    "        obs = data[index]\n",
    "        \n",
    "        # Pre-change observations\n",
    "        pre_obs = pyro.sample(\"pre_obs\", dist.Normal(pre_baseline.expand_as(obs), pre_std), obs=obs * pre_mask)\n",
    "        \n",
    "        # Post-change observations\n",
    "        post_obs = pyro.sample(\"post_obs\", dist.Normal(post_means, post_sigma), obs=obs * post_mask)\n"
   ]
  },
  {
   "cell_type": "code",
   "execution_count": 45,
   "metadata": {},
   "outputs": [],
   "source": [
    "vectorized_piecewise_model(torch.from_numpy(scaled.corrected_relevant.to_numpy()))"
   ]
  },
  {
   "cell_type": "code",
   "execution_count": 115,
   "metadata": {},
   "outputs": [
    {
     "name": "stdout",
     "output_type": "stream",
     "text": [
      "Epoch 0: Loss = 8038534.0\n"
     ]
    }
   ],
   "source": [
    "import pyro\n",
    "import pyro.distributions as dist\n",
    "from pyro.infer import SVI, Trace_ELBO, TraceGraph_ELBO\n",
    "from pyro.optim import Adam\n",
    "from pyro.infer.autoguide import AutoDiagonalNormal\n",
    "import torch\n",
    "\n",
    "# Assume `vectorized_piecewise_model` is defined as above\n",
    "\n",
    "# Define the guide (approximate posterior)\n",
    "guide = AutoDiagonalNormal(piecewise_model)\n",
    "\n",
    "# Setup the optimizer\n",
    "adam_params = {\"lr\": 0.0005, \"betas\": (0.90, 0.999)}\n",
    "optimizer = Adam(adam_params)\n",
    "\n",
    "# Setup the inference algorithm\n",
    "svi = SVI(piecewise_model, guide, optimizer, loss=TraceGraph_ELBO())\n",
    "\n",
    "# Assume you have your data in a PyTorch tensor called `data`\n",
    "data = torch.from_numpy(scaled.corrected_relevant.to_numpy()) # Example data\n",
    "\n",
    "# piecewise_model(data)\n",
    "# loss = svi.step(data)\n",
    "\n",
    "# Training loop\n",
    "num_epochs = 10\n",
    "for epoch in range(num_epochs):\n",
    "    # Calculate the loss and take a gradient step\n",
    "    loss = svi.step(data)\n",
    "    if epoch % 100 == 0:\n",
    "        print(f\"Epoch {epoch}: Loss = {loss}\")\n",
    "\n",
    "# # After training, you can extract the learned parameters\n",
    "learned_params = guide.median()\n",
    "# print(learned_params)"
   ]
  },
  {
   "cell_type": "code",
   "execution_count": 46,
   "metadata": {},
   "outputs": [
    {
     "data": {
      "image/svg+xml": [
       "<?xml version=\"1.0\" encoding=\"UTF-8\" standalone=\"no\"?>\n",
       "<!DOCTYPE svg PUBLIC \"-//W3C//DTD SVG 1.1//EN\"\n",
       " \"http://www.w3.org/Graphics/SVG/1.1/DTD/svg11.dtd\">\n",
       "<!-- Generated by graphviz version 10.0.1 (20240210.2158)\n",
       " -->\n",
       "<!-- Pages: 1 -->\n",
       "<svg width=\"786pt\" height=\"156pt\"\n",
       " viewBox=\"0.00 0.00 786.11 155.75\" xmlns=\"http://www.w3.org/2000/svg\" xmlns:xlink=\"http://www.w3.org/1999/xlink\">\n",
       "<g id=\"graph0\" class=\"graph\" transform=\"scale(1 1) rotate(0) translate(4 151.75)\">\n",
       "<polygon fill=\"white\" stroke=\"none\" points=\"-4,4 -4,-151.75 782.11,-151.75 782.11,4 -4,4\"/>\n",
       "<g id=\"clust1\" class=\"cluster\">\n",
       "<title>cluster_data</title>\n",
       "<polygon fill=\"none\" stroke=\"black\" points=\"199.09,-8 199.09,-83.75 409.09,-83.75 409.09,-8 199.09,-8\"/>\n",
       "<text text-anchor=\"middle\" x=\"389.46\" y=\"-14.45\" font-family=\"Times New Roman,serif\" font-size=\"14.00\">data</text>\n",
       "</g>\n",
       "<!-- change_point -->\n",
       "<g id=\"node1\" class=\"node\">\n",
       "<title>change_point</title>\n",
       "<ellipse fill=\"white\" stroke=\"black\" cx=\"289.09\" cy=\"-129.75\" rx=\"60.54\" ry=\"18\"/>\n",
       "<text text-anchor=\"middle\" x=\"289.09\" y=\"-124.33\" font-family=\"Times New Roman,serif\" font-size=\"14.00\">change_point</text>\n",
       "</g>\n",
       "<!-- post_obs -->\n",
       "<g id=\"node8\" class=\"node\">\n",
       "<title>post_obs</title>\n",
       "<ellipse fill=\"gray\" stroke=\"black\" cx=\"355.09\" cy=\"-57.75\" rx=\"46.07\" ry=\"18\"/>\n",
       "<text text-anchor=\"middle\" x=\"355.09\" y=\"-52.33\" font-family=\"Times New Roman,serif\" font-size=\"14.00\">post_obs</text>\n",
       "</g>\n",
       "<!-- change_point&#45;&gt;post_obs -->\n",
       "<g id=\"edge3\" class=\"edge\">\n",
       "<title>change_point&#45;&gt;post_obs</title>\n",
       "<path fill=\"none\" stroke=\"black\" d=\"M304.73,-112.16C312.98,-103.41 323.27,-92.5 332.38,-82.83\"/>\n",
       "<polygon fill=\"black\" stroke=\"black\" points=\"334.66,-85.52 338.98,-75.84 329.57,-80.71 334.66,-85.52\"/>\n",
       "</g>\n",
       "<!-- pre_std -->\n",
       "<g id=\"node2\" class=\"node\">\n",
       "<title>pre_std</title>\n",
       "<ellipse fill=\"white\" stroke=\"black\" cx=\"39.09\" cy=\"-129.75\" rx=\"39.09\" ry=\"18\"/>\n",
       "<text text-anchor=\"middle\" x=\"39.09\" y=\"-124.33\" font-family=\"Times New Roman,serif\" font-size=\"14.00\">pre_std</text>\n",
       "</g>\n",
       "<!-- pre_obs -->\n",
       "<g id=\"node7\" class=\"node\">\n",
       "<title>pre_obs</title>\n",
       "<ellipse fill=\"gray\" stroke=\"black\" cx=\"249.09\" cy=\"-57.75\" rx=\"41.58\" ry=\"18\"/>\n",
       "<text text-anchor=\"middle\" x=\"249.09\" y=\"-52.33\" font-family=\"Times New Roman,serif\" font-size=\"14.00\">pre_obs</text>\n",
       "</g>\n",
       "<!-- pre_std&#45;&gt;pre_obs -->\n",
       "<g id=\"edge1\" class=\"edge\">\n",
       "<title>pre_std&#45;&gt;pre_obs</title>\n",
       "<path fill=\"none\" stroke=\"black\" d=\"M69.26,-117.94C75.17,-115.86 81.31,-113.72 87.09,-111.75 127.23,-98.08 173.19,-83.1 205.88,-72.57\"/>\n",
       "<polygon fill=\"black\" stroke=\"black\" points=\"206.54,-76.04 214.99,-69.64 204.4,-69.37 206.54,-76.04\"/>\n",
       "</g>\n",
       "<!-- pre_baseline -->\n",
       "<g id=\"node3\" class=\"node\">\n",
       "<title>pre_baseline</title>\n",
       "<ellipse fill=\"white\" stroke=\"black\" cx=\"153.09\" cy=\"-129.75\" rx=\"57.05\" ry=\"18\"/>\n",
       "<text text-anchor=\"middle\" x=\"153.09\" y=\"-124.33\" font-family=\"Times New Roman,serif\" font-size=\"14.00\">pre_baseline</text>\n",
       "</g>\n",
       "<!-- pre_baseline&#45;&gt;pre_obs -->\n",
       "<g id=\"edge2\" class=\"edge\">\n",
       "<title>pre_baseline&#45;&gt;pre_obs</title>\n",
       "<path fill=\"none\" stroke=\"black\" d=\"M174.87,-112.87C188.03,-103.27 204.98,-90.91 219.36,-80.42\"/>\n",
       "<polygon fill=\"black\" stroke=\"black\" points=\"221.14,-83.46 227.15,-74.74 217.01,-77.81 221.14,-83.46\"/>\n",
       "</g>\n",
       "<!-- post_sigma -->\n",
       "<g id=\"node4\" class=\"node\">\n",
       "<title>post_sigma</title>\n",
       "<ellipse fill=\"white\" stroke=\"black\" cx=\"421.09\" cy=\"-129.75\" rx=\"53.56\" ry=\"18\"/>\n",
       "<text text-anchor=\"middle\" x=\"421.09\" y=\"-124.33\" font-family=\"Times New Roman,serif\" font-size=\"14.00\">post_sigma</text>\n",
       "</g>\n",
       "<!-- post_sigma&#45;&gt;post_obs -->\n",
       "<g id=\"edge4\" class=\"edge\">\n",
       "<title>post_sigma&#45;&gt;post_obs</title>\n",
       "<path fill=\"none\" stroke=\"black\" d=\"M405.45,-112.16C397.19,-103.41 386.91,-92.5 377.79,-82.83\"/>\n",
       "<polygon fill=\"black\" stroke=\"black\" points=\"380.61,-80.71 371.2,-75.84 375.51,-85.52 380.61,-80.71\"/>\n",
       "</g>\n",
       "<!-- post_baseline -->\n",
       "<g id=\"node5\" class=\"node\">\n",
       "<title>post_baseline</title>\n",
       "<ellipse fill=\"white\" stroke=\"black\" cx=\"554.09\" cy=\"-129.75\" rx=\"61.54\" ry=\"18\"/>\n",
       "<text text-anchor=\"middle\" x=\"554.09\" y=\"-124.33\" font-family=\"Times New Roman,serif\" font-size=\"14.00\">post_baseline</text>\n",
       "</g>\n",
       "<!-- post_baseline&#45;&gt;post_obs -->\n",
       "<g id=\"edge5\" class=\"edge\">\n",
       "<title>post_baseline&#45;&gt;post_obs</title>\n",
       "<path fill=\"none\" stroke=\"black\" d=\"M515.72,-115.25C482.39,-103.53 434.13,-86.55 399.21,-74.27\"/>\n",
       "<polygon fill=\"black\" stroke=\"black\" points=\"400.4,-70.98 389.81,-70.96 398.08,-77.58 400.4,-70.98\"/>\n",
       "</g>\n",
       "<!-- relevance_decay -->\n",
       "<g id=\"node6\" class=\"node\">\n",
       "<title>relevance_decay</title>\n",
       "<ellipse fill=\"white\" stroke=\"black\" cx=\"706.09\" cy=\"-129.75\" rx=\"72.02\" ry=\"18\"/>\n",
       "<text text-anchor=\"middle\" x=\"706.09\" y=\"-124.33\" font-family=\"Times New Roman,serif\" font-size=\"14.00\">relevance_decay</text>\n",
       "</g>\n",
       "<!-- relevance_decay&#45;&gt;post_obs -->\n",
       "<g id=\"edge6\" class=\"edge\">\n",
       "<title>relevance_decay&#45;&gt;post_obs</title>\n",
       "<path fill=\"none\" stroke=\"black\" d=\"M652.52,-117.4C643.37,-115.5 633.96,-113.55 625.09,-111.75 549.26,-96.35 461.3,-79.22 406.91,-68.71\"/>\n",
       "<polygon fill=\"black\" stroke=\"black\" points=\"407.8,-65.32 397.32,-66.86 406.47,-72.19 407.8,-65.32\"/>\n",
       "</g>\n",
       "</g>\n",
       "</svg>\n"
      ],
      "text/plain": [
       "<graphviz.graphs.Digraph at 0x1ed1714a890>"
      ]
     },
     "execution_count": 46,
     "metadata": {},
     "output_type": "execute_result"
    }
   ],
   "source": [
    "pyro.render_model(vectorized_piecewise_model, model_args=(torch.from_numpy(scaled.corrected_relevant.to_numpy()),))"
   ]
  },
  {
   "cell_type": "code",
   "execution_count": 17,
   "metadata": {},
   "outputs": [],
   "source": [
    "# import ruptures as rpt"
   ]
  },
  {
   "cell_type": "code",
   "execution_count": 18,
   "metadata": {},
   "outputs": [],
   "source": [
    "# temp = ddft.tweetcreatedts.compute().diff()\n",
    "# intervals = temp.values.astype('float')\n",
    "# model = 'rbf'\n",
    "# algo = rpt.Pelt(model=model)\n",
    "# result = algo.fit_predict(intervals[1:], pen=4)\n",
    "# subsections = []\n",
    "# prev = 0\n",
    "# for k in result:\n",
    "#     subsections.append(range(prev,k))\n",
    "#     prev = k\n",
    "# # subsections\n",
    "# splitter = np.argmin(np.abs([np.mean(s) for s in np.split(intervals[1:], result[:-1])]))#np.argmin([np.mean(s) for s in np.split(intervals[1:], result[:-1])])\n",
    "# splitter = subsections[splitter][0]"
   ]
  },
  {
   "cell_type": "code",
   "execution_count": 19,
   "metadata": {},
   "outputs": [],
   "source": [
    "# splitter"
   ]
  }
 ],
 "metadata": {
  "kernelspec": {
   "display_name": "Python 3",
   "language": "python",
   "name": "python3"
  },
  "language_info": {
   "codemirror_mode": {
    "name": "ipython",
    "version": 3
   },
   "file_extension": ".py",
   "mimetype": "text/x-python",
   "name": "python",
   "nbconvert_exporter": "python",
   "pygments_lexer": "ipython3",
   "version": "3.11.6"
  }
 },
 "nbformat": 4,
 "nbformat_minor": 2
}
