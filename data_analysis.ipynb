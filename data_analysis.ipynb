{
 "cells": [
  {
   "cell_type": "code",
   "execution_count": 1,
   "metadata": {},
   "outputs": [],
   "source": [
    "from header import *"
   ]
  },
  {
   "cell_type": "code",
   "execution_count": 2,
   "metadata": {},
   "outputs": [
    {
     "data": {
      "text/plain": [
       "<dask.config.set at 0x283cb65a2a0>"
      ]
     },
     "execution_count": 2,
     "metadata": {},
     "output_type": "execute_result"
    }
   ],
   "source": [
    "dask.config.set(scheduler='threading')"
   ]
  },
  {
   "cell_type": "code",
   "execution_count": 3,
   "metadata": {},
   "outputs": [],
   "source": [
    "import dask_ml\n",
    "from dask_ml import feature_extraction\n",
    "from dask_tfidf import DaskTfidfTransformer\n",
    "import dask.bag as db\n",
    "import pandas as pd\n",
    "import random\n",
    "import scipy.spatial as sp\n",
    "import numexpr\n",
    "import plotly_express as px\n",
    "import sklearn.feature_extraction.text as sktext\n",
    "numexpr.set_num_threads(1)\n",
    "import re\n",
    "from plotly.subplots import make_subplots"
   ]
  },
  {
   "cell_type": "code",
   "execution_count": 4,
   "metadata": {},
   "outputs": [],
   "source": [
    "ukraine_geo_data = pd.read_html(\"https://en.wikipedia.org/wiki/List_of_cities_in_Ukraine\")[0]\n",
    "ukraine_cities = ukraine_geo_data['Name'].astype(str)\n",
    "ukraine_oblasts = ukraine_geo_data['Administrative division'].astype(str)\n",
    "nw = []\n",
    "for w in ukraine_cities:\n",
    "  nw.append(w[0:-3] if '[' in w else w)\n",
    "pattern_str = '|'.join([f'\\\\b{w}\\\\b' for w in nw])\n",
    "pattern_str = r'(?i)' + pattern_str\n",
    "# pattern = re.compile(pattern_str, flags=re.IGNORECASE)"
   ]
  },
  {
   "cell_type": "code",
   "execution_count": 5,
   "metadata": {},
   "outputs": [],
   "source": [
    "# full_sample = dd.read_parquet(cleaned_data_path_str + \"/*\").sample(frac = sampling_rate).dropna().drop_duplicates().persist()\n",
    "# sample_with_cities = full_sample.text.str.contains(pattern_str)\n",
    "# ddf = full_sample[sample_with_cities]\n",
    "# ddf = ddf.sort_values('tweetcreatedts').reset_index(drop = True)\n",
    "# ddf.persist()"
   ]
  },
  {
   "cell_type": "code",
   "execution_count": 6,
   "metadata": {},
   "outputs": [],
   "source": [
    "ddf = dd.read_parquet(cleaned_data_path_str + \"/*\").sample(frac = 0.1).dropna().drop_duplicates().persist()"
   ]
  },
  {
   "cell_type": "code",
   "execution_count": 7,
   "metadata": {},
   "outputs": [],
   "source": [
    "newsdf = dd.read_csv(news_csv_path_str).dropna()\n",
    "newsdf['text'] = newsdf['headline'] + ' ' + newsdf['desc']\n",
    "newsdflen = newsdf.shape[0].compute()\n",
    "ddflen = ddf.shape[0].compute()"
   ]
  },
  {
   "cell_type": "code",
   "execution_count": 8,
   "metadata": {},
   "outputs": [],
   "source": [
    "# sample_bag = dask.bag.concat([newsdf.text.to_bag(), ddf.text.to_bag()]).persist()\n",
    "# vectorizer = dask_ml.feature_extraction.text.HashingVectorizer()\n",
    "# vecs = vectorizer.fit_transform(sample_bag)\n",
    "# vecs.persist()\n",
    "# vecs.compute_chunk_sizes()\n",
    "# # news_vecs = vecs[-1*newsdflen:].persist()\n",
    "# # tweet_vecs = vecs[:ddflen].persist()\n",
    "# tfidf = DaskTfidfTransformer().fit_transform(X = vecs)\n",
    "# news_tfidf = tfidf[-1*newsdflen:].persist()\n",
    "# tweet_tfidf = tfidf[:ddflen].persist()"
   ]
  },
  {
   "cell_type": "code",
   "execution_count": 9,
   "metadata": {},
   "outputs": [],
   "source": [
    "min_dt, max_dt = ddf.tweetcreatedts.min().compute(), ddf.tweetcreatedts.max().compute()\n",
    "all_news_articles = pd.read_csv(news_csv_path_str).dropna()\n",
    "all_news_articles['date'] = pd.to_datetime(all_news_articles['date'])\n",
    "news_articles = all_news_articles[(all_news_articles['date'] >= min_dt) & (all_news_articles['date'] <= max_dt)].copy()\n",
    "news_articles['text'] = news_articles['headline'] + ' ' + news_articles['desc']"
   ]
  },
  {
   "cell_type": "code",
   "execution_count": 10,
   "metadata": {},
   "outputs": [],
   "source": [
    "article_dt_ranges = [(date - pd.Timedelta(days = timedelta), date + pd.Timedelta(days = timedelta + 1)) for date in news_articles['date']]\n",
    "# news_articles['dt_range'] = article_dt_ranges\n",
    "dls, uls = zip(*article_dt_ranges)\n",
    "news_articles['dt_lower'] = dls\n",
    "news_articles['dt_upper'] = uls"
   ]
  },
  {
   "cell_type": "code",
   "execution_count": 11,
   "metadata": {},
   "outputs": [],
   "source": [
    "import jax.experimental.pjit\n",
    "from jax.extend.core.primitives import jit_p\n",
    "jax.experimental.pjit.pjit_p = jit_p\n",
    "import numpyro\n",
    "import numpyro.distributions as dist\n",
    "import jax.numpy as jnp\n",
    "from numpyro.infer import *\n",
    "import jax\n",
    "import plotly.graph_objects as go"
   ]
  },
  {
   "cell_type": "code",
   "execution_count": 12,
   "metadata": {},
   "outputs": [],
   "source": [
    "# numpyro.render_model(vectorized_piecewise_model, model_args=(jnp.array([1]),1, 1, jnp.array([1]), 1, 1), render_distributions=True)"
   ]
  },
  {
   "cell_type": "code",
   "execution_count": 13,
   "metadata": {},
   "outputs": [],
   "source": [
    "from numpyro.diagnostics import summary\n",
    "import asyncio\n",
    "from numpyro.infer import SVI, Trace_ELBO\n",
    "from numpyro.infer.autoguide import *\n",
    "from numpyro.optim import Adam"
   ]
  },
  {
   "cell_type": "code",
   "execution_count": 14,
   "metadata": {},
   "outputs": [],
   "source": [
    "i = 300\n",
    "\n",
    "async def get_relevants(i, dff, news_articles):\n",
    "    df_ind = news_articles.index[i]\n",
    "    dl, ul = news_articles.dt_lower[df_ind], news_articles.dt_upper[df_ind]\n",
    "    ddft = ddf.query(f'\"{str(str(dl.date()))}\" <= tweetcreatedts < \"{str(ul.date())}\"').repartition(npartitions = 10).drop_duplicates().persist()\n",
    "    tfd = sktext.TfidfVectorizer()\n",
    "    tfd.fit(dd.concat([ddft.text, newsdf.text]))\n",
    "    tweets_tfidf = tfd.transform(ddft.text)\n",
    "    news_tfidf = tfd.transform([news_articles.text[df_ind]])\n",
    "    relevance = news_tfidf.dot(tweets_tfidf.T).toarray().flatten()\n",
    "    dates = ddft.tweetcreatedts.compute().to_numpy()\n",
    "    df = pd.DataFrame({'relevance': relevance, 'date': dates})\n",
    "    rdf = df.assign(relevant = df.relevance > np.quantile(df.relevance, .95))\n",
    "    return rdf\n",
    "\n",
    "async def get_scaled_article_bins(i, ddft, news_articles):\n",
    "    \n",
    "    df_ind = news_articles.index[i]\n",
    "    \n",
    "    if Path(scaled_article_bins_path / f'article_{df_ind}.parquet').exists():\n",
    "        return pd.read_parquet(scaled_article_bins_path / f'article_{df_ind}.parquet')\n",
    "    try:\n",
    "        # print(\"Here\")\n",
    "        dl, ul = news_articles.dt_lower[df_ind], news_articles.dt_upper[df_ind]\n",
    "        ddft = ddf.query(f'\"{str(str(dl.date()))}\" <= tweetcreatedts < \"{str(ul.date())}\"').repartition(npartitions = 10).drop_duplicates().persist()\n",
    "        # news_articles.text[i]\n",
    "\n",
    "        tfd = sktext.TfidfVectorizer()\n",
    "        tfd.fit(dd.concat([ddft.text, newsdf.text]))\n",
    "        tweets_tfidf = tfd.transform(ddft.text)\n",
    "        news_tfidf = tfd.transform([news_articles.text[df_ind]])\n",
    "        relevance = news_tfidf.dot(tweets_tfidf.T).toarray().flatten()\n",
    "        dates = ddft.tweetcreatedts.compute().to_numpy()\n",
    "        df = pd.DataFrame({'relevance': relevance, 'date': dates})\n",
    "        rdf = df.assign(relevant = df.relevance > np.quantile(df.relevance, .95))\n",
    "        unscaled = rdf.groupby(pd.Grouper(key = 'date', freq = 'H'))['relevant'].sum().to_frame()\n",
    "\n",
    "        x = rdf.groupby(rdf.date.dt.hour).date.count().to_numpy()\n",
    "        hour_scaler = dict(enumerate(1  + (-1 * ((x - np.mean(x)) / x))))\n",
    "\n",
    "        # x = rdf.groupby(rdf.date.dt.dayofweek).date.count().to_numpy()\n",
    "        # day_scaler = dict(enumerate(1  + (-1 * ((x - np.mean(x)) / x))))\n",
    "\n",
    "        unscaled['hour_scaler'] = [hour_scaler[x] for x in unscaled.index.hour]\n",
    "        # unscaled['day_scaler'] = [day_scaler[x] for x in unscaled.index.dayofweek]\n",
    "\n",
    "        scaled = unscaled.assign(corrected_relevant = unscaled.relevant * unscaled.hour_scaler)\n",
    "        \n",
    "        scaled.to_parquet(scaled_article_bins_path / f'article_{df_ind}.parquet')\n",
    "        \n",
    "        return scaled\n",
    "    except ValueError as e:\n",
    "        print(e)\n",
    "        return None\n",
    "    except Exception as e:\n",
    "        print(e)\n",
    "        print(\"here\")\n",
    "        return None\n",
    "from numpyro.infer import *\n",
    "\n",
    "def fit_model(scaled):\n",
    "    data = jnp.array(scaled.corrected_relevant.to_numpy())\n",
    "    time = jnp.array(range(len(data)))\n",
    "    mu = jnp.mean(data)\n",
    "    std = jnp.std(data)\n",
    "    min = jnp.min(data)\n",
    "    max = jnp.max(data)\n",
    "\n",
    "    # mcmc = MCMC(ESS(vectorized_piecewise_model, moves={ESS.DifferentialMove() : 0.2, ESS.RandomMove() : 0.5, ESS.GaussianMove() : 0.3}), num_warmup=500, num_samples=1000, chain_method='vectorized', num_chains=20, progress_bar=True)\n",
    "    # mcmc = MCMC(MixedHMC(HMC(vectorized_piecewise_model)), num_warmup=500, num_samples=1000, num_chains=12, progress_bar=True, chain_method='vectorized')\n",
    "    # mcmc.run(jax.random.PRNGKey(0), time, mu,std, min, max, data)\n",
    "    rng_key = jax.random.PRNGKey(0)\n",
    "    guide = numpyro.infer.autoguide.AutoNormal(vectorized_piecewise_model)\n",
    "    optimizer = Adam(step_size=0.01)\n",
    "    svi = SVI(vectorized_piecewise_model, guide, optimizer, loss=Trace_ELBO())\n",
    "    svi_result = svi.run(rng_key, num_steps=5000, data=data, time=time, mu=mu, std=std, min=min, max=max)\n",
    "\n",
    "    # predictive = Predictive(vectorized_piecewise_model, mcmc.get_samples())\n",
    "    predictive = Predictive(vectorized_piecewise_model, guide=guide, num_samples=1000)\n",
    "    predictions = predictive(rng_key, time=time, mu = mu, std = std, min = min, max = max, data = None)\n",
    "    \n",
    "    return predictions,  summary(mcmc.get_samples(group_by_chain=True))\n",
    "\n",
    "async def get_model_scaled(i, ddft, news_articles):\n",
    "    scaled = await get_scaled_article_bins(i, ddft, news_articles)\n",
    "    if scaled is None:\n",
    "        return False, None, None, None\n",
    "    predictions, model_summary = fit_model(scaled)\n",
    "    return True, scaled, predictions, model_summary\n",
    "# fig1 = px.bar(predictions['obs'].mean(axis = 0))\n",
    "# fig2 = px.bar(data, opacity=0.5, color_discrete_sequence=['black'])\n",
    "# go.Figure(data = fig1.data + fig2.data)\n"
   ]
  },
  {
   "cell_type": "code",
   "execution_count": 15,
   "metadata": {},
   "outputs": [],
   "source": [
    "def vectorized_piecewise_model(time, mu, std, min, max, data):\n",
    "\n",
    "    # print(jnp.mean(data))\n",
    "\n",
    "    change_point = numpyro.sample(\"change_point\", dist.Uniform(0, len(time)))\n",
    "    \n",
    "    obs_std = numpyro.sample(\"std\", dist.LogNormal(0, 1))\n",
    "    \n",
    "    #dist.Normal(mu + std, std ** 2))\n",
    "    \n",
    "    pre_baseline = numpyro.sample(\"pre_baseline\", dist.Uniform(min, max)) #dist.TruncatedNormal(mu - std, std ** 2))\n",
    "    \n",
    "    post_baseline = numpyro.sample(\"post_baseline\", dist.Uniform(pre_baseline, max)) \n",
    "    \n",
    "    relevance_decay = numpyro.sample(\"relevance_decay\", dist.Uniform(0, jnp.log(max - min)))#dist.Exponential(0.1))\n",
    "    \n",
    "    relevance_beta = numpyro.sample(\"relevance_beta\", dist.Uniform(0, jnp.log(max - min)))#dist.Normal(jnp.log(mu), jnp.log(std) ** 2))\n",
    "    \n",
    "    \n",
    "    mask = time >= change_point\n",
    "    pre_means = pre_baseline\n",
    "    post_means = post_baseline + jnp.exp(-relevance_decay * (time - change_point) + relevance_beta)\n",
    "    numpyro.sample(\"obs\", dist.Normal(pre_means * (1 - mask) + post_means * mask, obs_std), obs=data)\n",
    "\n",
    "# _, scaled, predictions, model_summary = await get_model_scaled(230, ddf, news_articles)\n",
    "\n",
    "def final_pred(time, change_point = None, pre_baseline = None, post_baseline= None, relevance_decay = None, relevance_beta = None, std = None):\n",
    "    mask = time >= change_point\n",
    "    pre_means = pre_baseline\n",
    "    post_means = post_baseline + np.exp(-relevance_decay * (time - change_point) + relevance_beta)\n",
    "    return pre_means * (1 - mask) + post_means * mask\n",
    "# time=np.arange(len(scaled.corrected_relevant))\n",
    "# final_y = final_pred(time, **{var : model_summary[var]['median'] for var in model_summary.keys()})\n",
    "\n",
    "# fig = make_subplots(rows = 1, cols = 1, shared_xaxes=True, vertical_spacing=0.02)\n",
    "# fig.add_trace(go.Bar(x=scaled.index, y=scaled.corrected_relevant, name='Corrected Relevant Tweets', opacity=.5), row=1, col=1)\n",
    "# fig.add_trace(go.Scatter(x=scaled.index, y=predictions['obs'].mean(axis = 0), mode='lines', name='Predicted Relevant Tweets', error_y = dict(type = 'data', array = predictions['obs'].std(axis = 0), visible = True), opacity=.5), row=1, col=1)\n",
    "# fig.add_trace(go.Scatter(x=scaled.index, y=final_y, mode='lines', name='Median Predicted Relevant Tweets'), row=1, col=1)"
   ]
  },
  {
   "cell_type": "code",
   "execution_count": 16,
   "metadata": {},
   "outputs": [],
   "source": [
    "\n",
    "# df.corrected_relevant"
   ]
  },
  {
   "cell_type": "code",
   "execution_count": 30,
   "metadata": {},
   "outputs": [],
   "source": [
    "def pcp_intensity(time, pre_baseline, post_baseline, change_point, relevance_decay, relevance_beta, **kwargs):\n",
    "    mask = time >= change_point\n",
    "    pre_means = pre_baseline\n",
    "    post_means = post_baseline + jnp.exp(-relevance_decay * (time - change_point) + relevance_beta)\n",
    "    return pre_means * (1 - mask) + post_means * mask\n",
    "def sinp_intensity(time, phase, amplitude, frequency, offset, **kwargs):\n",
    "    return amplitude * (1 + jnp.sin(frequency * (time + offset))) + phase\n",
    "def geom_inv_sinp_intensity(time, phase, amplitude, frequency, offset, mu, **kwargs):\n",
    "    return mu / sinp_intensity(time, phase, amplitude, frequency, offset, **kwargs)"
   ]
  },
  {
   "cell_type": "code",
   "execution_count": 31,
   "metadata": {},
   "outputs": [],
   "source": [
    "from functools import partial"
   ]
  },
  {
   "cell_type": "code",
   "execution_count": 19,
   "metadata": {},
   "outputs": [
    {
     "name": "stderr",
     "output_type": "stream",
     "text": [
      "sample: 100%|██████████| 1500/1500 [00:54<00:00, 27.43it/s]\n"
     ]
    }
   ],
   "source": [
    "def poisson_cp(min, max, underlying_intensity_scaler, data):\n",
    "    change_point = numpyro.sample(\"change_point\", dist.Uniform(0, 14))\n",
    "    pre_baseline = numpyro.sample(\"pre_baseline\", dist.Uniform(min, max)) #dist.TruncatedNormal(mu - std, std ** 2))\n",
    "    post_baseline = numpyro.sample(\"post_baseline\", dist.Uniform(pre_baseline, max)) \n",
    "    relevance_decay = numpyro.sample(\"relevance_decay\", dist.Uniform(0, jnp.log(max - min)))#dist.Exponential(0.1))\n",
    "    relevance_beta = numpyro.sample(\"relevance_beta\", dist.Uniform(0, jnp.log(max - min)))#dist.Normal(jnp.log(mu), jnp.log(std) ** 2))\n",
    "    \n",
    "    # phase = numpyro.sample(\"phase\", dist.Uniform(min, max))\n",
    "    # # amplitude = numpyro.sample(\"amplitude\", dist.Uniform(min, max))\n",
    "    # amplitude = numpyro.sample(\"amplitude\", dist.Uniform(0, 1))\n",
    "    # offset = numpyro.sample(\"offset\", dist.Uniform(0, 2 * jnp.pi))\n",
    "    # frequency = numpyro.sample(\"frequency\", dist.Normal(1.75, 2))  # Assuming a period of 14 days\n",
    "\n",
    "    lam = partial(pcp_intensity, pre_baseline=pre_baseline, change_point=change_point, relevance_decay=relevance_decay, relevance_beta=relevance_beta, post_baseline=post_baseline)\n",
    "    # lam2 = partial(sinp_intensity, phase=phase, amplitude=amplitude, frequency=frequency, offset=offset)\n",
    "    \n",
    "    nsamples = 1000\n",
    "    samples = jnp.arange(0, 14, 14/nsamples)\n",
    "    intensity_integral = jnp.trapezoid(lam(samples), x=samples)\n",
    "    observed_sum = jnp.sum(underlying_intensity_scaler(data) * jnp.log(lam(data)))\n",
    "    numpyro.factor(\"point_process_log_likelihood\", observed_sum - intensity_integral)\n",
    "\n",
    "def sinp(min, max, data):\n",
    "    phase = numpyro.sample(\"phase\", dist.Uniform(min, max))\n",
    "    amplitude = numpyro.sample(\"amplitude\", dist.Uniform(0, max - min))\n",
    "    # frequency_std = numpyro.sample(\"frequency_std\", dist.Uniform(0, 10))  # Assuming a period of 14 days\n",
    "    frequency = numpyro.sample(\"frequency\", dist.Uniform(1.25, 3.75))  # Assuming a period of 14 days\n",
    "    offset = numpyro.sample(\"offset\", dist.Uniform(0, 2 * jnp.pi))\n",
    "    lam = partial(sinp_intensity, phase=phase, amplitude=amplitude, frequency=frequency, offset=offset)\n",
    "    nsamples = 1000\n",
    "    samples = jnp.arange(0, 14, 14/nsamples)\n",
    "    intensity_integral = jnp.trapezoid(lam(samples), x=samples)\n",
    "    observed_sum = jnp.sum(jnp.log(lam(data)))\n",
    "    numpyro.factor(\"point_process_log_likelihood\", observed_sum - intensity_integral)\n",
    "\n",
    "# relevants = (await get_relevants(230, ddf, news_articles)).query('relevant')\n",
    "df = await get_relevants(230, ddf, news_articles)\n",
    "min_dt, max_dt = df.date.min(), df.date.max()\n",
    "all_msgs = (df.date - min_dt) / (max_dt - min_dt) * 14\n",
    "relevants = df.query('relevant')\n",
    "data = (relevants.date - min_dt) / (max_dt - min_dt) * 14\n",
    "all_data = jnp.array(all_msgs.to_numpy())\n",
    "data = jnp.array(data.to_numpy())\n",
    "mcmc_sinp = MCMC(ESS(sinp, moves={ESS.DifferentialMove() : 0.5, ESS.RandomMove() : 0.2, ESS.GaussianMove() : 0.3}), num_warmup=500, num_samples=1000, chain_method='vectorized', num_chains=30, progress_bar=True)\n",
    "rng_key = jax.random.PRNGKey(0)\n",
    "mcmc_sinp.run(rng_key, 0, 2000, all_data)"
   ]
  },
  {
   "cell_type": "code",
   "execution_count": 67,
   "metadata": {},
   "outputs": [
    {
     "data": {
      "application/vnd.plotly.v1+json": {
       "config": {
        "plotlyServerURL": "https://plot.ly"
       },
       "data": [
        {
         "hovertemplate": "x=%{x}<br>y=%{y}<extra></extra>",
         "legendgroup": "",
         "line": {
          "color": "#636efa",
          "dash": "solid"
         },
         "marker": {
          "symbol": "circle"
         },
         "mode": "lines",
         "name": "",
         "orientation": "v",
         "showlegend": false,
         "type": "scatter",
         "x": {
          "bdata": "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",
          "dtype": "f8"
         },
         "xaxis": "x",
         "y": {
          "bdata": "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",
          "dtype": "f4"
         },
         "yaxis": "y"
        },
        {
         "marker": {
          "color": "blue"
         },
         "name": "All Messages",
         "opacity": 0.5,
         "type": "histogram",
         "x": {
          "bdata": "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",
          "dtype": "f4"
         }
        }
       ],
       "layout": {
        "legend": {
         "tracegroupgap": 0
        },
        "margin": {
         "t": 60
        },
        "template": {
         "data": {
          "bar": [
           {
            "error_x": {
             "color": "#2a3f5f"
            },
            "error_y": {
             "color": "#2a3f5f"
            },
            "marker": {
             "line": {
              "color": "#E5ECF6",
              "width": 0.5
             },
             "pattern": {
              "fillmode": "overlay",
              "size": 10,
              "solidity": 0.2
             }
            },
            "type": "bar"
           }
          ],
          "barpolar": [
           {
            "marker": {
             "line": {
              "color": "#E5ECF6",
              "width": 0.5
             },
             "pattern": {
              "fillmode": "overlay",
              "size": 10,
              "solidity": 0.2
             }
            },
            "type": "barpolar"
           }
          ],
          "carpet": [
           {
            "aaxis": {
             "endlinecolor": "#2a3f5f",
             "gridcolor": "white",
             "linecolor": "white",
             "minorgridcolor": "white",
             "startlinecolor": "#2a3f5f"
            },
            "baxis": {
             "endlinecolor": "#2a3f5f",
             "gridcolor": "white",
             "linecolor": "white",
             "minorgridcolor": "white",
             "startlinecolor": "#2a3f5f"
            },
            "type": "carpet"
           }
          ],
          "choropleth": [
           {
            "colorbar": {
             "outlinewidth": 0,
             "ticks": ""
            },
            "type": "choropleth"
           }
          ],
          "contour": [
           {
            "colorbar": {
             "outlinewidth": 0,
             "ticks": ""
            },
            "colorscale": [
             [
              0,
              "#0d0887"
             ],
             [
              0.1111111111111111,
              "#46039f"
             ],
             [
              0.2222222222222222,
              "#7201a8"
             ],
             [
              0.3333333333333333,
              "#9c179e"
             ],
             [
              0.4444444444444444,
              "#bd3786"
             ],
             [
              0.5555555555555556,
              "#d8576b"
             ],
             [
              0.6666666666666666,
              "#ed7953"
             ],
             [
              0.7777777777777778,
              "#fb9f3a"
             ],
             [
              0.8888888888888888,
              "#fdca26"
             ],
             [
              1,
              "#f0f921"
             ]
            ],
            "type": "contour"
           }
          ],
          "contourcarpet": [
           {
            "colorbar": {
             "outlinewidth": 0,
             "ticks": ""
            },
            "type": "contourcarpet"
           }
          ],
          "heatmap": [
           {
            "colorbar": {
             "outlinewidth": 0,
             "ticks": ""
            },
            "colorscale": [
             [
              0,
              "#0d0887"
             ],
             [
              0.1111111111111111,
              "#46039f"
             ],
             [
              0.2222222222222222,
              "#7201a8"
             ],
             [
              0.3333333333333333,
              "#9c179e"
             ],
             [
              0.4444444444444444,
              "#bd3786"
             ],
             [
              0.5555555555555556,
              "#d8576b"
             ],
             [
              0.6666666666666666,
              "#ed7953"
             ],
             [
              0.7777777777777778,
              "#fb9f3a"
             ],
             [
              0.8888888888888888,
              "#fdca26"
             ],
             [
              1,
              "#f0f921"
             ]
            ],
            "type": "heatmap"
           }
          ],
          "histogram": [
           {
            "marker": {
             "pattern": {
              "fillmode": "overlay",
              "size": 10,
              "solidity": 0.2
             }
            },
            "type": "histogram"
           }
          ],
          "histogram2d": [
           {
            "colorbar": {
             "outlinewidth": 0,
             "ticks": ""
            },
            "colorscale": [
             [
              0,
              "#0d0887"
             ],
             [
              0.1111111111111111,
              "#46039f"
             ],
             [
              0.2222222222222222,
              "#7201a8"
             ],
             [
              0.3333333333333333,
              "#9c179e"
             ],
             [
              0.4444444444444444,
              "#bd3786"
             ],
             [
              0.5555555555555556,
              "#d8576b"
             ],
             [
              0.6666666666666666,
              "#ed7953"
             ],
             [
              0.7777777777777778,
              "#fb9f3a"
             ],
             [
              0.8888888888888888,
              "#fdca26"
             ],
             [
              1,
              "#f0f921"
             ]
            ],
            "type": "histogram2d"
           }
          ],
          "histogram2dcontour": [
           {
            "colorbar": {
             "outlinewidth": 0,
             "ticks": ""
            },
            "colorscale": [
             [
              0,
              "#0d0887"
             ],
             [
              0.1111111111111111,
              "#46039f"
             ],
             [
              0.2222222222222222,
              "#7201a8"
             ],
             [
              0.3333333333333333,
              "#9c179e"
             ],
             [
              0.4444444444444444,
              "#bd3786"
             ],
             [
              0.5555555555555556,
              "#d8576b"
             ],
             [
              0.6666666666666666,
              "#ed7953"
             ],
             [
              0.7777777777777778,
              "#fb9f3a"
             ],
             [
              0.8888888888888888,
              "#fdca26"
             ],
             [
              1,
              "#f0f921"
             ]
            ],
            "type": "histogram2dcontour"
           }
          ],
          "mesh3d": [
           {
            "colorbar": {
             "outlinewidth": 0,
             "ticks": ""
            },
            "type": "mesh3d"
           }
          ],
          "parcoords": [
           {
            "line": {
             "colorbar": {
              "outlinewidth": 0,
              "ticks": ""
             }
            },
            "type": "parcoords"
           }
          ],
          "pie": [
           {
            "automargin": true,
            "type": "pie"
           }
          ],
          "scatter": [
           {
            "fillpattern": {
             "fillmode": "overlay",
             "size": 10,
             "solidity": 0.2
            },
            "type": "scatter"
           }
          ],
          "scatter3d": [
           {
            "line": {
             "colorbar": {
              "outlinewidth": 0,
              "ticks": ""
             }
            },
            "marker": {
             "colorbar": {
              "outlinewidth": 0,
              "ticks": ""
             }
            },
            "type": "scatter3d"
           }
          ],
          "scattercarpet": [
           {
            "marker": {
             "colorbar": {
              "outlinewidth": 0,
              "ticks": ""
             }
            },
            "type": "scattercarpet"
           }
          ],
          "scattergeo": [
           {
            "marker": {
             "colorbar": {
              "outlinewidth": 0,
              "ticks": ""
             }
            },
            "type": "scattergeo"
           }
          ],
          "scattergl": [
           {
            "marker": {
             "colorbar": {
              "outlinewidth": 0,
              "ticks": ""
             }
            },
            "type": "scattergl"
           }
          ],
          "scattermap": [
           {
            "marker": {
             "colorbar": {
              "outlinewidth": 0,
              "ticks": ""
             }
            },
            "type": "scattermap"
           }
          ],
          "scattermapbox": [
           {
            "marker": {
             "colorbar": {
              "outlinewidth": 0,
              "ticks": ""
             }
            },
            "type": "scattermapbox"
           }
          ],
          "scatterpolar": [
           {
            "marker": {
             "colorbar": {
              "outlinewidth": 0,
              "ticks": ""
             }
            },
            "type": "scatterpolar"
           }
          ],
          "scatterpolargl": [
           {
            "marker": {
             "colorbar": {
              "outlinewidth": 0,
              "ticks": ""
             }
            },
            "type": "scatterpolargl"
           }
          ],
          "scatterternary": [
           {
            "marker": {
             "colorbar": {
              "outlinewidth": 0,
              "ticks": ""
             }
            },
            "type": "scatterternary"
           }
          ],
          "surface": [
           {
            "colorbar": {
             "outlinewidth": 0,
             "ticks": ""
            },
            "colorscale": [
             [
              0,
              "#0d0887"
             ],
             [
              0.1111111111111111,
              "#46039f"
             ],
             [
              0.2222222222222222,
              "#7201a8"
             ],
             [
              0.3333333333333333,
              "#9c179e"
             ],
             [
              0.4444444444444444,
              "#bd3786"
             ],
             [
              0.5555555555555556,
              "#d8576b"
             ],
             [
              0.6666666666666666,
              "#ed7953"
             ],
             [
              0.7777777777777778,
              "#fb9f3a"
             ],
             [
              0.8888888888888888,
              "#fdca26"
             ],
             [
              1,
              "#f0f921"
             ]
            ],
            "type": "surface"
           }
          ],
          "table": [
           {
            "cells": {
             "fill": {
              "color": "#EBF0F8"
             },
             "line": {
              "color": "white"
             }
            },
            "header": {
             "fill": {
              "color": "#C8D4E3"
             },
             "line": {
              "color": "white"
             }
            },
            "type": "table"
           }
          ]
         },
         "layout": {
          "annotationdefaults": {
           "arrowcolor": "#2a3f5f",
           "arrowhead": 0,
           "arrowwidth": 1
          },
          "autotypenumbers": "strict",
          "coloraxis": {
           "colorbar": {
            "outlinewidth": 0,
            "ticks": ""
           }
          },
          "colorscale": {
           "diverging": [
            [
             0,
             "#8e0152"
            ],
            [
             0.1,
             "#c51b7d"
            ],
            [
             0.2,
             "#de77ae"
            ],
            [
             0.3,
             "#f1b6da"
            ],
            [
             0.4,
             "#fde0ef"
            ],
            [
             0.5,
             "#f7f7f7"
            ],
            [
             0.6,
             "#e6f5d0"
            ],
            [
             0.7,
             "#b8e186"
            ],
            [
             0.8,
             "#7fbc41"
            ],
            [
             0.9,
             "#4d9221"
            ],
            [
             1,
             "#276419"
            ]
           ],
           "sequential": [
            [
             0,
             "#0d0887"
            ],
            [
             0.1111111111111111,
             "#46039f"
            ],
            [
             0.2222222222222222,
             "#7201a8"
            ],
            [
             0.3333333333333333,
             "#9c179e"
            ],
            [
             0.4444444444444444,
             "#bd3786"
            ],
            [
             0.5555555555555556,
             "#d8576b"
            ],
            [
             0.6666666666666666,
             "#ed7953"
            ],
            [
             0.7777777777777778,
             "#fb9f3a"
            ],
            [
             0.8888888888888888,
             "#fdca26"
            ],
            [
             1,
             "#f0f921"
            ]
           ],
           "sequentialminus": [
            [
             0,
             "#0d0887"
            ],
            [
             0.1111111111111111,
             "#46039f"
            ],
            [
             0.2222222222222222,
             "#7201a8"
            ],
            [
             0.3333333333333333,
             "#9c179e"
            ],
            [
             0.4444444444444444,
             "#bd3786"
            ],
            [
             0.5555555555555556,
             "#d8576b"
            ],
            [
             0.6666666666666666,
             "#ed7953"
            ],
            [
             0.7777777777777778,
             "#fb9f3a"
            ],
            [
             0.8888888888888888,
             "#fdca26"
            ],
            [
             1,
             "#f0f921"
            ]
           ]
          },
          "colorway": [
           "#636efa",
           "#EF553B",
           "#00cc96",
           "#ab63fa",
           "#FFA15A",
           "#19d3f3",
           "#FF6692",
           "#B6E880",
           "#FF97FF",
           "#FECB52"
          ],
          "font": {
           "color": "#2a3f5f"
          },
          "geo": {
           "bgcolor": "white",
           "lakecolor": "white",
           "landcolor": "#E5ECF6",
           "showlakes": true,
           "showland": true,
           "subunitcolor": "white"
          },
          "hoverlabel": {
           "align": "left"
          },
          "hovermode": "closest",
          "mapbox": {
           "style": "light"
          },
          "paper_bgcolor": "white",
          "plot_bgcolor": "#E5ECF6",
          "polar": {
           "angularaxis": {
            "gridcolor": "white",
            "linecolor": "white",
            "ticks": ""
           },
           "bgcolor": "#E5ECF6",
           "radialaxis": {
            "gridcolor": "white",
            "linecolor": "white",
            "ticks": ""
           }
          },
          "scene": {
           "xaxis": {
            "backgroundcolor": "#E5ECF6",
            "gridcolor": "white",
            "gridwidth": 2,
            "linecolor": "white",
            "showbackground": true,
            "ticks": "",
            "zerolinecolor": "white"
           },
           "yaxis": {
            "backgroundcolor": "#E5ECF6",
            "gridcolor": "white",
            "gridwidth": 2,
            "linecolor": "white",
            "showbackground": true,
            "ticks": "",
            "zerolinecolor": "white"
           },
           "zaxis": {
            "backgroundcolor": "#E5ECF6",
            "gridcolor": "white",
            "gridwidth": 2,
            "linecolor": "white",
            "showbackground": true,
            "ticks": "",
            "zerolinecolor": "white"
           }
          },
          "shapedefaults": {
           "line": {
            "color": "#2a3f5f"
           }
          },
          "ternary": {
           "aaxis": {
            "gridcolor": "white",
            "linecolor": "white",
            "ticks": ""
           },
           "baxis": {
            "gridcolor": "white",
            "linecolor": "white",
            "ticks": ""
           },
           "bgcolor": "#E5ECF6",
           "caxis": {
            "gridcolor": "white",
            "linecolor": "white",
            "ticks": ""
           }
          },
          "title": {
           "x": 0.05
          },
          "xaxis": {
           "automargin": true,
           "gridcolor": "white",
           "linecolor": "white",
           "ticks": "",
           "title": {
            "standoff": 15
           },
           "zerolinecolor": "white",
           "zerolinewidth": 2
          },
          "yaxis": {
           "automargin": true,
           "gridcolor": "white",
           "linecolor": "white",
           "ticks": "",
           "title": {
            "standoff": 15
           },
           "zerolinecolor": "white",
           "zerolinewidth": 2
          }
         }
        },
        "xaxis": {
         "anchor": "y",
         "domain": [
          0,
          1
         ],
         "title": {
          "text": "x"
         }
        },
        "yaxis": {
         "anchor": "x",
         "domain": [
          0,
          1
         ],
         "title": {
          "text": "y"
         }
        }
       }
      }
     },
     "metadata": {},
     "output_type": "display_data"
    }
   ],
   "source": [
    "params = {k : jnp.median(v).item() for (k, v) in mcmc_sinp.get_samples().items()}\n",
    "lam2 = partial(sinp_intensity, **params)\n",
    "samples = np.arange(0, 14, 14/1000)\n",
    "fig = px.line(x = samples, y = lam2(samples))\n",
    "# add histogram of all_data to the plot\n",
    "fig.add_histogram(x=all_data, name='All Messages', opacity=0.5, marker_color='blue')"
   ]
  },
  {
   "cell_type": "code",
   "execution_count": 68,
   "metadata": {},
   "outputs": [
    {
     "data": {
      "text/plain": [
       "Array(1177.0156, dtype=float32)"
      ]
     },
     "execution_count": 68,
     "metadata": {},
     "output_type": "execute_result"
    }
   ],
   "source": [
    "samples = np.arange(0, 14, 14/1000)\n",
    "jnp.trapezoid(lam2(samples), x = samples) / 14"
   ]
  },
  {
   "cell_type": "code",
   "execution_count": 81,
   "metadata": {},
   "outputs": [
    {
     "data": {
      "text/plain": [
       "Array(10.916686, dtype=float32)"
      ]
     },
     "execution_count": 81,
     "metadata": {},
     "output_type": "execute_result"
    }
   ],
   "source": [
    "mu=jnp.trapezoid(lam2(samples), x = samples) / 14\n",
    "mu"
   ]
  },
  {
   "cell_type": "code",
   "execution_count": 69,
   "metadata": {},
   "outputs": [],
   "source": [
    "underlying_intensity = partial(geom_inv_sinp_intensity, **params, mu=jnp.trapezoid(lam2(samples), x = samples) / 14)"
   ]
  },
  {
   "cell_type": "code",
   "execution_count": 73,
   "metadata": {},
   "outputs": [
    {
     "data": {
      "application/vnd.plotly.v1+json": {
       "config": {
        "plotlyServerURL": "https://plot.ly"
       },
       "data": [
        {
         "hovertemplate": "x=%{x}<br>y=%{y}<extra></extra>",
         "legendgroup": "",
         "line": {
          "color": "#636efa",
          "dash": "solid"
         },
         "marker": {
          "symbol": "circle"
         },
         "mode": "lines",
         "name": "",
         "orientation": "v",
         "showlegend": false,
         "type": "scatter",
         "x": {
          "bdata": "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",
          "dtype": "f8"
         },
         "xaxis": "x",
         "y": {
          "bdata": "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",
          "dtype": "f4"
         },
         "yaxis": "y"
        },
        {
         "mode": "lines",
         "name": "Rates",
         "type": "scatter",
         "x": {
          "bdata": "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",
          "dtype": "f8"
         },
         "y": {
          "bdata": "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",
          "dtype": "f4"
         },
         "yaxis": "y2"
        }
       ],
       "layout": {
        "legend": {
         "tracegroupgap": 0
        },
        "margin": {
         "t": 60
        },
        "template": {
         "data": {
          "bar": [
           {
            "error_x": {
             "color": "#2a3f5f"
            },
            "error_y": {
             "color": "#2a3f5f"
            },
            "marker": {
             "line": {
              "color": "#E5ECF6",
              "width": 0.5
             },
             "pattern": {
              "fillmode": "overlay",
              "size": 10,
              "solidity": 0.2
             }
            },
            "type": "bar"
           }
          ],
          "barpolar": [
           {
            "marker": {
             "line": {
              "color": "#E5ECF6",
              "width": 0.5
             },
             "pattern": {
              "fillmode": "overlay",
              "size": 10,
              "solidity": 0.2
             }
            },
            "type": "barpolar"
           }
          ],
          "carpet": [
           {
            "aaxis": {
             "endlinecolor": "#2a3f5f",
             "gridcolor": "white",
             "linecolor": "white",
             "minorgridcolor": "white",
             "startlinecolor": "#2a3f5f"
            },
            "baxis": {
             "endlinecolor": "#2a3f5f",
             "gridcolor": "white",
             "linecolor": "white",
             "minorgridcolor": "white",
             "startlinecolor": "#2a3f5f"
            },
            "type": "carpet"
           }
          ],
          "choropleth": [
           {
            "colorbar": {
             "outlinewidth": 0,
             "ticks": ""
            },
            "type": "choropleth"
           }
          ],
          "contour": [
           {
            "colorbar": {
             "outlinewidth": 0,
             "ticks": ""
            },
            "colorscale": [
             [
              0,
              "#0d0887"
             ],
             [
              0.1111111111111111,
              "#46039f"
             ],
             [
              0.2222222222222222,
              "#7201a8"
             ],
             [
              0.3333333333333333,
              "#9c179e"
             ],
             [
              0.4444444444444444,
              "#bd3786"
             ],
             [
              0.5555555555555556,
              "#d8576b"
             ],
             [
              0.6666666666666666,
              "#ed7953"
             ],
             [
              0.7777777777777778,
              "#fb9f3a"
             ],
             [
              0.8888888888888888,
              "#fdca26"
             ],
             [
              1,
              "#f0f921"
             ]
            ],
            "type": "contour"
           }
          ],
          "contourcarpet": [
           {
            "colorbar": {
             "outlinewidth": 0,
             "ticks": ""
            },
            "type": "contourcarpet"
           }
          ],
          "heatmap": [
           {
            "colorbar": {
             "outlinewidth": 0,
             "ticks": ""
            },
            "colorscale": [
             [
              0,
              "#0d0887"
             ],
             [
              0.1111111111111111,
              "#46039f"
             ],
             [
              0.2222222222222222,
              "#7201a8"
             ],
             [
              0.3333333333333333,
              "#9c179e"
             ],
             [
              0.4444444444444444,
              "#bd3786"
             ],
             [
              0.5555555555555556,
              "#d8576b"
             ],
             [
              0.6666666666666666,
              "#ed7953"
             ],
             [
              0.7777777777777778,
              "#fb9f3a"
             ],
             [
              0.8888888888888888,
              "#fdca26"
             ],
             [
              1,
              "#f0f921"
             ]
            ],
            "type": "heatmap"
           }
          ],
          "histogram": [
           {
            "marker": {
             "pattern": {
              "fillmode": "overlay",
              "size": 10,
              "solidity": 0.2
             }
            },
            "type": "histogram"
           }
          ],
          "histogram2d": [
           {
            "colorbar": {
             "outlinewidth": 0,
             "ticks": ""
            },
            "colorscale": [
             [
              0,
              "#0d0887"
             ],
             [
              0.1111111111111111,
              "#46039f"
             ],
             [
              0.2222222222222222,
              "#7201a8"
             ],
             [
              0.3333333333333333,
              "#9c179e"
             ],
             [
              0.4444444444444444,
              "#bd3786"
             ],
             [
              0.5555555555555556,
              "#d8576b"
             ],
             [
              0.6666666666666666,
              "#ed7953"
             ],
             [
              0.7777777777777778,
              "#fb9f3a"
             ],
             [
              0.8888888888888888,
              "#fdca26"
             ],
             [
              1,
              "#f0f921"
             ]
            ],
            "type": "histogram2d"
           }
          ],
          "histogram2dcontour": [
           {
            "colorbar": {
             "outlinewidth": 0,
             "ticks": ""
            },
            "colorscale": [
             [
              0,
              "#0d0887"
             ],
             [
              0.1111111111111111,
              "#46039f"
             ],
             [
              0.2222222222222222,
              "#7201a8"
             ],
             [
              0.3333333333333333,
              "#9c179e"
             ],
             [
              0.4444444444444444,
              "#bd3786"
             ],
             [
              0.5555555555555556,
              "#d8576b"
             ],
             [
              0.6666666666666666,
              "#ed7953"
             ],
             [
              0.7777777777777778,
              "#fb9f3a"
             ],
             [
              0.8888888888888888,
              "#fdca26"
             ],
             [
              1,
              "#f0f921"
             ]
            ],
            "type": "histogram2dcontour"
           }
          ],
          "mesh3d": [
           {
            "colorbar": {
             "outlinewidth": 0,
             "ticks": ""
            },
            "type": "mesh3d"
           }
          ],
          "parcoords": [
           {
            "line": {
             "colorbar": {
              "outlinewidth": 0,
              "ticks": ""
             }
            },
            "type": "parcoords"
           }
          ],
          "pie": [
           {
            "automargin": true,
            "type": "pie"
           }
          ],
          "scatter": [
           {
            "fillpattern": {
             "fillmode": "overlay",
             "size": 10,
             "solidity": 0.2
            },
            "type": "scatter"
           }
          ],
          "scatter3d": [
           {
            "line": {
             "colorbar": {
              "outlinewidth": 0,
              "ticks": ""
             }
            },
            "marker": {
             "colorbar": {
              "outlinewidth": 0,
              "ticks": ""
             }
            },
            "type": "scatter3d"
           }
          ],
          "scattercarpet": [
           {
            "marker": {
             "colorbar": {
              "outlinewidth": 0,
              "ticks": ""
             }
            },
            "type": "scattercarpet"
           }
          ],
          "scattergeo": [
           {
            "marker": {
             "colorbar": {
              "outlinewidth": 0,
              "ticks": ""
             }
            },
            "type": "scattergeo"
           }
          ],
          "scattergl": [
           {
            "marker": {
             "colorbar": {
              "outlinewidth": 0,
              "ticks": ""
             }
            },
            "type": "scattergl"
           }
          ],
          "scattermap": [
           {
            "marker": {
             "colorbar": {
              "outlinewidth": 0,
              "ticks": ""
             }
            },
            "type": "scattermap"
           }
          ],
          "scattermapbox": [
           {
            "marker": {
             "colorbar": {
              "outlinewidth": 0,
              "ticks": ""
             }
            },
            "type": "scattermapbox"
           }
          ],
          "scatterpolar": [
           {
            "marker": {
             "colorbar": {
              "outlinewidth": 0,
              "ticks": ""
             }
            },
            "type": "scatterpolar"
           }
          ],
          "scatterpolargl": [
           {
            "marker": {
             "colorbar": {
              "outlinewidth": 0,
              "ticks": ""
             }
            },
            "type": "scatterpolargl"
           }
          ],
          "scatterternary": [
           {
            "marker": {
             "colorbar": {
              "outlinewidth": 0,
              "ticks": ""
             }
            },
            "type": "scatterternary"
           }
          ],
          "surface": [
           {
            "colorbar": {
             "outlinewidth": 0,
             "ticks": ""
            },
            "colorscale": [
             [
              0,
              "#0d0887"
             ],
             [
              0.1111111111111111,
              "#46039f"
             ],
             [
              0.2222222222222222,
              "#7201a8"
             ],
             [
              0.3333333333333333,
              "#9c179e"
             ],
             [
              0.4444444444444444,
              "#bd3786"
             ],
             [
              0.5555555555555556,
              "#d8576b"
             ],
             [
              0.6666666666666666,
              "#ed7953"
             ],
             [
              0.7777777777777778,
              "#fb9f3a"
             ],
             [
              0.8888888888888888,
              "#fdca26"
             ],
             [
              1,
              "#f0f921"
             ]
            ],
            "type": "surface"
           }
          ],
          "table": [
           {
            "cells": {
             "fill": {
              "color": "#EBF0F8"
             },
             "line": {
              "color": "white"
             }
            },
            "header": {
             "fill": {
              "color": "#C8D4E3"
             },
             "line": {
              "color": "white"
             }
            },
            "type": "table"
           }
          ]
         },
         "layout": {
          "annotationdefaults": {
           "arrowcolor": "#2a3f5f",
           "arrowhead": 0,
           "arrowwidth": 1
          },
          "autotypenumbers": "strict",
          "coloraxis": {
           "colorbar": {
            "outlinewidth": 0,
            "ticks": ""
           }
          },
          "colorscale": {
           "diverging": [
            [
             0,
             "#8e0152"
            ],
            [
             0.1,
             "#c51b7d"
            ],
            [
             0.2,
             "#de77ae"
            ],
            [
             0.3,
             "#f1b6da"
            ],
            [
             0.4,
             "#fde0ef"
            ],
            [
             0.5,
             "#f7f7f7"
            ],
            [
             0.6,
             "#e6f5d0"
            ],
            [
             0.7,
             "#b8e186"
            ],
            [
             0.8,
             "#7fbc41"
            ],
            [
             0.9,
             "#4d9221"
            ],
            [
             1,
             "#276419"
            ]
           ],
           "sequential": [
            [
             0,
             "#0d0887"
            ],
            [
             0.1111111111111111,
             "#46039f"
            ],
            [
             0.2222222222222222,
             "#7201a8"
            ],
            [
             0.3333333333333333,
             "#9c179e"
            ],
            [
             0.4444444444444444,
             "#bd3786"
            ],
            [
             0.5555555555555556,
             "#d8576b"
            ],
            [
             0.6666666666666666,
             "#ed7953"
            ],
            [
             0.7777777777777778,
             "#fb9f3a"
            ],
            [
             0.8888888888888888,
             "#fdca26"
            ],
            [
             1,
             "#f0f921"
            ]
           ],
           "sequentialminus": [
            [
             0,
             "#0d0887"
            ],
            [
             0.1111111111111111,
             "#46039f"
            ],
            [
             0.2222222222222222,
             "#7201a8"
            ],
            [
             0.3333333333333333,
             "#9c179e"
            ],
            [
             0.4444444444444444,
             "#bd3786"
            ],
            [
             0.5555555555555556,
             "#d8576b"
            ],
            [
             0.6666666666666666,
             "#ed7953"
            ],
            [
             0.7777777777777778,
             "#fb9f3a"
            ],
            [
             0.8888888888888888,
             "#fdca26"
            ],
            [
             1,
             "#f0f921"
            ]
           ]
          },
          "colorway": [
           "#636efa",
           "#EF553B",
           "#00cc96",
           "#ab63fa",
           "#FFA15A",
           "#19d3f3",
           "#FF6692",
           "#B6E880",
           "#FF97FF",
           "#FECB52"
          ],
          "font": {
           "color": "#2a3f5f"
          },
          "geo": {
           "bgcolor": "white",
           "lakecolor": "white",
           "landcolor": "#E5ECF6",
           "showlakes": true,
           "showland": true,
           "subunitcolor": "white"
          },
          "hoverlabel": {
           "align": "left"
          },
          "hovermode": "closest",
          "mapbox": {
           "style": "light"
          },
          "paper_bgcolor": "white",
          "plot_bgcolor": "#E5ECF6",
          "polar": {
           "angularaxis": {
            "gridcolor": "white",
            "linecolor": "white",
            "ticks": ""
           },
           "bgcolor": "#E5ECF6",
           "radialaxis": {
            "gridcolor": "white",
            "linecolor": "white",
            "ticks": ""
           }
          },
          "scene": {
           "xaxis": {
            "backgroundcolor": "#E5ECF6",
            "gridcolor": "white",
            "gridwidth": 2,
            "linecolor": "white",
            "showbackground": true,
            "ticks": "",
            "zerolinecolor": "white"
           },
           "yaxis": {
            "backgroundcolor": "#E5ECF6",
            "gridcolor": "white",
            "gridwidth": 2,
            "linecolor": "white",
            "showbackground": true,
            "ticks": "",
            "zerolinecolor": "white"
           },
           "zaxis": {
            "backgroundcolor": "#E5ECF6",
            "gridcolor": "white",
            "gridwidth": 2,
            "linecolor": "white",
            "showbackground": true,
            "ticks": "",
            "zerolinecolor": "white"
           }
          },
          "shapedefaults": {
           "line": {
            "color": "#2a3f5f"
           }
          },
          "ternary": {
           "aaxis": {
            "gridcolor": "white",
            "linecolor": "white",
            "ticks": ""
           },
           "baxis": {
            "gridcolor": "white",
            "linecolor": "white",
            "ticks": ""
           },
           "bgcolor": "#E5ECF6",
           "caxis": {
            "gridcolor": "white",
            "linecolor": "white",
            "ticks": ""
           }
          },
          "title": {
           "x": 0.05
          },
          "xaxis": {
           "automargin": true,
           "gridcolor": "white",
           "linecolor": "white",
           "ticks": "",
           "title": {
            "standoff": 15
           },
           "zerolinecolor": "white",
           "zerolinewidth": 2
          },
          "yaxis": {
           "automargin": true,
           "gridcolor": "white",
           "linecolor": "white",
           "ticks": "",
           "title": {
            "standoff": 15
           },
           "zerolinecolor": "white",
           "zerolinewidth": 2
          }
         }
        },
        "xaxis": {
         "anchor": "y",
         "domain": [
          0,
          1
         ],
         "title": {
          "text": "x"
         }
        },
        "yaxis": {
         "anchor": "x",
         "domain": [
          0,
          1
         ],
         "title": {
          "text": "y"
         }
        },
        "yaxis2": {
         "overlaying": "y",
         "side": "right",
         "title": {
          "text": "Intensity"
         }
        }
       }
      }
     },
     "metadata": {},
     "output_type": "display_data"
    }
   ],
   "source": [
    "# truth = np.histogram(all_data, bins=140)[0]\n",
    "xaxis = np.arange(0, 14, 14/1000)\n",
    "fig = px.line(x = xaxis, y = underlying_intensity(xaxis))\n",
    "fig.add_trace(go.Scatter(\n",
    "    x = xaxis, y = lam2(xaxis), mode='lines', name='Rates',  yaxis=\"y2\"))\n",
    "fig.update_layout(\n",
    "    yaxis2=dict(\n",
    "        title=\"Intensity\",\n",
    "        overlaying=\"y\",\n",
    "        side=\"right\"\n",
    "    )\n",
    ")"
   ]
  },
  {
   "cell_type": "code",
   "execution_count": 71,
   "metadata": {},
   "outputs": [
    {
     "name": "stderr",
     "output_type": "stream",
     "text": [
      "sample: 100%|██████████| 1500/1500 [00:05<00:00, 291.45it/s]\n"
     ]
    }
   ],
   "source": [
    "# mu = jnp.trapezoid(lam2(samples), x = samples) / 14\n",
    "mcmc = MCMC(ESS(poisson_cp, moves={ESS.DifferentialMove() : 0.5, ESS.RandomMove() : 0.2, ESS.GaussianMove() : 0.3}), num_warmup=500, num_samples=1000, chain_method='vectorized', num_chains=30, progress_bar=True)\n",
    "rng_key = jax.random.PRNGKey(0)\n",
    "mcmc.run(rng_key, 0, 300, underlying_intensity, data)"
   ]
  },
  {
   "cell_type": "code",
   "execution_count": 118,
   "metadata": {},
   "outputs": [
    {
     "data": {
      "application/vnd.plotly.v1+json": {
       "config": {
        "plotlyServerURL": "https://plot.ly"
       },
       "data": [
        {
         "hovertemplate": "x=%{x}<br>y=%{y}<extra></extra>",
         "legendgroup": "",
         "marker": {
          "color": "#636efa",
          "pattern": {
           "shape": ""
          }
         },
         "name": "",
         "orientation": "v",
         "showlegend": false,
         "textposition": "auto",
         "type": "bar",
         "x": {
          "bdata": "AAAAAAAAAACamZmZmZm5P5qZmZmZmck/NDMzMzMz0z+amZmZmZnZPwAAAAAAAOA/NDMzMzMz4z9nZmZmZmbmP5qZmZmZmek/zczMzMzM7D8AAAAAAADwP5qZmZmZmfE/NDMzMzMz8z/NzMzMzMz0P2dmZmZmZvY/AAAAAAAA+D+amZmZmZn5PzQzMzMzM/s/zczMzMzM/D9nZmZmZmb+PwAAAAAAAABAzczMzMzMAECamZmZmZkBQGdmZmZmZgJANDMzMzMzA0AAAAAAAAAEQM3MzMzMzARAmpmZmZmZBUBnZmZmZmYGQDQzMzMzMwdAAAAAAAAACEDNzMzMzMwIQJqZmZmZmQlAZ2ZmZmZmCkA0MzMzMzMLQAAAAAAAAAxAzczMzMzMDECamZmZmZkNQGdmZmZmZg5ANDMzMzMzD0AAAAAAAAAQQGdmZmZmZhBAzczMzMzMEEAzMzMzMzMRQJqZmZmZmRFAAAAAAAAAEkBnZmZmZmYSQM3MzMzMzBJANDMzMzMzE0CamZmZmZkTQAAAAAAAABRAZ2ZmZmZmFEDNzMzMzMwUQDQzMzMzMxVAmpmZmZmZFUAAAAAAAAAWQGdmZmZmZhZAzczMzMzMFkA0MzMzMzMXQJqZmZmZmRdAAAAAAAAAGEBnZmZmZmYYQM3MzMzMzBhANDMzMzMzGUCamZmZmZkZQAAAAAAAABpAZ2ZmZmZmGkDNzMzMzMwaQDQzMzMzMxtAmpmZmZmZG0AAAAAAAAAcQGdmZmZmZhxAzczMzMzMHEA0MzMzMzMdQJqZmZmZmR1AAAAAAAAAHkBnZmZmZmYeQM3MzMzMzB5ANDMzMzMzH0CamZmZmZkfQAAAAAAAACBAMzMzMzMzIEBnZmZmZmYgQJqZmZmZmSBAzczMzMzMIEAAAAAAAAAhQDMzMzMzMyFAZ2ZmZmZmIUCamZmZmZkhQM3MzMzMzCFAAAAAAAAAIkAzMzMzMzMiQGdmZmZmZiJAmpmZmZmZIkDNzMzMzMwiQAAAAAAAACNANDMzMzMzI0BnZmZmZmYjQJqZmZmZmSNAzczMzMzMI0AAAAAAAAAkQDQzMzMzMyRAZ2ZmZmZmJECamZmZmZkkQM3MzMzMzCRAAAAAAAAAJUA0MzMzMzMlQGdmZmZmZiVAmpmZmZmZJUDNzMzMzMwlQAAAAAAAACZANDMzMzMzJkBnZmZmZmYmQJqZmZmZmSZAzczMzMzMJkAAAAAAAAAnQDQzMzMzMydAZ2ZmZmZmJ0CamZmZmZknQM3MzMzMzCdAAAAAAAAAKEA0MzMzMzMoQGdmZmZmZihAmpmZmZmZKEDNzMzMzMwoQAAAAAAAAClANDMzMzMzKUBnZmZmZmYpQJqZmZmZmSlAzczMzMzMKUAAAAAAAAAqQDQzMzMzMypAZ2ZmZmZmKkCamZmZmZkqQM3MzMzMzCpAAAAAAAAAK0A0MzMzMzMrQGdmZmZmZitAmpmZmZmZK0DNzMzMzMwrQA==",
          "dtype": "f8"
         },
         "xaxis": "x",
         "y": {
          "bdata": "BgUDBgkHBwcECQUHCQYICQcFAwYDAAMFCwUHBwkOBwgKDw8IBgQFAAIGAQIECw4LBxIYCgwICgkOCQECBgMFAgUBBQwECAYMCAkLDggIBAUEAwMCAQUGBQgIAgMECAYCBgQEAQMCBAIHAgMDAwIBBwIBAwUFBQMDAgMBAgICAQUHBQYPBQ4GAwUHAwM=",
          "dtype": "i1"
         },
         "yaxis": "y"
        },
        {
         "name": "Rates",
         "opacity": 0.5,
         "type": "bar",
         "x": {
          "bdata": "AAAAAAAAAACamZmZmZm5P5qZmZmZmck/NDMzMzMz0z+amZmZmZnZPwAAAAAAAOA/NDMzMzMz4z9nZmZmZmbmP5qZmZmZmek/zczMzMzM7D8AAAAAAADwP5qZmZmZmfE/NDMzMzMz8z/NzMzMzMz0P2dmZmZmZvY/AAAAAAAA+D+amZmZmZn5PzQzMzMzM/s/zczMzMzM/D9nZmZmZmb+PwAAAAAAAABAzczMzMzMAECamZmZmZkBQGdmZmZmZgJANDMzMzMzA0AAAAAAAAAEQM3MzMzMzARAmpmZmZmZBUBnZmZmZmYGQDQzMzMzMwdAAAAAAAAACEDNzMzMzMwIQJqZmZmZmQlAZ2ZmZmZmCkA0MzMzMzMLQAAAAAAAAAxAzczMzMzMDECamZmZmZkNQGdmZmZmZg5ANDMzMzMzD0AAAAAAAAAQQGdmZmZmZhBAzczMzMzMEEAzMzMzMzMRQJqZmZmZmRFAAAAAAAAAEkBnZmZmZmYSQM3MzMzMzBJANDMzMzMzE0CamZmZmZkTQAAAAAAAABRAZ2ZmZmZmFEDNzMzMzMwUQDQzMzMzMxVAmpmZmZmZFUAAAAAAAAAWQGdmZmZmZhZAzczMzMzMFkA0MzMzMzMXQJqZmZmZmRdAAAAAAAAAGEBnZmZmZmYYQM3MzMzMzBhANDMzMzMzGUCamZmZmZkZQAAAAAAAABpAZ2ZmZmZmGkDNzMzMzMwaQDQzMzMzMxtAmpmZmZmZG0AAAAAAAAAcQGdmZmZmZhxAzczMzMzMHEA0MzMzMzMdQJqZmZmZmR1AAAAAAAAAHkBnZmZmZmYeQM3MzMzMzB5ANDMzMzMzH0CamZmZmZkfQAAAAAAAACBAMzMzMzMzIEBnZmZmZmYgQJqZmZmZmSBAzczMzMzMIEAAAAAAAAAhQDMzMzMzMyFAZ2ZmZmZmIUCamZmZmZkhQM3MzMzMzCFAAAAAAAAAIkAzMzMzMzMiQGdmZmZmZiJAmpmZmZmZIkDNzMzMzMwiQAAAAAAAACNANDMzMzMzI0BnZmZmZmYjQJqZmZmZmSNAzczMzMzMI0AAAAAAAAAkQDQzMzMzMyRAZ2ZmZmZmJECamZmZmZkkQM3MzMzMzCRAAAAAAAAAJUA0MzMzMzMlQGdmZmZmZiVAmpmZmZmZJUDNzMzMzMwlQAAAAAAAACZANDMzMzMzJkBnZmZmZmYmQJqZmZmZmSZAzczMzMzMJkAAAAAAAAAnQDQzMzMzMydAZ2ZmZmZmJ0CamZmZmZknQM3MzMzMzCdAAAAAAAAAKEA0MzMzMzMoQGdmZmZmZihAmpmZmZmZKEDNzMzMzMwoQAAAAAAAAClANDMzMzMzKUBnZmZmZmYpQJqZmZmZmSlAzczMzMzMKUAAAAAAAAAqQDQzMzMzMypAZ2ZmZmZmKkCamZmZmZkqQM3MzMzMzCpAAAAAAAAAK0A0MzMzMzMrQGdmZmZmZitAmpmZmZmZK0DNzMzMzMwrQA==",
          "dtype": "f8"
         },
         "y": {
          "bdata": "wJ8aTxgMGEDAnxpPGAwYQMCfGk8YDBhAwJ8aTxgMGEDAnxpPGAwYQMCfGk8YDBhAwJ8aTxgMGEDAnxpPGAwYQMCfGk8YDBhAwJ8aTxgMGEDAnxpPGAwYQMCfGk8YDBhAwJ8aTxgMGEDAnxpPGAwYQMCfGk8YDBhAwJ8aTxgMGEDAnxpPGAwYQMCfGk8YDBhAwJ8aTxgMGEDAnxpPGAwYQMCfGk8YDBhAwJ8aTxgMGEDAnxpPGAwYQMCfGk8YDBhAwJ8aTxgMGEDAnxpPGAwYQMCfGk8YDBhAwJ8aTxgMGEDAnxpPGAwYQMCfGk8YDBhAwJ8aTxgMGEDAnxpPGAwYQMCfGk8YDBhAwJ8aTxgMGEDAnxpPGAwYQMCfGk8YDBhAwJ8aTxgMGEDAnxpPGAwYQMCfGk8YDBhAwJ8aTxgMGEDAnxpPGAwYQMCfGk8YDBhAwJ8aTxgMGEDAnxpPGAwYQMCfGk8YDBhAwJ8aTxgMGEDAnxpPGAwYQMCfGk8YDBhAwJ8aTxgMGEC9dJMAdh85QCyHFrlCJDZADi2yXbwoMUAY2c73pXIrQBODwKoGtiZAKDEIjPtxI0DYo3BdkjEhQObQIltUSB9AWmQ7H1gkHUD2KFwPiaobQEw3iQEOphpAJQaBVXfyGUDOzMwMpnYZQLFyaFFIIRlAku18P23mGEB9PzU+2b0YQEA1XjrfoRhAcBKDYJWOGEDufD/1SIEYQFg5tMgdeBhAUbgehctxGEBkO9/Pb20YQEfhepRuahhAoBovPVxoGECTGASW7mYYQFpkO3/yZRhAhxbZrkRlGEB4vp/azGQYQNejcD16ZBhAIbBySEFkGEAWrkcBGmQYQAVWDu3+YxhA8dJNQuxjGEAGgZVj32MYQD4K14PWYxhAL90kZtBjGECHFtkuzGMYQPhT40XJYxhArBxaRMdjGEAIgZXjxWMYQIYW2e7EYxhAaGZmRsRjGEA0MzPTw2MYQPLSTYLDYxhAE4PASsNjGED4U+Mlw2MYQN35fgrDYxhAPzVe+sJjGEDc+X7qwmMYQNz5furCYxhAAAAA4MJjGEB46SbRwmMYQHjpJtHCYxhAeOkm0cJjGEB46SbRwmMYQHjpJtHCYxhAeOkm0cJjGEB46SbRwmMYQHjpJtHCYxhAeOkm0cJjGEB46SbRwmMYQHjpJtHCYxhAeOkm0cJjGEB46SbRwmMYQHjpJtHCYxhAeOkm0cJjGEB46SbRwmMYQHjpJtHCYxhAeOkm0cJjGEB46SbRwmMYQHjpJtHCYxhAeOkm0cJjGEB46SbRwmMYQHjpJtHCYxhAeOkm0cJjGEB46SbRwmMYQHjpJtHCYxhAeOkm0cJjGEB46SbRwmMYQHjpJtHCYxhAeOkm0cJjGEB46SbRwmMYQHjpJtHCYxhAeOkm0cJjGEB46SbRwmMYQHjpJtHCYxhAeOkm0cJjGEB46SbRwmMYQHjpJtHCYxhAeOkm0cJjGEB46SbRwmMYQA==",
          "dtype": "f8"
         }
        },
        {
         "name": "Scaled Rates",
         "opacity": 0.5,
         "type": "bar",
         "x": {
          "bdata": "AAAAAAAAAACamZmZmZm5P5qZmZmZmck/NDMzMzMz0z+amZmZmZnZPwAAAAAAAOA/NDMzMzMz4z9nZmZmZmbmP5qZmZmZmek/zczMzMzM7D8AAAAAAADwP5qZmZmZmfE/NDMzMzMz8z/NzMzMzMz0P2dmZmZmZvY/AAAAAAAA+D+amZmZmZn5PzQzMzMzM/s/zczMzMzM/D9nZmZmZmb+PwAAAAAAAABAzczMzMzMAECamZmZmZkBQGdmZmZmZgJANDMzMzMzA0AAAAAAAAAEQM3MzMzMzARAmpmZmZmZBUBnZmZmZmYGQDQzMzMzMwdAAAAAAAAACEDNzMzMzMwIQJqZmZmZmQlAZ2ZmZmZmCkA0MzMzMzMLQAAAAAAAAAxAzczMzMzMDECamZmZmZkNQGdmZmZmZg5ANDMzMzMzD0AAAAAAAAAQQGdmZmZmZhBAzczMzMzMEEAzMzMzMzMRQJqZmZmZmRFAAAAAAAAAEkBnZmZmZmYSQM3MzMzMzBJANDMzMzMzE0CamZmZmZkTQAAAAAAAABRAZ2ZmZmZmFEDNzMzMzMwUQDQzMzMzMxVAmpmZmZmZFUAAAAAAAAAWQGdmZmZmZhZAzczMzMzMFkA0MzMzMzMXQJqZmZmZmRdAAAAAAAAAGEBnZmZmZmYYQM3MzMzMzBhANDMzMzMzGUCamZmZmZkZQAAAAAAAABpAZ2ZmZmZmGkDNzMzMzMwaQDQzMzMzMxtAmpmZmZmZG0AAAAAAAAAcQGdmZmZmZhxAzczMzMzMHEA0MzMzMzMdQJqZmZmZmR1AAAAAAAAAHkBnZmZmZmYeQM3MzMzMzB5ANDMzMzMzH0CamZmZmZkfQAAAAAAAACBAMzMzMzMzIEBnZmZmZmYgQJqZmZmZmSBAzczMzMzMIEAAAAAAAAAhQDMzMzMzMyFAZ2ZmZmZmIUCamZmZmZkhQM3MzMzMzCFAAAAAAAAAIkAzMzMzMzMiQGdmZmZmZiJAmpmZmZmZIkDNzMzMzMwiQAAAAAAAACNANDMzMzMzI0BnZmZmZmYjQJqZmZmZmSNAzczMzMzMI0AAAAAAAAAkQDQzMzMzMyRAZ2ZmZmZmJECamZmZmZkkQM3MzMzMzCRAAAAAAAAAJUA0MzMzMzMlQGdmZmZmZiVAmpmZmZmZJUDNzMzMzMwlQAAAAAAAACZANDMzMzMzJkBnZmZmZmYmQJqZmZmZmSZAzczMzMzMJkAAAAAAAAAnQDQzMzMzMydAZ2ZmZmZmJ0CamZmZmZknQM3MzMzMzCdAAAAAAAAAKEA0MzMzMzMoQGdmZmZmZihAmpmZmZmZKEDNzMzMzMwoQAAAAAAAAClANDMzMzMzKUBnZmZmZmYpQJqZmZmZmSlAzczMzMzMKUAAAAAAAAAqQDQzMzMzMypAZ2ZmZmZmKkCamZmZmZkqQM3MzMzMzCpAAAAAAAAAK0A0MzMzMzMrQGdmZmZmZitAmpmZmZmZK0DNzMzMzMwrQA==",
          "dtype": "f8"
         },
         "y": {
          "bdata": "XY/CS4odEkDOzMxM00kOQClcj0gJpgJASOF6GBuPE0C7HoU1+mQfQCCF60EUkxpAuB6FaUZDHUCuR+HPWCwgQKVwPYo3SRRA1qNwv8iKKEBmZmZ83F4cQML1KF7w1CNAPgrX3nJyKEBTuB5JDkIeQD0K10sxXSJAexSuJWSwIkCuR+G3eGoaQGdmZtCsWhFA4noUgEJ8A0CtR+HasJoSQOB6FHISKAJAAAAAAAAAAACkcD0OAoMCQAAAAOY7GxBAw/WomrrhIkCbmZmW7Z4SQAAAAAuaphxASuF6dIirH0C4HoUY92YmQIbrUR4b1zJA/v//YeLBI0AVrkehmcAmQDIzMxEZfitAAQAAjOBAM0DNzEyelJQxQClcj3o7+CBAAAAAXAYXF0DhehTegzoMQGdmZnxOcRBAAAAAAAAAAACQwvVY5kn4P+F6FEARGRJAhutRQJuG6D8J16MIPH35Pyhcj9IqDQtApHA9j/saJEDXo3AWKQ8sQDUzM6nEWyhArkfhRRMXIUA0MzOy/N83QIXrUdAk0UBAMTMz6+F+LEBJ4Xo+P6swQOxRuPYo4yRAmpmZIT7tJ0AWrkea8YAjQGhmZjoPfCtACtcjlJsnIEA+Ctfz8anqP4XrUdCuO/k/pHA9LKBLEkBoZma0phYCQJuZmQ9hfg5AAQAAGDs8+T9nZmYivqoQQMzMzARYuew/Z2ZmWaqiE0CPwvU4hwIqQFyPwk0UJRNAAQAAWPDjJEDiehTYnKsgQMT1KJj3GDFAHoXr0clrJkAzMzO5Kd8nQHE9Cq3p2SpAZ2ZmxOv+LkC4HoUj6AcgQOF6FD5NPR1AAAAAUEIMC0BmZmYUyNsPQAnXo4BHhghADNejUgYZAkBcj8JTlTcCQHI9CicTAvk/Fa5HYatP6j8AAAAwQKURQAvXo7gRGBdAMzMzpVI3FUDD9SiUgcEiQIXrURhJiiRAAAAAAAv/BUDE9SgCkBARQHoUrj8glBZAexSuh3GHJUCPwvUUVN0dQEjhetz/FwJAXY/CE6CNGEDPzMwEzckNQKZwPZrndQtAw/UoxIDE6T9TuB71t4ICQEjhelTsKvg/jsL1UJU1CEBI4XqUrs74P7oehStDvBZA61G41kzF+z9SuB6tZqUGQM7MzDpk7AhApHA95hyNC0AWrkcB4iwEQBWuRxGzu/U/HoXrwSfVI0CbmZkRErIGQB+F60EV0PU/mZmZlZFsDkABAADwrBkXQJqZmRXm5RRAAQAA5H/6EkDOzMyCNO0EQAIAABiOjgNAU7gete/c+D8gheu5KiwCQOxRuM57J+g/9ihcL/mh+D8+Ctej4K75PxSuRzlrVvs/DNejMC6g7T+amZniK1YUQIbrUcb8dx9AzczMdNS/GECjcD2kxBQgQGZmZgTaIDVAzczMMnR2HECuR+E6+04zQAAAABgv9x5AkML14LhNDEAAAADyLVkVQM7MzMt7GRtApHA9rI1HBUBI4XrkEc8DQA==",
          "dtype": "f8"
         }
        }
       ],
       "layout": {
        "barmode": "overlay",
        "legend": {
         "tracegroupgap": 0
        },
        "margin": {
         "t": 60
        },
        "template": {
         "data": {
          "bar": [
           {
            "error_x": {
             "color": "#2a3f5f"
            },
            "error_y": {
             "color": "#2a3f5f"
            },
            "marker": {
             "line": {
              "color": "#E5ECF6",
              "width": 0.5
             },
             "pattern": {
              "fillmode": "overlay",
              "size": 10,
              "solidity": 0.2
             }
            },
            "type": "bar"
           }
          ],
          "barpolar": [
           {
            "marker": {
             "line": {
              "color": "#E5ECF6",
              "width": 0.5
             },
             "pattern": {
              "fillmode": "overlay",
              "size": 10,
              "solidity": 0.2
             }
            },
            "type": "barpolar"
           }
          ],
          "carpet": [
           {
            "aaxis": {
             "endlinecolor": "#2a3f5f",
             "gridcolor": "white",
             "linecolor": "white",
             "minorgridcolor": "white",
             "startlinecolor": "#2a3f5f"
            },
            "baxis": {
             "endlinecolor": "#2a3f5f",
             "gridcolor": "white",
             "linecolor": "white",
             "minorgridcolor": "white",
             "startlinecolor": "#2a3f5f"
            },
            "type": "carpet"
           }
          ],
          "choropleth": [
           {
            "colorbar": {
             "outlinewidth": 0,
             "ticks": ""
            },
            "type": "choropleth"
           }
          ],
          "contour": [
           {
            "colorbar": {
             "outlinewidth": 0,
             "ticks": ""
            },
            "colorscale": [
             [
              0,
              "#0d0887"
             ],
             [
              0.1111111111111111,
              "#46039f"
             ],
             [
              0.2222222222222222,
              "#7201a8"
             ],
             [
              0.3333333333333333,
              "#9c179e"
             ],
             [
              0.4444444444444444,
              "#bd3786"
             ],
             [
              0.5555555555555556,
              "#d8576b"
             ],
             [
              0.6666666666666666,
              "#ed7953"
             ],
             [
              0.7777777777777778,
              "#fb9f3a"
             ],
             [
              0.8888888888888888,
              "#fdca26"
             ],
             [
              1,
              "#f0f921"
             ]
            ],
            "type": "contour"
           }
          ],
          "contourcarpet": [
           {
            "colorbar": {
             "outlinewidth": 0,
             "ticks": ""
            },
            "type": "contourcarpet"
           }
          ],
          "heatmap": [
           {
            "colorbar": {
             "outlinewidth": 0,
             "ticks": ""
            },
            "colorscale": [
             [
              0,
              "#0d0887"
             ],
             [
              0.1111111111111111,
              "#46039f"
             ],
             [
              0.2222222222222222,
              "#7201a8"
             ],
             [
              0.3333333333333333,
              "#9c179e"
             ],
             [
              0.4444444444444444,
              "#bd3786"
             ],
             [
              0.5555555555555556,
              "#d8576b"
             ],
             [
              0.6666666666666666,
              "#ed7953"
             ],
             [
              0.7777777777777778,
              "#fb9f3a"
             ],
             [
              0.8888888888888888,
              "#fdca26"
             ],
             [
              1,
              "#f0f921"
             ]
            ],
            "type": "heatmap"
           }
          ],
          "histogram": [
           {
            "marker": {
             "pattern": {
              "fillmode": "overlay",
              "size": 10,
              "solidity": 0.2
             }
            },
            "type": "histogram"
           }
          ],
          "histogram2d": [
           {
            "colorbar": {
             "outlinewidth": 0,
             "ticks": ""
            },
            "colorscale": [
             [
              0,
              "#0d0887"
             ],
             [
              0.1111111111111111,
              "#46039f"
             ],
             [
              0.2222222222222222,
              "#7201a8"
             ],
             [
              0.3333333333333333,
              "#9c179e"
             ],
             [
              0.4444444444444444,
              "#bd3786"
             ],
             [
              0.5555555555555556,
              "#d8576b"
             ],
             [
              0.6666666666666666,
              "#ed7953"
             ],
             [
              0.7777777777777778,
              "#fb9f3a"
             ],
             [
              0.8888888888888888,
              "#fdca26"
             ],
             [
              1,
              "#f0f921"
             ]
            ],
            "type": "histogram2d"
           }
          ],
          "histogram2dcontour": [
           {
            "colorbar": {
             "outlinewidth": 0,
             "ticks": ""
            },
            "colorscale": [
             [
              0,
              "#0d0887"
             ],
             [
              0.1111111111111111,
              "#46039f"
             ],
             [
              0.2222222222222222,
              "#7201a8"
             ],
             [
              0.3333333333333333,
              "#9c179e"
             ],
             [
              0.4444444444444444,
              "#bd3786"
             ],
             [
              0.5555555555555556,
              "#d8576b"
             ],
             [
              0.6666666666666666,
              "#ed7953"
             ],
             [
              0.7777777777777778,
              "#fb9f3a"
             ],
             [
              0.8888888888888888,
              "#fdca26"
             ],
             [
              1,
              "#f0f921"
             ]
            ],
            "type": "histogram2dcontour"
           }
          ],
          "mesh3d": [
           {
            "colorbar": {
             "outlinewidth": 0,
             "ticks": ""
            },
            "type": "mesh3d"
           }
          ],
          "parcoords": [
           {
            "line": {
             "colorbar": {
              "outlinewidth": 0,
              "ticks": ""
             }
            },
            "type": "parcoords"
           }
          ],
          "pie": [
           {
            "automargin": true,
            "type": "pie"
           }
          ],
          "scatter": [
           {
            "fillpattern": {
             "fillmode": "overlay",
             "size": 10,
             "solidity": 0.2
            },
            "type": "scatter"
           }
          ],
          "scatter3d": [
           {
            "line": {
             "colorbar": {
              "outlinewidth": 0,
              "ticks": ""
             }
            },
            "marker": {
             "colorbar": {
              "outlinewidth": 0,
              "ticks": ""
             }
            },
            "type": "scatter3d"
           }
          ],
          "scattercarpet": [
           {
            "marker": {
             "colorbar": {
              "outlinewidth": 0,
              "ticks": ""
             }
            },
            "type": "scattercarpet"
           }
          ],
          "scattergeo": [
           {
            "marker": {
             "colorbar": {
              "outlinewidth": 0,
              "ticks": ""
             }
            },
            "type": "scattergeo"
           }
          ],
          "scattergl": [
           {
            "marker": {
             "colorbar": {
              "outlinewidth": 0,
              "ticks": ""
             }
            },
            "type": "scattergl"
           }
          ],
          "scattermap": [
           {
            "marker": {
             "colorbar": {
              "outlinewidth": 0,
              "ticks": ""
             }
            },
            "type": "scattermap"
           }
          ],
          "scattermapbox": [
           {
            "marker": {
             "colorbar": {
              "outlinewidth": 0,
              "ticks": ""
             }
            },
            "type": "scattermapbox"
           }
          ],
          "scatterpolar": [
           {
            "marker": {
             "colorbar": {
              "outlinewidth": 0,
              "ticks": ""
             }
            },
            "type": "scatterpolar"
           }
          ],
          "scatterpolargl": [
           {
            "marker": {
             "colorbar": {
              "outlinewidth": 0,
              "ticks": ""
             }
            },
            "type": "scatterpolargl"
           }
          ],
          "scatterternary": [
           {
            "marker": {
             "colorbar": {
              "outlinewidth": 0,
              "ticks": ""
             }
            },
            "type": "scatterternary"
           }
          ],
          "surface": [
           {
            "colorbar": {
             "outlinewidth": 0,
             "ticks": ""
            },
            "colorscale": [
             [
              0,
              "#0d0887"
             ],
             [
              0.1111111111111111,
              "#46039f"
             ],
             [
              0.2222222222222222,
              "#7201a8"
             ],
             [
              0.3333333333333333,
              "#9c179e"
             ],
             [
              0.4444444444444444,
              "#bd3786"
             ],
             [
              0.5555555555555556,
              "#d8576b"
             ],
             [
              0.6666666666666666,
              "#ed7953"
             ],
             [
              0.7777777777777778,
              "#fb9f3a"
             ],
             [
              0.8888888888888888,
              "#fdca26"
             ],
             [
              1,
              "#f0f921"
             ]
            ],
            "type": "surface"
           }
          ],
          "table": [
           {
            "cells": {
             "fill": {
              "color": "#EBF0F8"
             },
             "line": {
              "color": "white"
             }
            },
            "header": {
             "fill": {
              "color": "#C8D4E3"
             },
             "line": {
              "color": "white"
             }
            },
            "type": "table"
           }
          ]
         },
         "layout": {
          "annotationdefaults": {
           "arrowcolor": "#2a3f5f",
           "arrowhead": 0,
           "arrowwidth": 1
          },
          "autotypenumbers": "strict",
          "coloraxis": {
           "colorbar": {
            "outlinewidth": 0,
            "ticks": ""
           }
          },
          "colorscale": {
           "diverging": [
            [
             0,
             "#8e0152"
            ],
            [
             0.1,
             "#c51b7d"
            ],
            [
             0.2,
             "#de77ae"
            ],
            [
             0.3,
             "#f1b6da"
            ],
            [
             0.4,
             "#fde0ef"
            ],
            [
             0.5,
             "#f7f7f7"
            ],
            [
             0.6,
             "#e6f5d0"
            ],
            [
             0.7,
             "#b8e186"
            ],
            [
             0.8,
             "#7fbc41"
            ],
            [
             0.9,
             "#4d9221"
            ],
            [
             1,
             "#276419"
            ]
           ],
           "sequential": [
            [
             0,
             "#0d0887"
            ],
            [
             0.1111111111111111,
             "#46039f"
            ],
            [
             0.2222222222222222,
             "#7201a8"
            ],
            [
             0.3333333333333333,
             "#9c179e"
            ],
            [
             0.4444444444444444,
             "#bd3786"
            ],
            [
             0.5555555555555556,
             "#d8576b"
            ],
            [
             0.6666666666666666,
             "#ed7953"
            ],
            [
             0.7777777777777778,
             "#fb9f3a"
            ],
            [
             0.8888888888888888,
             "#fdca26"
            ],
            [
             1,
             "#f0f921"
            ]
           ],
           "sequentialminus": [
            [
             0,
             "#0d0887"
            ],
            [
             0.1111111111111111,
             "#46039f"
            ],
            [
             0.2222222222222222,
             "#7201a8"
            ],
            [
             0.3333333333333333,
             "#9c179e"
            ],
            [
             0.4444444444444444,
             "#bd3786"
            ],
            [
             0.5555555555555556,
             "#d8576b"
            ],
            [
             0.6666666666666666,
             "#ed7953"
            ],
            [
             0.7777777777777778,
             "#fb9f3a"
            ],
            [
             0.8888888888888888,
             "#fdca26"
            ],
            [
             1,
             "#f0f921"
            ]
           ]
          },
          "colorway": [
           "#636efa",
           "#EF553B",
           "#00cc96",
           "#ab63fa",
           "#FFA15A",
           "#19d3f3",
           "#FF6692",
           "#B6E880",
           "#FF97FF",
           "#FECB52"
          ],
          "font": {
           "color": "#2a3f5f"
          },
          "geo": {
           "bgcolor": "white",
           "lakecolor": "white",
           "landcolor": "#E5ECF6",
           "showlakes": true,
           "showland": true,
           "subunitcolor": "white"
          },
          "hoverlabel": {
           "align": "left"
          },
          "hovermode": "closest",
          "mapbox": {
           "style": "light"
          },
          "paper_bgcolor": "white",
          "plot_bgcolor": "#E5ECF6",
          "polar": {
           "angularaxis": {
            "gridcolor": "white",
            "linecolor": "white",
            "ticks": ""
           },
           "bgcolor": "#E5ECF6",
           "radialaxis": {
            "gridcolor": "white",
            "linecolor": "white",
            "ticks": ""
           }
          },
          "scene": {
           "xaxis": {
            "backgroundcolor": "#E5ECF6",
            "gridcolor": "white",
            "gridwidth": 2,
            "linecolor": "white",
            "showbackground": true,
            "ticks": "",
            "zerolinecolor": "white"
           },
           "yaxis": {
            "backgroundcolor": "#E5ECF6",
            "gridcolor": "white",
            "gridwidth": 2,
            "linecolor": "white",
            "showbackground": true,
            "ticks": "",
            "zerolinecolor": "white"
           },
           "zaxis": {
            "backgroundcolor": "#E5ECF6",
            "gridcolor": "white",
            "gridwidth": 2,
            "linecolor": "white",
            "showbackground": true,
            "ticks": "",
            "zerolinecolor": "white"
           }
          },
          "shapedefaults": {
           "line": {
            "color": "#2a3f5f"
           }
          },
          "ternary": {
           "aaxis": {
            "gridcolor": "white",
            "linecolor": "white",
            "ticks": ""
           },
           "baxis": {
            "gridcolor": "white",
            "linecolor": "white",
            "ticks": ""
           },
           "bgcolor": "#E5ECF6",
           "caxis": {
            "gridcolor": "white",
            "linecolor": "white",
            "ticks": ""
           }
          },
          "title": {
           "x": 0.05
          },
          "xaxis": {
           "automargin": true,
           "gridcolor": "white",
           "linecolor": "white",
           "ticks": "",
           "title": {
            "standoff": 15
           },
           "zerolinecolor": "white",
           "zerolinewidth": 2
          },
          "yaxis": {
           "automargin": true,
           "gridcolor": "white",
           "linecolor": "white",
           "ticks": "",
           "title": {
            "standoff": 15
           },
           "zerolinecolor": "white",
           "zerolinewidth": 2
          }
         }
        },
        "xaxis": {
         "anchor": "y",
         "domain": [
          0,
          1
         ],
         "title": {
          "text": "x"
         }
        },
        "yaxis": {
         "anchor": "x",
         "domain": [
          0,
          1
         ],
         "title": {
          "text": "y"
         }
        }
       }
      }
     },
     "metadata": {},
     "output_type": "display_data"
    }
   ],
   "source": [
    "params = {k : jnp.median(v).item() for (k, v) in mcmc.get_samples().items()}\n",
    "lam1 = partial(pcp_intensity, **params)\n",
    "samples = np.arange(0, 14, 14/1000)\n",
    "n = 10\n",
    "samples = np.arange(0, 1/n, 1/1000)\n",
    "xaxis = np.arange(0, 14, 1/n)\n",
    "rate_scalers = np.array([np.trapezoid(underlying_intensity(samples + i/n), x = samples).item() * n for i in range(14 * n)])\n",
    "predictions = np.array([np.trapezoid(lam1(samples + i/n), x = samples).item() for i in range(14 * n)])\n",
    "fig = px.bar(x= np.arange(0, 14, 1/n),y =np.histogram(data, bins=14 * n)[0])\n",
    "# fig.add_trace(go.Scatter(\n",
    "#     x = xaxis, y = lam1(xaxis) / mu, mode='lines', name='Rates'))\n",
    "# fig.update_layout(\n",
    "#     yaxis2=dict(\n",
    "#         title=\"Change Point Density\",\n",
    "#         overlaying=\"y\",\n",
    "#         side=\"right\"\n",
    "#     )\n",
    "# )\n",
    "fig.add_trace(go.Bar(\n",
    "    x = xaxis, y = predictions, name='Rates', opacity=0.5))\n",
    "fig.add_trace(go.Bar(\n",
    "    x = xaxis, y = rate_scalers * np.histogram(data, bins=14 * n)[0], name='Scaled Rates', opacity=0.5))\n",
    "\n",
    "fig.update_layout(barmode='overlay')"
   ]
  },
  {
   "cell_type": "code",
   "execution_count": 38,
   "metadata": {},
   "outputs": [
    {
     "data": {
      "application/vnd.plotly.v1+json": {
       "config": {
        "plotlyServerURL": "https://plot.ly"
       },
       "data": [
        {
         "hovertemplate": "x=%{x}<br>y=%{y}<extra></extra>",
         "legendgroup": "",
         "line": {
          "color": "#636efa",
          "dash": "solid"
         },
         "marker": {
          "symbol": "circle"
         },
         "mode": "lines",
         "name": "",
         "orientation": "v",
         "showlegend": false,
         "type": "scatter",
         "x": {
          "bdata": "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",
          "dtype": "f8"
         },
         "xaxis": "x",
         "y": {
          "bdata": "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",
          "dtype": "f4"
         },
         "yaxis": "y"
        },
        {
         "histnorm": "probability density",
         "marker": {
          "color": "red"
         },
         "name": "Change Points",
         "opacity": 0.5,
         "type": "histogram",
         "x": {
          "bdata": "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",
          "dtype": "f4"
         },
         "yaxis": "y2"
        }
       ],
       "layout": {
        "legend": {
         "tracegroupgap": 0
        },
        "margin": {
         "t": 60
        },
        "template": {
         "data": {
          "bar": [
           {
            "error_x": {
             "color": "#2a3f5f"
            },
            "error_y": {
             "color": "#2a3f5f"
            },
            "marker": {
             "line": {
              "color": "#E5ECF6",
              "width": 0.5
             },
             "pattern": {
              "fillmode": "overlay",
              "size": 10,
              "solidity": 0.2
             }
            },
            "type": "bar"
           }
          ],
          "barpolar": [
           {
            "marker": {
             "line": {
              "color": "#E5ECF6",
              "width": 0.5
             },
             "pattern": {
              "fillmode": "overlay",
              "size": 10,
              "solidity": 0.2
             }
            },
            "type": "barpolar"
           }
          ],
          "carpet": [
           {
            "aaxis": {
             "endlinecolor": "#2a3f5f",
             "gridcolor": "white",
             "linecolor": "white",
             "minorgridcolor": "white",
             "startlinecolor": "#2a3f5f"
            },
            "baxis": {
             "endlinecolor": "#2a3f5f",
             "gridcolor": "white",
             "linecolor": "white",
             "minorgridcolor": "white",
             "startlinecolor": "#2a3f5f"
            },
            "type": "carpet"
           }
          ],
          "choropleth": [
           {
            "colorbar": {
             "outlinewidth": 0,
             "ticks": ""
            },
            "type": "choropleth"
           }
          ],
          "contour": [
           {
            "colorbar": {
             "outlinewidth": 0,
             "ticks": ""
            },
            "colorscale": [
             [
              0,
              "#0d0887"
             ],
             [
              0.1111111111111111,
              "#46039f"
             ],
             [
              0.2222222222222222,
              "#7201a8"
             ],
             [
              0.3333333333333333,
              "#9c179e"
             ],
             [
              0.4444444444444444,
              "#bd3786"
             ],
             [
              0.5555555555555556,
              "#d8576b"
             ],
             [
              0.6666666666666666,
              "#ed7953"
             ],
             [
              0.7777777777777778,
              "#fb9f3a"
             ],
             [
              0.8888888888888888,
              "#fdca26"
             ],
             [
              1,
              "#f0f921"
             ]
            ],
            "type": "contour"
           }
          ],
          "contourcarpet": [
           {
            "colorbar": {
             "outlinewidth": 0,
             "ticks": ""
            },
            "type": "contourcarpet"
           }
          ],
          "heatmap": [
           {
            "colorbar": {
             "outlinewidth": 0,
             "ticks": ""
            },
            "colorscale": [
             [
              0,
              "#0d0887"
             ],
             [
              0.1111111111111111,
              "#46039f"
             ],
             [
              0.2222222222222222,
              "#7201a8"
             ],
             [
              0.3333333333333333,
              "#9c179e"
             ],
             [
              0.4444444444444444,
              "#bd3786"
             ],
             [
              0.5555555555555556,
              "#d8576b"
             ],
             [
              0.6666666666666666,
              "#ed7953"
             ],
             [
              0.7777777777777778,
              "#fb9f3a"
             ],
             [
              0.8888888888888888,
              "#fdca26"
             ],
             [
              1,
              "#f0f921"
             ]
            ],
            "type": "heatmap"
           }
          ],
          "histogram": [
           {
            "marker": {
             "pattern": {
              "fillmode": "overlay",
              "size": 10,
              "solidity": 0.2
             }
            },
            "type": "histogram"
           }
          ],
          "histogram2d": [
           {
            "colorbar": {
             "outlinewidth": 0,
             "ticks": ""
            },
            "colorscale": [
             [
              0,
              "#0d0887"
             ],
             [
              0.1111111111111111,
              "#46039f"
             ],
             [
              0.2222222222222222,
              "#7201a8"
             ],
             [
              0.3333333333333333,
              "#9c179e"
             ],
             [
              0.4444444444444444,
              "#bd3786"
             ],
             [
              0.5555555555555556,
              "#d8576b"
             ],
             [
              0.6666666666666666,
              "#ed7953"
             ],
             [
              0.7777777777777778,
              "#fb9f3a"
             ],
             [
              0.8888888888888888,
              "#fdca26"
             ],
             [
              1,
              "#f0f921"
             ]
            ],
            "type": "histogram2d"
           }
          ],
          "histogram2dcontour": [
           {
            "colorbar": {
             "outlinewidth": 0,
             "ticks": ""
            },
            "colorscale": [
             [
              0,
              "#0d0887"
             ],
             [
              0.1111111111111111,
              "#46039f"
             ],
             [
              0.2222222222222222,
              "#7201a8"
             ],
             [
              0.3333333333333333,
              "#9c179e"
             ],
             [
              0.4444444444444444,
              "#bd3786"
             ],
             [
              0.5555555555555556,
              "#d8576b"
             ],
             [
              0.6666666666666666,
              "#ed7953"
             ],
             [
              0.7777777777777778,
              "#fb9f3a"
             ],
             [
              0.8888888888888888,
              "#fdca26"
             ],
             [
              1,
              "#f0f921"
             ]
            ],
            "type": "histogram2dcontour"
           }
          ],
          "mesh3d": [
           {
            "colorbar": {
             "outlinewidth": 0,
             "ticks": ""
            },
            "type": "mesh3d"
           }
          ],
          "parcoords": [
           {
            "line": {
             "colorbar": {
              "outlinewidth": 0,
              "ticks": ""
             }
            },
            "type": "parcoords"
           }
          ],
          "pie": [
           {
            "automargin": true,
            "type": "pie"
           }
          ],
          "scatter": [
           {
            "fillpattern": {
             "fillmode": "overlay",
             "size": 10,
             "solidity": 0.2
            },
            "type": "scatter"
           }
          ],
          "scatter3d": [
           {
            "line": {
             "colorbar": {
              "outlinewidth": 0,
              "ticks": ""
             }
            },
            "marker": {
             "colorbar": {
              "outlinewidth": 0,
              "ticks": ""
             }
            },
            "type": "scatter3d"
           }
          ],
          "scattercarpet": [
           {
            "marker": {
             "colorbar": {
              "outlinewidth": 0,
              "ticks": ""
             }
            },
            "type": "scattercarpet"
           }
          ],
          "scattergeo": [
           {
            "marker": {
             "colorbar": {
              "outlinewidth": 0,
              "ticks": ""
             }
            },
            "type": "scattergeo"
           }
          ],
          "scattergl": [
           {
            "marker": {
             "colorbar": {
              "outlinewidth": 0,
              "ticks": ""
             }
            },
            "type": "scattergl"
           }
          ],
          "scattermap": [
           {
            "marker": {
             "colorbar": {
              "outlinewidth": 0,
              "ticks": ""
             }
            },
            "type": "scattermap"
           }
          ],
          "scattermapbox": [
           {
            "marker": {
             "colorbar": {
              "outlinewidth": 0,
              "ticks": ""
             }
            },
            "type": "scattermapbox"
           }
          ],
          "scatterpolar": [
           {
            "marker": {
             "colorbar": {
              "outlinewidth": 0,
              "ticks": ""
             }
            },
            "type": "scatterpolar"
           }
          ],
          "scatterpolargl": [
           {
            "marker": {
             "colorbar": {
              "outlinewidth": 0,
              "ticks": ""
             }
            },
            "type": "scatterpolargl"
           }
          ],
          "scatterternary": [
           {
            "marker": {
             "colorbar": {
              "outlinewidth": 0,
              "ticks": ""
             }
            },
            "type": "scatterternary"
           }
          ],
          "surface": [
           {
            "colorbar": {
             "outlinewidth": 0,
             "ticks": ""
            },
            "colorscale": [
             [
              0,
              "#0d0887"
             ],
             [
              0.1111111111111111,
              "#46039f"
             ],
             [
              0.2222222222222222,
              "#7201a8"
             ],
             [
              0.3333333333333333,
              "#9c179e"
             ],
             [
              0.4444444444444444,
              "#bd3786"
             ],
             [
              0.5555555555555556,
              "#d8576b"
             ],
             [
              0.6666666666666666,
              "#ed7953"
             ],
             [
              0.7777777777777778,
              "#fb9f3a"
             ],
             [
              0.8888888888888888,
              "#fdca26"
             ],
             [
              1,
              "#f0f921"
             ]
            ],
            "type": "surface"
           }
          ],
          "table": [
           {
            "cells": {
             "fill": {
              "color": "#EBF0F8"
             },
             "line": {
              "color": "white"
             }
            },
            "header": {
             "fill": {
              "color": "#C8D4E3"
             },
             "line": {
              "color": "white"
             }
            },
            "type": "table"
           }
          ]
         },
         "layout": {
          "annotationdefaults": {
           "arrowcolor": "#2a3f5f",
           "arrowhead": 0,
           "arrowwidth": 1
          },
          "autotypenumbers": "strict",
          "coloraxis": {
           "colorbar": {
            "outlinewidth": 0,
            "ticks": ""
           }
          },
          "colorscale": {
           "diverging": [
            [
             0,
             "#8e0152"
            ],
            [
             0.1,
             "#c51b7d"
            ],
            [
             0.2,
             "#de77ae"
            ],
            [
             0.3,
             "#f1b6da"
            ],
            [
             0.4,
             "#fde0ef"
            ],
            [
             0.5,
             "#f7f7f7"
            ],
            [
             0.6,
             "#e6f5d0"
            ],
            [
             0.7,
             "#b8e186"
            ],
            [
             0.8,
             "#7fbc41"
            ],
            [
             0.9,
             "#4d9221"
            ],
            [
             1,
             "#276419"
            ]
           ],
           "sequential": [
            [
             0,
             "#0d0887"
            ],
            [
             0.1111111111111111,
             "#46039f"
            ],
            [
             0.2222222222222222,
             "#7201a8"
            ],
            [
             0.3333333333333333,
             "#9c179e"
            ],
            [
             0.4444444444444444,
             "#bd3786"
            ],
            [
             0.5555555555555556,
             "#d8576b"
            ],
            [
             0.6666666666666666,
             "#ed7953"
            ],
            [
             0.7777777777777778,
             "#fb9f3a"
            ],
            [
             0.8888888888888888,
             "#fdca26"
            ],
            [
             1,
             "#f0f921"
            ]
           ],
           "sequentialminus": [
            [
             0,
             "#0d0887"
            ],
            [
             0.1111111111111111,
             "#46039f"
            ],
            [
             0.2222222222222222,
             "#7201a8"
            ],
            [
             0.3333333333333333,
             "#9c179e"
            ],
            [
             0.4444444444444444,
             "#bd3786"
            ],
            [
             0.5555555555555556,
             "#d8576b"
            ],
            [
             0.6666666666666666,
             "#ed7953"
            ],
            [
             0.7777777777777778,
             "#fb9f3a"
            ],
            [
             0.8888888888888888,
             "#fdca26"
            ],
            [
             1,
             "#f0f921"
            ]
           ]
          },
          "colorway": [
           "#636efa",
           "#EF553B",
           "#00cc96",
           "#ab63fa",
           "#FFA15A",
           "#19d3f3",
           "#FF6692",
           "#B6E880",
           "#FF97FF",
           "#FECB52"
          ],
          "font": {
           "color": "#2a3f5f"
          },
          "geo": {
           "bgcolor": "white",
           "lakecolor": "white",
           "landcolor": "#E5ECF6",
           "showlakes": true,
           "showland": true,
           "subunitcolor": "white"
          },
          "hoverlabel": {
           "align": "left"
          },
          "hovermode": "closest",
          "mapbox": {
           "style": "light"
          },
          "paper_bgcolor": "white",
          "plot_bgcolor": "#E5ECF6",
          "polar": {
           "angularaxis": {
            "gridcolor": "white",
            "linecolor": "white",
            "ticks": ""
           },
           "bgcolor": "#E5ECF6",
           "radialaxis": {
            "gridcolor": "white",
            "linecolor": "white",
            "ticks": ""
           }
          },
          "scene": {
           "xaxis": {
            "backgroundcolor": "#E5ECF6",
            "gridcolor": "white",
            "gridwidth": 2,
            "linecolor": "white",
            "showbackground": true,
            "ticks": "",
            "zerolinecolor": "white"
           },
           "yaxis": {
            "backgroundcolor": "#E5ECF6",
            "gridcolor": "white",
            "gridwidth": 2,
            "linecolor": "white",
            "showbackground": true,
            "ticks": "",
            "zerolinecolor": "white"
           },
           "zaxis": {
            "backgroundcolor": "#E5ECF6",
            "gridcolor": "white",
            "gridwidth": 2,
            "linecolor": "white",
            "showbackground": true,
            "ticks": "",
            "zerolinecolor": "white"
           }
          },
          "shapedefaults": {
           "line": {
            "color": "#2a3f5f"
           }
          },
          "ternary": {
           "aaxis": {
            "gridcolor": "white",
            "linecolor": "white",
            "ticks": ""
           },
           "baxis": {
            "gridcolor": "white",
            "linecolor": "white",
            "ticks": ""
           },
           "bgcolor": "#E5ECF6",
           "caxis": {
            "gridcolor": "white",
            "linecolor": "white",
            "ticks": ""
           }
          },
          "title": {
           "x": 0.05
          },
          "xaxis": {
           "automargin": true,
           "gridcolor": "white",
           "linecolor": "white",
           "ticks": "",
           "title": {
            "standoff": 15
           },
           "zerolinecolor": "white",
           "zerolinewidth": 2
          },
          "yaxis": {
           "automargin": true,
           "gridcolor": "white",
           "linecolor": "white",
           "ticks": "",
           "title": {
            "standoff": 15
           },
           "zerolinecolor": "white",
           "zerolinewidth": 2
          }
         }
        },
        "xaxis": {
         "anchor": "y",
         "domain": [
          0,
          1
         ],
         "title": {
          "text": "x"
         }
        },
        "yaxis": {
         "anchor": "x",
         "domain": [
          0,
          1
         ],
         "title": {
          "text": "y"
         }
        },
        "yaxis2": {
         "overlaying": "y",
         "side": "right",
         "title": {
          "text": "Change Point Density"
         }
        }
       }
      }
     },
     "metadata": {},
     "output_type": "display_data"
    }
   ],
   "source": [
    "params = {k : jnp.median(v).item() for (k, v) in mcmc.get_samples().items()}\n",
    "lam1 = partial(pcp_intensity, **params)\n",
    "samples = np.arange(0, 14, 14/1000)\n",
    "fig = px.line(x = samples, y = lam1(samples))\n",
    "fig.add_trace(go.Histogram(x=mcmc.get_samples()['change_point'], name='Change Points', histnorm='probability density', opacity=0.5, marker_color='red', yaxis=\"y2\"))\n",
    "fig.update_layout(\n",
    "    yaxis2=dict(\n",
    "        title=\"Change Point Density\",\n",
    "        overlaying=\"y\",\n",
    "        side=\"right\"\n",
    "    )\n",
    ")"
   ]
  },
  {
   "cell_type": "code",
   "execution_count": 25,
   "metadata": {},
   "outputs": [
    {
     "data": {
      "text/plain": [
       "array([ 300.26268433,  566.7518927 ,  219.08836548,   34.21017578,\n",
       "       -118.68215515,   86.32065979,  189.84020325,  133.19208801,\n",
       "       -207.45097961, -263.07167175, -310.65684998, -209.37236389,\n",
       "       -163.87263977, -106.61788086])"
      ]
     },
     "execution_count": 25,
     "metadata": {},
     "output_type": "execute_result"
    }
   ],
   "source": [
    "np.histogram(all_data, bins=14)[0] - rates"
   ]
  },
  {
   "cell_type": "code",
   "execution_count": 77,
   "metadata": {},
   "outputs": [],
   "source": [
    "classical = await get_scaled_article_bins(230, ddf, news_articles)"
   ]
  },
  {
   "cell_type": "code",
   "execution_count": 78,
   "metadata": {},
   "outputs": [
    {
     "data": {
      "application/vnd.plotly.v1+json": {
       "config": {
        "plotlyServerURL": "https://plot.ly"
       },
       "data": [
        {
         "hovertemplate": "date=%{x}<br>corrected_relevant=%{y}<extra></extra>",
         "legendgroup": "",
         "marker": {
          "color": "#636efa",
          "pattern": {
           "shape": ""
          }
         },
         "name": "",
         "orientation": "v",
         "showlegend": false,
         "textposition": "auto",
         "type": "bar",
         "x": [
          "2022-08-30T00:00:00.000000000",
          "2022-08-30T01:00:00.000000000",
          "2022-08-30T02:00:00.000000000",
          "2022-08-30T03:00:00.000000000",
          "2022-08-30T04:00:00.000000000",
          "2022-08-30T05:00:00.000000000",
          "2022-08-30T06:00:00.000000000",
          "2022-08-30T07:00:00.000000000",
          "2022-08-30T08:00:00.000000000",
          "2022-08-30T09:00:00.000000000",
          "2022-08-30T10:00:00.000000000",
          "2022-08-30T11:00:00.000000000",
          "2022-08-30T12:00:00.000000000",
          "2022-08-30T13:00:00.000000000",
          "2022-08-30T14:00:00.000000000",
          "2022-08-30T15:00:00.000000000",
          "2022-08-30T16:00:00.000000000",
          "2022-08-30T17:00:00.000000000",
          "2022-08-30T18:00:00.000000000",
          "2022-08-30T19:00:00.000000000",
          "2022-08-30T20:00:00.000000000",
          "2022-08-30T21:00:00.000000000",
          "2022-08-30T22:00:00.000000000",
          "2022-08-30T23:00:00.000000000",
          "2022-08-31T00:00:00.000000000",
          "2022-08-31T01:00:00.000000000",
          "2022-08-31T02:00:00.000000000",
          "2022-08-31T03:00:00.000000000",
          "2022-08-31T04:00:00.000000000",
          "2022-08-31T05:00:00.000000000",
          "2022-08-31T06:00:00.000000000",
          "2022-08-31T07:00:00.000000000",
          "2022-08-31T08:00:00.000000000",
          "2022-08-31T09:00:00.000000000",
          "2022-08-31T10:00:00.000000000",
          "2022-08-31T11:00:00.000000000",
          "2022-08-31T12:00:00.000000000",
          "2022-08-31T13:00:00.000000000",
          "2022-08-31T14:00:00.000000000",
          "2022-08-31T15:00:00.000000000",
          "2022-08-31T16:00:00.000000000",
          "2022-08-31T17:00:00.000000000",
          "2022-08-31T18:00:00.000000000",
          "2022-08-31T19:00:00.000000000",
          "2022-08-31T20:00:00.000000000",
          "2022-08-31T21:00:00.000000000",
          "2022-08-31T22:00:00.000000000",
          "2022-08-31T23:00:00.000000000",
          "2022-09-01T00:00:00.000000000",
          "2022-09-01T01:00:00.000000000",
          "2022-09-01T02:00:00.000000000",
          "2022-09-01T03:00:00.000000000",
          "2022-09-01T04:00:00.000000000",
          "2022-09-01T05:00:00.000000000",
          "2022-09-01T06:00:00.000000000",
          "2022-09-01T07:00:00.000000000",
          "2022-09-01T08:00:00.000000000",
          "2022-09-01T09:00:00.000000000",
          "2022-09-01T10:00:00.000000000",
          "2022-09-01T11:00:00.000000000",
          "2022-09-01T12:00:00.000000000",
          "2022-09-01T13:00:00.000000000",
          "2022-09-01T14:00:00.000000000",
          "2022-09-01T15:00:00.000000000",
          "2022-09-01T16:00:00.000000000",
          "2022-09-01T17:00:00.000000000",
          "2022-09-01T18:00:00.000000000",
          "2022-09-01T19:00:00.000000000",
          "2022-09-01T20:00:00.000000000",
          "2022-09-01T21:00:00.000000000",
          "2022-09-01T22:00:00.000000000",
          "2022-09-01T23:00:00.000000000",
          "2022-09-02T00:00:00.000000000",
          "2022-09-02T01:00:00.000000000",
          "2022-09-02T02:00:00.000000000",
          "2022-09-02T03:00:00.000000000",
          "2022-09-02T04:00:00.000000000",
          "2022-09-02T05:00:00.000000000",
          "2022-09-02T06:00:00.000000000",
          "2022-09-02T07:00:00.000000000",
          "2022-09-02T08:00:00.000000000",
          "2022-09-02T09:00:00.000000000",
          "2022-09-02T10:00:00.000000000",
          "2022-09-02T11:00:00.000000000",
          "2022-09-02T12:00:00.000000000",
          "2022-09-02T13:00:00.000000000",
          "2022-09-02T14:00:00.000000000",
          "2022-09-02T15:00:00.000000000",
          "2022-09-02T16:00:00.000000000",
          "2022-09-02T17:00:00.000000000",
          "2022-09-02T18:00:00.000000000",
          "2022-09-02T19:00:00.000000000",
          "2022-09-02T20:00:00.000000000",
          "2022-09-02T21:00:00.000000000",
          "2022-09-02T22:00:00.000000000",
          "2022-09-02T23:00:00.000000000",
          "2022-09-03T00:00:00.000000000",
          "2022-09-03T01:00:00.000000000",
          "2022-09-03T02:00:00.000000000",
          "2022-09-03T03:00:00.000000000",
          "2022-09-03T04:00:00.000000000",
          "2022-09-03T05:00:00.000000000",
          "2022-09-03T06:00:00.000000000",
          "2022-09-03T07:00:00.000000000",
          "2022-09-03T08:00:00.000000000",
          "2022-09-03T09:00:00.000000000",
          "2022-09-03T10:00:00.000000000",
          "2022-09-03T11:00:00.000000000",
          "2022-09-03T12:00:00.000000000",
          "2022-09-03T13:00:00.000000000",
          "2022-09-03T14:00:00.000000000",
          "2022-09-03T15:00:00.000000000",
          "2022-09-03T16:00:00.000000000",
          "2022-09-03T17:00:00.000000000",
          "2022-09-03T18:00:00.000000000",
          "2022-09-03T19:00:00.000000000",
          "2022-09-03T20:00:00.000000000",
          "2022-09-03T21:00:00.000000000",
          "2022-09-03T22:00:00.000000000",
          "2022-09-03T23:00:00.000000000",
          "2022-09-04T00:00:00.000000000",
          "2022-09-04T01:00:00.000000000",
          "2022-09-04T02:00:00.000000000",
          "2022-09-04T03:00:00.000000000",
          "2022-09-04T04:00:00.000000000",
          "2022-09-04T05:00:00.000000000",
          "2022-09-04T06:00:00.000000000",
          "2022-09-04T07:00:00.000000000",
          "2022-09-04T08:00:00.000000000",
          "2022-09-04T09:00:00.000000000",
          "2022-09-04T10:00:00.000000000",
          "2022-09-04T11:00:00.000000000",
          "2022-09-04T12:00:00.000000000",
          "2022-09-04T13:00:00.000000000",
          "2022-09-04T14:00:00.000000000",
          "2022-09-04T15:00:00.000000000",
          "2022-09-04T16:00:00.000000000",
          "2022-09-04T17:00:00.000000000",
          "2022-09-04T18:00:00.000000000",
          "2022-09-04T19:00:00.000000000",
          "2022-09-04T20:00:00.000000000",
          "2022-09-04T21:00:00.000000000",
          "2022-09-04T22:00:00.000000000",
          "2022-09-04T23:00:00.000000000",
          "2022-09-05T00:00:00.000000000",
          "2022-09-05T01:00:00.000000000",
          "2022-09-05T02:00:00.000000000",
          "2022-09-05T03:00:00.000000000",
          "2022-09-05T04:00:00.000000000",
          "2022-09-05T05:00:00.000000000",
          "2022-09-05T06:00:00.000000000",
          "2022-09-05T07:00:00.000000000",
          "2022-09-05T08:00:00.000000000",
          "2022-09-05T09:00:00.000000000",
          "2022-09-05T10:00:00.000000000",
          "2022-09-05T11:00:00.000000000",
          "2022-09-05T12:00:00.000000000",
          "2022-09-05T13:00:00.000000000",
          "2022-09-05T14:00:00.000000000",
          "2022-09-05T15:00:00.000000000",
          "2022-09-05T16:00:00.000000000",
          "2022-09-05T17:00:00.000000000",
          "2022-09-05T18:00:00.000000000",
          "2022-09-05T19:00:00.000000000",
          "2022-09-05T20:00:00.000000000",
          "2022-09-05T21:00:00.000000000",
          "2022-09-05T22:00:00.000000000",
          "2022-09-05T23:00:00.000000000"
         ],
         "xaxis": "x",
         "y": {
          "bdata": "DKoeEv/NMkBt2rRp00Y0QHJE4gWP9DdAlEMphg5vOEBuZGv/iOY7QOtWecjQWUNAs15X25O6OEBaaD1aaJ06QF5bzcHtEDVAlHhmKRXeOUCY3lvDZqM6QGzKxMyW6DpAXBIKg7FqK0DSN8sYT8g+QLJU8JnxI0FATrn+I3JOOEBKinVO1546QB7nX7RIxD1AKqY6AlWoPkB5nRVSAskyQNFp/F6CaDZAEdFAoii7OEAgkWWiJxM1QOJCzUkgVidADKoeEv/NMkCvGe+Z7/o2QHJE4gWP9DdAto/JtNUuPkAibWRr/xYzQDhypkoiXD1AIj86kmJ8QEDFPvvFPos3QOMq0CW/iz5ABVay7mSoPkCElCdT22Q9QJMn1t5nSD1AxqCNj0PCQkCkGOovR7Q7QAIHHHDAQTRA13HeG5ufPUCHJjSDLOdIQI3cAMG5KEBAVZSSvzxFQ0DATT7DAl02QAgQ8ihxiTFAXRPoYSLtNEDHt5hRhFA2QJqTQFyoKy1AQf9Xr8uQJkBQOQyy/VQ4QPzS9MgUIzVAv6JxgMeeL0DI6Gc1xH43QDt3mIz+rkJAXzk0I3peUUBsYTJsYRpKQHd/lm2h6UtAnNSW5PlNS0CKQ8Zeu4hAQLC+qjHdWEdAKYSaxKNVSkAs/kNbuO5FQEt94Up6pURAdfHOhfYgREB8ly5WgQhCQDGf2H2dj0NA1RZ9PGEnO0Dtu/cJg5lIQEbG2RvRMz5AqVWPIRwfMUB4ajLzytUzQD7rBlPkQDpAc8Yx8e0ONEAO+tGB4aA1QHJE4gWP9DdAto/JtNUuPkDh5RS8nG46QBk0YeM0WzlAT5WM4GZwPUB+Wid+Wpc5QGGQJK/OYjtABVay7mSoPkDSvPgTCV9CQERts7rFiDhA+UFDu48JQkDeaZhSOxY3QL3MvJAbmDZADXy+iifdPECwA5lKAuo+QIiuoo7ktUJAVesuaKqGSEBVRYEZAv9AQJa7jQDbgkJAXRPoYSLtNEB4ajLzytUzQFjG9jv69TJArKnK6WQWHkDTt4ASNr0tQEAafqpXuiNAegoxIzkfNED64sFCdV4tQHz4FJ21AzBA9uLZodudPkCiTBGiTJE4QN3AIUv95zFAY1BExrg+MUA4pXnxJxNAQM1Vf4RSaTFAXBIKg7FqK0BG2ideN4w1QMdEiYdFDCxAj/Y+vby/M0AgrRCHAZw0QH9S5ik60CdAqiNQhTDGNkDkpdL7Aic4QEK+YIcYbyVAXRPoYSLtJEBlUmUO90UrQD7rBlPkQCpApY0LMxCNIUArm3o5t5IxQLeLa+fRizZAizCBuhz/JkD64sFCdV49QHz4FJ21AzBAIj86kmJ8MEDpMOXpMIUmQGGQJK/OYitApTDHn969LEBjr11+pAsWQM1Vf4RSaTFA9c+eKxncHECvSrdpMwIkQHiSXbF27ihADXy+iifdLECb5Y3wqywxQH9S5ik60CdAAFxxorYFNUD20RwYAwwpQH1sz+W/VClAxY6Z4i6JLEB4ajLzytUjQCryWTeYgDFAc8Yx8e0OJECKe10hqTggQEAafqpXuiNAcfeIV0evMkDh5RS8nG4qQPr1G3xHWiVAcNrUFEzXMkCiTBGiTJE4QLhM7KgZfj1AY1BExrg+QUA8G/WdjY47QIUfhYrtMzJAkdlLiXoWN0B1+QhHP6A4QKBrcxxefTpAMBXfCWJ4QUDun1d/VzI9QIOARFwPQzVAVZSSvzxFI0Bi2tnBA2ouQAwYa70pTjpAEdFAoii7KEBu3ssA4Y03QFjG9jv69TJA",
          "dtype": "f8"
         },
         "yaxis": "y"
        }
       ],
       "layout": {
        "barmode": "relative",
        "legend": {
         "tracegroupgap": 0
        },
        "margin": {
         "t": 60
        },
        "template": {
         "data": {
          "bar": [
           {
            "error_x": {
             "color": "#2a3f5f"
            },
            "error_y": {
             "color": "#2a3f5f"
            },
            "marker": {
             "line": {
              "color": "#E5ECF6",
              "width": 0.5
             },
             "pattern": {
              "fillmode": "overlay",
              "size": 10,
              "solidity": 0.2
             }
            },
            "type": "bar"
           }
          ],
          "barpolar": [
           {
            "marker": {
             "line": {
              "color": "#E5ECF6",
              "width": 0.5
             },
             "pattern": {
              "fillmode": "overlay",
              "size": 10,
              "solidity": 0.2
             }
            },
            "type": "barpolar"
           }
          ],
          "carpet": [
           {
            "aaxis": {
             "endlinecolor": "#2a3f5f",
             "gridcolor": "white",
             "linecolor": "white",
             "minorgridcolor": "white",
             "startlinecolor": "#2a3f5f"
            },
            "baxis": {
             "endlinecolor": "#2a3f5f",
             "gridcolor": "white",
             "linecolor": "white",
             "minorgridcolor": "white",
             "startlinecolor": "#2a3f5f"
            },
            "type": "carpet"
           }
          ],
          "choropleth": [
           {
            "colorbar": {
             "outlinewidth": 0,
             "ticks": ""
            },
            "type": "choropleth"
           }
          ],
          "contour": [
           {
            "colorbar": {
             "outlinewidth": 0,
             "ticks": ""
            },
            "colorscale": [
             [
              0,
              "#0d0887"
             ],
             [
              0.1111111111111111,
              "#46039f"
             ],
             [
              0.2222222222222222,
              "#7201a8"
             ],
             [
              0.3333333333333333,
              "#9c179e"
             ],
             [
              0.4444444444444444,
              "#bd3786"
             ],
             [
              0.5555555555555556,
              "#d8576b"
             ],
             [
              0.6666666666666666,
              "#ed7953"
             ],
             [
              0.7777777777777778,
              "#fb9f3a"
             ],
             [
              0.8888888888888888,
              "#fdca26"
             ],
             [
              1,
              "#f0f921"
             ]
            ],
            "type": "contour"
           }
          ],
          "contourcarpet": [
           {
            "colorbar": {
             "outlinewidth": 0,
             "ticks": ""
            },
            "type": "contourcarpet"
           }
          ],
          "heatmap": [
           {
            "colorbar": {
             "outlinewidth": 0,
             "ticks": ""
            },
            "colorscale": [
             [
              0,
              "#0d0887"
             ],
             [
              0.1111111111111111,
              "#46039f"
             ],
             [
              0.2222222222222222,
              "#7201a8"
             ],
             [
              0.3333333333333333,
              "#9c179e"
             ],
             [
              0.4444444444444444,
              "#bd3786"
             ],
             [
              0.5555555555555556,
              "#d8576b"
             ],
             [
              0.6666666666666666,
              "#ed7953"
             ],
             [
              0.7777777777777778,
              "#fb9f3a"
             ],
             [
              0.8888888888888888,
              "#fdca26"
             ],
             [
              1,
              "#f0f921"
             ]
            ],
            "type": "heatmap"
           }
          ],
          "histogram": [
           {
            "marker": {
             "pattern": {
              "fillmode": "overlay",
              "size": 10,
              "solidity": 0.2
             }
            },
            "type": "histogram"
           }
          ],
          "histogram2d": [
           {
            "colorbar": {
             "outlinewidth": 0,
             "ticks": ""
            },
            "colorscale": [
             [
              0,
              "#0d0887"
             ],
             [
              0.1111111111111111,
              "#46039f"
             ],
             [
              0.2222222222222222,
              "#7201a8"
             ],
             [
              0.3333333333333333,
              "#9c179e"
             ],
             [
              0.4444444444444444,
              "#bd3786"
             ],
             [
              0.5555555555555556,
              "#d8576b"
             ],
             [
              0.6666666666666666,
              "#ed7953"
             ],
             [
              0.7777777777777778,
              "#fb9f3a"
             ],
             [
              0.8888888888888888,
              "#fdca26"
             ],
             [
              1,
              "#f0f921"
             ]
            ],
            "type": "histogram2d"
           }
          ],
          "histogram2dcontour": [
           {
            "colorbar": {
             "outlinewidth": 0,
             "ticks": ""
            },
            "colorscale": [
             [
              0,
              "#0d0887"
             ],
             [
              0.1111111111111111,
              "#46039f"
             ],
             [
              0.2222222222222222,
              "#7201a8"
             ],
             [
              0.3333333333333333,
              "#9c179e"
             ],
             [
              0.4444444444444444,
              "#bd3786"
             ],
             [
              0.5555555555555556,
              "#d8576b"
             ],
             [
              0.6666666666666666,
              "#ed7953"
             ],
             [
              0.7777777777777778,
              "#fb9f3a"
             ],
             [
              0.8888888888888888,
              "#fdca26"
             ],
             [
              1,
              "#f0f921"
             ]
            ],
            "type": "histogram2dcontour"
           }
          ],
          "mesh3d": [
           {
            "colorbar": {
             "outlinewidth": 0,
             "ticks": ""
            },
            "type": "mesh3d"
           }
          ],
          "parcoords": [
           {
            "line": {
             "colorbar": {
              "outlinewidth": 0,
              "ticks": ""
             }
            },
            "type": "parcoords"
           }
          ],
          "pie": [
           {
            "automargin": true,
            "type": "pie"
           }
          ],
          "scatter": [
           {
            "fillpattern": {
             "fillmode": "overlay",
             "size": 10,
             "solidity": 0.2
            },
            "type": "scatter"
           }
          ],
          "scatter3d": [
           {
            "line": {
             "colorbar": {
              "outlinewidth": 0,
              "ticks": ""
             }
            },
            "marker": {
             "colorbar": {
              "outlinewidth": 0,
              "ticks": ""
             }
            },
            "type": "scatter3d"
           }
          ],
          "scattercarpet": [
           {
            "marker": {
             "colorbar": {
              "outlinewidth": 0,
              "ticks": ""
             }
            },
            "type": "scattercarpet"
           }
          ],
          "scattergeo": [
           {
            "marker": {
             "colorbar": {
              "outlinewidth": 0,
              "ticks": ""
             }
            },
            "type": "scattergeo"
           }
          ],
          "scattergl": [
           {
            "marker": {
             "colorbar": {
              "outlinewidth": 0,
              "ticks": ""
             }
            },
            "type": "scattergl"
           }
          ],
          "scattermap": [
           {
            "marker": {
             "colorbar": {
              "outlinewidth": 0,
              "ticks": ""
             }
            },
            "type": "scattermap"
           }
          ],
          "scattermapbox": [
           {
            "marker": {
             "colorbar": {
              "outlinewidth": 0,
              "ticks": ""
             }
            },
            "type": "scattermapbox"
           }
          ],
          "scatterpolar": [
           {
            "marker": {
             "colorbar": {
              "outlinewidth": 0,
              "ticks": ""
             }
            },
            "type": "scatterpolar"
           }
          ],
          "scatterpolargl": [
           {
            "marker": {
             "colorbar": {
              "outlinewidth": 0,
              "ticks": ""
             }
            },
            "type": "scatterpolargl"
           }
          ],
          "scatterternary": [
           {
            "marker": {
             "colorbar": {
              "outlinewidth": 0,
              "ticks": ""
             }
            },
            "type": "scatterternary"
           }
          ],
          "surface": [
           {
            "colorbar": {
             "outlinewidth": 0,
             "ticks": ""
            },
            "colorscale": [
             [
              0,
              "#0d0887"
             ],
             [
              0.1111111111111111,
              "#46039f"
             ],
             [
              0.2222222222222222,
              "#7201a8"
             ],
             [
              0.3333333333333333,
              "#9c179e"
             ],
             [
              0.4444444444444444,
              "#bd3786"
             ],
             [
              0.5555555555555556,
              "#d8576b"
             ],
             [
              0.6666666666666666,
              "#ed7953"
             ],
             [
              0.7777777777777778,
              "#fb9f3a"
             ],
             [
              0.8888888888888888,
              "#fdca26"
             ],
             [
              1,
              "#f0f921"
             ]
            ],
            "type": "surface"
           }
          ],
          "table": [
           {
            "cells": {
             "fill": {
              "color": "#EBF0F8"
             },
             "line": {
              "color": "white"
             }
            },
            "header": {
             "fill": {
              "color": "#C8D4E3"
             },
             "line": {
              "color": "white"
             }
            },
            "type": "table"
           }
          ]
         },
         "layout": {
          "annotationdefaults": {
           "arrowcolor": "#2a3f5f",
           "arrowhead": 0,
           "arrowwidth": 1
          },
          "autotypenumbers": "strict",
          "coloraxis": {
           "colorbar": {
            "outlinewidth": 0,
            "ticks": ""
           }
          },
          "colorscale": {
           "diverging": [
            [
             0,
             "#8e0152"
            ],
            [
             0.1,
             "#c51b7d"
            ],
            [
             0.2,
             "#de77ae"
            ],
            [
             0.3,
             "#f1b6da"
            ],
            [
             0.4,
             "#fde0ef"
            ],
            [
             0.5,
             "#f7f7f7"
            ],
            [
             0.6,
             "#e6f5d0"
            ],
            [
             0.7,
             "#b8e186"
            ],
            [
             0.8,
             "#7fbc41"
            ],
            [
             0.9,
             "#4d9221"
            ],
            [
             1,
             "#276419"
            ]
           ],
           "sequential": [
            [
             0,
             "#0d0887"
            ],
            [
             0.1111111111111111,
             "#46039f"
            ],
            [
             0.2222222222222222,
             "#7201a8"
            ],
            [
             0.3333333333333333,
             "#9c179e"
            ],
            [
             0.4444444444444444,
             "#bd3786"
            ],
            [
             0.5555555555555556,
             "#d8576b"
            ],
            [
             0.6666666666666666,
             "#ed7953"
            ],
            [
             0.7777777777777778,
             "#fb9f3a"
            ],
            [
             0.8888888888888888,
             "#fdca26"
            ],
            [
             1,
             "#f0f921"
            ]
           ],
           "sequentialminus": [
            [
             0,
             "#0d0887"
            ],
            [
             0.1111111111111111,
             "#46039f"
            ],
            [
             0.2222222222222222,
             "#7201a8"
            ],
            [
             0.3333333333333333,
             "#9c179e"
            ],
            [
             0.4444444444444444,
             "#bd3786"
            ],
            [
             0.5555555555555556,
             "#d8576b"
            ],
            [
             0.6666666666666666,
             "#ed7953"
            ],
            [
             0.7777777777777778,
             "#fb9f3a"
            ],
            [
             0.8888888888888888,
             "#fdca26"
            ],
            [
             1,
             "#f0f921"
            ]
           ]
          },
          "colorway": [
           "#636efa",
           "#EF553B",
           "#00cc96",
           "#ab63fa",
           "#FFA15A",
           "#19d3f3",
           "#FF6692",
           "#B6E880",
           "#FF97FF",
           "#FECB52"
          ],
          "font": {
           "color": "#2a3f5f"
          },
          "geo": {
           "bgcolor": "white",
           "lakecolor": "white",
           "landcolor": "#E5ECF6",
           "showlakes": true,
           "showland": true,
           "subunitcolor": "white"
          },
          "hoverlabel": {
           "align": "left"
          },
          "hovermode": "closest",
          "mapbox": {
           "style": "light"
          },
          "paper_bgcolor": "white",
          "plot_bgcolor": "#E5ECF6",
          "polar": {
           "angularaxis": {
            "gridcolor": "white",
            "linecolor": "white",
            "ticks": ""
           },
           "bgcolor": "#E5ECF6",
           "radialaxis": {
            "gridcolor": "white",
            "linecolor": "white",
            "ticks": ""
           }
          },
          "scene": {
           "xaxis": {
            "backgroundcolor": "#E5ECF6",
            "gridcolor": "white",
            "gridwidth": 2,
            "linecolor": "white",
            "showbackground": true,
            "ticks": "",
            "zerolinecolor": "white"
           },
           "yaxis": {
            "backgroundcolor": "#E5ECF6",
            "gridcolor": "white",
            "gridwidth": 2,
            "linecolor": "white",
            "showbackground": true,
            "ticks": "",
            "zerolinecolor": "white"
           },
           "zaxis": {
            "backgroundcolor": "#E5ECF6",
            "gridcolor": "white",
            "gridwidth": 2,
            "linecolor": "white",
            "showbackground": true,
            "ticks": "",
            "zerolinecolor": "white"
           }
          },
          "shapedefaults": {
           "line": {
            "color": "#2a3f5f"
           }
          },
          "ternary": {
           "aaxis": {
            "gridcolor": "white",
            "linecolor": "white",
            "ticks": ""
           },
           "baxis": {
            "gridcolor": "white",
            "linecolor": "white",
            "ticks": ""
           },
           "bgcolor": "#E5ECF6",
           "caxis": {
            "gridcolor": "white",
            "linecolor": "white",
            "ticks": ""
           }
          },
          "title": {
           "x": 0.05
          },
          "xaxis": {
           "automargin": true,
           "gridcolor": "white",
           "linecolor": "white",
           "ticks": "",
           "title": {
            "standoff": 15
           },
           "zerolinecolor": "white",
           "zerolinewidth": 2
          },
          "yaxis": {
           "automargin": true,
           "gridcolor": "white",
           "linecolor": "white",
           "ticks": "",
           "title": {
            "standoff": 15
           },
           "zerolinecolor": "white",
           "zerolinewidth": 2
          }
         }
        },
        "xaxis": {
         "anchor": "y",
         "domain": [
          0,
          1
         ],
         "title": {
          "text": "date"
         }
        },
        "yaxis": {
         "anchor": "x",
         "domain": [
          0,
          1
         ],
         "title": {
          "text": "corrected_relevant"
         }
        }
       }
      }
     },
     "metadata": {},
     "output_type": "display_data"
    }
   ],
   "source": [
    "px.bar(classical, x = classical.index, y = 'corrected_relevant')"
   ]
  },
  {
   "cell_type": "code",
   "execution_count": 30,
   "metadata": {},
   "outputs": [
    {
     "data": {
      "text/plain": [
       "Array(1.6351753, dtype=float32)"
      ]
     },
     "execution_count": 30,
     "metadata": {},
     "output_type": "execute_result"
    }
   ],
   "source": [
    "mcmc.get_samples()['change_point'].std()"
   ]
  },
  {
   "cell_type": "code",
   "execution_count": 41,
   "metadata": {},
   "outputs": [
    {
     "data": {
      "text/plain": [
       "np.float64(1184.142857142857)"
      ]
     },
     "execution_count": 41,
     "metadata": {},
     "output_type": "execute_result"
    }
   ],
   "source": [
    "# bin all data into 14 * 24 bins as a numpy array\n",
    "# all_data_binned = np.histogram(all_data, bins=14)[0]\n",
    "# np.mean(all_data_binned)"
   ]
  },
  {
   "cell_type": "code",
   "execution_count": 31,
   "metadata": {},
   "outputs": [
    {
     "data": {
      "application/vnd.plotly.v1+json": {
       "config": {
        "plotlyServerURL": "https://plot.ly"
       },
       "data": [
        {
         "bingroup": "x",
         "hovertemplate": "x=%{x}<br>count=%{y}<extra></extra>",
         "legendgroup": "",
         "marker": {
          "color": "#636efa",
          "pattern": {
           "shape": ""
          }
         },
         "name": "",
         "nbinsx": 30,
         "orientation": "v",
         "showlegend": false,
         "type": "histogram",
         "x": {
          "bdata": "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",
          "dtype": "f4"
         },
         "xaxis": "x",
         "yaxis": "y"
        }
       ],
       "layout": {
        "barmode": "relative",
        "legend": {
         "tracegroupgap": 0
        },
        "margin": {
         "t": 60
        },
        "template": {
         "data": {
          "bar": [
           {
            "error_x": {
             "color": "#2a3f5f"
            },
            "error_y": {
             "color": "#2a3f5f"
            },
            "marker": {
             "line": {
              "color": "#E5ECF6",
              "width": 0.5
             },
             "pattern": {
              "fillmode": "overlay",
              "size": 10,
              "solidity": 0.2
             }
            },
            "type": "bar"
           }
          ],
          "barpolar": [
           {
            "marker": {
             "line": {
              "color": "#E5ECF6",
              "width": 0.5
             },
             "pattern": {
              "fillmode": "overlay",
              "size": 10,
              "solidity": 0.2
             }
            },
            "type": "barpolar"
           }
          ],
          "carpet": [
           {
            "aaxis": {
             "endlinecolor": "#2a3f5f",
             "gridcolor": "white",
             "linecolor": "white",
             "minorgridcolor": "white",
             "startlinecolor": "#2a3f5f"
            },
            "baxis": {
             "endlinecolor": "#2a3f5f",
             "gridcolor": "white",
             "linecolor": "white",
             "minorgridcolor": "white",
             "startlinecolor": "#2a3f5f"
            },
            "type": "carpet"
           }
          ],
          "choropleth": [
           {
            "colorbar": {
             "outlinewidth": 0,
             "ticks": ""
            },
            "type": "choropleth"
           }
          ],
          "contour": [
           {
            "colorbar": {
             "outlinewidth": 0,
             "ticks": ""
            },
            "colorscale": [
             [
              0,
              "#0d0887"
             ],
             [
              0.1111111111111111,
              "#46039f"
             ],
             [
              0.2222222222222222,
              "#7201a8"
             ],
             [
              0.3333333333333333,
              "#9c179e"
             ],
             [
              0.4444444444444444,
              "#bd3786"
             ],
             [
              0.5555555555555556,
              "#d8576b"
             ],
             [
              0.6666666666666666,
              "#ed7953"
             ],
             [
              0.7777777777777778,
              "#fb9f3a"
             ],
             [
              0.8888888888888888,
              "#fdca26"
             ],
             [
              1,
              "#f0f921"
             ]
            ],
            "type": "contour"
           }
          ],
          "contourcarpet": [
           {
            "colorbar": {
             "outlinewidth": 0,
             "ticks": ""
            },
            "type": "contourcarpet"
           }
          ],
          "heatmap": [
           {
            "colorbar": {
             "outlinewidth": 0,
             "ticks": ""
            },
            "colorscale": [
             [
              0,
              "#0d0887"
             ],
             [
              0.1111111111111111,
              "#46039f"
             ],
             [
              0.2222222222222222,
              "#7201a8"
             ],
             [
              0.3333333333333333,
              "#9c179e"
             ],
             [
              0.4444444444444444,
              "#bd3786"
             ],
             [
              0.5555555555555556,
              "#d8576b"
             ],
             [
              0.6666666666666666,
              "#ed7953"
             ],
             [
              0.7777777777777778,
              "#fb9f3a"
             ],
             [
              0.8888888888888888,
              "#fdca26"
             ],
             [
              1,
              "#f0f921"
             ]
            ],
            "type": "heatmap"
           }
          ],
          "histogram": [
           {
            "marker": {
             "pattern": {
              "fillmode": "overlay",
              "size": 10,
              "solidity": 0.2
             }
            },
            "type": "histogram"
           }
          ],
          "histogram2d": [
           {
            "colorbar": {
             "outlinewidth": 0,
             "ticks": ""
            },
            "colorscale": [
             [
              0,
              "#0d0887"
             ],
             [
              0.1111111111111111,
              "#46039f"
             ],
             [
              0.2222222222222222,
              "#7201a8"
             ],
             [
              0.3333333333333333,
              "#9c179e"
             ],
             [
              0.4444444444444444,
              "#bd3786"
             ],
             [
              0.5555555555555556,
              "#d8576b"
             ],
             [
              0.6666666666666666,
              "#ed7953"
             ],
             [
              0.7777777777777778,
              "#fb9f3a"
             ],
             [
              0.8888888888888888,
              "#fdca26"
             ],
             [
              1,
              "#f0f921"
             ]
            ],
            "type": "histogram2d"
           }
          ],
          "histogram2dcontour": [
           {
            "colorbar": {
             "outlinewidth": 0,
             "ticks": ""
            },
            "colorscale": [
             [
              0,
              "#0d0887"
             ],
             [
              0.1111111111111111,
              "#46039f"
             ],
             [
              0.2222222222222222,
              "#7201a8"
             ],
             [
              0.3333333333333333,
              "#9c179e"
             ],
             [
              0.4444444444444444,
              "#bd3786"
             ],
             [
              0.5555555555555556,
              "#d8576b"
             ],
             [
              0.6666666666666666,
              "#ed7953"
             ],
             [
              0.7777777777777778,
              "#fb9f3a"
             ],
             [
              0.8888888888888888,
              "#fdca26"
             ],
             [
              1,
              "#f0f921"
             ]
            ],
            "type": "histogram2dcontour"
           }
          ],
          "mesh3d": [
           {
            "colorbar": {
             "outlinewidth": 0,
             "ticks": ""
            },
            "type": "mesh3d"
           }
          ],
          "parcoords": [
           {
            "line": {
             "colorbar": {
              "outlinewidth": 0,
              "ticks": ""
             }
            },
            "type": "parcoords"
           }
          ],
          "pie": [
           {
            "automargin": true,
            "type": "pie"
           }
          ],
          "scatter": [
           {
            "fillpattern": {
             "fillmode": "overlay",
             "size": 10,
             "solidity": 0.2
            },
            "type": "scatter"
           }
          ],
          "scatter3d": [
           {
            "line": {
             "colorbar": {
              "outlinewidth": 0,
              "ticks": ""
             }
            },
            "marker": {
             "colorbar": {
              "outlinewidth": 0,
              "ticks": ""
             }
            },
            "type": "scatter3d"
           }
          ],
          "scattercarpet": [
           {
            "marker": {
             "colorbar": {
              "outlinewidth": 0,
              "ticks": ""
             }
            },
            "type": "scattercarpet"
           }
          ],
          "scattergeo": [
           {
            "marker": {
             "colorbar": {
              "outlinewidth": 0,
              "ticks": ""
             }
            },
            "type": "scattergeo"
           }
          ],
          "scattergl": [
           {
            "marker": {
             "colorbar": {
              "outlinewidth": 0,
              "ticks": ""
             }
            },
            "type": "scattergl"
           }
          ],
          "scattermap": [
           {
            "marker": {
             "colorbar": {
              "outlinewidth": 0,
              "ticks": ""
             }
            },
            "type": "scattermap"
           }
          ],
          "scattermapbox": [
           {
            "marker": {
             "colorbar": {
              "outlinewidth": 0,
              "ticks": ""
             }
            },
            "type": "scattermapbox"
           }
          ],
          "scatterpolar": [
           {
            "marker": {
             "colorbar": {
              "outlinewidth": 0,
              "ticks": ""
             }
            },
            "type": "scatterpolar"
           }
          ],
          "scatterpolargl": [
           {
            "marker": {
             "colorbar": {
              "outlinewidth": 0,
              "ticks": ""
             }
            },
            "type": "scatterpolargl"
           }
          ],
          "scatterternary": [
           {
            "marker": {
             "colorbar": {
              "outlinewidth": 0,
              "ticks": ""
             }
            },
            "type": "scatterternary"
           }
          ],
          "surface": [
           {
            "colorbar": {
             "outlinewidth": 0,
             "ticks": ""
            },
            "colorscale": [
             [
              0,
              "#0d0887"
             ],
             [
              0.1111111111111111,
              "#46039f"
             ],
             [
              0.2222222222222222,
              "#7201a8"
             ],
             [
              0.3333333333333333,
              "#9c179e"
             ],
             [
              0.4444444444444444,
              "#bd3786"
             ],
             [
              0.5555555555555556,
              "#d8576b"
             ],
             [
              0.6666666666666666,
              "#ed7953"
             ],
             [
              0.7777777777777778,
              "#fb9f3a"
             ],
             [
              0.8888888888888888,
              "#fdca26"
             ],
             [
              1,
              "#f0f921"
             ]
            ],
            "type": "surface"
           }
          ],
          "table": [
           {
            "cells": {
             "fill": {
              "color": "#EBF0F8"
             },
             "line": {
              "color": "white"
             }
            },
            "header": {
             "fill": {
              "color": "#C8D4E3"
             },
             "line": {
              "color": "white"
             }
            },
            "type": "table"
           }
          ]
         },
         "layout": {
          "annotationdefaults": {
           "arrowcolor": "#2a3f5f",
           "arrowhead": 0,
           "arrowwidth": 1
          },
          "autotypenumbers": "strict",
          "coloraxis": {
           "colorbar": {
            "outlinewidth": 0,
            "ticks": ""
           }
          },
          "colorscale": {
           "diverging": [
            [
             0,
             "#8e0152"
            ],
            [
             0.1,
             "#c51b7d"
            ],
            [
             0.2,
             "#de77ae"
            ],
            [
             0.3,
             "#f1b6da"
            ],
            [
             0.4,
             "#fde0ef"
            ],
            [
             0.5,
             "#f7f7f7"
            ],
            [
             0.6,
             "#e6f5d0"
            ],
            [
             0.7,
             "#b8e186"
            ],
            [
             0.8,
             "#7fbc41"
            ],
            [
             0.9,
             "#4d9221"
            ],
            [
             1,
             "#276419"
            ]
           ],
           "sequential": [
            [
             0,
             "#0d0887"
            ],
            [
             0.1111111111111111,
             "#46039f"
            ],
            [
             0.2222222222222222,
             "#7201a8"
            ],
            [
             0.3333333333333333,
             "#9c179e"
            ],
            [
             0.4444444444444444,
             "#bd3786"
            ],
            [
             0.5555555555555556,
             "#d8576b"
            ],
            [
             0.6666666666666666,
             "#ed7953"
            ],
            [
             0.7777777777777778,
             "#fb9f3a"
            ],
            [
             0.8888888888888888,
             "#fdca26"
            ],
            [
             1,
             "#f0f921"
            ]
           ],
           "sequentialminus": [
            [
             0,
             "#0d0887"
            ],
            [
             0.1111111111111111,
             "#46039f"
            ],
            [
             0.2222222222222222,
             "#7201a8"
            ],
            [
             0.3333333333333333,
             "#9c179e"
            ],
            [
             0.4444444444444444,
             "#bd3786"
            ],
            [
             0.5555555555555556,
             "#d8576b"
            ],
            [
             0.6666666666666666,
             "#ed7953"
            ],
            [
             0.7777777777777778,
             "#fb9f3a"
            ],
            [
             0.8888888888888888,
             "#fdca26"
            ],
            [
             1,
             "#f0f921"
            ]
           ]
          },
          "colorway": [
           "#636efa",
           "#EF553B",
           "#00cc96",
           "#ab63fa",
           "#FFA15A",
           "#19d3f3",
           "#FF6692",
           "#B6E880",
           "#FF97FF",
           "#FECB52"
          ],
          "font": {
           "color": "#2a3f5f"
          },
          "geo": {
           "bgcolor": "white",
           "lakecolor": "white",
           "landcolor": "#E5ECF6",
           "showlakes": true,
           "showland": true,
           "subunitcolor": "white"
          },
          "hoverlabel": {
           "align": "left"
          },
          "hovermode": "closest",
          "mapbox": {
           "style": "light"
          },
          "paper_bgcolor": "white",
          "plot_bgcolor": "#E5ECF6",
          "polar": {
           "angularaxis": {
            "gridcolor": "white",
            "linecolor": "white",
            "ticks": ""
           },
           "bgcolor": "#E5ECF6",
           "radialaxis": {
            "gridcolor": "white",
            "linecolor": "white",
            "ticks": ""
           }
          },
          "scene": {
           "xaxis": {
            "backgroundcolor": "#E5ECF6",
            "gridcolor": "white",
            "gridwidth": 2,
            "linecolor": "white",
            "showbackground": true,
            "ticks": "",
            "zerolinecolor": "white"
           },
           "yaxis": {
            "backgroundcolor": "#E5ECF6",
            "gridcolor": "white",
            "gridwidth": 2,
            "linecolor": "white",
            "showbackground": true,
            "ticks": "",
            "zerolinecolor": "white"
           },
           "zaxis": {
            "backgroundcolor": "#E5ECF6",
            "gridcolor": "white",
            "gridwidth": 2,
            "linecolor": "white",
            "showbackground": true,
            "ticks": "",
            "zerolinecolor": "white"
           }
          },
          "shapedefaults": {
           "line": {
            "color": "#2a3f5f"
           }
          },
          "ternary": {
           "aaxis": {
            "gridcolor": "white",
            "linecolor": "white",
            "ticks": ""
           },
           "baxis": {
            "gridcolor": "white",
            "linecolor": "white",
            "ticks": ""
           },
           "bgcolor": "#E5ECF6",
           "caxis": {
            "gridcolor": "white",
            "linecolor": "white",
            "ticks": ""
           }
          },
          "title": {
           "x": 0.05
          },
          "xaxis": {
           "automargin": true,
           "gridcolor": "white",
           "linecolor": "white",
           "ticks": "",
           "title": {
            "standoff": 15
           },
           "zerolinecolor": "white",
           "zerolinewidth": 2
          },
          "yaxis": {
           "automargin": true,
           "gridcolor": "white",
           "linecolor": "white",
           "ticks": "",
           "title": {
            "standoff": 15
           },
           "zerolinecolor": "white",
           "zerolinewidth": 2
          }
         }
        },
        "xaxis": {
         "anchor": "y",
         "domain": [
          0,
          1
         ],
         "title": {
          "text": "x"
         }
        },
        "yaxis": {
         "anchor": "x",
         "domain": [
          0,
          1
         ],
         "title": {
          "text": "count"
         }
        }
       }
      }
     },
     "metadata": {},
     "output_type": "display_data"
    }
   ],
   "source": [
    "px.histogram(x = data, nbins = 30)"
   ]
  },
  {
   "cell_type": "code",
   "execution_count": 31,
   "metadata": {},
   "outputs": [
    {
     "data": {
      "application/vnd.plotly.v1+json": {
       "config": {
        "plotlyServerURL": "https://plot.ly"
       },
       "data": [
        {
         "bingroup": "x",
         "hovertemplate": "x=%{x}<br>count=%{y}<extra></extra>",
         "legendgroup": "",
         "marker": {
          "color": "#636efa",
          "pattern": {
           "shape": ""
          }
         },
         "name": "",
         "nbinsx": 100,
         "orientation": "v",
         "showlegend": false,
         "type": "histogram",
         "x": {
          "bdata": "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",
          "dtype": "f4"
         },
         "xaxis": "x",
         "yaxis": "y"
        }
       ],
       "layout": {
        "barmode": "relative",
        "legend": {
         "tracegroupgap": 0
        },
        "margin": {
         "t": 60
        },
        "template": {
         "data": {
          "bar": [
           {
            "error_x": {
             "color": "#2a3f5f"
            },
            "error_y": {
             "color": "#2a3f5f"
            },
            "marker": {
             "line": {
              "color": "#E5ECF6",
              "width": 0.5
             },
             "pattern": {
              "fillmode": "overlay",
              "size": 10,
              "solidity": 0.2
             }
            },
            "type": "bar"
           }
          ],
          "barpolar": [
           {
            "marker": {
             "line": {
              "color": "#E5ECF6",
              "width": 0.5
             },
             "pattern": {
              "fillmode": "overlay",
              "size": 10,
              "solidity": 0.2
             }
            },
            "type": "barpolar"
           }
          ],
          "carpet": [
           {
            "aaxis": {
             "endlinecolor": "#2a3f5f",
             "gridcolor": "white",
             "linecolor": "white",
             "minorgridcolor": "white",
             "startlinecolor": "#2a3f5f"
            },
            "baxis": {
             "endlinecolor": "#2a3f5f",
             "gridcolor": "white",
             "linecolor": "white",
             "minorgridcolor": "white",
             "startlinecolor": "#2a3f5f"
            },
            "type": "carpet"
           }
          ],
          "choropleth": [
           {
            "colorbar": {
             "outlinewidth": 0,
             "ticks": ""
            },
            "type": "choropleth"
           }
          ],
          "contour": [
           {
            "colorbar": {
             "outlinewidth": 0,
             "ticks": ""
            },
            "colorscale": [
             [
              0,
              "#0d0887"
             ],
             [
              0.1111111111111111,
              "#46039f"
             ],
             [
              0.2222222222222222,
              "#7201a8"
             ],
             [
              0.3333333333333333,
              "#9c179e"
             ],
             [
              0.4444444444444444,
              "#bd3786"
             ],
             [
              0.5555555555555556,
              "#d8576b"
             ],
             [
              0.6666666666666666,
              "#ed7953"
             ],
             [
              0.7777777777777778,
              "#fb9f3a"
             ],
             [
              0.8888888888888888,
              "#fdca26"
             ],
             [
              1,
              "#f0f921"
             ]
            ],
            "type": "contour"
           }
          ],
          "contourcarpet": [
           {
            "colorbar": {
             "outlinewidth": 0,
             "ticks": ""
            },
            "type": "contourcarpet"
           }
          ],
          "heatmap": [
           {
            "colorbar": {
             "outlinewidth": 0,
             "ticks": ""
            },
            "colorscale": [
             [
              0,
              "#0d0887"
             ],
             [
              0.1111111111111111,
              "#46039f"
             ],
             [
              0.2222222222222222,
              "#7201a8"
             ],
             [
              0.3333333333333333,
              "#9c179e"
             ],
             [
              0.4444444444444444,
              "#bd3786"
             ],
             [
              0.5555555555555556,
              "#d8576b"
             ],
             [
              0.6666666666666666,
              "#ed7953"
             ],
             [
              0.7777777777777778,
              "#fb9f3a"
             ],
             [
              0.8888888888888888,
              "#fdca26"
             ],
             [
              1,
              "#f0f921"
             ]
            ],
            "type": "heatmap"
           }
          ],
          "histogram": [
           {
            "marker": {
             "pattern": {
              "fillmode": "overlay",
              "size": 10,
              "solidity": 0.2
             }
            },
            "type": "histogram"
           }
          ],
          "histogram2d": [
           {
            "colorbar": {
             "outlinewidth": 0,
             "ticks": ""
            },
            "colorscale": [
             [
              0,
              "#0d0887"
             ],
             [
              0.1111111111111111,
              "#46039f"
             ],
             [
              0.2222222222222222,
              "#7201a8"
             ],
             [
              0.3333333333333333,
              "#9c179e"
             ],
             [
              0.4444444444444444,
              "#bd3786"
             ],
             [
              0.5555555555555556,
              "#d8576b"
             ],
             [
              0.6666666666666666,
              "#ed7953"
             ],
             [
              0.7777777777777778,
              "#fb9f3a"
             ],
             [
              0.8888888888888888,
              "#fdca26"
             ],
             [
              1,
              "#f0f921"
             ]
            ],
            "type": "histogram2d"
           }
          ],
          "histogram2dcontour": [
           {
            "colorbar": {
             "outlinewidth": 0,
             "ticks": ""
            },
            "colorscale": [
             [
              0,
              "#0d0887"
             ],
             [
              0.1111111111111111,
              "#46039f"
             ],
             [
              0.2222222222222222,
              "#7201a8"
             ],
             [
              0.3333333333333333,
              "#9c179e"
             ],
             [
              0.4444444444444444,
              "#bd3786"
             ],
             [
              0.5555555555555556,
              "#d8576b"
             ],
             [
              0.6666666666666666,
              "#ed7953"
             ],
             [
              0.7777777777777778,
              "#fb9f3a"
             ],
             [
              0.8888888888888888,
              "#fdca26"
             ],
             [
              1,
              "#f0f921"
             ]
            ],
            "type": "histogram2dcontour"
           }
          ],
          "mesh3d": [
           {
            "colorbar": {
             "outlinewidth": 0,
             "ticks": ""
            },
            "type": "mesh3d"
           }
          ],
          "parcoords": [
           {
            "line": {
             "colorbar": {
              "outlinewidth": 0,
              "ticks": ""
             }
            },
            "type": "parcoords"
           }
          ],
          "pie": [
           {
            "automargin": true,
            "type": "pie"
           }
          ],
          "scatter": [
           {
            "fillpattern": {
             "fillmode": "overlay",
             "size": 10,
             "solidity": 0.2
            },
            "type": "scatter"
           }
          ],
          "scatter3d": [
           {
            "line": {
             "colorbar": {
              "outlinewidth": 0,
              "ticks": ""
             }
            },
            "marker": {
             "colorbar": {
              "outlinewidth": 0,
              "ticks": ""
             }
            },
            "type": "scatter3d"
           }
          ],
          "scattercarpet": [
           {
            "marker": {
             "colorbar": {
              "outlinewidth": 0,
              "ticks": ""
             }
            },
            "type": "scattercarpet"
           }
          ],
          "scattergeo": [
           {
            "marker": {
             "colorbar": {
              "outlinewidth": 0,
              "ticks": ""
             }
            },
            "type": "scattergeo"
           }
          ],
          "scattergl": [
           {
            "marker": {
             "colorbar": {
              "outlinewidth": 0,
              "ticks": ""
             }
            },
            "type": "scattergl"
           }
          ],
          "scattermap": [
           {
            "marker": {
             "colorbar": {
              "outlinewidth": 0,
              "ticks": ""
             }
            },
            "type": "scattermap"
           }
          ],
          "scattermapbox": [
           {
            "marker": {
             "colorbar": {
              "outlinewidth": 0,
              "ticks": ""
             }
            },
            "type": "scattermapbox"
           }
          ],
          "scatterpolar": [
           {
            "marker": {
             "colorbar": {
              "outlinewidth": 0,
              "ticks": ""
             }
            },
            "type": "scatterpolar"
           }
          ],
          "scatterpolargl": [
           {
            "marker": {
             "colorbar": {
              "outlinewidth": 0,
              "ticks": ""
             }
            },
            "type": "scatterpolargl"
           }
          ],
          "scatterternary": [
           {
            "marker": {
             "colorbar": {
              "outlinewidth": 0,
              "ticks": ""
             }
            },
            "type": "scatterternary"
           }
          ],
          "surface": [
           {
            "colorbar": {
             "outlinewidth": 0,
             "ticks": ""
            },
            "colorscale": [
             [
              0,
              "#0d0887"
             ],
             [
              0.1111111111111111,
              "#46039f"
             ],
             [
              0.2222222222222222,
              "#7201a8"
             ],
             [
              0.3333333333333333,
              "#9c179e"
             ],
             [
              0.4444444444444444,
              "#bd3786"
             ],
             [
              0.5555555555555556,
              "#d8576b"
             ],
             [
              0.6666666666666666,
              "#ed7953"
             ],
             [
              0.7777777777777778,
              "#fb9f3a"
             ],
             [
              0.8888888888888888,
              "#fdca26"
             ],
             [
              1,
              "#f0f921"
             ]
            ],
            "type": "surface"
           }
          ],
          "table": [
           {
            "cells": {
             "fill": {
              "color": "#EBF0F8"
             },
             "line": {
              "color": "white"
             }
            },
            "header": {
             "fill": {
              "color": "#C8D4E3"
             },
             "line": {
              "color": "white"
             }
            },
            "type": "table"
           }
          ]
         },
         "layout": {
          "annotationdefaults": {
           "arrowcolor": "#2a3f5f",
           "arrowhead": 0,
           "arrowwidth": 1
          },
          "autotypenumbers": "strict",
          "coloraxis": {
           "colorbar": {
            "outlinewidth": 0,
            "ticks": ""
           }
          },
          "colorscale": {
           "diverging": [
            [
             0,
             "#8e0152"
            ],
            [
             0.1,
             "#c51b7d"
            ],
            [
             0.2,
             "#de77ae"
            ],
            [
             0.3,
             "#f1b6da"
            ],
            [
             0.4,
             "#fde0ef"
            ],
            [
             0.5,
             "#f7f7f7"
            ],
            [
             0.6,
             "#e6f5d0"
            ],
            [
             0.7,
             "#b8e186"
            ],
            [
             0.8,
             "#7fbc41"
            ],
            [
             0.9,
             "#4d9221"
            ],
            [
             1,
             "#276419"
            ]
           ],
           "sequential": [
            [
             0,
             "#0d0887"
            ],
            [
             0.1111111111111111,
             "#46039f"
            ],
            [
             0.2222222222222222,
             "#7201a8"
            ],
            [
             0.3333333333333333,
             "#9c179e"
            ],
            [
             0.4444444444444444,
             "#bd3786"
            ],
            [
             0.5555555555555556,
             "#d8576b"
            ],
            [
             0.6666666666666666,
             "#ed7953"
            ],
            [
             0.7777777777777778,
             "#fb9f3a"
            ],
            [
             0.8888888888888888,
             "#fdca26"
            ],
            [
             1,
             "#f0f921"
            ]
           ],
           "sequentialminus": [
            [
             0,
             "#0d0887"
            ],
            [
             0.1111111111111111,
             "#46039f"
            ],
            [
             0.2222222222222222,
             "#7201a8"
            ],
            [
             0.3333333333333333,
             "#9c179e"
            ],
            [
             0.4444444444444444,
             "#bd3786"
            ],
            [
             0.5555555555555556,
             "#d8576b"
            ],
            [
             0.6666666666666666,
             "#ed7953"
            ],
            [
             0.7777777777777778,
             "#fb9f3a"
            ],
            [
             0.8888888888888888,
             "#fdca26"
            ],
            [
             1,
             "#f0f921"
            ]
           ]
          },
          "colorway": [
           "#636efa",
           "#EF553B",
           "#00cc96",
           "#ab63fa",
           "#FFA15A",
           "#19d3f3",
           "#FF6692",
           "#B6E880",
           "#FF97FF",
           "#FECB52"
          ],
          "font": {
           "color": "#2a3f5f"
          },
          "geo": {
           "bgcolor": "white",
           "lakecolor": "white",
           "landcolor": "#E5ECF6",
           "showlakes": true,
           "showland": true,
           "subunitcolor": "white"
          },
          "hoverlabel": {
           "align": "left"
          },
          "hovermode": "closest",
          "mapbox": {
           "style": "light"
          },
          "paper_bgcolor": "white",
          "plot_bgcolor": "#E5ECF6",
          "polar": {
           "angularaxis": {
            "gridcolor": "white",
            "linecolor": "white",
            "ticks": ""
           },
           "bgcolor": "#E5ECF6",
           "radialaxis": {
            "gridcolor": "white",
            "linecolor": "white",
            "ticks": ""
           }
          },
          "scene": {
           "xaxis": {
            "backgroundcolor": "#E5ECF6",
            "gridcolor": "white",
            "gridwidth": 2,
            "linecolor": "white",
            "showbackground": true,
            "ticks": "",
            "zerolinecolor": "white"
           },
           "yaxis": {
            "backgroundcolor": "#E5ECF6",
            "gridcolor": "white",
            "gridwidth": 2,
            "linecolor": "white",
            "showbackground": true,
            "ticks": "",
            "zerolinecolor": "white"
           },
           "zaxis": {
            "backgroundcolor": "#E5ECF6",
            "gridcolor": "white",
            "gridwidth": 2,
            "linecolor": "white",
            "showbackground": true,
            "ticks": "",
            "zerolinecolor": "white"
           }
          },
          "shapedefaults": {
           "line": {
            "color": "#2a3f5f"
           }
          },
          "ternary": {
           "aaxis": {
            "gridcolor": "white",
            "linecolor": "white",
            "ticks": ""
           },
           "baxis": {
            "gridcolor": "white",
            "linecolor": "white",
            "ticks": ""
           },
           "bgcolor": "#E5ECF6",
           "caxis": {
            "gridcolor": "white",
            "linecolor": "white",
            "ticks": ""
           }
          },
          "title": {
           "x": 0.05
          },
          "xaxis": {
           "automargin": true,
           "gridcolor": "white",
           "linecolor": "white",
           "ticks": "",
           "title": {
            "standoff": 15
           },
           "zerolinecolor": "white",
           "zerolinewidth": 2
          },
          "yaxis": {
           "automargin": true,
           "gridcolor": "white",
           "linecolor": "white",
           "ticks": "",
           "title": {
            "standoff": 15
           },
           "zerolinecolor": "white",
           "zerolinewidth": 2
          }
         }
        },
        "xaxis": {
         "anchor": "y",
         "domain": [
          0,
          1
         ],
         "title": {
          "text": "x"
         }
        },
        "yaxis": {
         "anchor": "x",
         "domain": [
          0,
          1
         ],
         "title": {
          "text": "count"
         }
        }
       }
      }
     },
     "metadata": {},
     "output_type": "display_data"
    }
   ],
   "source": [
    "px.histogram(x = data,nbins = 100)"
   ]
  },
  {
   "cell_type": "code",
   "execution_count": 59,
   "metadata": {},
   "outputs": [
    {
     "name": "stderr",
     "output_type": "stream",
     "text": [
      "sample: 100%|██████████| 750/750 [00:15<00:00, 47.43it/s] \n"
     ]
    }
   ],
   "source": [
    "relevants = (await get_relevants(230, ddf, news_articles)).sample(frac=0.3)\n",
    "data = (relevants.date - relevants.date.min()) / (relevants.date.max() - relevants.date.min()) * 14\n",
    "data = jnp.array(data.to_numpy())\n",
    "mcmc = MCMC(ESS(sinp, moves={ESS.DifferentialMove() : 0.2, ESS.RandomMove() : 0.5, ESS.GaussianMove() : 0.3}), num_warmup=250, num_samples=500, chain_method='vectorized', num_chains=20, progress_bar=True)\n",
    "rng_key = jax.random.PRNGKey(0)\n",
    "mcmc.run(rng_key, 0, 10, data)"
   ]
  },
  {
   "cell_type": "code",
   "execution_count": 55,
   "metadata": {},
   "outputs": [
    {
     "data": {
      "application/vnd.plotly.v1+json": {
       "config": {
        "plotlyServerURL": "https://plot.ly"
       },
       "data": [
        {
         "hovertemplate": "x=%{x}<br>y=%{y}<extra></extra>",
         "legendgroup": "",
         "line": {
          "color": "#636efa",
          "dash": "solid"
         },
         "marker": {
          "symbol": "circle"
         },
         "mode": "lines",
         "name": "",
         "orientation": "v",
         "showlegend": false,
         "type": "scatter",
         "x": {
          "bdata": "AAAAAAAAAAB56SYxCKyMP3npJjEIrJw/Gy/dJAaBpT956SYxCKysP+xRuB6F67E/Gy/dJAaBtT9KDAIrhxa5P3npJjEIrLw/VOOlm8QgwD/sUbgehevBP4PAyqFFtsM/Gy/dJAaBxT+yne+nxkvHP0oMAiuHFsk/4XoUrkfhyj956SYxCKzMPxFYObTIds4/VOOlm8Qg0D+gGi/dJAbRP+xRuB6F69E/N4lBYOXQ0j+DwMqhRbbTP8/3U+Olm9Q/Gy/dJAaB1T9nZmZmZmbWP7Kd76fGS9c//tR46SYx2D9KDAIrhxbZP5ZDi2zn+9k/4XoUrkfh2j8tsp3vp8bbP3npJjEIrNw/xSCwcmiR3T8RWDm0yHbeP1yPwvUoXN8/VOOlm8Qg4D/6fmq8dJPgP6AaL90kBuE/Rrbz/dR44T/sUbgehevhP5LtfD81XuI/N4lBYOXQ4j/dJAaBlUPjP4PAyqFFtuM/KVyPwvUo5D/P91PjpZvkP3WTGARWDuU/Gy/dJAaB5T/ByqFFtvPlP2dmZmZmZuY/DAIrhxbZ5j+yne+nxkvnP1g5tMh2vuc//tR46SYx6D+kcD0K16PoP0oMAiuHFuk/8KfGSzeJ6T+WQ4ts5/vpPzzfT42Xbuo/4XoUrkfh6j+HFtnO91PrPy2yne+nxus/001iEFg57D956SYxCKzsPx+F61G4Hu0/xSCwcmiR7T9rvHSTGATuPxFYObTIdu4/tvP91Hjp7j9cj8L1KFzvPwIrhxbZzu8/VOOlm8Qg8D8nMQisHFrwP/p+arx0k/A/zczMzMzM8D+gGi/dJAbxP3Noke18P/E/Rrbz/dR48T8ZBFYOLbLxP+xRuB6F6/E/v58aL90k8j+S7Xw/NV7yP2Q730+Nl/I/N4lBYOXQ8j8K16NwPQrzP90kBoGVQ/M/sHJoke188z+DwMqhRbbzP1YOLbKd7/M/KVyPwvUo9D/8qfHSTWL0P8/3U+Olm/Q/okW28/3U9D91kxgEVg71P0jhehSuR/U/Gy/dJAaB9T/ufD81Xrr1P8HKoUW28/U/lBgEVg4t9j9nZmZmZmb2Pzm0yHa+n/Y/DAIrhxbZ9j/fT42XbhL3P7Kd76fGS/c/hetRuB6F9z9YObTIdr73PyuHFtnO9/c//tR46SYx+D/RItv5fmr4P6RwPQrXo/g/d76fGi/d+D9KDAIrhxb5Px1aZDvfT/k/8KfGSzeJ+T/D9Shcj8L5P5ZDi2zn+/k/aZHtfD81+j8830+Nl276Pw4tsp3vp/o/4XoUrkfh+j+0yHa+nxr7P4cW2c73U/s/WmQ730+N+z8tsp3vp8b7PwAAAAAAAPw/001iEFg5/D+mm8QgsHL8P3npJjEIrPw/TDeJQWDl/D8fhetRuB79P/LSTWIQWP0/xSCwcmiR/T+YbhKDwMr9P2u8dJMYBP4/PgrXo3A9/j8RWDm0yHb+P+Slm8QgsP4/tvP91Hjp/j+JQWDl0CL/P1yPwvUoXP8/L90kBoGV/z8CK4cW2c7/P2u8dJMYBABAVOOlm8QgAEA+CtejcD0AQCcxCKwcWgBAEFg5tMh2AED6fmq8dJMAQOOlm8QgsABAzczMzMzMAEC28/3UeOkAQKAaL90kBgFAiUFg5dAiAUBzaJHtfD8BQFyPwvUoXAFARrbz/dR4AUAv3SQGgZUBQBkEVg4tsgFAAiuHFtnOAUDsUbgehesBQNV46SYxCAJAv58aL90kAkCoxks3iUECQJLtfD81XgJAexSuR+F6AkBkO99PjZcCQE5iEFg5tAJAN4lBYOXQAkAhsHJoke0CQArXo3A9CgNA9P3UeOkmA0DdJAaBlUMDQMdLN4lBYANAsHJoke18A0CamZmZmZkDQIPAyqFFtgNAbef7qfHSA0BWDi2yne8DQEA1XrpJDARAKVyPwvUoBEATg8DKoUUEQPyp8dJNYgRA5dAi2/l+BEDP91PjpZsEQLgehetRuARAokW28/3UBECLbOf7qfEEQHWTGARWDgVAXrpJDAIrBUBI4XoUrkcFQDEIrBxaZAVAGy/dJAaBBUAEVg4tsp0FQO58PzVeugVA16NwPQrXBUDByqFFtvMFQKrx0k1iEAZAlBgEVg4tBkB9PzVeukkGQGdmZmZmZgZAUI2XbhKDBkA5tMh2vp8GQCPb+X5qvAZADAIrhxbZBkD2KFyPwvUGQN9PjZduEgdAyXa+nxovB0Cyne+nxksHQJzEILByaAdAhetRuB6FB0BvEoPAyqEHQFg5tMh2vgdAQmDl0CLbB0ArhxbZzvcHQBWuR+F6FAhA/tR46SYxCEDo+6nx0k0IQNEi2/l+aghAu0kMAiuHCECkcD0K16MIQI2XbhKDwAhAd76fGi/dCEBg5dAi2/kIQEoMAiuHFglAMzMzMzMzCUAdWmQ7308JQAaBlUOLbAlA8KfGSzeJCUDZzvdT46UJQMP1KFyPwglArBxaZDvfCUCWQ4ts5/sJQH9qvHSTGApAaZHtfD81CkBSuB6F61EKQDzfT42XbgpAJQaBlUOLCkAOLbKd76cKQPhT46WbxApA4XoUrkfhCkDLoUW28/0KQLTIdr6fGgtAnu+nxks3C0CHFtnO91MLQHE9CtejcAtAWmQ730+NC0BEi2zn+6kLQC2yne+nxgtAF9nO91PjC0AAAAAAAAAMQOomMQisHAxA001iEFg5DEC9dJMYBFYMQKabxCCwcgxAkML1KFyPDEB56SYxCKwMQGIQWDm0yAxATDeJQWDlDEA1XrpJDAINQB+F61G4Hg1ACKwcWmQ7DUDy0k1iEFgNQNv5fmq8dA1AxSCwcmiRDUCuR+F6FK4NQJhuEoPAyg1AgZVDi2znDUBrvHSTGAQOQFTjpZvEIA5APgrXo3A9DkAnMQisHFoOQBFYObTIdg5A+n5qvHSTDkDkpZvEILAOQM3MzMzMzA5AtvP91HjpDkCgGi/dJAYPQIlBYOXQIg9Ac2iR7Xw/D0Bcj8L1KFwPQEa28/3UeA9AL90kBoGVD0AZBFYOLbIPQAIrhxbZzg9A7FG4HoXrD0BrvHSTGAQQQN9PjZduEhBAVOOlm8QgEEDJdr6fGi8QQD4K16NwPRBAsp3vp8ZLEEAnMQisHFoQQJzEILByaBBAEFg5tMh2EECF61G4HoUQQPp+arx0kxBAbxKDwMqhEEDjpZvEILAQQFg5tMh2vhBAzczMzMzMEEBCYOXQItsQQLbz/dR46RBAK4cW2c73EECgGi/dJAYRQBWuR+F6FBFAiUFg5dAiEUD+1HjpJjERQHNoke18PxFA6Pup8dJNEUBcj8L1KFwRQNEi2/l+ahFARrbz/dR4EUC6SQwCK4cRQC/dJAaBlRFApHA9CtejEUAZBFYOLbIRQI2XbhKDwBFAAiuHFtnOEUB3vp8aL90RQOxRuB6F6xFAYOXQItv5EUDVeOkmMQgSQEoMAiuHFhJAv58aL90kEkAzMzMzMzMSQKjGSzeJQRJAHVpkO99PEkCS7Xw/NV4SQAaBlUOLbBJAexSuR+F6EkDwp8ZLN4kSQGQ730+NlxJA2c73U+OlEkBOYhBYObQSQMP1KFyPwhJAN4lBYOXQEkCsHFpkO98SQCGwcmiR7RJAlkOLbOf7EkAK16NwPQoTQH9qvHSTGBNA9P3UeOkmE0Bpke18PzUTQN0kBoGVQxNAUrgehetRE0DHSzeJQWATQDzfT42XbhNAsHJoke18E0AlBoGVQ4sTQJqZmZmZmRNADi2yne+nE0CDwMqhRbYTQPhT46WbxBNAbef7qfHSE0DhehSuR+ETQFYOLbKd7xNAy6FFtvP9E0BANV66SQwUQLTIdr6fGhRAKVyPwvUoFECe76fGSzcUQBODwMqhRRRAhxbZzvdTFED8qfHSTWIUQHE9CtejcBRA5dAi2/l+FEBaZDvfT40UQM/3U+OlmxRARIts5/upFEC4HoXrUbgUQC2yne+nxhRAokW28/3UFEAX2c73U+MUQIts5/up8RRAAAAAAAAAFUB1kxgEVg4VQOomMQisHBVAXrpJDAIrFUDTTWIQWDkVQEjhehSuRxVAvXSTGARWFUAxCKwcWmQVQKabxCCwchVAGy/dJAaBFUCPwvUoXI8VQARWDi2ynRVAeekmMQisFUDufD81XroVQGIQWDm0yBVA16NwPQrXFUBMN4lBYOUVQMHKoUW28xVANV66SQwCFkCq8dJNYhAWQB+F61G4HhZAlBgEVg4tFkAIrBxaZDsWQH0/NV66SRZA8tJNYhBYFkBnZmZmZmYWQNv5fmq8dBZAUI2XbhKDFkDFILByaJEWQDm0yHa+nxZArkfhehSuFkAj2/l+arwWQJhuEoPAyhZADAIrhxbZFkCBlUOLbOcWQPYoXI/C9RZAa7x0kxgEF0DfT42XbhIXQFTjpZvEIBdAyXa+nxovF0A+CtejcD0XQLKd76fGSxdAJzEIrBxaF0CcxCCwcmgXQBFYObTIdhdAhetRuB6FF0D6fmq8dJMXQG8Sg8DKoRdA46WbxCCwF0BYObTIdr4XQM3MzMzMzBdAQmDl0CLbF0C28/3UeOkXQCuHFtnO9xdAoBov3SQGGEAVrkfhehQYQIlBYOXQIhhA/tR46SYxGEBzaJHtfD8YQOj7qfHSTRhAXI/C9ShcGEDRItv5fmoYQEa28/3UeBhAu0kMAiuHGEAv3SQGgZUYQKRwPQrXoxhAGQRWDi2yGECNl24Sg8AYQAIrhxbZzhhAd76fGi/dGEDsUbgehesYQGDl0CLb+RhA1XjpJjEIGUBKDAIrhxYZQL+fGi/dJBlAMzMzMzMzGUCoxks3iUEZQB1aZDvfTxlAku18PzVeGUAGgZVDi2wZQHsUrkfhehlA8KfGSzeJGUBlO99PjZcZQNnO91PjpRlATmIQWDm0GUDD9Shcj8IZQDeJQWDl0BlArBxaZDvfGUAhsHJoke0ZQJZDi2zn+xlACtejcD0KGkB/arx0kxgaQPT91HjpJhpAaZHtfD81GkDdJAaBlUMaQFK4HoXrURpAx0s3iUFgGkA830+Nl24aQLByaJHtfBpAJQaBlUOLGkCamZmZmZkaQA4tsp3vpxpAg8DKoUW2GkD4U+Olm8QaQG3n+6nx0hpA4XoUrkfhGkBWDi2yne8aQMuhRbbz/RpAQDVeukkMG0C0yHa+nxobQClcj8L1KBtAnu+nxks3G0ATg8DKoUUbQIcW2c73UxtA/Knx0k1iG0BxPQrXo3AbQObQItv5fhtAWmQ730+NG0DP91PjpZsbQESLbOf7qRtAuB6F61G4G0Atsp3vp8YbQKJFtvP91BtAF9nO91PjG0CLbOf7qfEbQAAAAAAAABxAdZMYBFYOHEDqJjEIrBwcQF66SQwCKxxA001iEFg5HEBI4XoUrkccQL10kxgEVhxAMQisHFpkHECmm8QgsHIcQBsv3SQGgRxAkML1KFyPHEAEVg4tsp0cQHnpJjEIrBxA7nw/NV66HEBiEFg5tMgcQNejcD0K1xxATDeJQWDlHEDByqFFtvMcQDVeukkMAh1AqvHSTWIQHUAfhetRuB4dQJQYBFYOLR1ACKwcWmQ7HUB9PzVeukkdQPLSTWIQWB1AZ2ZmZmZmHUDb+X5qvHQdQFCNl24Sgx1AxSCwcmiRHUA6tMh2vp8dQK5H4XoUrh1AI9v5fmq8HUCYbhKDwModQAwCK4cW2R1AgZVDi2znHUD2KFyPwvUdQGu8dJMYBB5A30+Nl24SHkBU46WbxCAeQMl2vp8aLx5APgrXo3A9HkCyne+nxkseQCcxCKwcWh5AnMQgsHJoHkARWDm0yHYeQIXrUbgehR5A+n5qvHSTHkBvEoPAyqEeQOSlm8QgsB5AWDm0yHa+HkDNzMzMzMweQEJg5dAi2x5AtvP91HjpHkArhxbZzvceQKAaL90kBh9AFa5H4XoUH0CJQWDl0CIfQP7UeOkmMR9Ac2iR7Xw/H0Do+6nx0k0fQFyPwvUoXB9A0SLb+X5qH0BGtvP91HgfQLtJDAIrhx9AL90kBoGVH0CkcD0K16MfQBkEVg4tsh9AjZduEoPAH0ACK4cW2c4fQHe+nxov3R9A7FG4HoXrH0Bg5dAi2/kfQGu8dJMYBCBAJQaBlUMLIEDfT42XbhIgQJqZmZmZGSBAVOOlm8QgIEAOLbKd7ycgQMl2vp8aLyBAg8DKoUU2IEA+CtejcD0gQPhT46WbRCBAsp3vp8ZLIEBt5/up8VIgQCcxCKwcWiBA4XoUrkdhIECcxCCwcmggQFYOLbKdbyBAEFg5tMh2IEDLoUW2830gQIXrUbgehSBAQDVeukmMIED6fmq8dJMgQLTIdr6fmiBAbxKDwMqhIEApXI/C9aggQOOlm8QgsCBAnu+nxku3IEBYObTIdr4gQBODwMqhxSBAzczMzMzMIECHFtnO99MgQEJg5dAi2yBA/Knx0k3iIEC28/3UeOkgQHE9Ctej8CBAK4cW2c73IEDl0CLb+f4gQKAaL90kBiFAWmQ7308NIUAVrkfhehQhQM/3U+OlGyFAiUFg5dAiIUBEi2zn+ykhQP7UeOkmMSFAuB6F61E4IUBzaJHtfD8hQC2yne+nRiFA6Pup8dJNIUCiRbbz/VQhQFyPwvUoXCFAF9nO91NjIUDRItv5fmohQIts5/upcSFARrbz/dR4IUAAAAAAAIAhQLpJDAIrhyFAdZMYBFaOIUAv3SQGgZUhQOomMQisnCFApHA9CtejIUBeukkMAqshQBkEVg4tsiFA001iEFi5IUCNl24Sg8AhQEjhehSuxyFAAiuHFtnOIUC9dJMYBNYhQHe+nxov3SFAMQisHFrkIUDsUbgeheshQKabxCCw8iFAYOXQItv5IUAbL90kBgEiQNV46SYxCCJAj8L1KFwPIkBKDAIrhxYiQARWDi2yHSJAv58aL90kIkB56SYxCCwiQDMzMzMzMyJA7nw/NV46IkCoxks3iUEiQGIQWDm0SCJAHVpkO99PIkDXo3A9ClciQJLtfD81XiJATDeJQWBlIkAGgZVDi2wiQMHKoUW2cyJAexSuR+F6IkA1XrpJDIIiQPCnxks3iSJAqvHSTWKQIkBkO99PjZciQB+F61G4niJA2c73U+OlIkCUGARWDq0iQE5iEFg5tCJACKwcWmS7IkDD9Shcj8IiQH0/NV66ySJAN4lBYOXQIkDy0k1iENgiQKwcWmQ73yJAZ2ZmZmbmIkAhsHJoke0iQNv5fmq89CJAlkOLbOf7IkBQjZduEgMjQArXo3A9CiNAxSCwcmgRI0B/arx0kxgjQDm0yHa+HyNA9P3UeOkmI0CuR+F6FC4jQGmR7Xw/NSNAI9v5fmo8I0DdJAaBlUMjQJhuEoPASiNAUrgehetRI0AMAiuHFlkjQMdLN4lBYCNAgZVDi2xnI0A830+Nl24jQPYoXI/CdSNAsHJoke18I0BrvHSTGIQjQCUGgZVDiyNA30+Nl26SI0CamZmZmZkjQFTjpZvEoCNADi2yne+nI0DJdr6fGq8jQIPAyqFFtiNAPgrXo3C9I0D4U+Olm8QjQLKd76fGyyNAbef7qfHSI0AnMQisHNojQOF6FK5H4SNAnMQgsHLoI0BWDi2yne8jQBFYObTI9iNAy6FFtvP9I0CF61G4HgUkQEA1XrpJDCRA+n5qvHQTJEC0yHa+nxokQG8Sg8DKISRAKVyPwvUoJEDjpZvEIDAkQJ7vp8ZLNyRAWDm0yHY+JEATg8DKoUUkQM3MzMzMTCRAhxbZzvdTJEBCYOXQIlskQPyp8dJNYiRAtvP91HhpJEBxPQrXo3AkQCuHFtnOdyRA5dAi2/l+JECgGi/dJIYkQFpkO99PjSRAFa5H4XqUJEDP91PjpZskQIlBYOXQoiRARIts5/upJED+1HjpJrEkQLgehetRuCRAc2iR7Xy/JEAtsp3vp8YkQOj7qfHSzSRAokW28/3UJEBcj8L1KNwkQBfZzvdT4yRA0SLb+X7qJECLbOf7qfEkQEa28/3U+CRAAAAAAAAAJUC6SQwCKwclQHWTGARWDiVAL90kBoEVJUDqJjEIrBwlQKRwPQrXIyVAXrpJDAIrJUAZBFYOLTIlQNNNYhBYOSVAjZduEoNAJUBI4XoUrkclQAIrhxbZTiVAvXSTGARWJUB3vp8aL10lQDEIrBxaZCVA7FG4HoVrJUCmm8QgsHIlQGDl0CLbeSVAGy/dJAaBJUDVeOkmMYglQI/C9ShcjyVASgwCK4eWJUAEVg4tsp0lQL+fGi/dpCVAeekmMQisJUAzMzMzM7MlQO58PzVeuiVAqMZLN4nBJUBiEFg5tMglQB1aZDvfzyVA16NwPQrXJUCS7Xw/Nd4lQEw3iUFg5SVABoGVQ4vsJUDByqFFtvMlQHsUrkfh+iVANV66SQwCJkDwp8ZLNwkmQKrx0k1iECZAZDvfT40XJkAfhetRuB4mQNnO91PjJSZAlBgEVg4tJkBOYhBYOTQmQAisHFpkOyZAw/UoXI9CJkB9PzVeukkmQDeJQWDlUCZA8tJNYhBYJkCsHFpkO18mQGdmZmZmZiZAIbByaJFtJkDb+X5qvHQmQJZDi2zneyZAUI2XbhKDJkAK16NwPYomQMUgsHJokSZAf2q8dJOYJkA5tMh2vp8mQPT91HjppiZArkfhehSuJkBpke18P7UmQCPb+X5qvCZA3SQGgZXDJkCYbhKDwMomQFK4HoXr0SZADAIrhxbZJkDHSzeJQeAmQIGVQ4ts5yZAPN9PjZfuJkD2KFyPwvUmQLByaJHt/CZAa7x0kxgEJ0AlBoGVQwsnQN9PjZduEidAmpmZmZkZJ0BU46WbxCAnQA4tsp3vJydAyXa+nxovJ0CDwMqhRTYnQD4K16NwPSdA+FPjpZtEJ0Cyne+nxksnQG3n+6nxUidAJzEIrBxaJ0DhehSuR2EnQJzEILByaCdAVg4tsp1vJ0ARWDm0yHYnQMuhRbbzfSdAhetRuB6FJ0BANV66SYwnQPp+arx0kydAtMh2vp+aJ0BvEoPAyqEnQClcj8L1qCdA46WbxCCwJ0Ce76fGS7cnQFg5tMh2vidAE4PAyqHFJ0DNzMzMzMwnQIcW2c730ydAQmDl0CLbJ0D8qfHSTeInQLbz/dR46SdAcT0K16PwJ0ArhxbZzvcnQObQItv5/idAoBov3SQGKEBaZDvfTw0oQBWuR+F6FChAz/dT46UbKECJQWDl0CIoQESLbOf7KShA/tR46SYxKEC4HoXrUTgoQHNoke18PyhALbKd76dGKEDo+6nx0k0oQKJFtvP9VChAXI/C9ShcKEAX2c73U2MoQNEi2/l+aihAi2zn+6lxKEBGtvP91HgoQAAAAAAAgChAu0kMAiuHKEB1kxgEVo4oQC/dJAaBlShA6iYxCKycKECkcD0K16MoQF66SQwCqyhAGQRWDi2yKEDTTWIQWLkoQI2XbhKDwChASOF6FK7HKEACK4cW2c4oQL10kxgE1ihAd76fGi/dKEAxCKwcWuQoQOxRuB6F6yhAppvEILDyKEBg5dAi2/koQBsv3SQGASlA1XjpJjEIKUCQwvUoXA8pQEoMAiuHFilABFYOLbIdKUC/nxov3SQpQHnpJjEILClAMzMzMzMzKUDufD81XjopQKjGSzeJQSlAYhBYObRIKUAdWmQ7308pQNejcD0KVylAku18PzVeKUBMN4lBYGUpQAaBlUOLbClAwcqhRbZzKUB7FK5H4XopQDVeukkMgilA8KfGSzeJKUCq8dJNYpApQGU730+NlylAH4XrUbieKUDZzvdT46UpQJQYBFYOrSlATmIQWDm0KUAIrBxaZLspQMP1KFyPwilAfT81XrrJKUA3iUFg5dApQPLSTWIQ2ClArBxaZDvfKUBnZmZmZuYpQCGwcmiR7SlA2/l+arz0KUCWQ4ts5/spQFCNl24SAypACtejcD0KKkDFILByaBEqQH9qvHSTGCpAObTIdr4fKkD0/dR46SYqQK5H4XoULipAaZHtfD81KkAj2/l+ajwqQN0kBoGVQypAmG4Sg8BKKkBSuB6F61EqQAwCK4cWWSpAx0s3iUFgKkCBlUOLbGcqQDzfT42XbipA9ihcj8J1KkCwcmiR7XwqQGu8dJMYhCpAJQaBlUOLKkDfT42XbpIqQJqZmZmZmSpAVOOlm8SgKkAOLbKd76cqQMl2vp8arypAg8DKoUW2KkA+CtejcL0qQPhT46WbxCpAsp3vp8bLKkBt5/up8dIqQCcxCKwc2ipA4XoUrkfhKkCcxCCwcugqQFYOLbKd7ypAEVg5tMj2KkDLoUW28/0qQIXrUbgeBStAQDVeukkMK0D6fmq8dBMrQLTIdr6fGitAbxKDwMohK0ApXI/C9SgrQOOlm8QgMCtAnu+nxks3K0BYObTIdj4rQBODwMqhRStAzczMzMxMK0CHFtnO91MrQEJg5dAiWytA/Knx0k1iK0C28/3UeGkrQHE9CtejcCtAK4cW2c53K0Dm0CLb+X4rQKAaL90khitAWmQ730+NK0AVrkfhepQrQM/3U+OlmytAiUFg5dCiK0BEi2zn+6krQP7UeOkmsStAuB6F61G4K0BzaJHtfL8rQC2yne+nxitA6Pup8dLNK0CiRbbz/dQrQFyPwvUo3CtAF9nO91PjK0DRItv5fuorQIts5/up8StARrbz/dT4K0A=",
          "dtype": "f8"
         },
         "xaxis": "x",
         "y": {
          "bdata": "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",
          "dtype": "f4"
         },
         "yaxis": "y"
        }
       ],
       "layout": {
        "legend": {
         "tracegroupgap": 0
        },
        "margin": {
         "t": 60
        },
        "template": {
         "data": {
          "bar": [
           {
            "error_x": {
             "color": "#2a3f5f"
            },
            "error_y": {
             "color": "#2a3f5f"
            },
            "marker": {
             "line": {
              "color": "#E5ECF6",
              "width": 0.5
             },
             "pattern": {
              "fillmode": "overlay",
              "size": 10,
              "solidity": 0.2
             }
            },
            "type": "bar"
           }
          ],
          "barpolar": [
           {
            "marker": {
             "line": {
              "color": "#E5ECF6",
              "width": 0.5
             },
             "pattern": {
              "fillmode": "overlay",
              "size": 10,
              "solidity": 0.2
             }
            },
            "type": "barpolar"
           }
          ],
          "carpet": [
           {
            "aaxis": {
             "endlinecolor": "#2a3f5f",
             "gridcolor": "white",
             "linecolor": "white",
             "minorgridcolor": "white",
             "startlinecolor": "#2a3f5f"
            },
            "baxis": {
             "endlinecolor": "#2a3f5f",
             "gridcolor": "white",
             "linecolor": "white",
             "minorgridcolor": "white",
             "startlinecolor": "#2a3f5f"
            },
            "type": "carpet"
           }
          ],
          "choropleth": [
           {
            "colorbar": {
             "outlinewidth": 0,
             "ticks": ""
            },
            "type": "choropleth"
           }
          ],
          "contour": [
           {
            "colorbar": {
             "outlinewidth": 0,
             "ticks": ""
            },
            "colorscale": [
             [
              0,
              "#0d0887"
             ],
             [
              0.1111111111111111,
              "#46039f"
             ],
             [
              0.2222222222222222,
              "#7201a8"
             ],
             [
              0.3333333333333333,
              "#9c179e"
             ],
             [
              0.4444444444444444,
              "#bd3786"
             ],
             [
              0.5555555555555556,
              "#d8576b"
             ],
             [
              0.6666666666666666,
              "#ed7953"
             ],
             [
              0.7777777777777778,
              "#fb9f3a"
             ],
             [
              0.8888888888888888,
              "#fdca26"
             ],
             [
              1,
              "#f0f921"
             ]
            ],
            "type": "contour"
           }
          ],
          "contourcarpet": [
           {
            "colorbar": {
             "outlinewidth": 0,
             "ticks": ""
            },
            "type": "contourcarpet"
           }
          ],
          "heatmap": [
           {
            "colorbar": {
             "outlinewidth": 0,
             "ticks": ""
            },
            "colorscale": [
             [
              0,
              "#0d0887"
             ],
             [
              0.1111111111111111,
              "#46039f"
             ],
             [
              0.2222222222222222,
              "#7201a8"
             ],
             [
              0.3333333333333333,
              "#9c179e"
             ],
             [
              0.4444444444444444,
              "#bd3786"
             ],
             [
              0.5555555555555556,
              "#d8576b"
             ],
             [
              0.6666666666666666,
              "#ed7953"
             ],
             [
              0.7777777777777778,
              "#fb9f3a"
             ],
             [
              0.8888888888888888,
              "#fdca26"
             ],
             [
              1,
              "#f0f921"
             ]
            ],
            "type": "heatmap"
           }
          ],
          "histogram": [
           {
            "marker": {
             "pattern": {
              "fillmode": "overlay",
              "size": 10,
              "solidity": 0.2
             }
            },
            "type": "histogram"
           }
          ],
          "histogram2d": [
           {
            "colorbar": {
             "outlinewidth": 0,
             "ticks": ""
            },
            "colorscale": [
             [
              0,
              "#0d0887"
             ],
             [
              0.1111111111111111,
              "#46039f"
             ],
             [
              0.2222222222222222,
              "#7201a8"
             ],
             [
              0.3333333333333333,
              "#9c179e"
             ],
             [
              0.4444444444444444,
              "#bd3786"
             ],
             [
              0.5555555555555556,
              "#d8576b"
             ],
             [
              0.6666666666666666,
              "#ed7953"
             ],
             [
              0.7777777777777778,
              "#fb9f3a"
             ],
             [
              0.8888888888888888,
              "#fdca26"
             ],
             [
              1,
              "#f0f921"
             ]
            ],
            "type": "histogram2d"
           }
          ],
          "histogram2dcontour": [
           {
            "colorbar": {
             "outlinewidth": 0,
             "ticks": ""
            },
            "colorscale": [
             [
              0,
              "#0d0887"
             ],
             [
              0.1111111111111111,
              "#46039f"
             ],
             [
              0.2222222222222222,
              "#7201a8"
             ],
             [
              0.3333333333333333,
              "#9c179e"
             ],
             [
              0.4444444444444444,
              "#bd3786"
             ],
             [
              0.5555555555555556,
              "#d8576b"
             ],
             [
              0.6666666666666666,
              "#ed7953"
             ],
             [
              0.7777777777777778,
              "#fb9f3a"
             ],
             [
              0.8888888888888888,
              "#fdca26"
             ],
             [
              1,
              "#f0f921"
             ]
            ],
            "type": "histogram2dcontour"
           }
          ],
          "mesh3d": [
           {
            "colorbar": {
             "outlinewidth": 0,
             "ticks": ""
            },
            "type": "mesh3d"
           }
          ],
          "parcoords": [
           {
            "line": {
             "colorbar": {
              "outlinewidth": 0,
              "ticks": ""
             }
            },
            "type": "parcoords"
           }
          ],
          "pie": [
           {
            "automargin": true,
            "type": "pie"
           }
          ],
          "scatter": [
           {
            "fillpattern": {
             "fillmode": "overlay",
             "size": 10,
             "solidity": 0.2
            },
            "type": "scatter"
           }
          ],
          "scatter3d": [
           {
            "line": {
             "colorbar": {
              "outlinewidth": 0,
              "ticks": ""
             }
            },
            "marker": {
             "colorbar": {
              "outlinewidth": 0,
              "ticks": ""
             }
            },
            "type": "scatter3d"
           }
          ],
          "scattercarpet": [
           {
            "marker": {
             "colorbar": {
              "outlinewidth": 0,
              "ticks": ""
             }
            },
            "type": "scattercarpet"
           }
          ],
          "scattergeo": [
           {
            "marker": {
             "colorbar": {
              "outlinewidth": 0,
              "ticks": ""
             }
            },
            "type": "scattergeo"
           }
          ],
          "scattergl": [
           {
            "marker": {
             "colorbar": {
              "outlinewidth": 0,
              "ticks": ""
             }
            },
            "type": "scattergl"
           }
          ],
          "scattermap": [
           {
            "marker": {
             "colorbar": {
              "outlinewidth": 0,
              "ticks": ""
             }
            },
            "type": "scattermap"
           }
          ],
          "scattermapbox": [
           {
            "marker": {
             "colorbar": {
              "outlinewidth": 0,
              "ticks": ""
             }
            },
            "type": "scattermapbox"
           }
          ],
          "scatterpolar": [
           {
            "marker": {
             "colorbar": {
              "outlinewidth": 0,
              "ticks": ""
             }
            },
            "type": "scatterpolar"
           }
          ],
          "scatterpolargl": [
           {
            "marker": {
             "colorbar": {
              "outlinewidth": 0,
              "ticks": ""
             }
            },
            "type": "scatterpolargl"
           }
          ],
          "scatterternary": [
           {
            "marker": {
             "colorbar": {
              "outlinewidth": 0,
              "ticks": ""
             }
            },
            "type": "scatterternary"
           }
          ],
          "surface": [
           {
            "colorbar": {
             "outlinewidth": 0,
             "ticks": ""
            },
            "colorscale": [
             [
              0,
              "#0d0887"
             ],
             [
              0.1111111111111111,
              "#46039f"
             ],
             [
              0.2222222222222222,
              "#7201a8"
             ],
             [
              0.3333333333333333,
              "#9c179e"
             ],
             [
              0.4444444444444444,
              "#bd3786"
             ],
             [
              0.5555555555555556,
              "#d8576b"
             ],
             [
              0.6666666666666666,
              "#ed7953"
             ],
             [
              0.7777777777777778,
              "#fb9f3a"
             ],
             [
              0.8888888888888888,
              "#fdca26"
             ],
             [
              1,
              "#f0f921"
             ]
            ],
            "type": "surface"
           }
          ],
          "table": [
           {
            "cells": {
             "fill": {
              "color": "#EBF0F8"
             },
             "line": {
              "color": "white"
             }
            },
            "header": {
             "fill": {
              "color": "#C8D4E3"
             },
             "line": {
              "color": "white"
             }
            },
            "type": "table"
           }
          ]
         },
         "layout": {
          "annotationdefaults": {
           "arrowcolor": "#2a3f5f",
           "arrowhead": 0,
           "arrowwidth": 1
          },
          "autotypenumbers": "strict",
          "coloraxis": {
           "colorbar": {
            "outlinewidth": 0,
            "ticks": ""
           }
          },
          "colorscale": {
           "diverging": [
            [
             0,
             "#8e0152"
            ],
            [
             0.1,
             "#c51b7d"
            ],
            [
             0.2,
             "#de77ae"
            ],
            [
             0.3,
             "#f1b6da"
            ],
            [
             0.4,
             "#fde0ef"
            ],
            [
             0.5,
             "#f7f7f7"
            ],
            [
             0.6,
             "#e6f5d0"
            ],
            [
             0.7,
             "#b8e186"
            ],
            [
             0.8,
             "#7fbc41"
            ],
            [
             0.9,
             "#4d9221"
            ],
            [
             1,
             "#276419"
            ]
           ],
           "sequential": [
            [
             0,
             "#0d0887"
            ],
            [
             0.1111111111111111,
             "#46039f"
            ],
            [
             0.2222222222222222,
             "#7201a8"
            ],
            [
             0.3333333333333333,
             "#9c179e"
            ],
            [
             0.4444444444444444,
             "#bd3786"
            ],
            [
             0.5555555555555556,
             "#d8576b"
            ],
            [
             0.6666666666666666,
             "#ed7953"
            ],
            [
             0.7777777777777778,
             "#fb9f3a"
            ],
            [
             0.8888888888888888,
             "#fdca26"
            ],
            [
             1,
             "#f0f921"
            ]
           ],
           "sequentialminus": [
            [
             0,
             "#0d0887"
            ],
            [
             0.1111111111111111,
             "#46039f"
            ],
            [
             0.2222222222222222,
             "#7201a8"
            ],
            [
             0.3333333333333333,
             "#9c179e"
            ],
            [
             0.4444444444444444,
             "#bd3786"
            ],
            [
             0.5555555555555556,
             "#d8576b"
            ],
            [
             0.6666666666666666,
             "#ed7953"
            ],
            [
             0.7777777777777778,
             "#fb9f3a"
            ],
            [
             0.8888888888888888,
             "#fdca26"
            ],
            [
             1,
             "#f0f921"
            ]
           ]
          },
          "colorway": [
           "#636efa",
           "#EF553B",
           "#00cc96",
           "#ab63fa",
           "#FFA15A",
           "#19d3f3",
           "#FF6692",
           "#B6E880",
           "#FF97FF",
           "#FECB52"
          ],
          "font": {
           "color": "#2a3f5f"
          },
          "geo": {
           "bgcolor": "white",
           "lakecolor": "white",
           "landcolor": "#E5ECF6",
           "showlakes": true,
           "showland": true,
           "subunitcolor": "white"
          },
          "hoverlabel": {
           "align": "left"
          },
          "hovermode": "closest",
          "mapbox": {
           "style": "light"
          },
          "paper_bgcolor": "white",
          "plot_bgcolor": "#E5ECF6",
          "polar": {
           "angularaxis": {
            "gridcolor": "white",
            "linecolor": "white",
            "ticks": ""
           },
           "bgcolor": "#E5ECF6",
           "radialaxis": {
            "gridcolor": "white",
            "linecolor": "white",
            "ticks": ""
           }
          },
          "scene": {
           "xaxis": {
            "backgroundcolor": "#E5ECF6",
            "gridcolor": "white",
            "gridwidth": 2,
            "linecolor": "white",
            "showbackground": true,
            "ticks": "",
            "zerolinecolor": "white"
           },
           "yaxis": {
            "backgroundcolor": "#E5ECF6",
            "gridcolor": "white",
            "gridwidth": 2,
            "linecolor": "white",
            "showbackground": true,
            "ticks": "",
            "zerolinecolor": "white"
           },
           "zaxis": {
            "backgroundcolor": "#E5ECF6",
            "gridcolor": "white",
            "gridwidth": 2,
            "linecolor": "white",
            "showbackground": true,
            "ticks": "",
            "zerolinecolor": "white"
           }
          },
          "shapedefaults": {
           "line": {
            "color": "#2a3f5f"
           }
          },
          "ternary": {
           "aaxis": {
            "gridcolor": "white",
            "linecolor": "white",
            "ticks": ""
           },
           "baxis": {
            "gridcolor": "white",
            "linecolor": "white",
            "ticks": ""
           },
           "bgcolor": "#E5ECF6",
           "caxis": {
            "gridcolor": "white",
            "linecolor": "white",
            "ticks": ""
           }
          },
          "title": {
           "x": 0.05
          },
          "xaxis": {
           "automargin": true,
           "gridcolor": "white",
           "linecolor": "white",
           "ticks": "",
           "title": {
            "standoff": 15
           },
           "zerolinecolor": "white",
           "zerolinewidth": 2
          },
          "yaxis": {
           "automargin": true,
           "gridcolor": "white",
           "linecolor": "white",
           "ticks": "",
           "title": {
            "standoff": 15
           },
           "zerolinecolor": "white",
           "zerolinewidth": 2
          }
         }
        },
        "xaxis": {
         "anchor": "y",
         "domain": [
          0,
          1
         ],
         "title": {
          "text": "x"
         }
        },
        "yaxis": {
         "anchor": "x",
         "domain": [
          0,
          1
         ],
         "title": {
          "text": "y"
         }
        }
       }
      }
     },
     "metadata": {},
     "output_type": "display_data"
    }
   ],
   "source": [
    "params = {k : jnp.mean(v).item() for (k, v) in mcmc.get_samples().items()}\n",
    "temp = partial(sinp_intensity, frequency = 1.75)\n",
    "lam = partial(temp, **{k:v for (k, v) in params.items() if k not in {'frequency_std'}})\n",
    "samples = np.arange(0, 14, 14/1000)\n",
    "px.line(x = samples, y = lam(samples))"
   ]
  },
  {
   "cell_type": "code",
   "execution_count": 53,
   "metadata": {},
   "outputs": [
    {
     "data": {
      "application/vnd.plotly.v1+json": {
       "config": {
        "plotlyServerURL": "https://plot.ly"
       },
       "data": [
        {
         "bingroup": "x",
         "hovertemplate": "x=%{x}<br>count=%{y}<extra></extra>",
         "legendgroup": "",
         "marker": {
          "color": "#636efa",
          "pattern": {
           "shape": ""
          }
         },
         "name": "",
         "nbinsx": 100,
         "orientation": "v",
         "showlegend": false,
         "type": "histogram",
         "x": {
          "bdata": "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",
          "dtype": "f4"
         },
         "xaxis": "x",
         "yaxis": "y"
        }
       ],
       "layout": {
        "barmode": "relative",
        "legend": {
         "tracegroupgap": 0
        },
        "margin": {
         "t": 60
        },
        "template": {
         "data": {
          "bar": [
           {
            "error_x": {
             "color": "#2a3f5f"
            },
            "error_y": {
             "color": "#2a3f5f"
            },
            "marker": {
             "line": {
              "color": "#E5ECF6",
              "width": 0.5
             },
             "pattern": {
              "fillmode": "overlay",
              "size": 10,
              "solidity": 0.2
             }
            },
            "type": "bar"
           }
          ],
          "barpolar": [
           {
            "marker": {
             "line": {
              "color": "#E5ECF6",
              "width": 0.5
             },
             "pattern": {
              "fillmode": "overlay",
              "size": 10,
              "solidity": 0.2
             }
            },
            "type": "barpolar"
           }
          ],
          "carpet": [
           {
            "aaxis": {
             "endlinecolor": "#2a3f5f",
             "gridcolor": "white",
             "linecolor": "white",
             "minorgridcolor": "white",
             "startlinecolor": "#2a3f5f"
            },
            "baxis": {
             "endlinecolor": "#2a3f5f",
             "gridcolor": "white",
             "linecolor": "white",
             "minorgridcolor": "white",
             "startlinecolor": "#2a3f5f"
            },
            "type": "carpet"
           }
          ],
          "choropleth": [
           {
            "colorbar": {
             "outlinewidth": 0,
             "ticks": ""
            },
            "type": "choropleth"
           }
          ],
          "contour": [
           {
            "colorbar": {
             "outlinewidth": 0,
             "ticks": ""
            },
            "colorscale": [
             [
              0,
              "#0d0887"
             ],
             [
              0.1111111111111111,
              "#46039f"
             ],
             [
              0.2222222222222222,
              "#7201a8"
             ],
             [
              0.3333333333333333,
              "#9c179e"
             ],
             [
              0.4444444444444444,
              "#bd3786"
             ],
             [
              0.5555555555555556,
              "#d8576b"
             ],
             [
              0.6666666666666666,
              "#ed7953"
             ],
             [
              0.7777777777777778,
              "#fb9f3a"
             ],
             [
              0.8888888888888888,
              "#fdca26"
             ],
             [
              1,
              "#f0f921"
             ]
            ],
            "type": "contour"
           }
          ],
          "contourcarpet": [
           {
            "colorbar": {
             "outlinewidth": 0,
             "ticks": ""
            },
            "type": "contourcarpet"
           }
          ],
          "heatmap": [
           {
            "colorbar": {
             "outlinewidth": 0,
             "ticks": ""
            },
            "colorscale": [
             [
              0,
              "#0d0887"
             ],
             [
              0.1111111111111111,
              "#46039f"
             ],
             [
              0.2222222222222222,
              "#7201a8"
             ],
             [
              0.3333333333333333,
              "#9c179e"
             ],
             [
              0.4444444444444444,
              "#bd3786"
             ],
             [
              0.5555555555555556,
              "#d8576b"
             ],
             [
              0.6666666666666666,
              "#ed7953"
             ],
             [
              0.7777777777777778,
              "#fb9f3a"
             ],
             [
              0.8888888888888888,
              "#fdca26"
             ],
             [
              1,
              "#f0f921"
             ]
            ],
            "type": "heatmap"
           }
          ],
          "histogram": [
           {
            "marker": {
             "pattern": {
              "fillmode": "overlay",
              "size": 10,
              "solidity": 0.2
             }
            },
            "type": "histogram"
           }
          ],
          "histogram2d": [
           {
            "colorbar": {
             "outlinewidth": 0,
             "ticks": ""
            },
            "colorscale": [
             [
              0,
              "#0d0887"
             ],
             [
              0.1111111111111111,
              "#46039f"
             ],
             [
              0.2222222222222222,
              "#7201a8"
             ],
             [
              0.3333333333333333,
              "#9c179e"
             ],
             [
              0.4444444444444444,
              "#bd3786"
             ],
             [
              0.5555555555555556,
              "#d8576b"
             ],
             [
              0.6666666666666666,
              "#ed7953"
             ],
             [
              0.7777777777777778,
              "#fb9f3a"
             ],
             [
              0.8888888888888888,
              "#fdca26"
             ],
             [
              1,
              "#f0f921"
             ]
            ],
            "type": "histogram2d"
           }
          ],
          "histogram2dcontour": [
           {
            "colorbar": {
             "outlinewidth": 0,
             "ticks": ""
            },
            "colorscale": [
             [
              0,
              "#0d0887"
             ],
             [
              0.1111111111111111,
              "#46039f"
             ],
             [
              0.2222222222222222,
              "#7201a8"
             ],
             [
              0.3333333333333333,
              "#9c179e"
             ],
             [
              0.4444444444444444,
              "#bd3786"
             ],
             [
              0.5555555555555556,
              "#d8576b"
             ],
             [
              0.6666666666666666,
              "#ed7953"
             ],
             [
              0.7777777777777778,
              "#fb9f3a"
             ],
             [
              0.8888888888888888,
              "#fdca26"
             ],
             [
              1,
              "#f0f921"
             ]
            ],
            "type": "histogram2dcontour"
           }
          ],
          "mesh3d": [
           {
            "colorbar": {
             "outlinewidth": 0,
             "ticks": ""
            },
            "type": "mesh3d"
           }
          ],
          "parcoords": [
           {
            "line": {
             "colorbar": {
              "outlinewidth": 0,
              "ticks": ""
             }
            },
            "type": "parcoords"
           }
          ],
          "pie": [
           {
            "automargin": true,
            "type": "pie"
           }
          ],
          "scatter": [
           {
            "fillpattern": {
             "fillmode": "overlay",
             "size": 10,
             "solidity": 0.2
            },
            "type": "scatter"
           }
          ],
          "scatter3d": [
           {
            "line": {
             "colorbar": {
              "outlinewidth": 0,
              "ticks": ""
             }
            },
            "marker": {
             "colorbar": {
              "outlinewidth": 0,
              "ticks": ""
             }
            },
            "type": "scatter3d"
           }
          ],
          "scattercarpet": [
           {
            "marker": {
             "colorbar": {
              "outlinewidth": 0,
              "ticks": ""
             }
            },
            "type": "scattercarpet"
           }
          ],
          "scattergeo": [
           {
            "marker": {
             "colorbar": {
              "outlinewidth": 0,
              "ticks": ""
             }
            },
            "type": "scattergeo"
           }
          ],
          "scattergl": [
           {
            "marker": {
             "colorbar": {
              "outlinewidth": 0,
              "ticks": ""
             }
            },
            "type": "scattergl"
           }
          ],
          "scattermap": [
           {
            "marker": {
             "colorbar": {
              "outlinewidth": 0,
              "ticks": ""
             }
            },
            "type": "scattermap"
           }
          ],
          "scattermapbox": [
           {
            "marker": {
             "colorbar": {
              "outlinewidth": 0,
              "ticks": ""
             }
            },
            "type": "scattermapbox"
           }
          ],
          "scatterpolar": [
           {
            "marker": {
             "colorbar": {
              "outlinewidth": 0,
              "ticks": ""
             }
            },
            "type": "scatterpolar"
           }
          ],
          "scatterpolargl": [
           {
            "marker": {
             "colorbar": {
              "outlinewidth": 0,
              "ticks": ""
             }
            },
            "type": "scatterpolargl"
           }
          ],
          "scatterternary": [
           {
            "marker": {
             "colorbar": {
              "outlinewidth": 0,
              "ticks": ""
             }
            },
            "type": "scatterternary"
           }
          ],
          "surface": [
           {
            "colorbar": {
             "outlinewidth": 0,
             "ticks": ""
            },
            "colorscale": [
             [
              0,
              "#0d0887"
             ],
             [
              0.1111111111111111,
              "#46039f"
             ],
             [
              0.2222222222222222,
              "#7201a8"
             ],
             [
              0.3333333333333333,
              "#9c179e"
             ],
             [
              0.4444444444444444,
              "#bd3786"
             ],
             [
              0.5555555555555556,
              "#d8576b"
             ],
             [
              0.6666666666666666,
              "#ed7953"
             ],
             [
              0.7777777777777778,
              "#fb9f3a"
             ],
             [
              0.8888888888888888,
              "#fdca26"
             ],
             [
              1,
              "#f0f921"
             ]
            ],
            "type": "surface"
           }
          ],
          "table": [
           {
            "cells": {
             "fill": {
              "color": "#EBF0F8"
             },
             "line": {
              "color": "white"
             }
            },
            "header": {
             "fill": {
              "color": "#C8D4E3"
             },
             "line": {
              "color": "white"
             }
            },
            "type": "table"
           }
          ]
         },
         "layout": {
          "annotationdefaults": {
           "arrowcolor": "#2a3f5f",
           "arrowhead": 0,
           "arrowwidth": 1
          },
          "autotypenumbers": "strict",
          "coloraxis": {
           "colorbar": {
            "outlinewidth": 0,
            "ticks": ""
           }
          },
          "colorscale": {
           "diverging": [
            [
             0,
             "#8e0152"
            ],
            [
             0.1,
             "#c51b7d"
            ],
            [
             0.2,
             "#de77ae"
            ],
            [
             0.3,
             "#f1b6da"
            ],
            [
             0.4,
             "#fde0ef"
            ],
            [
             0.5,
             "#f7f7f7"
            ],
            [
             0.6,
             "#e6f5d0"
            ],
            [
             0.7,
             "#b8e186"
            ],
            [
             0.8,
             "#7fbc41"
            ],
            [
             0.9,
             "#4d9221"
            ],
            [
             1,
             "#276419"
            ]
           ],
           "sequential": [
            [
             0,
             "#0d0887"
            ],
            [
             0.1111111111111111,
             "#46039f"
            ],
            [
             0.2222222222222222,
             "#7201a8"
            ],
            [
             0.3333333333333333,
             "#9c179e"
            ],
            [
             0.4444444444444444,
             "#bd3786"
            ],
            [
             0.5555555555555556,
             "#d8576b"
            ],
            [
             0.6666666666666666,
             "#ed7953"
            ],
            [
             0.7777777777777778,
             "#fb9f3a"
            ],
            [
             0.8888888888888888,
             "#fdca26"
            ],
            [
             1,
             "#f0f921"
            ]
           ],
           "sequentialminus": [
            [
             0,
             "#0d0887"
            ],
            [
             0.1111111111111111,
             "#46039f"
            ],
            [
             0.2222222222222222,
             "#7201a8"
            ],
            [
             0.3333333333333333,
             "#9c179e"
            ],
            [
             0.4444444444444444,
             "#bd3786"
            ],
            [
             0.5555555555555556,
             "#d8576b"
            ],
            [
             0.6666666666666666,
             "#ed7953"
            ],
            [
             0.7777777777777778,
             "#fb9f3a"
            ],
            [
             0.8888888888888888,
             "#fdca26"
            ],
            [
             1,
             "#f0f921"
            ]
           ]
          },
          "colorway": [
           "#636efa",
           "#EF553B",
           "#00cc96",
           "#ab63fa",
           "#FFA15A",
           "#19d3f3",
           "#FF6692",
           "#B6E880",
           "#FF97FF",
           "#FECB52"
          ],
          "font": {
           "color": "#2a3f5f"
          },
          "geo": {
           "bgcolor": "white",
           "lakecolor": "white",
           "landcolor": "#E5ECF6",
           "showlakes": true,
           "showland": true,
           "subunitcolor": "white"
          },
          "hoverlabel": {
           "align": "left"
          },
          "hovermode": "closest",
          "mapbox": {
           "style": "light"
          },
          "paper_bgcolor": "white",
          "plot_bgcolor": "#E5ECF6",
          "polar": {
           "angularaxis": {
            "gridcolor": "white",
            "linecolor": "white",
            "ticks": ""
           },
           "bgcolor": "#E5ECF6",
           "radialaxis": {
            "gridcolor": "white",
            "linecolor": "white",
            "ticks": ""
           }
          },
          "scene": {
           "xaxis": {
            "backgroundcolor": "#E5ECF6",
            "gridcolor": "white",
            "gridwidth": 2,
            "linecolor": "white",
            "showbackground": true,
            "ticks": "",
            "zerolinecolor": "white"
           },
           "yaxis": {
            "backgroundcolor": "#E5ECF6",
            "gridcolor": "white",
            "gridwidth": 2,
            "linecolor": "white",
            "showbackground": true,
            "ticks": "",
            "zerolinecolor": "white"
           },
           "zaxis": {
            "backgroundcolor": "#E5ECF6",
            "gridcolor": "white",
            "gridwidth": 2,
            "linecolor": "white",
            "showbackground": true,
            "ticks": "",
            "zerolinecolor": "white"
           }
          },
          "shapedefaults": {
           "line": {
            "color": "#2a3f5f"
           }
          },
          "ternary": {
           "aaxis": {
            "gridcolor": "white",
            "linecolor": "white",
            "ticks": ""
           },
           "baxis": {
            "gridcolor": "white",
            "linecolor": "white",
            "ticks": ""
           },
           "bgcolor": "#E5ECF6",
           "caxis": {
            "gridcolor": "white",
            "linecolor": "white",
            "ticks": ""
           }
          },
          "title": {
           "x": 0.05
          },
          "xaxis": {
           "automargin": true,
           "gridcolor": "white",
           "linecolor": "white",
           "ticks": "",
           "title": {
            "standoff": 15
           },
           "zerolinecolor": "white",
           "zerolinewidth": 2
          },
          "yaxis": {
           "automargin": true,
           "gridcolor": "white",
           "linecolor": "white",
           "ticks": "",
           "title": {
            "standoff": 15
           },
           "zerolinecolor": "white",
           "zerolinewidth": 2
          }
         }
        },
        "xaxis": {
         "anchor": "y",
         "domain": [
          0,
          1
         ],
         "title": {
          "text": "x"
         }
        },
        "yaxis": {
         "anchor": "x",
         "domain": [
          0,
          1
         ],
         "title": {
          "text": "count"
         }
        }
       }
      }
     },
     "metadata": {},
     "output_type": "display_data"
    }
   ],
   "source": [
    "px.histogram(x = data,nbins = 100)"
   ]
  },
  {
   "cell_type": "code",
   "execution_count": 30,
   "metadata": {},
   "outputs": [
    {
     "ename": "TypeError",
     "evalue": "pcp_intensity() got an unexpected keyword argument 'amplitude'",
     "output_type": "error",
     "traceback": [
      "\u001b[31m---------------------------------------------------------------------------\u001b[39m",
      "\u001b[31mTypeError\u001b[39m                                 Traceback (most recent call last)",
      "\u001b[36mCell\u001b[39m\u001b[36m \u001b[39m\u001b[32mIn[30]\u001b[39m\u001b[32m, line 4\u001b[39m\n\u001b[32m      2\u001b[39m lam = partial(pcp_intensity, **params)\n\u001b[32m      3\u001b[39m samples = np.arange(\u001b[32m0\u001b[39m, \u001b[32m14\u001b[39m, \u001b[32m14\u001b[39m/\u001b[32m1000\u001b[39m)\n\u001b[32m----> \u001b[39m\u001b[32m4\u001b[39m px.line(x = samples, y = \u001b[43mlam\u001b[49m\u001b[43m(\u001b[49m\u001b[43msamples\u001b[49m\u001b[43m)\u001b[49m)\n",
      "\u001b[31mTypeError\u001b[39m: pcp_intensity() got an unexpected keyword argument 'amplitude'"
     ]
    }
   ],
   "source": [
    "params = {k : jnp.mean(v).item() for (k, v) in mcmc.get_samples().items()}\n",
    "lam = partial(pcp_intensity, **params)\n",
    "samples = np.arange(0, 14, 14/1000)\n",
    "px.line(x = samples, y = lam(samples))"
   ]
  },
  {
   "cell_type": "code",
   "execution_count": null,
   "metadata": {},
   "outputs": [
    {
     "name": "stderr",
     "output_type": "stream",
     "text": [
      "sample: 100%|██████████| 1500/1500 [00:02<00:00, 661.08it/s] \n"
     ]
    },
    {
     "data": {
      "application/vnd.plotly.v1+json": {
       "config": {
        "plotlyServerURL": "https://plot.ly"
       },
       "data": [
        {
         "name": "Corrected Relevant Tweets",
         "opacity": 0.5,
         "type": "bar",
         "x": [
          "2022-08-30T00:00:00.000000000",
          "2022-08-30T01:00:00.000000000",
          "2022-08-30T02:00:00.000000000",
          "2022-08-30T03:00:00.000000000",
          "2022-08-30T04:00:00.000000000",
          "2022-08-30T05:00:00.000000000",
          "2022-08-30T06:00:00.000000000",
          "2022-08-30T07:00:00.000000000",
          "2022-08-30T08:00:00.000000000",
          "2022-08-30T09:00:00.000000000",
          "2022-08-30T10:00:00.000000000",
          "2022-08-30T11:00:00.000000000",
          "2022-08-30T12:00:00.000000000",
          "2022-08-30T13:00:00.000000000",
          "2022-08-30T14:00:00.000000000",
          "2022-08-30T15:00:00.000000000",
          "2022-08-30T16:00:00.000000000",
          "2022-08-30T17:00:00.000000000",
          "2022-08-30T18:00:00.000000000",
          "2022-08-30T19:00:00.000000000",
          "2022-08-30T20:00:00.000000000",
          "2022-08-30T21:00:00.000000000",
          "2022-08-30T22:00:00.000000000",
          "2022-08-30T23:00:00.000000000",
          "2022-08-31T00:00:00.000000000",
          "2022-08-31T01:00:00.000000000",
          "2022-08-31T02:00:00.000000000",
          "2022-08-31T03:00:00.000000000",
          "2022-08-31T04:00:00.000000000",
          "2022-08-31T05:00:00.000000000",
          "2022-08-31T06:00:00.000000000",
          "2022-08-31T07:00:00.000000000",
          "2022-08-31T08:00:00.000000000",
          "2022-08-31T09:00:00.000000000",
          "2022-08-31T10:00:00.000000000",
          "2022-08-31T11:00:00.000000000",
          "2022-08-31T12:00:00.000000000",
          "2022-08-31T13:00:00.000000000",
          "2022-08-31T14:00:00.000000000",
          "2022-08-31T15:00:00.000000000",
          "2022-08-31T16:00:00.000000000",
          "2022-08-31T17:00:00.000000000",
          "2022-08-31T18:00:00.000000000",
          "2022-08-31T19:00:00.000000000",
          "2022-08-31T20:00:00.000000000",
          "2022-08-31T21:00:00.000000000",
          "2022-08-31T22:00:00.000000000",
          "2022-08-31T23:00:00.000000000",
          "2022-09-01T00:00:00.000000000",
          "2022-09-01T01:00:00.000000000",
          "2022-09-01T02:00:00.000000000",
          "2022-09-01T03:00:00.000000000",
          "2022-09-01T04:00:00.000000000",
          "2022-09-01T05:00:00.000000000",
          "2022-09-01T06:00:00.000000000",
          "2022-09-01T07:00:00.000000000",
          "2022-09-01T08:00:00.000000000",
          "2022-09-01T09:00:00.000000000",
          "2022-09-01T10:00:00.000000000",
          "2022-09-01T11:00:00.000000000",
          "2022-09-01T12:00:00.000000000",
          "2022-09-01T13:00:00.000000000",
          "2022-09-01T14:00:00.000000000",
          "2022-09-01T15:00:00.000000000",
          "2022-09-01T16:00:00.000000000",
          "2022-09-01T17:00:00.000000000",
          "2022-09-01T18:00:00.000000000",
          "2022-09-01T19:00:00.000000000",
          "2022-09-01T20:00:00.000000000",
          "2022-09-01T21:00:00.000000000",
          "2022-09-01T22:00:00.000000000",
          "2022-09-01T23:00:00.000000000",
          "2022-09-02T00:00:00.000000000",
          "2022-09-02T01:00:00.000000000",
          "2022-09-02T02:00:00.000000000",
          "2022-09-02T03:00:00.000000000",
          "2022-09-02T04:00:00.000000000",
          "2022-09-02T05:00:00.000000000",
          "2022-09-02T06:00:00.000000000",
          "2022-09-02T07:00:00.000000000",
          "2022-09-02T08:00:00.000000000",
          "2022-09-02T09:00:00.000000000",
          "2022-09-02T10:00:00.000000000",
          "2022-09-02T11:00:00.000000000",
          "2022-09-02T12:00:00.000000000",
          "2022-09-02T13:00:00.000000000",
          "2022-09-02T14:00:00.000000000",
          "2022-09-02T15:00:00.000000000",
          "2022-09-02T16:00:00.000000000",
          "2022-09-02T17:00:00.000000000",
          "2022-09-02T18:00:00.000000000",
          "2022-09-02T19:00:00.000000000",
          "2022-09-02T20:00:00.000000000",
          "2022-09-02T21:00:00.000000000",
          "2022-09-02T22:00:00.000000000",
          "2022-09-02T23:00:00.000000000",
          "2022-09-03T00:00:00.000000000",
          "2022-09-03T01:00:00.000000000",
          "2022-09-03T02:00:00.000000000",
          "2022-09-03T03:00:00.000000000",
          "2022-09-03T04:00:00.000000000",
          "2022-09-03T05:00:00.000000000",
          "2022-09-03T06:00:00.000000000",
          "2022-09-03T07:00:00.000000000",
          "2022-09-03T08:00:00.000000000",
          "2022-09-03T09:00:00.000000000",
          "2022-09-03T10:00:00.000000000",
          "2022-09-03T11:00:00.000000000",
          "2022-09-03T12:00:00.000000000",
          "2022-09-03T13:00:00.000000000",
          "2022-09-03T14:00:00.000000000",
          "2022-09-03T15:00:00.000000000",
          "2022-09-03T16:00:00.000000000",
          "2022-09-03T17:00:00.000000000",
          "2022-09-03T18:00:00.000000000",
          "2022-09-03T19:00:00.000000000",
          "2022-09-03T20:00:00.000000000",
          "2022-09-03T21:00:00.000000000",
          "2022-09-03T22:00:00.000000000",
          "2022-09-03T23:00:00.000000000",
          "2022-09-04T00:00:00.000000000",
          "2022-09-04T01:00:00.000000000",
          "2022-09-04T02:00:00.000000000",
          "2022-09-04T03:00:00.000000000",
          "2022-09-04T04:00:00.000000000",
          "2022-09-04T05:00:00.000000000",
          "2022-09-04T06:00:00.000000000",
          "2022-09-04T07:00:00.000000000",
          "2022-09-04T08:00:00.000000000",
          "2022-09-04T09:00:00.000000000",
          "2022-09-04T10:00:00.000000000",
          "2022-09-04T11:00:00.000000000",
          "2022-09-04T12:00:00.000000000",
          "2022-09-04T13:00:00.000000000",
          "2022-09-04T14:00:00.000000000",
          "2022-09-04T15:00:00.000000000",
          "2022-09-04T16:00:00.000000000",
          "2022-09-04T17:00:00.000000000",
          "2022-09-04T18:00:00.000000000",
          "2022-09-04T19:00:00.000000000",
          "2022-09-04T20:00:00.000000000",
          "2022-09-04T21:00:00.000000000",
          "2022-09-04T22:00:00.000000000",
          "2022-09-04T23:00:00.000000000",
          "2022-09-05T00:00:00.000000000",
          "2022-09-05T01:00:00.000000000",
          "2022-09-05T02:00:00.000000000",
          "2022-09-05T03:00:00.000000000",
          "2022-09-05T04:00:00.000000000",
          "2022-09-05T05:00:00.000000000",
          "2022-09-05T06:00:00.000000000",
          "2022-09-05T07:00:00.000000000",
          "2022-09-05T08:00:00.000000000",
          "2022-09-05T09:00:00.000000000",
          "2022-09-05T10:00:00.000000000",
          "2022-09-05T11:00:00.000000000",
          "2022-09-05T12:00:00.000000000",
          "2022-09-05T13:00:00.000000000",
          "2022-09-05T14:00:00.000000000",
          "2022-09-05T15:00:00.000000000",
          "2022-09-05T16:00:00.000000000",
          "2022-09-05T17:00:00.000000000",
          "2022-09-05T18:00:00.000000000",
          "2022-09-05T19:00:00.000000000",
          "2022-09-05T20:00:00.000000000",
          "2022-09-05T21:00:00.000000000",
          "2022-09-05T22:00:00.000000000",
          "2022-09-05T23:00:00.000000000"
         ],
         "xaxis": "x",
         "y": {
          "bdata": "DKoeEv/NMkBt2rRp00Y0QHJE4gWP9DdAlEMphg5vOEBuZGv/iOY7QOtWecjQWUNAs15X25O6OEBaaD1aaJ06QF5bzcHtEDVAlHhmKRXeOUCY3lvDZqM6QGzKxMyW6DpAXBIKg7FqK0DSN8sYT8g+QLJU8JnxI0FATrn+I3JOOEBKinVO1546QB7nX7RIxD1AKqY6AlWoPkB5nRVSAskyQNFp/F6CaDZAEdFAoii7OEAgkWWiJxM1QOJCzUkgVidADKoeEv/NMkCvGe+Z7/o2QHJE4gWP9DdAto/JtNUuPkAibWRr/xYzQDhypkoiXD1AIj86kmJ8QEDFPvvFPos3QOMq0CW/iz5ABVay7mSoPkCElCdT22Q9QJMn1t5nSD1AxqCNj0PCQkCkGOovR7Q7QAIHHHDAQTRA13HeG5ufPUCHJjSDLOdIQI3cAMG5KEBAVZSSvzxFQ0DATT7DAl02QAgQ8ihxiTFAXRPoYSLtNEDHt5hRhFA2QJqTQFyoKy1AQf9Xr8uQJkBQOQyy/VQ4QPzS9MgUIzVAv6JxgMeeL0DI6Gc1xH43QDt3mIz+rkJAXzk0I3peUUBsYTJsYRpKQHd/lm2h6UtAnNSW5PlNS0CKQ8Zeu4hAQLC+qjHdWEdAKYSaxKNVSkAs/kNbuO5FQEt94Up6pURAdfHOhfYgREB8ly5WgQhCQDGf2H2dj0NA1RZ9PGEnO0Dtu/cJg5lIQEbG2RvRMz5AqVWPIRwfMUB4ajLzytUzQD7rBlPkQDpAc8Yx8e0ONEAO+tGB4aA1QHJE4gWP9DdAto/JtNUuPkDh5RS8nG46QBk0YeM0WzlAT5WM4GZwPUB+Wid+Wpc5QGGQJK/OYjtABVay7mSoPkDSvPgTCV9CQERts7rFiDhA+UFDu48JQkDeaZhSOxY3QL3MvJAbmDZADXy+iifdPECwA5lKAuo+QIiuoo7ktUJAVesuaKqGSEBVRYEZAv9AQJa7jQDbgkJAXRPoYSLtNEB4ajLzytUzQFjG9jv69TJArKnK6WQWHkDTt4ASNr0tQEAafqpXuiNAegoxIzkfNED64sFCdV4tQHz4FJ21AzBA9uLZodudPkCiTBGiTJE4QN3AIUv95zFAY1BExrg+MUA4pXnxJxNAQM1Vf4RSaTFAXBIKg7FqK0BG2ideN4w1QMdEiYdFDCxAj/Y+vby/M0AgrRCHAZw0QH9S5ik60CdAqiNQhTDGNkDkpdL7Aic4QEK+YIcYbyVAXRPoYSLtJEBlUmUO90UrQD7rBlPkQCpApY0LMxCNIUArm3o5t5IxQLeLa+fRizZAizCBuhz/JkD64sFCdV49QHz4FJ21AzBAIj86kmJ8MEDpMOXpMIUmQGGQJK/OYitApTDHn969LEBjr11+pAsWQM1Vf4RSaTFA9c+eKxncHECvSrdpMwIkQHiSXbF27ihADXy+iifdLECb5Y3wqywxQH9S5ik60CdAAFxxorYFNUD20RwYAwwpQH1sz+W/VClAxY6Z4i6JLEB4ajLzytUjQCryWTeYgDFAc8Yx8e0OJECKe10hqTggQEAafqpXuiNAcfeIV0evMkDh5RS8nG4qQPr1G3xHWiVAcNrUFEzXMkCiTBGiTJE4QLhM7KgZfj1AY1BExrg+QUA8G/WdjY47QIUfhYrtMzJAkdlLiXoWN0B1+QhHP6A4QKBrcxxefTpAMBXfCWJ4QUDun1d/VzI9QIOARFwPQzVAVZSSvzxFI0Bi2tnBA2ouQAwYa70pTjpAEdFAoii7KEBu3ssA4Y03QFjG9jv69TJA",
          "dtype": "f8"
         },
         "yaxis": "y"
        },
        {
         "error_y": {
          "array": {
           "bdata": "LbcPQZR3D0HmHQ9BWb8NQYUcDUGlXg1BYgINQS71C0FAYwxBIIQNQXQmDEEWmwtBNQ8NQVxXDUG91QtBJ5wLQSLFDEF/IgxBOqYLQWpzDEFfkQ1Bex4LQejJDEEbng1BxfAMQaQxDUHHxQxBSyMOQUfZDUFLlAxBHCcNQZUlDEHo5wtBxMwLQSo/DUEFGg1Byx0NQf0ODUEvEQxBOZQNQQTUDUElDg1Bhu0LQdGBDUEb9AxB+EQNQYRJC0Fpcw5BmkUMQdrjC0GskgxBZNIMQS8pDUGF6UJB4LR+Qc6/a0HCollBznlNQXWxQEGxszhBSJswQdKgJ0FF0SRBD8cfQW6tHUGihRlBB2MWQR+wFUEDuRNBUcMSQSd6EEGMzQ5B9isPQcAYD0ErFg9BbhkOQSTlC0HD1g1BAlMMQZa2C0HdaAxBj3wMQcGlDEGbLwxB0bQMQRlqDEHIwApB5xMLQaxwC0F2HgxB2ekLQS8pC0HdPwxBuroMQcXfCkF0MwpBOkUMQWEgDEHAvAxBCWsMQd1fDEGRmgxBJJ8LQcsBDUHumQtBIJ8MQRwyC0G6WgxBDWMLQZXtDEGymwxB+TgMQYmJDEEIYgxBtE4NQeWIDEGOAgxBILQLQb2oC0G2UgxB4O8MQfnaC0HeQQ1By9kLQR5nDUG0owtBXaMMQTn2DEFlXg1BmvoNQTKHDEE+0wxBjqkLQSIBDkHNHAxBP50LQa/+DEHLCgxBAiYMQSpbDEE2MQxBAhENQXx1C0FLxwpBcrkLQQaWC0HlGQtBcPQNQTJuDEHNkg5BwLwLQRujDEFopwxBT/sLQc0HDEHXnAtBNQANQWEeDEERrgtB7wsLQcfFC0GdYwxBjHwLQbMcDEFn6wtBbRgNQf+9C0EtRg1B",
           "dtype": "f4"
          },
          "type": "data",
          "visible": true
         },
         "mode": "lines",
         "name": "Predicted Relevant Tweets",
         "opacity": 0.5,
         "type": "scatter",
         "x": [
          "2022-08-30T00:00:00.000000000",
          "2022-08-30T01:00:00.000000000",
          "2022-08-30T02:00:00.000000000",
          "2022-08-30T03:00:00.000000000",
          "2022-08-30T04:00:00.000000000",
          "2022-08-30T05:00:00.000000000",
          "2022-08-30T06:00:00.000000000",
          "2022-08-30T07:00:00.000000000",
          "2022-08-30T08:00:00.000000000",
          "2022-08-30T09:00:00.000000000",
          "2022-08-30T10:00:00.000000000",
          "2022-08-30T11:00:00.000000000",
          "2022-08-30T12:00:00.000000000",
          "2022-08-30T13:00:00.000000000",
          "2022-08-30T14:00:00.000000000",
          "2022-08-30T15:00:00.000000000",
          "2022-08-30T16:00:00.000000000",
          "2022-08-30T17:00:00.000000000",
          "2022-08-30T18:00:00.000000000",
          "2022-08-30T19:00:00.000000000",
          "2022-08-30T20:00:00.000000000",
          "2022-08-30T21:00:00.000000000",
          "2022-08-30T22:00:00.000000000",
          "2022-08-30T23:00:00.000000000",
          "2022-08-31T00:00:00.000000000",
          "2022-08-31T01:00:00.000000000",
          "2022-08-31T02:00:00.000000000",
          "2022-08-31T03:00:00.000000000",
          "2022-08-31T04:00:00.000000000",
          "2022-08-31T05:00:00.000000000",
          "2022-08-31T06:00:00.000000000",
          "2022-08-31T07:00:00.000000000",
          "2022-08-31T08:00:00.000000000",
          "2022-08-31T09:00:00.000000000",
          "2022-08-31T10:00:00.000000000",
          "2022-08-31T11:00:00.000000000",
          "2022-08-31T12:00:00.000000000",
          "2022-08-31T13:00:00.000000000",
          "2022-08-31T14:00:00.000000000",
          "2022-08-31T15:00:00.000000000",
          "2022-08-31T16:00:00.000000000",
          "2022-08-31T17:00:00.000000000",
          "2022-08-31T18:00:00.000000000",
          "2022-08-31T19:00:00.000000000",
          "2022-08-31T20:00:00.000000000",
          "2022-08-31T21:00:00.000000000",
          "2022-08-31T22:00:00.000000000",
          "2022-08-31T23:00:00.000000000",
          "2022-09-01T00:00:00.000000000",
          "2022-09-01T01:00:00.000000000",
          "2022-09-01T02:00:00.000000000",
          "2022-09-01T03:00:00.000000000",
          "2022-09-01T04:00:00.000000000",
          "2022-09-01T05:00:00.000000000",
          "2022-09-01T06:00:00.000000000",
          "2022-09-01T07:00:00.000000000",
          "2022-09-01T08:00:00.000000000",
          "2022-09-01T09:00:00.000000000",
          "2022-09-01T10:00:00.000000000",
          "2022-09-01T11:00:00.000000000",
          "2022-09-01T12:00:00.000000000",
          "2022-09-01T13:00:00.000000000",
          "2022-09-01T14:00:00.000000000",
          "2022-09-01T15:00:00.000000000",
          "2022-09-01T16:00:00.000000000",
          "2022-09-01T17:00:00.000000000",
          "2022-09-01T18:00:00.000000000",
          "2022-09-01T19:00:00.000000000",
          "2022-09-01T20:00:00.000000000",
          "2022-09-01T21:00:00.000000000",
          "2022-09-01T22:00:00.000000000",
          "2022-09-01T23:00:00.000000000",
          "2022-09-02T00:00:00.000000000",
          "2022-09-02T01:00:00.000000000",
          "2022-09-02T02:00:00.000000000",
          "2022-09-02T03:00:00.000000000",
          "2022-09-02T04:00:00.000000000",
          "2022-09-02T05:00:00.000000000",
          "2022-09-02T06:00:00.000000000",
          "2022-09-02T07:00:00.000000000",
          "2022-09-02T08:00:00.000000000",
          "2022-09-02T09:00:00.000000000",
          "2022-09-02T10:00:00.000000000",
          "2022-09-02T11:00:00.000000000",
          "2022-09-02T12:00:00.000000000",
          "2022-09-02T13:00:00.000000000",
          "2022-09-02T14:00:00.000000000",
          "2022-09-02T15:00:00.000000000",
          "2022-09-02T16:00:00.000000000",
          "2022-09-02T17:00:00.000000000",
          "2022-09-02T18:00:00.000000000",
          "2022-09-02T19:00:00.000000000",
          "2022-09-02T20:00:00.000000000",
          "2022-09-02T21:00:00.000000000",
          "2022-09-02T22:00:00.000000000",
          "2022-09-02T23:00:00.000000000",
          "2022-09-03T00:00:00.000000000",
          "2022-09-03T01:00:00.000000000",
          "2022-09-03T02:00:00.000000000",
          "2022-09-03T03:00:00.000000000",
          "2022-09-03T04:00:00.000000000",
          "2022-09-03T05:00:00.000000000",
          "2022-09-03T06:00:00.000000000",
          "2022-09-03T07:00:00.000000000",
          "2022-09-03T08:00:00.000000000",
          "2022-09-03T09:00:00.000000000",
          "2022-09-03T10:00:00.000000000",
          "2022-09-03T11:00:00.000000000",
          "2022-09-03T12:00:00.000000000",
          "2022-09-03T13:00:00.000000000",
          "2022-09-03T14:00:00.000000000",
          "2022-09-03T15:00:00.000000000",
          "2022-09-03T16:00:00.000000000",
          "2022-09-03T17:00:00.000000000",
          "2022-09-03T18:00:00.000000000",
          "2022-09-03T19:00:00.000000000",
          "2022-09-03T20:00:00.000000000",
          "2022-09-03T21:00:00.000000000",
          "2022-09-03T22:00:00.000000000",
          "2022-09-03T23:00:00.000000000",
          "2022-09-04T00:00:00.000000000",
          "2022-09-04T01:00:00.000000000",
          "2022-09-04T02:00:00.000000000",
          "2022-09-04T03:00:00.000000000",
          "2022-09-04T04:00:00.000000000",
          "2022-09-04T05:00:00.000000000",
          "2022-09-04T06:00:00.000000000",
          "2022-09-04T07:00:00.000000000",
          "2022-09-04T08:00:00.000000000",
          "2022-09-04T09:00:00.000000000",
          "2022-09-04T10:00:00.000000000",
          "2022-09-04T11:00:00.000000000",
          "2022-09-04T12:00:00.000000000",
          "2022-09-04T13:00:00.000000000",
          "2022-09-04T14:00:00.000000000",
          "2022-09-04T15:00:00.000000000",
          "2022-09-04T16:00:00.000000000",
          "2022-09-04T17:00:00.000000000",
          "2022-09-04T18:00:00.000000000",
          "2022-09-04T19:00:00.000000000",
          "2022-09-04T20:00:00.000000000",
          "2022-09-04T21:00:00.000000000",
          "2022-09-04T22:00:00.000000000",
          "2022-09-04T23:00:00.000000000",
          "2022-09-05T00:00:00.000000000",
          "2022-09-05T01:00:00.000000000",
          "2022-09-05T02:00:00.000000000",
          "2022-09-05T03:00:00.000000000",
          "2022-09-05T04:00:00.000000000",
          "2022-09-05T05:00:00.000000000",
          "2022-09-05T06:00:00.000000000",
          "2022-09-05T07:00:00.000000000",
          "2022-09-05T08:00:00.000000000",
          "2022-09-05T09:00:00.000000000",
          "2022-09-05T10:00:00.000000000",
          "2022-09-05T11:00:00.000000000",
          "2022-09-05T12:00:00.000000000",
          "2022-09-05T13:00:00.000000000",
          "2022-09-05T14:00:00.000000000",
          "2022-09-05T15:00:00.000000000",
          "2022-09-05T16:00:00.000000000",
          "2022-09-05T17:00:00.000000000",
          "2022-09-05T18:00:00.000000000",
          "2022-09-05T19:00:00.000000000",
          "2022-09-05T20:00:00.000000000",
          "2022-09-05T21:00:00.000000000",
          "2022-09-05T22:00:00.000000000",
          "2022-09-05T23:00:00.000000000"
         ],
         "xaxis": "x",
         "y": {
          "bdata": "5TqpQUQCqUHmIa1BkUOtQR5yrkFHmK5B7hGtQTABrUGIea1BG96tQSWwrUEfha1Bk8KtQehErkGWUa1B0lCuQVIerUHYP61BxgutQf0QrkFqBK5BW1WtQR69rUETgK1BVJutQTldrkHaea1BhuytQTtnrkGi9a1Bat2tQbYVrkEEU65BaKiuQe0wrkFS+61Bzk2uQbuIrUHWJK5BcL6uQbBwrkHzLq9B0rKtQUEZr0EnJK5BzO+tQcjgrkH0Nq5BKVCtQVOhrUEw+K1Bsr2uQb+JrkEBoL9B4WJjQqfUVELWz0hCykE+Qq/gM0L43ypCvTkjQlDmG0KYjxVCtRkPQrJRCkIiZwVCyC0BQjoV+0H91fNBcR/tQbqm5kF42uJB3VTeQTop2kG6xdVBF7vSQanAzkHXNsxBt2TKQXtnx0HLeMVBRH7DQSAmwkEozsBBnXe/QaSEvkFpd7tBDuS7QfPuuUEbKbpBK4K5QXb+t0EO67ZByem2QU1Vt0HGSbZBAsa0QWAvtUF5YbRBAtmzQXdHtEHgHLRBLcGyQd8Zs0HMu7JBUgmyQcLUskHMwbFBe4yxQSwHskEsv7BBfeixQZ2SsUGsh7FBGR6xQaX7sUEPA7FByXOxQTnwr0GdnbBBLI2xQXDnr0Equ7BBtviwQcR2sEG3abFBie2xQbgosUG16rBB0OiwQUhmsUGa669BxEiwQdxisEEjxLBBMquvQWoksEEwJrFBw1+xQZg1sEE5r7BB07uvQbYDsEEFOrBBACOwQRAvsEFiMbBBuaawQZdKsUHZJrBB4QGwQZs9sEFCD7BBQwGwQS6YsEHZz7BBxa2wQS8gsEG7arBBrzavQTy8sEEq3q9BEAaxQWg/sEEY0K9Br1WwQdAgsEEI/K9B",
          "dtype": "f4"
         },
         "yaxis": "y"
        }
       ],
       "layout": {
        "template": {
         "data": {
          "bar": [
           {
            "error_x": {
             "color": "#2a3f5f"
            },
            "error_y": {
             "color": "#2a3f5f"
            },
            "marker": {
             "line": {
              "color": "#E5ECF6",
              "width": 0.5
             },
             "pattern": {
              "fillmode": "overlay",
              "size": 10,
              "solidity": 0.2
             }
            },
            "type": "bar"
           }
          ],
          "barpolar": [
           {
            "marker": {
             "line": {
              "color": "#E5ECF6",
              "width": 0.5
             },
             "pattern": {
              "fillmode": "overlay",
              "size": 10,
              "solidity": 0.2
             }
            },
            "type": "barpolar"
           }
          ],
          "carpet": [
           {
            "aaxis": {
             "endlinecolor": "#2a3f5f",
             "gridcolor": "white",
             "linecolor": "white",
             "minorgridcolor": "white",
             "startlinecolor": "#2a3f5f"
            },
            "baxis": {
             "endlinecolor": "#2a3f5f",
             "gridcolor": "white",
             "linecolor": "white",
             "minorgridcolor": "white",
             "startlinecolor": "#2a3f5f"
            },
            "type": "carpet"
           }
          ],
          "choropleth": [
           {
            "colorbar": {
             "outlinewidth": 0,
             "ticks": ""
            },
            "type": "choropleth"
           }
          ],
          "contour": [
           {
            "colorbar": {
             "outlinewidth": 0,
             "ticks": ""
            },
            "colorscale": [
             [
              0,
              "#0d0887"
             ],
             [
              0.1111111111111111,
              "#46039f"
             ],
             [
              0.2222222222222222,
              "#7201a8"
             ],
             [
              0.3333333333333333,
              "#9c179e"
             ],
             [
              0.4444444444444444,
              "#bd3786"
             ],
             [
              0.5555555555555556,
              "#d8576b"
             ],
             [
              0.6666666666666666,
              "#ed7953"
             ],
             [
              0.7777777777777778,
              "#fb9f3a"
             ],
             [
              0.8888888888888888,
              "#fdca26"
             ],
             [
              1,
              "#f0f921"
             ]
            ],
            "type": "contour"
           }
          ],
          "contourcarpet": [
           {
            "colorbar": {
             "outlinewidth": 0,
             "ticks": ""
            },
            "type": "contourcarpet"
           }
          ],
          "heatmap": [
           {
            "colorbar": {
             "outlinewidth": 0,
             "ticks": ""
            },
            "colorscale": [
             [
              0,
              "#0d0887"
             ],
             [
              0.1111111111111111,
              "#46039f"
             ],
             [
              0.2222222222222222,
              "#7201a8"
             ],
             [
              0.3333333333333333,
              "#9c179e"
             ],
             [
              0.4444444444444444,
              "#bd3786"
             ],
             [
              0.5555555555555556,
              "#d8576b"
             ],
             [
              0.6666666666666666,
              "#ed7953"
             ],
             [
              0.7777777777777778,
              "#fb9f3a"
             ],
             [
              0.8888888888888888,
              "#fdca26"
             ],
             [
              1,
              "#f0f921"
             ]
            ],
            "type": "heatmap"
           }
          ],
          "histogram": [
           {
            "marker": {
             "pattern": {
              "fillmode": "overlay",
              "size": 10,
              "solidity": 0.2
             }
            },
            "type": "histogram"
           }
          ],
          "histogram2d": [
           {
            "colorbar": {
             "outlinewidth": 0,
             "ticks": ""
            },
            "colorscale": [
             [
              0,
              "#0d0887"
             ],
             [
              0.1111111111111111,
              "#46039f"
             ],
             [
              0.2222222222222222,
              "#7201a8"
             ],
             [
              0.3333333333333333,
              "#9c179e"
             ],
             [
              0.4444444444444444,
              "#bd3786"
             ],
             [
              0.5555555555555556,
              "#d8576b"
             ],
             [
              0.6666666666666666,
              "#ed7953"
             ],
             [
              0.7777777777777778,
              "#fb9f3a"
             ],
             [
              0.8888888888888888,
              "#fdca26"
             ],
             [
              1,
              "#f0f921"
             ]
            ],
            "type": "histogram2d"
           }
          ],
          "histogram2dcontour": [
           {
            "colorbar": {
             "outlinewidth": 0,
             "ticks": ""
            },
            "colorscale": [
             [
              0,
              "#0d0887"
             ],
             [
              0.1111111111111111,
              "#46039f"
             ],
             [
              0.2222222222222222,
              "#7201a8"
             ],
             [
              0.3333333333333333,
              "#9c179e"
             ],
             [
              0.4444444444444444,
              "#bd3786"
             ],
             [
              0.5555555555555556,
              "#d8576b"
             ],
             [
              0.6666666666666666,
              "#ed7953"
             ],
             [
              0.7777777777777778,
              "#fb9f3a"
             ],
             [
              0.8888888888888888,
              "#fdca26"
             ],
             [
              1,
              "#f0f921"
             ]
            ],
            "type": "histogram2dcontour"
           }
          ],
          "mesh3d": [
           {
            "colorbar": {
             "outlinewidth": 0,
             "ticks": ""
            },
            "type": "mesh3d"
           }
          ],
          "parcoords": [
           {
            "line": {
             "colorbar": {
              "outlinewidth": 0,
              "ticks": ""
             }
            },
            "type": "parcoords"
           }
          ],
          "pie": [
           {
            "automargin": true,
            "type": "pie"
           }
          ],
          "scatter": [
           {
            "fillpattern": {
             "fillmode": "overlay",
             "size": 10,
             "solidity": 0.2
            },
            "type": "scatter"
           }
          ],
          "scatter3d": [
           {
            "line": {
             "colorbar": {
              "outlinewidth": 0,
              "ticks": ""
             }
            },
            "marker": {
             "colorbar": {
              "outlinewidth": 0,
              "ticks": ""
             }
            },
            "type": "scatter3d"
           }
          ],
          "scattercarpet": [
           {
            "marker": {
             "colorbar": {
              "outlinewidth": 0,
              "ticks": ""
             }
            },
            "type": "scattercarpet"
           }
          ],
          "scattergeo": [
           {
            "marker": {
             "colorbar": {
              "outlinewidth": 0,
              "ticks": ""
             }
            },
            "type": "scattergeo"
           }
          ],
          "scattergl": [
           {
            "marker": {
             "colorbar": {
              "outlinewidth": 0,
              "ticks": ""
             }
            },
            "type": "scattergl"
           }
          ],
          "scattermap": [
           {
            "marker": {
             "colorbar": {
              "outlinewidth": 0,
              "ticks": ""
             }
            },
            "type": "scattermap"
           }
          ],
          "scattermapbox": [
           {
            "marker": {
             "colorbar": {
              "outlinewidth": 0,
              "ticks": ""
             }
            },
            "type": "scattermapbox"
           }
          ],
          "scatterpolar": [
           {
            "marker": {
             "colorbar": {
              "outlinewidth": 0,
              "ticks": ""
             }
            },
            "type": "scatterpolar"
           }
          ],
          "scatterpolargl": [
           {
            "marker": {
             "colorbar": {
              "outlinewidth": 0,
              "ticks": ""
             }
            },
            "type": "scatterpolargl"
           }
          ],
          "scatterternary": [
           {
            "marker": {
             "colorbar": {
              "outlinewidth": 0,
              "ticks": ""
             }
            },
            "type": "scatterternary"
           }
          ],
          "surface": [
           {
            "colorbar": {
             "outlinewidth": 0,
             "ticks": ""
            },
            "colorscale": [
             [
              0,
              "#0d0887"
             ],
             [
              0.1111111111111111,
              "#46039f"
             ],
             [
              0.2222222222222222,
              "#7201a8"
             ],
             [
              0.3333333333333333,
              "#9c179e"
             ],
             [
              0.4444444444444444,
              "#bd3786"
             ],
             [
              0.5555555555555556,
              "#d8576b"
             ],
             [
              0.6666666666666666,
              "#ed7953"
             ],
             [
              0.7777777777777778,
              "#fb9f3a"
             ],
             [
              0.8888888888888888,
              "#fdca26"
             ],
             [
              1,
              "#f0f921"
             ]
            ],
            "type": "surface"
           }
          ],
          "table": [
           {
            "cells": {
             "fill": {
              "color": "#EBF0F8"
             },
             "line": {
              "color": "white"
             }
            },
            "header": {
             "fill": {
              "color": "#C8D4E3"
             },
             "line": {
              "color": "white"
             }
            },
            "type": "table"
           }
          ]
         },
         "layout": {
          "annotationdefaults": {
           "arrowcolor": "#2a3f5f",
           "arrowhead": 0,
           "arrowwidth": 1
          },
          "autotypenumbers": "strict",
          "coloraxis": {
           "colorbar": {
            "outlinewidth": 0,
            "ticks": ""
           }
          },
          "colorscale": {
           "diverging": [
            [
             0,
             "#8e0152"
            ],
            [
             0.1,
             "#c51b7d"
            ],
            [
             0.2,
             "#de77ae"
            ],
            [
             0.3,
             "#f1b6da"
            ],
            [
             0.4,
             "#fde0ef"
            ],
            [
             0.5,
             "#f7f7f7"
            ],
            [
             0.6,
             "#e6f5d0"
            ],
            [
             0.7,
             "#b8e186"
            ],
            [
             0.8,
             "#7fbc41"
            ],
            [
             0.9,
             "#4d9221"
            ],
            [
             1,
             "#276419"
            ]
           ],
           "sequential": [
            [
             0,
             "#0d0887"
            ],
            [
             0.1111111111111111,
             "#46039f"
            ],
            [
             0.2222222222222222,
             "#7201a8"
            ],
            [
             0.3333333333333333,
             "#9c179e"
            ],
            [
             0.4444444444444444,
             "#bd3786"
            ],
            [
             0.5555555555555556,
             "#d8576b"
            ],
            [
             0.6666666666666666,
             "#ed7953"
            ],
            [
             0.7777777777777778,
             "#fb9f3a"
            ],
            [
             0.8888888888888888,
             "#fdca26"
            ],
            [
             1,
             "#f0f921"
            ]
           ],
           "sequentialminus": [
            [
             0,
             "#0d0887"
            ],
            [
             0.1111111111111111,
             "#46039f"
            ],
            [
             0.2222222222222222,
             "#7201a8"
            ],
            [
             0.3333333333333333,
             "#9c179e"
            ],
            [
             0.4444444444444444,
             "#bd3786"
            ],
            [
             0.5555555555555556,
             "#d8576b"
            ],
            [
             0.6666666666666666,
             "#ed7953"
            ],
            [
             0.7777777777777778,
             "#fb9f3a"
            ],
            [
             0.8888888888888888,
             "#fdca26"
            ],
            [
             1,
             "#f0f921"
            ]
           ]
          },
          "colorway": [
           "#636efa",
           "#EF553B",
           "#00cc96",
           "#ab63fa",
           "#FFA15A",
           "#19d3f3",
           "#FF6692",
           "#B6E880",
           "#FF97FF",
           "#FECB52"
          ],
          "font": {
           "color": "#2a3f5f"
          },
          "geo": {
           "bgcolor": "white",
           "lakecolor": "white",
           "landcolor": "#E5ECF6",
           "showlakes": true,
           "showland": true,
           "subunitcolor": "white"
          },
          "hoverlabel": {
           "align": "left"
          },
          "hovermode": "closest",
          "mapbox": {
           "style": "light"
          },
          "paper_bgcolor": "white",
          "plot_bgcolor": "#E5ECF6",
          "polar": {
           "angularaxis": {
            "gridcolor": "white",
            "linecolor": "white",
            "ticks": ""
           },
           "bgcolor": "#E5ECF6",
           "radialaxis": {
            "gridcolor": "white",
            "linecolor": "white",
            "ticks": ""
           }
          },
          "scene": {
           "xaxis": {
            "backgroundcolor": "#E5ECF6",
            "gridcolor": "white",
            "gridwidth": 2,
            "linecolor": "white",
            "showbackground": true,
            "ticks": "",
            "zerolinecolor": "white"
           },
           "yaxis": {
            "backgroundcolor": "#E5ECF6",
            "gridcolor": "white",
            "gridwidth": 2,
            "linecolor": "white",
            "showbackground": true,
            "ticks": "",
            "zerolinecolor": "white"
           },
           "zaxis": {
            "backgroundcolor": "#E5ECF6",
            "gridcolor": "white",
            "gridwidth": 2,
            "linecolor": "white",
            "showbackground": true,
            "ticks": "",
            "zerolinecolor": "white"
           }
          },
          "shapedefaults": {
           "line": {
            "color": "#2a3f5f"
           }
          },
          "ternary": {
           "aaxis": {
            "gridcolor": "white",
            "linecolor": "white",
            "ticks": ""
           },
           "baxis": {
            "gridcolor": "white",
            "linecolor": "white",
            "ticks": ""
           },
           "bgcolor": "#E5ECF6",
           "caxis": {
            "gridcolor": "white",
            "linecolor": "white",
            "ticks": ""
           }
          },
          "title": {
           "x": 0.05
          },
          "xaxis": {
           "automargin": true,
           "gridcolor": "white",
           "linecolor": "white",
           "ticks": "",
           "title": {
            "standoff": 15
           },
           "zerolinecolor": "white",
           "zerolinewidth": 2
          },
          "yaxis": {
           "automargin": true,
           "gridcolor": "white",
           "linecolor": "white",
           "ticks": "",
           "title": {
            "standoff": 15
           },
           "zerolinecolor": "white",
           "zerolinewidth": 2
          }
         }
        },
        "xaxis": {
         "anchor": "y",
         "domain": [
          0,
          1
         ]
        },
        "yaxis": {
         "anchor": "x",
         "domain": [
          0,
          1
         ]
        }
       }
      }
     },
     "metadata": {},
     "output_type": "display_data"
    }
   ],
   "source": [
    "scaled = await get_scaled_article_bins(230, ddf, news_articles)\n",
    "data = jnp.array(scaled.corrected_relevant.to_numpy())\n",
    "time = jnp.array(range(len(data)))\n",
    "mu = jnp.mean(data)\n",
    "std = jnp.std(data)\n",
    "min = jnp.min(data)\n",
    "max = jnp.max(data)\n",
    "\n",
    "mcmc = MCMC(ESS(vectorized_piecewise_model, moves={ESS.DifferentialMove() : 0.2, ESS.RandomMove() : 0.5, ESS.GaussianMove() : 0.3}), num_warmup=500, num_samples=1000, chain_method='vectorized', num_chains=20, progress_bar=True)\n",
    "# mcmc = MCMC(MixedHMC(HMC(vectorized_piecewise_model)), num_warmup=500, num_samples=1000, num_chains=12, progress_bar=True, chain_method='vectorized')\n",
    "rng_key = jax.random.PRNGKey(0)\n",
    "mcmc.run(rng_key, time, mu,std, min, max, data)\n",
    "\n",
    "# guide = numpyro.infer.autoguide.AutoBNAFNormal(vectorized_piecewise_model)\n",
    "# optimizer = Adam(step_size=0.1)\n",
    "# svi = SVI(vectorized_piecewise_model, guide, optimizer, loss=Trace_ELBO())\n",
    "# svi_result = svi.run(rng_key, num_steps=5000, data=data, time=time, mu=mu, std=std, min=min, max=max)\n",
    "\n",
    "predictive = Predictive(vectorized_piecewise_model, mcmc.get_samples())\n",
    "# predictive = Predictive(vectorized_piecewise_model, guide=guide, num_samples=1000)\n",
    "\n",
    "predictions = predictive(rng_key, time=time, mu = mu, std = std, min = min, max = max, data = None)\n",
    "time=np.arange(len(scaled.corrected_relevant))\n",
    "# final_y = final_pred(time, **{var : model_summary[var]['median'] for var in model_summary.keys()})\n",
    "\n",
    "fig = make_subplots(rows = 1, cols = 1, shared_xaxes=True, vertical_spacing=0.02)\n",
    "fig.add_trace(go.Bar(x=scaled.index, y=scaled.corrected_relevant, name='Corrected Relevant Tweets', opacity=.5), row=1, col=1)\n",
    "fig.add_trace(go.Scatter(x=scaled.index, y=predictions['obs'].mean(axis = 0), mode='lines', name='Predicted Relevant Tweets', error_y = dict(type = 'data', array = predictions['obs'].std(axis = 0), visible = True), opacity=.5), row=1, col=1)\n",
    "# fig.add_trace(go.Scatter(x=scaled.index, y=final_y, mode='lines', name='Median Predicted Relevant Tweets'), row=1, col=1)"
   ]
  },
  {
   "cell_type": "code",
   "execution_count": 50,
   "metadata": {},
   "outputs": [],
   "source": [
    "import scipy as sp"
   ]
  },
  {
   "cell_type": "code",
   "execution_count": 54,
   "metadata": {},
   "outputs": [
    {
     "name": "stderr",
     "output_type": "stream",
     "text": [
      "C:\\Users\\Varun\\AppData\\Local\\Temp\\ipykernel_12168\\15205343.py:3: SettingWithCopyWarning:\n",
      "\n",
      "\n",
      "A value is trying to be set on a copy of a slice from a DataFrame.\n",
      "Try using .loc[row_indexer,col_indexer] = value instead\n",
      "\n",
      "See the caveats in the documentation: https://pandas.pydata.org/pandas-docs/stable/user_guide/indexing.html#returning-a-view-versus-a-copy\n",
      "\n"
     ]
    }
   ],
   "source": [
    "scaled = await get_relevants(230, ddf, news_articles)\n",
    "relevants = scaled.query(\"relevant\")\n",
    "relevants['t'] = (relevants.date - relevants.date.min()) / (relevants.date.max() - relevants.date.min())\n",
    "x = relevants.t.sort_values().to_list()"
   ]
  },
  {
   "cell_type": "code",
   "execution_count": 56,
   "metadata": {},
   "outputs": [
    {
     "data": {
      "application/vnd.plotly.v1+json": {
       "config": {
        "plotlyServerURL": "https://plot.ly"
       },
       "data": [
        {
         "hovertemplate": "variable=0<br>index=%{x}<br>value=%{y}<extra></extra>",
         "legendgroup": "0",
         "marker": {
          "color": "#636efa",
          "symbol": "circle"
         },
         "mode": "markers",
         "name": "0",
         "orientation": "v",
         "showlegend": true,
         "type": "scatter",
         "x": {
          "bdata": "AAECAwQFBgcICQoLDA0ODxAREhMUFRYXGBkaGxwdHh8gISIjJCUmJygpKissLS4vMDEyMzQ1Njc4OTo7PD0+P0BBQkNERUZHSElKS0xNTk9QUQ==",
          "dtype": "i1"
         },
         "xaxis": "x",
         "y": {
          "bdata": "WDBKIwNlgT9/pv/O5lybP1ZqfcZgdqs/UydFE8Unuz9ixsWaMd/GP+ArjgsKRtA/tImk5iCS1T/CfrSleFrbP8Psih2knuA/fMXo/emp4z+RAf/K9PPmP4DQRHoNfuo/iBO+VMY07j92vEppLgvxP2RGIp6WEvM/cCL851OK9T/gTXgoH2n4P2EV+tyPb/s/Ar5eJF7V/j92MlztHkgBQD2171HZNQNA0sx3daYnBUBObesBDhwHQK0467ryHQlAvz062kRBC0DZWxH6eH0NQI2QSlCQ9w9A5BSJru9VEUCh3dbOqbASQIT3/tDGDBRA9fJhBzJrFUAQfjCr3dAWQHzqoiKaPRhA94MzmSGwGUCcgwOjAikbQDCYq32OpxxA6cvgrhAuHkCXMuLYzbgfQOAXjigSoiBA0oYHHGlsIUAsMSHdzT4iQIo1QhndFiNAfJ+3g4z3I0CMKo0c1eskQCHJRTvF7SVAonUnZIPxJkDwvYyQ5PcnQPX7R7inAClAhxNrpvoOKkDybnoW2ycrQGNj6K+3RixAcg64dLJlLUBn4ewjs4UuQCIdbH8cqi9AfwTaUz1pMEALozHJw/0wQCoIiPnblzFA1nYrq+A5MkDZDmmWh98yQLjYCQ/2hzNAzD3vVP4xNEArI9JtNtw0QAf5XO64iDVA/QVdohA+NkD8UHyQIQI3QEdtvYQjzzdAqfiDMnadOEClD1ZjEW05QJVSVQexPzpA/Zgxz5UWO0DdpBvGRfA7QM9wf+YUzDxALbLDT2mrPUAQAYChtpI+QEWSIrX/gT9Aqmh9x4M6QEAceq4J9bRAQKQxLxz8L0FAfedbXtarQUAYKGq7YilCQNVJOMBzqEJAA/gZ6A4oQ0A=",
          "dtype": "f8"
         },
         "yaxis": "y"
        }
       ],
       "layout": {
        "legend": {
         "title": {
          "text": "variable"
         },
         "tracegroupgap": 0
        },
        "margin": {
         "t": 60
        },
        "template": {
         "data": {
          "bar": [
           {
            "error_x": {
             "color": "#2a3f5f"
            },
            "error_y": {
             "color": "#2a3f5f"
            },
            "marker": {
             "line": {
              "color": "#E5ECF6",
              "width": 0.5
             },
             "pattern": {
              "fillmode": "overlay",
              "size": 10,
              "solidity": 0.2
             }
            },
            "type": "bar"
           }
          ],
          "barpolar": [
           {
            "marker": {
             "line": {
              "color": "#E5ECF6",
              "width": 0.5
             },
             "pattern": {
              "fillmode": "overlay",
              "size": 10,
              "solidity": 0.2
             }
            },
            "type": "barpolar"
           }
          ],
          "carpet": [
           {
            "aaxis": {
             "endlinecolor": "#2a3f5f",
             "gridcolor": "white",
             "linecolor": "white",
             "minorgridcolor": "white",
             "startlinecolor": "#2a3f5f"
            },
            "baxis": {
             "endlinecolor": "#2a3f5f",
             "gridcolor": "white",
             "linecolor": "white",
             "minorgridcolor": "white",
             "startlinecolor": "#2a3f5f"
            },
            "type": "carpet"
           }
          ],
          "choropleth": [
           {
            "colorbar": {
             "outlinewidth": 0,
             "ticks": ""
            },
            "type": "choropleth"
           }
          ],
          "contour": [
           {
            "colorbar": {
             "outlinewidth": 0,
             "ticks": ""
            },
            "colorscale": [
             [
              0,
              "#0d0887"
             ],
             [
              0.1111111111111111,
              "#46039f"
             ],
             [
              0.2222222222222222,
              "#7201a8"
             ],
             [
              0.3333333333333333,
              "#9c179e"
             ],
             [
              0.4444444444444444,
              "#bd3786"
             ],
             [
              0.5555555555555556,
              "#d8576b"
             ],
             [
              0.6666666666666666,
              "#ed7953"
             ],
             [
              0.7777777777777778,
              "#fb9f3a"
             ],
             [
              0.8888888888888888,
              "#fdca26"
             ],
             [
              1,
              "#f0f921"
             ]
            ],
            "type": "contour"
           }
          ],
          "contourcarpet": [
           {
            "colorbar": {
             "outlinewidth": 0,
             "ticks": ""
            },
            "type": "contourcarpet"
           }
          ],
          "heatmap": [
           {
            "colorbar": {
             "outlinewidth": 0,
             "ticks": ""
            },
            "colorscale": [
             [
              0,
              "#0d0887"
             ],
             [
              0.1111111111111111,
              "#46039f"
             ],
             [
              0.2222222222222222,
              "#7201a8"
             ],
             [
              0.3333333333333333,
              "#9c179e"
             ],
             [
              0.4444444444444444,
              "#bd3786"
             ],
             [
              0.5555555555555556,
              "#d8576b"
             ],
             [
              0.6666666666666666,
              "#ed7953"
             ],
             [
              0.7777777777777778,
              "#fb9f3a"
             ],
             [
              0.8888888888888888,
              "#fdca26"
             ],
             [
              1,
              "#f0f921"
             ]
            ],
            "type": "heatmap"
           }
          ],
          "histogram": [
           {
            "marker": {
             "pattern": {
              "fillmode": "overlay",
              "size": 10,
              "solidity": 0.2
             }
            },
            "type": "histogram"
           }
          ],
          "histogram2d": [
           {
            "colorbar": {
             "outlinewidth": 0,
             "ticks": ""
            },
            "colorscale": [
             [
              0,
              "#0d0887"
             ],
             [
              0.1111111111111111,
              "#46039f"
             ],
             [
              0.2222222222222222,
              "#7201a8"
             ],
             [
              0.3333333333333333,
              "#9c179e"
             ],
             [
              0.4444444444444444,
              "#bd3786"
             ],
             [
              0.5555555555555556,
              "#d8576b"
             ],
             [
              0.6666666666666666,
              "#ed7953"
             ],
             [
              0.7777777777777778,
              "#fb9f3a"
             ],
             [
              0.8888888888888888,
              "#fdca26"
             ],
             [
              1,
              "#f0f921"
             ]
            ],
            "type": "histogram2d"
           }
          ],
          "histogram2dcontour": [
           {
            "colorbar": {
             "outlinewidth": 0,
             "ticks": ""
            },
            "colorscale": [
             [
              0,
              "#0d0887"
             ],
             [
              0.1111111111111111,
              "#46039f"
             ],
             [
              0.2222222222222222,
              "#7201a8"
             ],
             [
              0.3333333333333333,
              "#9c179e"
             ],
             [
              0.4444444444444444,
              "#bd3786"
             ],
             [
              0.5555555555555556,
              "#d8576b"
             ],
             [
              0.6666666666666666,
              "#ed7953"
             ],
             [
              0.7777777777777778,
              "#fb9f3a"
             ],
             [
              0.8888888888888888,
              "#fdca26"
             ],
             [
              1,
              "#f0f921"
             ]
            ],
            "type": "histogram2dcontour"
           }
          ],
          "mesh3d": [
           {
            "colorbar": {
             "outlinewidth": 0,
             "ticks": ""
            },
            "type": "mesh3d"
           }
          ],
          "parcoords": [
           {
            "line": {
             "colorbar": {
              "outlinewidth": 0,
              "ticks": ""
             }
            },
            "type": "parcoords"
           }
          ],
          "pie": [
           {
            "automargin": true,
            "type": "pie"
           }
          ],
          "scatter": [
           {
            "fillpattern": {
             "fillmode": "overlay",
             "size": 10,
             "solidity": 0.2
            },
            "type": "scatter"
           }
          ],
          "scatter3d": [
           {
            "line": {
             "colorbar": {
              "outlinewidth": 0,
              "ticks": ""
             }
            },
            "marker": {
             "colorbar": {
              "outlinewidth": 0,
              "ticks": ""
             }
            },
            "type": "scatter3d"
           }
          ],
          "scattercarpet": [
           {
            "marker": {
             "colorbar": {
              "outlinewidth": 0,
              "ticks": ""
             }
            },
            "type": "scattercarpet"
           }
          ],
          "scattergeo": [
           {
            "marker": {
             "colorbar": {
              "outlinewidth": 0,
              "ticks": ""
             }
            },
            "type": "scattergeo"
           }
          ],
          "scattergl": [
           {
            "marker": {
             "colorbar": {
              "outlinewidth": 0,
              "ticks": ""
             }
            },
            "type": "scattergl"
           }
          ],
          "scattermap": [
           {
            "marker": {
             "colorbar": {
              "outlinewidth": 0,
              "ticks": ""
             }
            },
            "type": "scattermap"
           }
          ],
          "scattermapbox": [
           {
            "marker": {
             "colorbar": {
              "outlinewidth": 0,
              "ticks": ""
             }
            },
            "type": "scattermapbox"
           }
          ],
          "scatterpolar": [
           {
            "marker": {
             "colorbar": {
              "outlinewidth": 0,
              "ticks": ""
             }
            },
            "type": "scatterpolar"
           }
          ],
          "scatterpolargl": [
           {
            "marker": {
             "colorbar": {
              "outlinewidth": 0,
              "ticks": ""
             }
            },
            "type": "scatterpolargl"
           }
          ],
          "scatterternary": [
           {
            "marker": {
             "colorbar": {
              "outlinewidth": 0,
              "ticks": ""
             }
            },
            "type": "scatterternary"
           }
          ],
          "surface": [
           {
            "colorbar": {
             "outlinewidth": 0,
             "ticks": ""
            },
            "colorscale": [
             [
              0,
              "#0d0887"
             ],
             [
              0.1111111111111111,
              "#46039f"
             ],
             [
              0.2222222222222222,
              "#7201a8"
             ],
             [
              0.3333333333333333,
              "#9c179e"
             ],
             [
              0.4444444444444444,
              "#bd3786"
             ],
             [
              0.5555555555555556,
              "#d8576b"
             ],
             [
              0.6666666666666666,
              "#ed7953"
             ],
             [
              0.7777777777777778,
              "#fb9f3a"
             ],
             [
              0.8888888888888888,
              "#fdca26"
             ],
             [
              1,
              "#f0f921"
             ]
            ],
            "type": "surface"
           }
          ],
          "table": [
           {
            "cells": {
             "fill": {
              "color": "#EBF0F8"
             },
             "line": {
              "color": "white"
             }
            },
            "header": {
             "fill": {
              "color": "#C8D4E3"
             },
             "line": {
              "color": "white"
             }
            },
            "type": "table"
           }
          ]
         },
         "layout": {
          "annotationdefaults": {
           "arrowcolor": "#2a3f5f",
           "arrowhead": 0,
           "arrowwidth": 1
          },
          "autotypenumbers": "strict",
          "coloraxis": {
           "colorbar": {
            "outlinewidth": 0,
            "ticks": ""
           }
          },
          "colorscale": {
           "diverging": [
            [
             0,
             "#8e0152"
            ],
            [
             0.1,
             "#c51b7d"
            ],
            [
             0.2,
             "#de77ae"
            ],
            [
             0.3,
             "#f1b6da"
            ],
            [
             0.4,
             "#fde0ef"
            ],
            [
             0.5,
             "#f7f7f7"
            ],
            [
             0.6,
             "#e6f5d0"
            ],
            [
             0.7,
             "#b8e186"
            ],
            [
             0.8,
             "#7fbc41"
            ],
            [
             0.9,
             "#4d9221"
            ],
            [
             1,
             "#276419"
            ]
           ],
           "sequential": [
            [
             0,
             "#0d0887"
            ],
            [
             0.1111111111111111,
             "#46039f"
            ],
            [
             0.2222222222222222,
             "#7201a8"
            ],
            [
             0.3333333333333333,
             "#9c179e"
            ],
            [
             0.4444444444444444,
             "#bd3786"
            ],
            [
             0.5555555555555556,
             "#d8576b"
            ],
            [
             0.6666666666666666,
             "#ed7953"
            ],
            [
             0.7777777777777778,
             "#fb9f3a"
            ],
            [
             0.8888888888888888,
             "#fdca26"
            ],
            [
             1,
             "#f0f921"
            ]
           ],
           "sequentialminus": [
            [
             0,
             "#0d0887"
            ],
            [
             0.1111111111111111,
             "#46039f"
            ],
            [
             0.2222222222222222,
             "#7201a8"
            ],
            [
             0.3333333333333333,
             "#9c179e"
            ],
            [
             0.4444444444444444,
             "#bd3786"
            ],
            [
             0.5555555555555556,
             "#d8576b"
            ],
            [
             0.6666666666666666,
             "#ed7953"
            ],
            [
             0.7777777777777778,
             "#fb9f3a"
            ],
            [
             0.8888888888888888,
             "#fdca26"
            ],
            [
             1,
             "#f0f921"
            ]
           ]
          },
          "colorway": [
           "#636efa",
           "#EF553B",
           "#00cc96",
           "#ab63fa",
           "#FFA15A",
           "#19d3f3",
           "#FF6692",
           "#B6E880",
           "#FF97FF",
           "#FECB52"
          ],
          "font": {
           "color": "#2a3f5f"
          },
          "geo": {
           "bgcolor": "white",
           "lakecolor": "white",
           "landcolor": "#E5ECF6",
           "showlakes": true,
           "showland": true,
           "subunitcolor": "white"
          },
          "hoverlabel": {
           "align": "left"
          },
          "hovermode": "closest",
          "mapbox": {
           "style": "light"
          },
          "paper_bgcolor": "white",
          "plot_bgcolor": "#E5ECF6",
          "polar": {
           "angularaxis": {
            "gridcolor": "white",
            "linecolor": "white",
            "ticks": ""
           },
           "bgcolor": "#E5ECF6",
           "radialaxis": {
            "gridcolor": "white",
            "linecolor": "white",
            "ticks": ""
           }
          },
          "scene": {
           "xaxis": {
            "backgroundcolor": "#E5ECF6",
            "gridcolor": "white",
            "gridwidth": 2,
            "linecolor": "white",
            "showbackground": true,
            "ticks": "",
            "zerolinecolor": "white"
           },
           "yaxis": {
            "backgroundcolor": "#E5ECF6",
            "gridcolor": "white",
            "gridwidth": 2,
            "linecolor": "white",
            "showbackground": true,
            "ticks": "",
            "zerolinecolor": "white"
           },
           "zaxis": {
            "backgroundcolor": "#E5ECF6",
            "gridcolor": "white",
            "gridwidth": 2,
            "linecolor": "white",
            "showbackground": true,
            "ticks": "",
            "zerolinecolor": "white"
           }
          },
          "shapedefaults": {
           "line": {
            "color": "#2a3f5f"
           }
          },
          "ternary": {
           "aaxis": {
            "gridcolor": "white",
            "linecolor": "white",
            "ticks": ""
           },
           "baxis": {
            "gridcolor": "white",
            "linecolor": "white",
            "ticks": ""
           },
           "bgcolor": "#E5ECF6",
           "caxis": {
            "gridcolor": "white",
            "linecolor": "white",
            "ticks": ""
           }
          },
          "title": {
           "x": 0.05
          },
          "xaxis": {
           "automargin": true,
           "gridcolor": "white",
           "linecolor": "white",
           "ticks": "",
           "title": {
            "standoff": 15
           },
           "zerolinecolor": "white",
           "zerolinewidth": 2
          },
          "yaxis": {
           "automargin": true,
           "gridcolor": "white",
           "linecolor": "white",
           "ticks": "",
           "title": {
            "standoff": 15
           },
           "zerolinecolor": "white",
           "zerolinewidth": 2
          }
         }
        },
        "xaxis": {
         "anchor": "y",
         "domain": [
          0,
          1
         ],
         "title": {
          "text": "index"
         }
        },
        "yaxis": {
         "anchor": "x",
         "domain": [
          0,
          1
         ],
         "title": {
          "text": "value"
         }
        }
       }
      }
     },
     "metadata": {},
     "output_type": "display_data"
    }
   ],
   "source": [
    "px.scatter(sp.integrate.cumulative_trapezoid(x))"
   ]
  },
  {
   "cell_type": "code",
   "execution_count": 15,
   "metadata": {},
   "outputs": [],
   "source": [
    "import scipy as sp"
   ]
  },
  {
   "cell_type": "code",
   "execution_count": 16,
   "metadata": {},
   "outputs": [
    {
     "ename": "NameError",
     "evalue": "name 'scaled' is not defined",
     "output_type": "error",
     "traceback": [
      "\u001b[31m---------------------------------------------------------------------------\u001b[39m",
      "\u001b[31mNameError\u001b[39m                                 Traceback (most recent call last)",
      "\u001b[36mCell\u001b[39m\u001b[36m \u001b[39m\u001b[32mIn[16]\u001b[39m\u001b[32m, line 1\u001b[39m\n\u001b[32m----> \u001b[39m\u001b[32m1\u001b[39m \u001b[43mscaled\u001b[49m.corrected_relevant\n",
      "\u001b[31mNameError\u001b[39m: name 'scaled' is not defined"
     ]
    }
   ],
   "source": [
    "scaled.corrected_relevant"
   ]
  },
  {
   "cell_type": "code",
   "execution_count": null,
   "metadata": {},
   "outputs": [
    {
     "data": {
      "application/vnd.plotly.v1+json": {
       "config": {
        "plotlyServerURL": "https://plot.ly"
       },
       "data": [
        {
         "hovertemplate": "variable=0<br>index=%{x}<br>value=%{y}<extra></extra>",
         "legendgroup": "0",
         "marker": {
          "color": "#636efa",
          "symbol": "circle"
         },
         "mode": "markers",
         "name": "0",
         "orientation": "v",
         "showlegend": true,
         "type": "scatter",
         "x": {
          "bdata": "AAABAAIAAwAEAAUABgAHAAgACQAKAAsADAANAA4ADwAQABEAEgATABQAFQAWABcAGAAZABoAGwAcAB0AHgAfACAAIQAiACMAJAAlACYAJwAoACkAKgArACwALQAuAC8AMAAxADIAMwA0ADUANgA3ADgAOQA6ADsAPAA9AD4APwBAAEEAQgBDAEQARQBGAEcASABJAEoASwBMAE0ATgBPAFAAUQBSAFMAVABVAFYAVwBYAFkAWgBbAFwAXQBeAF8AYABhAGIAYwBkAGUAZgBnAGgAaQBqAGsAbABtAG4AbwBwAHEAcgBzAHQAdQB2AHcAeAB5AHoAewB8AH0AfgB/AIAAgQCCAIMAhACFAIYAhwCIAIkAigCLAIwAjQCOAI8AkACRAJIAkwCUAJUAlgCXAJgAmQCaAJsAnACdAJ4AnwCgAKEAogCjAKQApQCmAA==",
          "dtype": "i2"
         },
         "xaxis": "x",
         "y": {
          "bdata": "PMLpPWmKM0DWqNo6DdREQGzF7k56dlBAbFqhPy0BV0C0HK2RclRfQCIvm58coWNAk3v0YpzWZkDOJ7XEgdFpQA1laPNxwGxAQEUa2UQEcECISpvFpLBxQCWZDUKU9XJALRvggIFZdEA3ekUTA2J2QE11BL61NnhAaheYCSDOeUD1wq4JOZF7QF+XY/eddH1AfBkGsigAf0DbVMdr2iSAQMdJzBdp4YBAUOPeWKKYgUAaFPw3mxuCQEgp2HR/lYJAV2CIL6M8g0DQpQcqYfiDQCFV8rzu0IRAFA1zEQaWhUCROEuY0leGQFOkBzYmUYdAR2OxRTYziEDukGA9kguJQPKass1iAIpAnAK6zpfwikCM+YHbTNuLQDC/eZeA5oxAmdS10GPrjUAY7TXvO6uOQPvWZV3Bco9A+3j3ljxYkEAHTQgwfPyQQMuaCgo0ipFAuGGPAgMEkkB0wmfqz1OSQLt2fRG9oJJAUXjkXjj3kkBU6uMPBUGTQOeC74PBdJNAWfMCS/y7k0By9fhv7BaUQLtQC2HRYJRAL5L2sG2vlEDdw5MzJymVQIXH3/7W/pVA1jKqVTTylkBaVhFhRMqXQKoLWs4ip5hAC4Bno31WmUAURKkFBPaZQB9Zggm+vJpAKNMBes99m0AWaZpEICicQNEq3Qc6y5xA9SBN599jnUDQPZ1iQPqdQHqaDZvNfp5Al3OuaYIXn0ATBg4YULafQCVsRPl6CqBA5S1Z4G8voEA7Z5+Phl2gQO2f42HWi6BArqNWMYa1oEDsV96hG+OgQMADmQY/GaFANuIJedxRoUBQWKlKpoWhQBlGbeZxvKFACfrLp3nzoUD0RfnQcyiiQNoclwR/YqJAqsCte+WlokCRZZBTLOOiQIKfwTjIH6NAcL6Kk/Fao0CnE27qn4ijQPCOiS0VvKNAcOZeV9z3o0DRxMYiMjykQAVotECrkqRAZsi3mbblpEBo5utTuiylQPPpTiytZqVAcQSkGXCPpUCiLdPeO7alQBOXSXK30KVAGUqNphvnpUCCyWtt1/+lQJo5ZNLTHaZAlssoRqJApkCAQWc2VV+mQFswpsf2jaZAixvq7yXFpkCYTtc5n++mQKm06O/FEqdAROyR+CpEp0DkXvmaunWnQENjP0bZlKdAJhBf1hq4p0Cj/IAwrdunQDwAAhBz/adA4E9Gzs4lqEC2U+LsUkaoQAOXfDoBaahAzbn9be6XqEDSPD39zLqoQDvhsRr7z6hA7gdqpxToqEANvhoV2AKpQEnHXQ+/GKlAq8ewThgzqUDSrdHXNlupQPZZFjhCfalAcVy2OyCmqUBMM5ZmgtOpQISCxX4C9KlAXK/MecEPqkA9NJl5tSiqQB6qQNDFRKpAIiWwqKdYqkDkO1Tkk2+qQO6iIz00iKpAR2YjXWyZqkC28DCy5K+qQL3+ToHKyqpA4esEwWXqqkDwbAqKegerQHXRwV1oKKtAOlHwFfRJq0BZR293JGOrQNd7024TfqtA1GG+60KWq0D7VG9prrGrQNBHn3g2zatAcY8oRFrfq0A8fY7EU/GrQEFFuzfgDaxAq9hwzcYtrEAZ8Yw/q0WsQO7TX68vY6xAFboWSJiOrECut2Gup8SsQJsslzmjBK1AV6rBOK9CrUCSJOqzcXCtQIv1/Ru8ma1AXkrO1XLJrUDDxjFzkPytQFn4YZX+Oa5AIw71sCF6rkBDqtAXl6yuQA64jMV8y65ARW7NZVTkrkBKxmuR1w2vQMtRek+DNK9AEj7MxG5Yr0C3AAmg8oKvQA==",
          "dtype": "f8"
         },
         "yaxis": "y"
        }
       ],
       "layout": {
        "legend": {
         "title": {
          "text": "variable"
         },
         "tracegroupgap": 0
        },
        "margin": {
         "t": 60
        },
        "template": {
         "data": {
          "bar": [
           {
            "error_x": {
             "color": "#2a3f5f"
            },
            "error_y": {
             "color": "#2a3f5f"
            },
            "marker": {
             "line": {
              "color": "#E5ECF6",
              "width": 0.5
             },
             "pattern": {
              "fillmode": "overlay",
              "size": 10,
              "solidity": 0.2
             }
            },
            "type": "bar"
           }
          ],
          "barpolar": [
           {
            "marker": {
             "line": {
              "color": "#E5ECF6",
              "width": 0.5
             },
             "pattern": {
              "fillmode": "overlay",
              "size": 10,
              "solidity": 0.2
             }
            },
            "type": "barpolar"
           }
          ],
          "carpet": [
           {
            "aaxis": {
             "endlinecolor": "#2a3f5f",
             "gridcolor": "white",
             "linecolor": "white",
             "minorgridcolor": "white",
             "startlinecolor": "#2a3f5f"
            },
            "baxis": {
             "endlinecolor": "#2a3f5f",
             "gridcolor": "white",
             "linecolor": "white",
             "minorgridcolor": "white",
             "startlinecolor": "#2a3f5f"
            },
            "type": "carpet"
           }
          ],
          "choropleth": [
           {
            "colorbar": {
             "outlinewidth": 0,
             "ticks": ""
            },
            "type": "choropleth"
           }
          ],
          "contour": [
           {
            "colorbar": {
             "outlinewidth": 0,
             "ticks": ""
            },
            "colorscale": [
             [
              0,
              "#0d0887"
             ],
             [
              0.1111111111111111,
              "#46039f"
             ],
             [
              0.2222222222222222,
              "#7201a8"
             ],
             [
              0.3333333333333333,
              "#9c179e"
             ],
             [
              0.4444444444444444,
              "#bd3786"
             ],
             [
              0.5555555555555556,
              "#d8576b"
             ],
             [
              0.6666666666666666,
              "#ed7953"
             ],
             [
              0.7777777777777778,
              "#fb9f3a"
             ],
             [
              0.8888888888888888,
              "#fdca26"
             ],
             [
              1,
              "#f0f921"
             ]
            ],
            "type": "contour"
           }
          ],
          "contourcarpet": [
           {
            "colorbar": {
             "outlinewidth": 0,
             "ticks": ""
            },
            "type": "contourcarpet"
           }
          ],
          "heatmap": [
           {
            "colorbar": {
             "outlinewidth": 0,
             "ticks": ""
            },
            "colorscale": [
             [
              0,
              "#0d0887"
             ],
             [
              0.1111111111111111,
              "#46039f"
             ],
             [
              0.2222222222222222,
              "#7201a8"
             ],
             [
              0.3333333333333333,
              "#9c179e"
             ],
             [
              0.4444444444444444,
              "#bd3786"
             ],
             [
              0.5555555555555556,
              "#d8576b"
             ],
             [
              0.6666666666666666,
              "#ed7953"
             ],
             [
              0.7777777777777778,
              "#fb9f3a"
             ],
             [
              0.8888888888888888,
              "#fdca26"
             ],
             [
              1,
              "#f0f921"
             ]
            ],
            "type": "heatmap"
           }
          ],
          "histogram": [
           {
            "marker": {
             "pattern": {
              "fillmode": "overlay",
              "size": 10,
              "solidity": 0.2
             }
            },
            "type": "histogram"
           }
          ],
          "histogram2d": [
           {
            "colorbar": {
             "outlinewidth": 0,
             "ticks": ""
            },
            "colorscale": [
             [
              0,
              "#0d0887"
             ],
             [
              0.1111111111111111,
              "#46039f"
             ],
             [
              0.2222222222222222,
              "#7201a8"
             ],
             [
              0.3333333333333333,
              "#9c179e"
             ],
             [
              0.4444444444444444,
              "#bd3786"
             ],
             [
              0.5555555555555556,
              "#d8576b"
             ],
             [
              0.6666666666666666,
              "#ed7953"
             ],
             [
              0.7777777777777778,
              "#fb9f3a"
             ],
             [
              0.8888888888888888,
              "#fdca26"
             ],
             [
              1,
              "#f0f921"
             ]
            ],
            "type": "histogram2d"
           }
          ],
          "histogram2dcontour": [
           {
            "colorbar": {
             "outlinewidth": 0,
             "ticks": ""
            },
            "colorscale": [
             [
              0,
              "#0d0887"
             ],
             [
              0.1111111111111111,
              "#46039f"
             ],
             [
              0.2222222222222222,
              "#7201a8"
             ],
             [
              0.3333333333333333,
              "#9c179e"
             ],
             [
              0.4444444444444444,
              "#bd3786"
             ],
             [
              0.5555555555555556,
              "#d8576b"
             ],
             [
              0.6666666666666666,
              "#ed7953"
             ],
             [
              0.7777777777777778,
              "#fb9f3a"
             ],
             [
              0.8888888888888888,
              "#fdca26"
             ],
             [
              1,
              "#f0f921"
             ]
            ],
            "type": "histogram2dcontour"
           }
          ],
          "mesh3d": [
           {
            "colorbar": {
             "outlinewidth": 0,
             "ticks": ""
            },
            "type": "mesh3d"
           }
          ],
          "parcoords": [
           {
            "line": {
             "colorbar": {
              "outlinewidth": 0,
              "ticks": ""
             }
            },
            "type": "parcoords"
           }
          ],
          "pie": [
           {
            "automargin": true,
            "type": "pie"
           }
          ],
          "scatter": [
           {
            "fillpattern": {
             "fillmode": "overlay",
             "size": 10,
             "solidity": 0.2
            },
            "type": "scatter"
           }
          ],
          "scatter3d": [
           {
            "line": {
             "colorbar": {
              "outlinewidth": 0,
              "ticks": ""
             }
            },
            "marker": {
             "colorbar": {
              "outlinewidth": 0,
              "ticks": ""
             }
            },
            "type": "scatter3d"
           }
          ],
          "scattercarpet": [
           {
            "marker": {
             "colorbar": {
              "outlinewidth": 0,
              "ticks": ""
             }
            },
            "type": "scattercarpet"
           }
          ],
          "scattergeo": [
           {
            "marker": {
             "colorbar": {
              "outlinewidth": 0,
              "ticks": ""
             }
            },
            "type": "scattergeo"
           }
          ],
          "scattergl": [
           {
            "marker": {
             "colorbar": {
              "outlinewidth": 0,
              "ticks": ""
             }
            },
            "type": "scattergl"
           }
          ],
          "scattermap": [
           {
            "marker": {
             "colorbar": {
              "outlinewidth": 0,
              "ticks": ""
             }
            },
            "type": "scattermap"
           }
          ],
          "scattermapbox": [
           {
            "marker": {
             "colorbar": {
              "outlinewidth": 0,
              "ticks": ""
             }
            },
            "type": "scattermapbox"
           }
          ],
          "scatterpolar": [
           {
            "marker": {
             "colorbar": {
              "outlinewidth": 0,
              "ticks": ""
             }
            },
            "type": "scatterpolar"
           }
          ],
          "scatterpolargl": [
           {
            "marker": {
             "colorbar": {
              "outlinewidth": 0,
              "ticks": ""
             }
            },
            "type": "scatterpolargl"
           }
          ],
          "scatterternary": [
           {
            "marker": {
             "colorbar": {
              "outlinewidth": 0,
              "ticks": ""
             }
            },
            "type": "scatterternary"
           }
          ],
          "surface": [
           {
            "colorbar": {
             "outlinewidth": 0,
             "ticks": ""
            },
            "colorscale": [
             [
              0,
              "#0d0887"
             ],
             [
              0.1111111111111111,
              "#46039f"
             ],
             [
              0.2222222222222222,
              "#7201a8"
             ],
             [
              0.3333333333333333,
              "#9c179e"
             ],
             [
              0.4444444444444444,
              "#bd3786"
             ],
             [
              0.5555555555555556,
              "#d8576b"
             ],
             [
              0.6666666666666666,
              "#ed7953"
             ],
             [
              0.7777777777777778,
              "#fb9f3a"
             ],
             [
              0.8888888888888888,
              "#fdca26"
             ],
             [
              1,
              "#f0f921"
             ]
            ],
            "type": "surface"
           }
          ],
          "table": [
           {
            "cells": {
             "fill": {
              "color": "#EBF0F8"
             },
             "line": {
              "color": "white"
             }
            },
            "header": {
             "fill": {
              "color": "#C8D4E3"
             },
             "line": {
              "color": "white"
             }
            },
            "type": "table"
           }
          ]
         },
         "layout": {
          "annotationdefaults": {
           "arrowcolor": "#2a3f5f",
           "arrowhead": 0,
           "arrowwidth": 1
          },
          "autotypenumbers": "strict",
          "coloraxis": {
           "colorbar": {
            "outlinewidth": 0,
            "ticks": ""
           }
          },
          "colorscale": {
           "diverging": [
            [
             0,
             "#8e0152"
            ],
            [
             0.1,
             "#c51b7d"
            ],
            [
             0.2,
             "#de77ae"
            ],
            [
             0.3,
             "#f1b6da"
            ],
            [
             0.4,
             "#fde0ef"
            ],
            [
             0.5,
             "#f7f7f7"
            ],
            [
             0.6,
             "#e6f5d0"
            ],
            [
             0.7,
             "#b8e186"
            ],
            [
             0.8,
             "#7fbc41"
            ],
            [
             0.9,
             "#4d9221"
            ],
            [
             1,
             "#276419"
            ]
           ],
           "sequential": [
            [
             0,
             "#0d0887"
            ],
            [
             0.1111111111111111,
             "#46039f"
            ],
            [
             0.2222222222222222,
             "#7201a8"
            ],
            [
             0.3333333333333333,
             "#9c179e"
            ],
            [
             0.4444444444444444,
             "#bd3786"
            ],
            [
             0.5555555555555556,
             "#d8576b"
            ],
            [
             0.6666666666666666,
             "#ed7953"
            ],
            [
             0.7777777777777778,
             "#fb9f3a"
            ],
            [
             0.8888888888888888,
             "#fdca26"
            ],
            [
             1,
             "#f0f921"
            ]
           ],
           "sequentialminus": [
            [
             0,
             "#0d0887"
            ],
            [
             0.1111111111111111,
             "#46039f"
            ],
            [
             0.2222222222222222,
             "#7201a8"
            ],
            [
             0.3333333333333333,
             "#9c179e"
            ],
            [
             0.4444444444444444,
             "#bd3786"
            ],
            [
             0.5555555555555556,
             "#d8576b"
            ],
            [
             0.6666666666666666,
             "#ed7953"
            ],
            [
             0.7777777777777778,
             "#fb9f3a"
            ],
            [
             0.8888888888888888,
             "#fdca26"
            ],
            [
             1,
             "#f0f921"
            ]
           ]
          },
          "colorway": [
           "#636efa",
           "#EF553B",
           "#00cc96",
           "#ab63fa",
           "#FFA15A",
           "#19d3f3",
           "#FF6692",
           "#B6E880",
           "#FF97FF",
           "#FECB52"
          ],
          "font": {
           "color": "#2a3f5f"
          },
          "geo": {
           "bgcolor": "white",
           "lakecolor": "white",
           "landcolor": "#E5ECF6",
           "showlakes": true,
           "showland": true,
           "subunitcolor": "white"
          },
          "hoverlabel": {
           "align": "left"
          },
          "hovermode": "closest",
          "mapbox": {
           "style": "light"
          },
          "paper_bgcolor": "white",
          "plot_bgcolor": "#E5ECF6",
          "polar": {
           "angularaxis": {
            "gridcolor": "white",
            "linecolor": "white",
            "ticks": ""
           },
           "bgcolor": "#E5ECF6",
           "radialaxis": {
            "gridcolor": "white",
            "linecolor": "white",
            "ticks": ""
           }
          },
          "scene": {
           "xaxis": {
            "backgroundcolor": "#E5ECF6",
            "gridcolor": "white",
            "gridwidth": 2,
            "linecolor": "white",
            "showbackground": true,
            "ticks": "",
            "zerolinecolor": "white"
           },
           "yaxis": {
            "backgroundcolor": "#E5ECF6",
            "gridcolor": "white",
            "gridwidth": 2,
            "linecolor": "white",
            "showbackground": true,
            "ticks": "",
            "zerolinecolor": "white"
           },
           "zaxis": {
            "backgroundcolor": "#E5ECF6",
            "gridcolor": "white",
            "gridwidth": 2,
            "linecolor": "white",
            "showbackground": true,
            "ticks": "",
            "zerolinecolor": "white"
           }
          },
          "shapedefaults": {
           "line": {
            "color": "#2a3f5f"
           }
          },
          "ternary": {
           "aaxis": {
            "gridcolor": "white",
            "linecolor": "white",
            "ticks": ""
           },
           "baxis": {
            "gridcolor": "white",
            "linecolor": "white",
            "ticks": ""
           },
           "bgcolor": "#E5ECF6",
           "caxis": {
            "gridcolor": "white",
            "linecolor": "white",
            "ticks": ""
           }
          },
          "title": {
           "x": 0.05
          },
          "xaxis": {
           "automargin": true,
           "gridcolor": "white",
           "linecolor": "white",
           "ticks": "",
           "title": {
            "standoff": 15
           },
           "zerolinecolor": "white",
           "zerolinewidth": 2
          },
          "yaxis": {
           "automargin": true,
           "gridcolor": "white",
           "linecolor": "white",
           "ticks": "",
           "title": {
            "standoff": 15
           },
           "zerolinecolor": "white",
           "zerolinewidth": 2
          }
         }
        },
        "xaxis": {
         "anchor": "y",
         "domain": [
          0,
          1
         ],
         "title": {
          "text": "index"
         }
        },
        "yaxis": {
         "anchor": "x",
         "domain": [
          0,
          1
         ],
         "title": {
          "text": "value"
         }
        }
       }
      }
     },
     "metadata": {},
     "output_type": "display_data"
    }
   ],
   "source": []
  },
  {
   "cell_type": "code",
   "execution_count": 23,
   "metadata": {},
   "outputs": [
    {
     "data": {
      "text/plain": [
       "Array([34.42397 , 32.816925, 35.524845, 30.875675, 30.098652, 36.586716,\n",
       "       31.499216, 32.967186, 33.356564, 33.43457 , 30.955635, 32.03359 ,\n",
       "       29.933657, 31.483946, 33.341724, 31.809212, 33.18432 , 33.25658 ,\n",
       "       32.73649 , 30.117163, 32.670555, 34.910442, 31.905743, 32.487965,\n",
       "       32.92082 , 33.36748 , 35.663124, 35.055397, 30.308071, 30.937735,\n",
       "       34.731964, 32.666298, 32.723324, 34.19107 , 34.29744 , 32.35013 ,\n",
       "       33.47869 , 31.117887, 32.048115, 33.17931 , 33.81697 , 33.148876,\n",
       "       32.600994, 31.426304, 32.876724, 34.80502 , 31.340261, 32.672283,\n",
       "       32.41156 , 34.963165, 33.05129 , 32.515812, 33.54454 , 31.76873 ,\n",
       "       34.061993, 33.252945, 31.318024, 32.54927 , 31.246525, 33.704372,\n",
       "       31.052942, 31.994587, 31.966537, 34.161366, 32.88356 , 33.120632,\n",
       "       31.958313, 33.455395, 33.343258, 33.86094 , 32.381676, 34.753048,\n",
       "       31.783682, 35.521862, 35.18689 , 32.587856, 72.712875, 68.36897 ,\n",
       "       66.99183 , 67.86919 , 70.3611  , 67.481   , 66.34933 , 67.98663 ,\n",
       "       65.65051 , 67.00269 , 68.36421 , 65.81158 , 65.51159 , 64.58747 ,\n",
       "       68.91437 , 65.66858 , 67.49168 , 67.11818 , 68.617516, 66.79363 ,\n",
       "       66.514496, 67.788795, 67.08697 , 67.38663 , 68.80801 , 66.264305,\n",
       "       71.394165, 65.48867 , 67.018616, 65.97181 , 68.72196 , 66.490295,\n",
       "       65.4603  , 68.26032 , 66.901146, 69.61829 , 68.02431 , 69.709625,\n",
       "       68.361   , 68.03912 , 67.36323 , 68.75135 , 68.89387 , 68.41223 ,\n",
       "       69.503395, 67.63149 , 70.85168 , 67.75998 , 68.29643 , 68.040054,\n",
       "       68.97722 , 66.37734 , 66.25913 , 67.60808 , 67.81759 , 68.40582 ,\n",
       "       69.68218 , 65.00521 , 67.822556, 63.85726 , 66.69956 , 66.42816 ,\n",
       "       69.215004, 67.85273 , 66.846214, 65.57685 , 66.23487 , 65.669   ,\n",
       "       67.680244, 65.936104, 67.756485, 68.5495  , 65.30119 , 67.48105 ,\n",
       "       68.007706, 65.635666, 65.090164, 68.89197 , 71.237434, 70.290596,\n",
       "       66.186   , 68.875336, 70.75317 , 65.28689 , 67.86878 , 66.47815 ,\n",
       "       66.924126, 69.48357 , 68.40911 , 66.95926 , 65.40582 , 70.35603 ],      dtype=float32)"
      ]
     },
     "execution_count": 23,
     "metadata": {},
     "output_type": "execute_result"
    }
   ],
   "source": [
    "predictions['obs'][1]"
   ]
  },
  {
   "cell_type": "code",
   "execution_count": 90,
   "metadata": {},
   "outputs": [],
   "source": [
    "import json"
   ]
  },
  {
   "cell_type": "code",
   "execution_count": 92,
   "metadata": {},
   "outputs": [
    {
     "ename": "TypeError",
     "evalue": "save() missing 1 required positional argument: 'arr'",
     "output_type": "error",
     "traceback": [
      "\u001b[1;31m---------------------------------------------------------------------------\u001b[0m",
      "\u001b[1;31mTypeError\u001b[0m                                 Traceback (most recent call last)",
      "Cell \u001b[1;32mIn[92], line 1\u001b[0m\n\u001b[1;32m----> 1\u001b[0m \u001b[43mnp\u001b[49m\u001b[38;5;241;43m.\u001b[39;49m\u001b[43msave\u001b[49m\u001b[43m(\u001b[49m\u001b[43mmodel_summary\u001b[49m\u001b[43m)\u001b[49m\n",
      "\u001b[1;31mTypeError\u001b[0m: save() missing 1 required positional argument: 'arr'"
     ]
    }
   ],
   "source": [
    "np.save(model_summary)"
   ]
  },
  {
   "cell_type": "code",
   "execution_count": 81,
   "metadata": {},
   "outputs": [
    {
     "data": {
      "application/vnd.plotly.v1+json": {
       "config": {
        "plotlyServerURL": "https://plot.ly"
       },
       "data": [
        {
         "name": "Corrected Relevant Tweets",
         "opacity": 0.5,
         "type": "bar",
         "x": [
          "2022-09-17T00:00:00",
          "2022-09-17T01:00:00",
          "2022-09-17T02:00:00",
          "2022-09-17T03:00:00",
          "2022-09-17T04:00:00",
          "2022-09-17T05:00:00",
          "2022-09-17T06:00:00",
          "2022-09-17T07:00:00",
          "2022-09-17T08:00:00",
          "2022-09-17T09:00:00",
          "2022-09-17T10:00:00",
          "2022-09-17T11:00:00",
          "2022-09-17T12:00:00",
          "2022-09-17T13:00:00",
          "2022-09-17T14:00:00",
          "2022-09-17T15:00:00",
          "2022-09-17T16:00:00",
          "2022-09-17T17:00:00",
          "2022-09-17T18:00:00",
          "2022-09-17T19:00:00",
          "2022-09-17T20:00:00",
          "2022-09-17T21:00:00",
          "2022-09-17T22:00:00",
          "2022-09-17T23:00:00",
          "2022-09-18T00:00:00",
          "2022-09-18T01:00:00",
          "2022-09-18T02:00:00",
          "2022-09-18T03:00:00",
          "2022-09-18T04:00:00",
          "2022-09-18T05:00:00",
          "2022-09-18T06:00:00",
          "2022-09-18T07:00:00",
          "2022-09-18T08:00:00",
          "2022-09-18T09:00:00",
          "2022-09-18T10:00:00",
          "2022-09-18T11:00:00",
          "2022-09-18T12:00:00",
          "2022-09-18T13:00:00",
          "2022-09-18T14:00:00",
          "2022-09-18T15:00:00",
          "2022-09-18T16:00:00",
          "2022-09-18T17:00:00",
          "2022-09-18T18:00:00",
          "2022-09-18T19:00:00",
          "2022-09-18T20:00:00",
          "2022-09-18T21:00:00",
          "2022-09-18T22:00:00",
          "2022-09-18T23:00:00",
          "2022-09-19T00:00:00",
          "2022-09-19T01:00:00",
          "2022-09-19T02:00:00",
          "2022-09-19T03:00:00",
          "2022-09-19T04:00:00",
          "2022-09-19T05:00:00",
          "2022-09-19T06:00:00",
          "2022-09-19T07:00:00",
          "2022-09-19T08:00:00",
          "2022-09-19T09:00:00",
          "2022-09-19T10:00:00",
          "2022-09-19T11:00:00",
          "2022-09-19T12:00:00",
          "2022-09-19T13:00:00",
          "2022-09-19T14:00:00",
          "2022-09-19T15:00:00",
          "2022-09-19T16:00:00",
          "2022-09-19T17:00:00",
          "2022-09-19T18:00:00",
          "2022-09-19T19:00:00",
          "2022-09-19T20:00:00",
          "2022-09-19T21:00:00",
          "2022-09-19T22:00:00",
          "2022-09-19T23:00:00",
          "2022-09-20T00:00:00",
          "2022-09-20T01:00:00",
          "2022-09-20T02:00:00",
          "2022-09-20T03:00:00",
          "2022-09-20T04:00:00",
          "2022-09-20T05:00:00",
          "2022-09-20T06:00:00",
          "2022-09-20T07:00:00",
          "2022-09-20T08:00:00",
          "2022-09-20T09:00:00",
          "2022-09-20T10:00:00",
          "2022-09-20T11:00:00",
          "2022-09-20T12:00:00",
          "2022-09-20T13:00:00",
          "2022-09-20T14:00:00",
          "2022-09-20T15:00:00",
          "2022-09-20T16:00:00",
          "2022-09-20T17:00:00",
          "2022-09-20T18:00:00",
          "2022-09-20T19:00:00",
          "2022-09-20T20:00:00",
          "2022-09-20T21:00:00",
          "2022-09-20T22:00:00",
          "2022-09-20T23:00:00",
          "2022-09-21T00:00:00",
          "2022-09-21T01:00:00",
          "2022-09-21T02:00:00",
          "2022-09-21T03:00:00",
          "2022-09-21T04:00:00",
          "2022-09-21T05:00:00",
          "2022-09-21T06:00:00",
          "2022-09-21T07:00:00",
          "2022-09-21T08:00:00",
          "2022-09-21T09:00:00",
          "2022-09-21T10:00:00",
          "2022-09-21T11:00:00",
          "2022-09-21T12:00:00",
          "2022-09-21T13:00:00",
          "2022-09-21T14:00:00",
          "2022-09-21T15:00:00",
          "2022-09-21T16:00:00",
          "2022-09-21T17:00:00",
          "2022-09-21T18:00:00",
          "2022-09-21T19:00:00",
          "2022-09-21T20:00:00",
          "2022-09-21T21:00:00",
          "2022-09-21T22:00:00",
          "2022-09-21T23:00:00",
          "2022-09-22T00:00:00",
          "2022-09-22T01:00:00",
          "2022-09-22T02:00:00",
          "2022-09-22T03:00:00",
          "2022-09-22T04:00:00",
          "2022-09-22T05:00:00",
          "2022-09-22T06:00:00",
          "2022-09-22T07:00:00",
          "2022-09-22T08:00:00",
          "2022-09-22T09:00:00",
          "2022-09-22T10:00:00",
          "2022-09-22T11:00:00",
          "2022-09-22T12:00:00",
          "2022-09-22T13:00:00",
          "2022-09-22T14:00:00",
          "2022-09-22T15:00:00",
          "2022-09-22T16:00:00",
          "2022-09-22T17:00:00",
          "2022-09-22T18:00:00",
          "2022-09-22T19:00:00",
          "2022-09-22T20:00:00",
          "2022-09-22T21:00:00",
          "2022-09-22T22:00:00",
          "2022-09-22T23:00:00",
          "2022-09-23T00:00:00",
          "2022-09-23T01:00:00",
          "2022-09-23T02:00:00",
          "2022-09-23T03:00:00",
          "2022-09-23T04:00:00",
          "2022-09-23T05:00:00",
          "2022-09-23T06:00:00",
          "2022-09-23T07:00:00",
          "2022-09-23T08:00:00",
          "2022-09-23T09:00:00",
          "2022-09-23T10:00:00",
          "2022-09-23T11:00:00",
          "2022-09-23T12:00:00",
          "2022-09-23T13:00:00",
          "2022-09-23T14:00:00",
          "2022-09-23T15:00:00",
          "2022-09-23T16:00:00",
          "2022-09-23T17:00:00",
          "2022-09-23T18:00:00",
          "2022-09-23T19:00:00",
          "2022-09-23T20:00:00",
          "2022-09-23T21:00:00",
          "2022-09-23T22:00:00",
          "2022-09-23T23:00:00"
         ],
         "xaxis": "x",
         "y": [
          11.145675902602855,
          19.593357933579334,
          19.308363636363634,
          35.33136882129278,
          24.81214953271028,
          22.511075781664015,
          16.76073232323232,
          27.871452360266435,
          26.046109727567732,
          33.876229077535086,
          26.159513904094588,
          23.823911092703803,
          18.547688475791265,
          23.91370924157809,
          22.8368333629946,
          16.827369634111207,
          23.552007096917276,
          17.90800046923573,
          18.497122258572638,
          26.43843925402861,
          22.18817100610736,
          18.657752626128126,
          24.395248096613283,
          17.70439173097075,
          30.252548878493464,
          8.16389913899139,
          9.654181818181817,
          15.142015209125475,
          11.579003115264797,
          21.104133545310013,
          9.859254307783718,
          24.988198667825078,
          22.03901592332654,
          19.927193575020638,
          20.34628859207357,
          19.2423897287223,
          13.709161047323978,
          14.348225544946855,
          19.68692531292638,
          20.651771823681933,
          17.664005322687956,
          17.129391753182002,
          24.126681206833876,
          17.625626169352405,
          23.89495339119254,
          27.49563544903092,
          12.778463288702195,
          22.762789368390965,
          17.514633561233058,
          11.429458794587946,
          17.699333333333332,
          16.82446134347275,
          4.962429906542056,
          25.324960254372016,
          19.718508615567437,
          24.988198667825078,
          27.04788317862803,
          37.861667792539215,
          30.034997445441935,
          25.656519638296402,
          24.99905838041431,
          32.68206929682339,
          29.924126475648094,
          27.535695764909246,
          25.024007540474607,
          25.694087629773005,
          28.95201744820065,
          21.63145029875068,
          33.28225650916104,
          25.531661488385854,
          16.263498731075522,
          11.381394684195483,
          19.10687297589061,
          16.32779827798278,
          27.353515151515147,
          10.09467680608365,
          18.195576323987538,
          14.06942236354001,
          17.746657754010695,
          29.79362148856067,
          31.054976982869217,
          24.908991968775798,
          34.87935187212612,
          43.066300821426104,
          33.869691999271005,
          35.870563862367135,
          40.94880465088687,
          37.47914145779314,
          50.04801508094921,
          38.93043580268637,
          40.211135344723125,
          49.67221920453859,
          34.13564770170363,
          44.18941411451398,
          32.526997462151044,
          26.556587596456126,
          27.068070049178363,
          26.124477244772446,
          25.744484848484845,
          23.55424588086185,
          31.42872274143302,
          30.95272919978802,
          73.94440730837789,
          84.57544164494642,
          67.11882122103992,
          54.79978233130676,
          70.72757462958907,
          62.308690550148405,
          42.74032561812769,
          60.58139674533116,
          73.23536216408613,
          65.01483722270238,
          49.312014859170546,
          45.15930553111619,
          58.70825760329576,
          56.081537811575835,
          40.96277724204435,
          63.829153720964634,
          48.790496193226566,
          41.731780508716774,
          36.621506537123665,
          42.45227552275522,
          57.9250909090909,
          16.82446134347275,
          41.35358255451713,
          37.987440381558024,
          26.61998663101604,
          34.59904430929626,
          54.09576635725606,
          45.832545222547466,
          47.47467338150499,
          39.401083730240906,
          36.28895571350465,
          46.23317120038431,
          35.43646556326748,
          42.83330452319216,
          36.800011088933246,
          45.15930553111619,
          28.14779474130619,
          39.25707646810309,
          36.695821279331405,
          38.29749223257878,
          24.395248096613283,
          20.23359054968086,
          20.69911239054816,
          26.124477244772446,
          30.571575757575754,
          13.4595690747782,
          24.81214953271028,
          36.580498145204025,
          26.61998663101604,
          34.59904430929626,
          34.06029733605011,
          47.825264580049534,
          31.003868330778772,
          25.656519638296402,
          33.869691999271005,
          30.29069837266558,
          31.499080500682204,
          30.595217516565828,
          32.38400975826126,
          24.915478913719276,
          34.58157639646189,
          32.847757861065844,
          21.33477981356477,
          28.477622429353453,
          27.88028353898661,
          15.175192912260645
         ],
         "yaxis": "y"
        },
        {
         "type": "scatter",
         "visible": true,
         "x": [
          "2022-09-17T00:00:00",
          "2022-09-17T01:00:00",
          "2022-09-17T02:00:00",
          "2022-09-17T03:00:00",
          "2022-09-17T04:00:00",
          "2022-09-17T05:00:00",
          "2022-09-17T06:00:00",
          "2022-09-17T07:00:00",
          "2022-09-17T08:00:00",
          "2022-09-17T09:00:00",
          "2022-09-17T10:00:00",
          "2022-09-17T11:00:00",
          "2022-09-17T12:00:00",
          "2022-09-17T13:00:00",
          "2022-09-17T14:00:00",
          "2022-09-17T15:00:00",
          "2022-09-17T16:00:00",
          "2022-09-17T17:00:00",
          "2022-09-17T18:00:00",
          "2022-09-17T19:00:00",
          "2022-09-17T20:00:00",
          "2022-09-17T21:00:00",
          "2022-09-17T22:00:00",
          "2022-09-17T23:00:00",
          "2022-09-18T00:00:00",
          "2022-09-18T01:00:00",
          "2022-09-18T02:00:00",
          "2022-09-18T03:00:00",
          "2022-09-18T04:00:00",
          "2022-09-18T05:00:00",
          "2022-09-18T06:00:00",
          "2022-09-18T07:00:00",
          "2022-09-18T08:00:00",
          "2022-09-18T09:00:00",
          "2022-09-18T10:00:00",
          "2022-09-18T11:00:00",
          "2022-09-18T12:00:00",
          "2022-09-18T13:00:00",
          "2022-09-18T14:00:00",
          "2022-09-18T15:00:00",
          "2022-09-18T16:00:00",
          "2022-09-18T17:00:00",
          "2022-09-18T18:00:00",
          "2022-09-18T19:00:00",
          "2022-09-18T20:00:00",
          "2022-09-18T21:00:00",
          "2022-09-18T22:00:00",
          "2022-09-18T23:00:00",
          "2022-09-19T00:00:00",
          "2022-09-19T01:00:00",
          "2022-09-19T02:00:00",
          "2022-09-19T03:00:00",
          "2022-09-19T04:00:00",
          "2022-09-19T05:00:00",
          "2022-09-19T06:00:00",
          "2022-09-19T07:00:00",
          "2022-09-19T08:00:00",
          "2022-09-19T09:00:00",
          "2022-09-19T10:00:00",
          "2022-09-19T11:00:00",
          "2022-09-19T12:00:00",
          "2022-09-19T13:00:00",
          "2022-09-19T14:00:00",
          "2022-09-19T15:00:00",
          "2022-09-19T16:00:00",
          "2022-09-19T17:00:00",
          "2022-09-19T18:00:00",
          "2022-09-19T19:00:00",
          "2022-09-19T20:00:00",
          "2022-09-19T21:00:00",
          "2022-09-19T22:00:00",
          "2022-09-19T23:00:00",
          "2022-09-20T00:00:00",
          "2022-09-20T01:00:00",
          "2022-09-20T02:00:00",
          "2022-09-20T03:00:00",
          "2022-09-20T04:00:00",
          "2022-09-20T05:00:00",
          "2022-09-20T06:00:00",
          "2022-09-20T07:00:00",
          "2022-09-20T08:00:00",
          "2022-09-20T09:00:00",
          "2022-09-20T10:00:00",
          "2022-09-20T11:00:00",
          "2022-09-20T12:00:00",
          "2022-09-20T13:00:00",
          "2022-09-20T14:00:00",
          "2022-09-20T15:00:00",
          "2022-09-20T16:00:00",
          "2022-09-20T17:00:00",
          "2022-09-20T18:00:00",
          "2022-09-20T19:00:00",
          "2022-09-20T20:00:00",
          "2022-09-20T21:00:00",
          "2022-09-20T22:00:00",
          "2022-09-20T23:00:00",
          "2022-09-21T00:00:00",
          "2022-09-21T01:00:00",
          "2022-09-21T02:00:00",
          "2022-09-21T03:00:00",
          "2022-09-21T04:00:00",
          "2022-09-21T05:00:00",
          "2022-09-21T06:00:00",
          "2022-09-21T07:00:00",
          "2022-09-21T08:00:00",
          "2022-09-21T09:00:00",
          "2022-09-21T10:00:00",
          "2022-09-21T11:00:00",
          "2022-09-21T12:00:00",
          "2022-09-21T13:00:00",
          "2022-09-21T14:00:00",
          "2022-09-21T15:00:00",
          "2022-09-21T16:00:00",
          "2022-09-21T17:00:00",
          "2022-09-21T18:00:00",
          "2022-09-21T19:00:00",
          "2022-09-21T20:00:00",
          "2022-09-21T21:00:00",
          "2022-09-21T22:00:00",
          "2022-09-21T23:00:00",
          "2022-09-22T00:00:00",
          "2022-09-22T01:00:00",
          "2022-09-22T02:00:00",
          "2022-09-22T03:00:00",
          "2022-09-22T04:00:00",
          "2022-09-22T05:00:00",
          "2022-09-22T06:00:00",
          "2022-09-22T07:00:00",
          "2022-09-22T08:00:00",
          "2022-09-22T09:00:00",
          "2022-09-22T10:00:00",
          "2022-09-22T11:00:00",
          "2022-09-22T12:00:00",
          "2022-09-22T13:00:00",
          "2022-09-22T14:00:00",
          "2022-09-22T15:00:00",
          "2022-09-22T16:00:00",
          "2022-09-22T17:00:00",
          "2022-09-22T18:00:00",
          "2022-09-22T19:00:00",
          "2022-09-22T20:00:00",
          "2022-09-22T21:00:00",
          "2022-09-22T22:00:00",
          "2022-09-22T23:00:00",
          "2022-09-23T00:00:00",
          "2022-09-23T01:00:00",
          "2022-09-23T02:00:00",
          "2022-09-23T03:00:00",
          "2022-09-23T04:00:00",
          "2022-09-23T05:00:00",
          "2022-09-23T06:00:00",
          "2022-09-23T07:00:00",
          "2022-09-23T08:00:00",
          "2022-09-23T09:00:00",
          "2022-09-23T10:00:00",
          "2022-09-23T11:00:00",
          "2022-09-23T12:00:00",
          "2022-09-23T13:00:00",
          "2022-09-23T14:00:00",
          "2022-09-23T15:00:00",
          "2022-09-23T16:00:00",
          "2022-09-23T17:00:00",
          "2022-09-23T18:00:00",
          "2022-09-23T19:00:00",
          "2022-09-23T20:00:00",
          "2022-09-23T21:00:00",
          "2022-09-23T22:00:00",
          "2022-09-23T23:00:00"
         ],
         "xaxis": "x",
         "y": [
          23.391735076904297,
          23.391735076904297,
          23.391735076904297,
          23.391735076904297,
          23.391735076904297,
          23.391735076904297,
          23.391735076904297,
          23.391735076904297,
          23.391735076904297,
          23.391735076904297,
          23.391735076904297,
          23.391735076904297,
          23.391735076904297,
          23.391735076904297,
          23.391735076904297,
          23.391735076904297,
          23.391735076904297,
          23.391735076904297,
          23.391735076904297,
          23.391735076904297,
          23.391735076904297,
          23.391735076904297,
          23.391735076904297,
          23.391735076904297,
          23.391735076904297,
          23.391735076904297,
          23.391735076904297,
          23.391735076904297,
          23.391735076904297,
          23.391735076904297,
          23.391735076904297,
          23.391735076904297,
          23.391735076904297,
          23.391735076904297,
          23.391735076904297,
          23.391735076904297,
          23.391735076904297,
          23.391735076904297,
          23.391735076904297,
          23.391735076904297,
          23.391735076904297,
          23.391735076904297,
          23.391735076904297,
          23.391735076904297,
          23.391735076904297,
          23.391735076904297,
          23.391735076904297,
          23.391735076904297,
          23.391735076904297,
          23.391735076904297,
          23.391735076904297,
          23.391735076904297,
          23.391735076904297,
          23.391735076904297,
          23.391735076904297,
          23.391735076904297,
          23.391735076904297,
          23.391735076904297,
          23.391735076904297,
          23.391735076904297,
          23.391735076904297,
          23.391735076904297,
          23.391735076904297,
          23.391735076904297,
          23.391735076904297,
          23.391735076904297,
          23.391735076904297,
          23.391735076904297,
          23.391735076904297,
          23.391735076904297,
          23.391735076904297,
          23.391735076904297,
          23.391735076904297,
          23.391735076904297,
          23.391735076904297,
          23.391735076904297,
          23.391735076904297,
          23.391735076904297,
          23.391735076904297,
          23.391735076904297,
          23.391735076904297,
          23.391735076904297,
          23.391735076904297,
          23.391735076904297,
          23.391735076904297,
          23.391735076904297,
          23.391735076904297,
          23.391735076904297,
          23.391735076904297,
          23.391735076904297,
          23.391735076904297,
          23.391735076904297,
          23.391735076904297,
          23.391735076904297,
          23.391735076904297,
          23.391735076904297,
          23.391735076904297,
          23.391735076904297,
          23.391735076904297,
          23.391735076904297,
          23.391735076904297,
          23.391735076904297,
          72.58497716923452,
          69.65389800149099,
          66.92737280125277,
          64.39112616917802,
          62.031878956590894,
          59.83727873920318,
          57.795835142931324,
          55.896859683191316,
          54.13040980268501,
          52.48723681467391,
          50.95873747918446,
          49.53690895861001,
          48.21430691686848,
          46.984006542733276,
          45.83956629326552,
          44.774994167517406,
          43.78471633392415,
          42.86354794712554,
          42.006666001421316,
          41.20958407872787,
          40.46812885882295,
          39.778418268891926,
          39.13684115797213,
          38.54003838987579,
          37.984885255598876,
          37.468475113131625,
          36.98810416901294,
          36.54125732194872,
          36.125594994374836,
          35.73894088301819,
          35.37927056432079,
          35.04470089506785,
          34.73348015272407,
          34.44397886385564,
          34.17468127261764,
          33.92417740463815,
          33.691155684747514,
          33.47439606990101,
          33.27276366134076,
          33.085202762551575,
          32.91073135189986,
          32.74843594101568,
          32.59746679199764,
          32.45703346839926,
          32.32640069670277,
          32.204884516612125,
          32.091848700009166,
          31.98670141982337,
          31.88889215137437,
          31.797908789963376,
          31.713274969621896,
          31.634547568979517,
          31.561314391191985,
          31.49319200578233,
          31.42982374109545,
          31.37087781685515,
          31.316045607046146,
          31.265040024025986,
          31.21759401540645,
          31.173459165834483,
          31.132404396351976,
          31.094214754524526,
          31.05869028900462,
          31.025645002636743,
          30.994905878623086,
          30.96631197465119
         ],
         "yaxis": "y"
        }
       ],
       "layout": {
        "template": {
         "data": {
          "bar": [
           {
            "error_x": {
             "color": "#2a3f5f"
            },
            "error_y": {
             "color": "#2a3f5f"
            },
            "marker": {
             "line": {
              "color": "#E5ECF6",
              "width": 0.5
             },
             "pattern": {
              "fillmode": "overlay",
              "size": 10,
              "solidity": 0.2
             }
            },
            "type": "bar"
           }
          ],
          "barpolar": [
           {
            "marker": {
             "line": {
              "color": "#E5ECF6",
              "width": 0.5
             },
             "pattern": {
              "fillmode": "overlay",
              "size": 10,
              "solidity": 0.2
             }
            },
            "type": "barpolar"
           }
          ],
          "carpet": [
           {
            "aaxis": {
             "endlinecolor": "#2a3f5f",
             "gridcolor": "white",
             "linecolor": "white",
             "minorgridcolor": "white",
             "startlinecolor": "#2a3f5f"
            },
            "baxis": {
             "endlinecolor": "#2a3f5f",
             "gridcolor": "white",
             "linecolor": "white",
             "minorgridcolor": "white",
             "startlinecolor": "#2a3f5f"
            },
            "type": "carpet"
           }
          ],
          "choropleth": [
           {
            "colorbar": {
             "outlinewidth": 0,
             "ticks": ""
            },
            "type": "choropleth"
           }
          ],
          "contour": [
           {
            "colorbar": {
             "outlinewidth": 0,
             "ticks": ""
            },
            "colorscale": [
             [
              0,
              "#0d0887"
             ],
             [
              0.1111111111111111,
              "#46039f"
             ],
             [
              0.2222222222222222,
              "#7201a8"
             ],
             [
              0.3333333333333333,
              "#9c179e"
             ],
             [
              0.4444444444444444,
              "#bd3786"
             ],
             [
              0.5555555555555556,
              "#d8576b"
             ],
             [
              0.6666666666666666,
              "#ed7953"
             ],
             [
              0.7777777777777778,
              "#fb9f3a"
             ],
             [
              0.8888888888888888,
              "#fdca26"
             ],
             [
              1,
              "#f0f921"
             ]
            ],
            "type": "contour"
           }
          ],
          "contourcarpet": [
           {
            "colorbar": {
             "outlinewidth": 0,
             "ticks": ""
            },
            "type": "contourcarpet"
           }
          ],
          "heatmap": [
           {
            "colorbar": {
             "outlinewidth": 0,
             "ticks": ""
            },
            "colorscale": [
             [
              0,
              "#0d0887"
             ],
             [
              0.1111111111111111,
              "#46039f"
             ],
             [
              0.2222222222222222,
              "#7201a8"
             ],
             [
              0.3333333333333333,
              "#9c179e"
             ],
             [
              0.4444444444444444,
              "#bd3786"
             ],
             [
              0.5555555555555556,
              "#d8576b"
             ],
             [
              0.6666666666666666,
              "#ed7953"
             ],
             [
              0.7777777777777778,
              "#fb9f3a"
             ],
             [
              0.8888888888888888,
              "#fdca26"
             ],
             [
              1,
              "#f0f921"
             ]
            ],
            "type": "heatmap"
           }
          ],
          "heatmapgl": [
           {
            "colorbar": {
             "outlinewidth": 0,
             "ticks": ""
            },
            "colorscale": [
             [
              0,
              "#0d0887"
             ],
             [
              0.1111111111111111,
              "#46039f"
             ],
             [
              0.2222222222222222,
              "#7201a8"
             ],
             [
              0.3333333333333333,
              "#9c179e"
             ],
             [
              0.4444444444444444,
              "#bd3786"
             ],
             [
              0.5555555555555556,
              "#d8576b"
             ],
             [
              0.6666666666666666,
              "#ed7953"
             ],
             [
              0.7777777777777778,
              "#fb9f3a"
             ],
             [
              0.8888888888888888,
              "#fdca26"
             ],
             [
              1,
              "#f0f921"
             ]
            ],
            "type": "heatmapgl"
           }
          ],
          "histogram": [
           {
            "marker": {
             "pattern": {
              "fillmode": "overlay",
              "size": 10,
              "solidity": 0.2
             }
            },
            "type": "histogram"
           }
          ],
          "histogram2d": [
           {
            "colorbar": {
             "outlinewidth": 0,
             "ticks": ""
            },
            "colorscale": [
             [
              0,
              "#0d0887"
             ],
             [
              0.1111111111111111,
              "#46039f"
             ],
             [
              0.2222222222222222,
              "#7201a8"
             ],
             [
              0.3333333333333333,
              "#9c179e"
             ],
             [
              0.4444444444444444,
              "#bd3786"
             ],
             [
              0.5555555555555556,
              "#d8576b"
             ],
             [
              0.6666666666666666,
              "#ed7953"
             ],
             [
              0.7777777777777778,
              "#fb9f3a"
             ],
             [
              0.8888888888888888,
              "#fdca26"
             ],
             [
              1,
              "#f0f921"
             ]
            ],
            "type": "histogram2d"
           }
          ],
          "histogram2dcontour": [
           {
            "colorbar": {
             "outlinewidth": 0,
             "ticks": ""
            },
            "colorscale": [
             [
              0,
              "#0d0887"
             ],
             [
              0.1111111111111111,
              "#46039f"
             ],
             [
              0.2222222222222222,
              "#7201a8"
             ],
             [
              0.3333333333333333,
              "#9c179e"
             ],
             [
              0.4444444444444444,
              "#bd3786"
             ],
             [
              0.5555555555555556,
              "#d8576b"
             ],
             [
              0.6666666666666666,
              "#ed7953"
             ],
             [
              0.7777777777777778,
              "#fb9f3a"
             ],
             [
              0.8888888888888888,
              "#fdca26"
             ],
             [
              1,
              "#f0f921"
             ]
            ],
            "type": "histogram2dcontour"
           }
          ],
          "mesh3d": [
           {
            "colorbar": {
             "outlinewidth": 0,
             "ticks": ""
            },
            "type": "mesh3d"
           }
          ],
          "parcoords": [
           {
            "line": {
             "colorbar": {
              "outlinewidth": 0,
              "ticks": ""
             }
            },
            "type": "parcoords"
           }
          ],
          "pie": [
           {
            "automargin": true,
            "type": "pie"
           }
          ],
          "scatter": [
           {
            "fillpattern": {
             "fillmode": "overlay",
             "size": 10,
             "solidity": 0.2
            },
            "type": "scatter"
           }
          ],
          "scatter3d": [
           {
            "line": {
             "colorbar": {
              "outlinewidth": 0,
              "ticks": ""
             }
            },
            "marker": {
             "colorbar": {
              "outlinewidth": 0,
              "ticks": ""
             }
            },
            "type": "scatter3d"
           }
          ],
          "scattercarpet": [
           {
            "marker": {
             "colorbar": {
              "outlinewidth": 0,
              "ticks": ""
             }
            },
            "type": "scattercarpet"
           }
          ],
          "scattergeo": [
           {
            "marker": {
             "colorbar": {
              "outlinewidth": 0,
              "ticks": ""
             }
            },
            "type": "scattergeo"
           }
          ],
          "scattergl": [
           {
            "marker": {
             "colorbar": {
              "outlinewidth": 0,
              "ticks": ""
             }
            },
            "type": "scattergl"
           }
          ],
          "scattermapbox": [
           {
            "marker": {
             "colorbar": {
              "outlinewidth": 0,
              "ticks": ""
             }
            },
            "type": "scattermapbox"
           }
          ],
          "scatterpolar": [
           {
            "marker": {
             "colorbar": {
              "outlinewidth": 0,
              "ticks": ""
             }
            },
            "type": "scatterpolar"
           }
          ],
          "scatterpolargl": [
           {
            "marker": {
             "colorbar": {
              "outlinewidth": 0,
              "ticks": ""
             }
            },
            "type": "scatterpolargl"
           }
          ],
          "scatterternary": [
           {
            "marker": {
             "colorbar": {
              "outlinewidth": 0,
              "ticks": ""
             }
            },
            "type": "scatterternary"
           }
          ],
          "surface": [
           {
            "colorbar": {
             "outlinewidth": 0,
             "ticks": ""
            },
            "colorscale": [
             [
              0,
              "#0d0887"
             ],
             [
              0.1111111111111111,
              "#46039f"
             ],
             [
              0.2222222222222222,
              "#7201a8"
             ],
             [
              0.3333333333333333,
              "#9c179e"
             ],
             [
              0.4444444444444444,
              "#bd3786"
             ],
             [
              0.5555555555555556,
              "#d8576b"
             ],
             [
              0.6666666666666666,
              "#ed7953"
             ],
             [
              0.7777777777777778,
              "#fb9f3a"
             ],
             [
              0.8888888888888888,
              "#fdca26"
             ],
             [
              1,
              "#f0f921"
             ]
            ],
            "type": "surface"
           }
          ],
          "table": [
           {
            "cells": {
             "fill": {
              "color": "#EBF0F8"
             },
             "line": {
              "color": "white"
             }
            },
            "header": {
             "fill": {
              "color": "#C8D4E3"
             },
             "line": {
              "color": "white"
             }
            },
            "type": "table"
           }
          ]
         },
         "layout": {
          "annotationdefaults": {
           "arrowcolor": "#2a3f5f",
           "arrowhead": 0,
           "arrowwidth": 1
          },
          "autotypenumbers": "strict",
          "coloraxis": {
           "colorbar": {
            "outlinewidth": 0,
            "ticks": ""
           }
          },
          "colorscale": {
           "diverging": [
            [
             0,
             "#8e0152"
            ],
            [
             0.1,
             "#c51b7d"
            ],
            [
             0.2,
             "#de77ae"
            ],
            [
             0.3,
             "#f1b6da"
            ],
            [
             0.4,
             "#fde0ef"
            ],
            [
             0.5,
             "#f7f7f7"
            ],
            [
             0.6,
             "#e6f5d0"
            ],
            [
             0.7,
             "#b8e186"
            ],
            [
             0.8,
             "#7fbc41"
            ],
            [
             0.9,
             "#4d9221"
            ],
            [
             1,
             "#276419"
            ]
           ],
           "sequential": [
            [
             0,
             "#0d0887"
            ],
            [
             0.1111111111111111,
             "#46039f"
            ],
            [
             0.2222222222222222,
             "#7201a8"
            ],
            [
             0.3333333333333333,
             "#9c179e"
            ],
            [
             0.4444444444444444,
             "#bd3786"
            ],
            [
             0.5555555555555556,
             "#d8576b"
            ],
            [
             0.6666666666666666,
             "#ed7953"
            ],
            [
             0.7777777777777778,
             "#fb9f3a"
            ],
            [
             0.8888888888888888,
             "#fdca26"
            ],
            [
             1,
             "#f0f921"
            ]
           ],
           "sequentialminus": [
            [
             0,
             "#0d0887"
            ],
            [
             0.1111111111111111,
             "#46039f"
            ],
            [
             0.2222222222222222,
             "#7201a8"
            ],
            [
             0.3333333333333333,
             "#9c179e"
            ],
            [
             0.4444444444444444,
             "#bd3786"
            ],
            [
             0.5555555555555556,
             "#d8576b"
            ],
            [
             0.6666666666666666,
             "#ed7953"
            ],
            [
             0.7777777777777778,
             "#fb9f3a"
            ],
            [
             0.8888888888888888,
             "#fdca26"
            ],
            [
             1,
             "#f0f921"
            ]
           ]
          },
          "colorway": [
           "#636efa",
           "#EF553B",
           "#00cc96",
           "#ab63fa",
           "#FFA15A",
           "#19d3f3",
           "#FF6692",
           "#B6E880",
           "#FF97FF",
           "#FECB52"
          ],
          "font": {
           "color": "#2a3f5f"
          },
          "geo": {
           "bgcolor": "white",
           "lakecolor": "white",
           "landcolor": "#E5ECF6",
           "showlakes": true,
           "showland": true,
           "subunitcolor": "white"
          },
          "hoverlabel": {
           "align": "left"
          },
          "hovermode": "closest",
          "mapbox": {
           "style": "light"
          },
          "paper_bgcolor": "white",
          "plot_bgcolor": "#E5ECF6",
          "polar": {
           "angularaxis": {
            "gridcolor": "white",
            "linecolor": "white",
            "ticks": ""
           },
           "bgcolor": "#E5ECF6",
           "radialaxis": {
            "gridcolor": "white",
            "linecolor": "white",
            "ticks": ""
           }
          },
          "scene": {
           "xaxis": {
            "backgroundcolor": "#E5ECF6",
            "gridcolor": "white",
            "gridwidth": 2,
            "linecolor": "white",
            "showbackground": true,
            "ticks": "",
            "zerolinecolor": "white"
           },
           "yaxis": {
            "backgroundcolor": "#E5ECF6",
            "gridcolor": "white",
            "gridwidth": 2,
            "linecolor": "white",
            "showbackground": true,
            "ticks": "",
            "zerolinecolor": "white"
           },
           "zaxis": {
            "backgroundcolor": "#E5ECF6",
            "gridcolor": "white",
            "gridwidth": 2,
            "linecolor": "white",
            "showbackground": true,
            "ticks": "",
            "zerolinecolor": "white"
           }
          },
          "shapedefaults": {
           "line": {
            "color": "#2a3f5f"
           }
          },
          "ternary": {
           "aaxis": {
            "gridcolor": "white",
            "linecolor": "white",
            "ticks": ""
           },
           "baxis": {
            "gridcolor": "white",
            "linecolor": "white",
            "ticks": ""
           },
           "bgcolor": "#E5ECF6",
           "caxis": {
            "gridcolor": "white",
            "linecolor": "white",
            "ticks": ""
           }
          },
          "title": {
           "x": 0.05
          },
          "xaxis": {
           "automargin": true,
           "gridcolor": "white",
           "linecolor": "white",
           "ticks": "",
           "title": {
            "standoff": 15
           },
           "zerolinecolor": "white",
           "zerolinewidth": 2
          },
          "yaxis": {
           "automargin": true,
           "gridcolor": "white",
           "linecolor": "white",
           "ticks": "",
           "title": {
            "standoff": 15
           },
           "zerolinecolor": "white",
           "zerolinewidth": 2
          }
         }
        },
        "xaxis": {
         "anchor": "y",
         "domain": [
          0,
          1
         ]
        },
        "yaxis": {
         "anchor": "x",
         "domain": [
          0,
          1
         ]
        }
       }
      }
     },
     "metadata": {},
     "output_type": "display_data"
    }
   ],
   "source": [
    "\n",
    "# [var for var in model_summary.keys()]\n",
    "\n",
    "fig = make_subplots(rows = 1, cols = 1, shared_xaxes=True, vertical_spacing=0.02)\n",
    "fig.add_trace(go.Bar(x=scaled.index, y=scaled.corrected_relevant, name='Corrected Relevant Tweets', opacity=.5), row=1, col=1)\n",
    "fig.add_trace(go.Scatter(x=scaled.index, y=final_y, visible = True), row=1, col=1)\n"
   ]
  },
  {
   "cell_type": "code",
   "execution_count": null,
   "metadata": {},
   "outputs": [],
   "source": [
    "\n"
   ]
  },
  {
   "cell_type": "code",
   "execution_count": null,
   "metadata": {},
   "outputs": [],
   "source": [
    "# await asyncio.gather(*[get_scaled_article_bins(i, ddf, news_articles) for i in range(len(news_articles.index))]);"
   ]
  },
  {
   "cell_type": "code",
   "execution_count": 17,
   "metadata": {},
   "outputs": [
    {
     "name": "stderr",
     "output_type": "stream",
     "text": [
      "sample: 100%|██████████| 1500/1500 [00:02<00:00, 659.85it/s] \n"
     ]
    },
    {
     "data": {
      "application/vnd.plotly.v1+json": {
       "config": {
        "plotlyServerURL": "https://plot.ly"
       },
       "data": [
        {
         "name": "Corrected Relevant Tweets",
         "opacity": 0.5,
         "type": "bar",
         "x": [
          "2022-09-17T00:00:00.000000000",
          "2022-09-17T01:00:00.000000000",
          "2022-09-17T02:00:00.000000000",
          "2022-09-17T03:00:00.000000000",
          "2022-09-17T04:00:00.000000000",
          "2022-09-17T05:00:00.000000000",
          "2022-09-17T06:00:00.000000000",
          "2022-09-17T07:00:00.000000000",
          "2022-09-17T08:00:00.000000000",
          "2022-09-17T09:00:00.000000000",
          "2022-09-17T10:00:00.000000000",
          "2022-09-17T11:00:00.000000000",
          "2022-09-17T12:00:00.000000000",
          "2022-09-17T13:00:00.000000000",
          "2022-09-17T14:00:00.000000000",
          "2022-09-17T15:00:00.000000000",
          "2022-09-17T16:00:00.000000000",
          "2022-09-17T17:00:00.000000000",
          "2022-09-17T18:00:00.000000000",
          "2022-09-17T19:00:00.000000000",
          "2022-09-17T20:00:00.000000000",
          "2022-09-17T21:00:00.000000000",
          "2022-09-17T22:00:00.000000000",
          "2022-09-17T23:00:00.000000000",
          "2022-09-18T00:00:00.000000000",
          "2022-09-18T01:00:00.000000000",
          "2022-09-18T02:00:00.000000000",
          "2022-09-18T03:00:00.000000000",
          "2022-09-18T04:00:00.000000000",
          "2022-09-18T05:00:00.000000000",
          "2022-09-18T06:00:00.000000000",
          "2022-09-18T07:00:00.000000000",
          "2022-09-18T08:00:00.000000000",
          "2022-09-18T09:00:00.000000000",
          "2022-09-18T10:00:00.000000000",
          "2022-09-18T11:00:00.000000000",
          "2022-09-18T12:00:00.000000000",
          "2022-09-18T13:00:00.000000000",
          "2022-09-18T14:00:00.000000000",
          "2022-09-18T15:00:00.000000000",
          "2022-09-18T16:00:00.000000000",
          "2022-09-18T17:00:00.000000000",
          "2022-09-18T18:00:00.000000000",
          "2022-09-18T19:00:00.000000000",
          "2022-09-18T20:00:00.000000000",
          "2022-09-18T21:00:00.000000000",
          "2022-09-18T22:00:00.000000000",
          "2022-09-18T23:00:00.000000000",
          "2022-09-19T00:00:00.000000000",
          "2022-09-19T01:00:00.000000000",
          "2022-09-19T02:00:00.000000000",
          "2022-09-19T03:00:00.000000000",
          "2022-09-19T04:00:00.000000000",
          "2022-09-19T05:00:00.000000000",
          "2022-09-19T06:00:00.000000000",
          "2022-09-19T07:00:00.000000000",
          "2022-09-19T08:00:00.000000000",
          "2022-09-19T09:00:00.000000000",
          "2022-09-19T10:00:00.000000000",
          "2022-09-19T11:00:00.000000000",
          "2022-09-19T12:00:00.000000000",
          "2022-09-19T13:00:00.000000000",
          "2022-09-19T14:00:00.000000000",
          "2022-09-19T15:00:00.000000000",
          "2022-09-19T16:00:00.000000000",
          "2022-09-19T17:00:00.000000000",
          "2022-09-19T18:00:00.000000000",
          "2022-09-19T19:00:00.000000000",
          "2022-09-19T20:00:00.000000000",
          "2022-09-19T21:00:00.000000000",
          "2022-09-19T22:00:00.000000000",
          "2022-09-19T23:00:00.000000000",
          "2022-09-20T00:00:00.000000000",
          "2022-09-20T01:00:00.000000000",
          "2022-09-20T02:00:00.000000000",
          "2022-09-20T03:00:00.000000000",
          "2022-09-20T04:00:00.000000000",
          "2022-09-20T05:00:00.000000000",
          "2022-09-20T06:00:00.000000000",
          "2022-09-20T07:00:00.000000000",
          "2022-09-20T08:00:00.000000000",
          "2022-09-20T09:00:00.000000000",
          "2022-09-20T10:00:00.000000000",
          "2022-09-20T11:00:00.000000000",
          "2022-09-20T12:00:00.000000000",
          "2022-09-20T13:00:00.000000000",
          "2022-09-20T14:00:00.000000000",
          "2022-09-20T15:00:00.000000000",
          "2022-09-20T16:00:00.000000000",
          "2022-09-20T17:00:00.000000000",
          "2022-09-20T18:00:00.000000000",
          "2022-09-20T19:00:00.000000000",
          "2022-09-20T20:00:00.000000000",
          "2022-09-20T21:00:00.000000000",
          "2022-09-20T22:00:00.000000000",
          "2022-09-20T23:00:00.000000000",
          "2022-09-21T00:00:00.000000000",
          "2022-09-21T01:00:00.000000000",
          "2022-09-21T02:00:00.000000000",
          "2022-09-21T03:00:00.000000000",
          "2022-09-21T04:00:00.000000000",
          "2022-09-21T05:00:00.000000000",
          "2022-09-21T06:00:00.000000000",
          "2022-09-21T07:00:00.000000000",
          "2022-09-21T08:00:00.000000000",
          "2022-09-21T09:00:00.000000000",
          "2022-09-21T10:00:00.000000000",
          "2022-09-21T11:00:00.000000000",
          "2022-09-21T12:00:00.000000000",
          "2022-09-21T13:00:00.000000000",
          "2022-09-21T14:00:00.000000000",
          "2022-09-21T15:00:00.000000000",
          "2022-09-21T16:00:00.000000000",
          "2022-09-21T17:00:00.000000000",
          "2022-09-21T18:00:00.000000000",
          "2022-09-21T19:00:00.000000000",
          "2022-09-21T20:00:00.000000000",
          "2022-09-21T21:00:00.000000000",
          "2022-09-21T22:00:00.000000000",
          "2022-09-21T23:00:00.000000000",
          "2022-09-22T00:00:00.000000000",
          "2022-09-22T01:00:00.000000000",
          "2022-09-22T02:00:00.000000000",
          "2022-09-22T03:00:00.000000000",
          "2022-09-22T04:00:00.000000000",
          "2022-09-22T05:00:00.000000000",
          "2022-09-22T06:00:00.000000000",
          "2022-09-22T07:00:00.000000000",
          "2022-09-22T08:00:00.000000000",
          "2022-09-22T09:00:00.000000000",
          "2022-09-22T10:00:00.000000000",
          "2022-09-22T11:00:00.000000000",
          "2022-09-22T12:00:00.000000000",
          "2022-09-22T13:00:00.000000000",
          "2022-09-22T14:00:00.000000000",
          "2022-09-22T15:00:00.000000000",
          "2022-09-22T16:00:00.000000000",
          "2022-09-22T17:00:00.000000000",
          "2022-09-22T18:00:00.000000000",
          "2022-09-22T19:00:00.000000000",
          "2022-09-22T20:00:00.000000000",
          "2022-09-22T21:00:00.000000000",
          "2022-09-22T22:00:00.000000000",
          "2022-09-22T23:00:00.000000000",
          "2022-09-23T00:00:00.000000000",
          "2022-09-23T01:00:00.000000000",
          "2022-09-23T02:00:00.000000000",
          "2022-09-23T03:00:00.000000000",
          "2022-09-23T04:00:00.000000000",
          "2022-09-23T05:00:00.000000000",
          "2022-09-23T06:00:00.000000000",
          "2022-09-23T07:00:00.000000000",
          "2022-09-23T08:00:00.000000000",
          "2022-09-23T09:00:00.000000000",
          "2022-09-23T10:00:00.000000000",
          "2022-09-23T11:00:00.000000000",
          "2022-09-23T12:00:00.000000000",
          "2022-09-23T13:00:00.000000000",
          "2022-09-23T14:00:00.000000000",
          "2022-09-23T15:00:00.000000000",
          "2022-09-23T16:00:00.000000000",
          "2022-09-23T17:00:00.000000000",
          "2022-09-23T18:00:00.000000000",
          "2022-09-23T19:00:00.000000000",
          "2022-09-23T20:00:00.000000000",
          "2022-09-23T21:00:00.000000000",
          "2022-09-23T22:00:00.000000000",
          "2022-09-23T23:00:00.000000000"
         ],
         "xaxis": "x",
         "y": {
          "bdata": "Nf0qCJZKJkCeizdO5pczQBt1VevwTjNA6y4lS2qqQUDMcyII6c84QEsGyNzVgjZA/UqBWr/CMEDJXXuAF987QE7u29jNCzpAoug/RijwQEDyVznn1Sg6QHb5Xdbr0jdAaevbTzWMMkCAoU7Z6Ok3QHVDFrY61jZADDYQf87TMEBra0xWUI03QMAeALhy6DFA4q6CZ0N/MkDkVRGOPXA6QFpJnfkrMDZAExTieWKoMkCjwrD6LmU4QJsXOARTtDFAWsUVC6dAPkAEn4OW6lMgQBt1VevwTiNAAHWtN7ZILkBYsKgYcygnQOaF+36oGjVAosE9LvC3I0BtQoCW+vw4QPO1kvL8CTZAZMbhjlztM0AS74Feplg0QKS/1UANPjNACrUjKBdrK0BnW16eSrIsQDnQWVbarzNADiurhNqmNECQULlA/KkxQO9JZNEfITFAi174LW4gOEDt42AJKaAxQMOdWqob5TdAelP89uF+O0CeOXy9ko4pQMf5/ilGwzZAhetqBr+DMUA5eOsF4tsmQFmrY4IHszFAHAgL5g/TMEBwKbU5h9kTQBQHYZgwUzlAosE9LvC3M0BtQoCW+vw4QGU8bhJCDDtAeXxWIUvuQkDdnbOX9Qg+QDCqx6sRqDlAmKw+SsL/OEApu/ULTldAQLxGfo2T7D1AE+SOWyOJO0AiMrFbJQY5QOduFrqvsTlAQD5darfzPEAALw66pqE1QAP3NfsgpEBA8Sih9xqIOUDCgSCndEMwQMf5/ilGwyZAwEYAB1wbM0AEn4OW6lMwQOZlDvh/WjtAVaNzenkwJED8ZTtKETIyQN4H+lOLIyxA38dq9iS/MUBbxSLHKss9QL90t/gSDj9A/TeasrPoOECiOiaajnBBQI3cmYt8iEVAHTtDEVLvQEAg+fqibu9BQAjtSG5yeURAjbDdgVS9QkAiMrFbJQZJQGHIN4UYd0NAyU6kewYbREBCnmVHC9ZIQB5MZedcEUFAgp7BuD4YRkDCgSCndENAQGgjVIZ8jjpA5Q7rCW0RO0DTZJ+93R86QCScHI+WvjlAjj7cDuONN0CcgQnGwG0/QKcIkw/m8z5AiOVZK3F8UkBJczEJ1CRVQPybUsSax1BAynB2RF9mS0AA3y2VkK5RQF+8BCyDJ09A7R9n/cJeRUBemWM1a0pOQM5ddywQT1JAS5HSF/NAUEB0AFga8KdIQKQbpx9klEZAOqZlL6haTUCFDb3UbwpMQPD030g8e0RALXOJtSHqT0CjwrD6LmVIQPdk1Puq3URAIpm1ho1PQkDrgREq5DlFQKgvAGFp9kxAHAgL5g/TMEAqC3IxQq1EQE/FSHJk/kJAziugcbeeOkAkpOJ7rUxBQGU8bhJCDEtAJqSD15DqRkA/7OwYwrxHQNMrMLZWs0NAVr81gPwkQkCFAsyN2B1HQDMIhBret0FAD1z9uKlqRUDss2vDZmZCQKQbpx9klEZATW5M4NUlPEB3ibfh56BDQG1L86sQWUJAtd64ORQmQ0CjwrD6LmU4QLGIG5fMOzRA+qGVB/myNEDTZJ+93R86QGv58clSkj5Ax9lEo0zrKkDMcyII6c84QB2FYsNNSkJAziugcbeeOkAkpOJ7rUxBQIIvt9K3B0FAEu4ORaLpR0BYL9KD/QA/QDCqx6sRqDlAHTtDEVLvQEBemWM1a0o+QFqAXL3Dfz9AFajXLGCYPkDaiVQ7JzFAQBaaetNc6jhA9XZpGHFKQUA0GmBUg2xAQCWfPiG0VTVAvuipdkV6PECWJxNDWuE7QApNqeKyWS5A",
          "dtype": "f8"
         },
         "yaxis": "y"
        },
        {
         "mode": "lines",
         "name": "Predicted Relevant Tweets",
         "type": "scatter",
         "x": [
          "2022-09-17T00:00:00.000000000",
          "2022-09-17T01:00:00.000000000",
          "2022-09-17T02:00:00.000000000",
          "2022-09-17T03:00:00.000000000",
          "2022-09-17T04:00:00.000000000",
          "2022-09-17T05:00:00.000000000",
          "2022-09-17T06:00:00.000000000",
          "2022-09-17T07:00:00.000000000",
          "2022-09-17T08:00:00.000000000",
          "2022-09-17T09:00:00.000000000",
          "2022-09-17T10:00:00.000000000",
          "2022-09-17T11:00:00.000000000",
          "2022-09-17T12:00:00.000000000",
          "2022-09-17T13:00:00.000000000",
          "2022-09-17T14:00:00.000000000",
          "2022-09-17T15:00:00.000000000",
          "2022-09-17T16:00:00.000000000",
          "2022-09-17T17:00:00.000000000",
          "2022-09-17T18:00:00.000000000",
          "2022-09-17T19:00:00.000000000",
          "2022-09-17T20:00:00.000000000",
          "2022-09-17T21:00:00.000000000",
          "2022-09-17T22:00:00.000000000",
          "2022-09-17T23:00:00.000000000",
          "2022-09-18T00:00:00.000000000",
          "2022-09-18T01:00:00.000000000",
          "2022-09-18T02:00:00.000000000",
          "2022-09-18T03:00:00.000000000",
          "2022-09-18T04:00:00.000000000",
          "2022-09-18T05:00:00.000000000",
          "2022-09-18T06:00:00.000000000",
          "2022-09-18T07:00:00.000000000",
          "2022-09-18T08:00:00.000000000",
          "2022-09-18T09:00:00.000000000",
          "2022-09-18T10:00:00.000000000",
          "2022-09-18T11:00:00.000000000",
          "2022-09-18T12:00:00.000000000",
          "2022-09-18T13:00:00.000000000",
          "2022-09-18T14:00:00.000000000",
          "2022-09-18T15:00:00.000000000",
          "2022-09-18T16:00:00.000000000",
          "2022-09-18T17:00:00.000000000",
          "2022-09-18T18:00:00.000000000",
          "2022-09-18T19:00:00.000000000",
          "2022-09-18T20:00:00.000000000",
          "2022-09-18T21:00:00.000000000",
          "2022-09-18T22:00:00.000000000",
          "2022-09-18T23:00:00.000000000",
          "2022-09-19T00:00:00.000000000",
          "2022-09-19T01:00:00.000000000",
          "2022-09-19T02:00:00.000000000",
          "2022-09-19T03:00:00.000000000",
          "2022-09-19T04:00:00.000000000",
          "2022-09-19T05:00:00.000000000",
          "2022-09-19T06:00:00.000000000",
          "2022-09-19T07:00:00.000000000",
          "2022-09-19T08:00:00.000000000",
          "2022-09-19T09:00:00.000000000",
          "2022-09-19T10:00:00.000000000",
          "2022-09-19T11:00:00.000000000",
          "2022-09-19T12:00:00.000000000",
          "2022-09-19T13:00:00.000000000",
          "2022-09-19T14:00:00.000000000",
          "2022-09-19T15:00:00.000000000",
          "2022-09-19T16:00:00.000000000",
          "2022-09-19T17:00:00.000000000",
          "2022-09-19T18:00:00.000000000",
          "2022-09-19T19:00:00.000000000",
          "2022-09-19T20:00:00.000000000",
          "2022-09-19T21:00:00.000000000",
          "2022-09-19T22:00:00.000000000",
          "2022-09-19T23:00:00.000000000",
          "2022-09-20T00:00:00.000000000",
          "2022-09-20T01:00:00.000000000",
          "2022-09-20T02:00:00.000000000",
          "2022-09-20T03:00:00.000000000",
          "2022-09-20T04:00:00.000000000",
          "2022-09-20T05:00:00.000000000",
          "2022-09-20T06:00:00.000000000",
          "2022-09-20T07:00:00.000000000",
          "2022-09-20T08:00:00.000000000",
          "2022-09-20T09:00:00.000000000",
          "2022-09-20T10:00:00.000000000",
          "2022-09-20T11:00:00.000000000",
          "2022-09-20T12:00:00.000000000",
          "2022-09-20T13:00:00.000000000",
          "2022-09-20T14:00:00.000000000",
          "2022-09-20T15:00:00.000000000",
          "2022-09-20T16:00:00.000000000",
          "2022-09-20T17:00:00.000000000",
          "2022-09-20T18:00:00.000000000",
          "2022-09-20T19:00:00.000000000",
          "2022-09-20T20:00:00.000000000",
          "2022-09-20T21:00:00.000000000",
          "2022-09-20T22:00:00.000000000",
          "2022-09-20T23:00:00.000000000",
          "2022-09-21T00:00:00.000000000",
          "2022-09-21T01:00:00.000000000",
          "2022-09-21T02:00:00.000000000",
          "2022-09-21T03:00:00.000000000",
          "2022-09-21T04:00:00.000000000",
          "2022-09-21T05:00:00.000000000",
          "2022-09-21T06:00:00.000000000",
          "2022-09-21T07:00:00.000000000",
          "2022-09-21T08:00:00.000000000",
          "2022-09-21T09:00:00.000000000",
          "2022-09-21T10:00:00.000000000",
          "2022-09-21T11:00:00.000000000",
          "2022-09-21T12:00:00.000000000",
          "2022-09-21T13:00:00.000000000",
          "2022-09-21T14:00:00.000000000",
          "2022-09-21T15:00:00.000000000",
          "2022-09-21T16:00:00.000000000",
          "2022-09-21T17:00:00.000000000",
          "2022-09-21T18:00:00.000000000",
          "2022-09-21T19:00:00.000000000",
          "2022-09-21T20:00:00.000000000",
          "2022-09-21T21:00:00.000000000",
          "2022-09-21T22:00:00.000000000",
          "2022-09-21T23:00:00.000000000",
          "2022-09-22T00:00:00.000000000",
          "2022-09-22T01:00:00.000000000",
          "2022-09-22T02:00:00.000000000",
          "2022-09-22T03:00:00.000000000",
          "2022-09-22T04:00:00.000000000",
          "2022-09-22T05:00:00.000000000",
          "2022-09-22T06:00:00.000000000",
          "2022-09-22T07:00:00.000000000",
          "2022-09-22T08:00:00.000000000",
          "2022-09-22T09:00:00.000000000",
          "2022-09-22T10:00:00.000000000",
          "2022-09-22T11:00:00.000000000",
          "2022-09-22T12:00:00.000000000",
          "2022-09-22T13:00:00.000000000",
          "2022-09-22T14:00:00.000000000",
          "2022-09-22T15:00:00.000000000",
          "2022-09-22T16:00:00.000000000",
          "2022-09-22T17:00:00.000000000",
          "2022-09-22T18:00:00.000000000",
          "2022-09-22T19:00:00.000000000",
          "2022-09-22T20:00:00.000000000",
          "2022-09-22T21:00:00.000000000",
          "2022-09-22T22:00:00.000000000",
          "2022-09-22T23:00:00.000000000",
          "2022-09-23T00:00:00.000000000",
          "2022-09-23T01:00:00.000000000",
          "2022-09-23T02:00:00.000000000",
          "2022-09-23T03:00:00.000000000",
          "2022-09-23T04:00:00.000000000",
          "2022-09-23T05:00:00.000000000",
          "2022-09-23T06:00:00.000000000",
          "2022-09-23T07:00:00.000000000",
          "2022-09-23T08:00:00.000000000",
          "2022-09-23T09:00:00.000000000",
          "2022-09-23T10:00:00.000000000",
          "2022-09-23T11:00:00.000000000",
          "2022-09-23T12:00:00.000000000",
          "2022-09-23T13:00:00.000000000",
          "2022-09-23T14:00:00.000000000",
          "2022-09-23T15:00:00.000000000",
          "2022-09-23T16:00:00.000000000",
          "2022-09-23T17:00:00.000000000",
          "2022-09-23T18:00:00.000000000",
          "2022-09-23T19:00:00.000000000",
          "2022-09-23T20:00:00.000000000",
          "2022-09-23T21:00:00.000000000",
          "2022-09-23T22:00:00.000000000",
          "2022-09-23T23:00:00.000000000"
         ],
         "xaxis": "x",
         "y": {
          "bdata": "mGGyQXTnr0HoJrJBBXqzQUKftEEf1bNBRCizQaSHs0GUWbRB+cm0QQWutEHWN7RBL5e0QcsftUEJFbRBuCu1QUDns0EuArRBTqKzQaQmtUE597RBnxy0QZJrtEEFIrRBdE60QeBItUFfC7RBM5u0Qb8qtUF2nrRBcIO0QQDEtEHn2rRB2ZC1QSSqtEGQeLRBs/e0QVQFtEEbxbRB9Uy1QZnxtEF8prVB2hK0QXHHtUETrbRBVE+0Qfp1tUF9ubRBG7ezQRMRtEGsqrRBa3e1QSUotUEFDLVB9qW1QX72s0En77RBLjy2QUoHtUFZzbRBEPK1QQxatUFLlLVBChG0QXQItUGx9LRBpOi0QYKNtUF4AbVB5qi0QaKOs0FzVrVBHZC1QX+EtUEM67RBoFC1Qf8qtEH1wrRBczK3QXOvwkFJFc9BmxnZQUb4/EFrewhC/B0JQr0ZCkJKtwlC76IKQv4DCkKpmApCAZsKQh//CUJTqQlCH+0JQq1iCkLN7wlC2UAJQsGhCUKXUAlCORwJQj+GCULasglC5ctIQrLuRELpCUFCFT49QjKoOkIUAjdCXUI0Qvr/MUL2+i5CF6wtQhF4K0L8kClCZ9cnQlTAJkJrsyRCIJ4jQm94IUIBtCBCTSwgQjYjHkLpoB1CNOkcQq3uG0J5qxtCXTkbQoUlGkKZXBlCV6sYQkp5GEIEDxdCY8QWQqJJFkIKNxZCFB8VQrPrFELOTBVC5AgVQiIUFEIm9hNCuyATQqMXE0KPFRNCX6QSQuZYEkIOPxJCuFkSQumFEkK1oxFCX0cRQs9FEUL2GRFCIPAQQv01EUIMFxFCKOEQQvZqEEJujBBCXbAPQsFwEEKK1g9C+FgQQuLmD0J0gg9CSbIPQshuD0L5RQ9C",
          "dtype": "f4"
         },
         "yaxis": "y"
        }
       ],
       "layout": {
        "template": {
         "data": {
          "bar": [
           {
            "error_x": {
             "color": "#2a3f5f"
            },
            "error_y": {
             "color": "#2a3f5f"
            },
            "marker": {
             "line": {
              "color": "#E5ECF6",
              "width": 0.5
             },
             "pattern": {
              "fillmode": "overlay",
              "size": 10,
              "solidity": 0.2
             }
            },
            "type": "bar"
           }
          ],
          "barpolar": [
           {
            "marker": {
             "line": {
              "color": "#E5ECF6",
              "width": 0.5
             },
             "pattern": {
              "fillmode": "overlay",
              "size": 10,
              "solidity": 0.2
             }
            },
            "type": "barpolar"
           }
          ],
          "carpet": [
           {
            "aaxis": {
             "endlinecolor": "#2a3f5f",
             "gridcolor": "white",
             "linecolor": "white",
             "minorgridcolor": "white",
             "startlinecolor": "#2a3f5f"
            },
            "baxis": {
             "endlinecolor": "#2a3f5f",
             "gridcolor": "white",
             "linecolor": "white",
             "minorgridcolor": "white",
             "startlinecolor": "#2a3f5f"
            },
            "type": "carpet"
           }
          ],
          "choropleth": [
           {
            "colorbar": {
             "outlinewidth": 0,
             "ticks": ""
            },
            "type": "choropleth"
           }
          ],
          "contour": [
           {
            "colorbar": {
             "outlinewidth": 0,
             "ticks": ""
            },
            "colorscale": [
             [
              0,
              "#0d0887"
             ],
             [
              0.1111111111111111,
              "#46039f"
             ],
             [
              0.2222222222222222,
              "#7201a8"
             ],
             [
              0.3333333333333333,
              "#9c179e"
             ],
             [
              0.4444444444444444,
              "#bd3786"
             ],
             [
              0.5555555555555556,
              "#d8576b"
             ],
             [
              0.6666666666666666,
              "#ed7953"
             ],
             [
              0.7777777777777778,
              "#fb9f3a"
             ],
             [
              0.8888888888888888,
              "#fdca26"
             ],
             [
              1,
              "#f0f921"
             ]
            ],
            "type": "contour"
           }
          ],
          "contourcarpet": [
           {
            "colorbar": {
             "outlinewidth": 0,
             "ticks": ""
            },
            "type": "contourcarpet"
           }
          ],
          "heatmap": [
           {
            "colorbar": {
             "outlinewidth": 0,
             "ticks": ""
            },
            "colorscale": [
             [
              0,
              "#0d0887"
             ],
             [
              0.1111111111111111,
              "#46039f"
             ],
             [
              0.2222222222222222,
              "#7201a8"
             ],
             [
              0.3333333333333333,
              "#9c179e"
             ],
             [
              0.4444444444444444,
              "#bd3786"
             ],
             [
              0.5555555555555556,
              "#d8576b"
             ],
             [
              0.6666666666666666,
              "#ed7953"
             ],
             [
              0.7777777777777778,
              "#fb9f3a"
             ],
             [
              0.8888888888888888,
              "#fdca26"
             ],
             [
              1,
              "#f0f921"
             ]
            ],
            "type": "heatmap"
           }
          ],
          "histogram": [
           {
            "marker": {
             "pattern": {
              "fillmode": "overlay",
              "size": 10,
              "solidity": 0.2
             }
            },
            "type": "histogram"
           }
          ],
          "histogram2d": [
           {
            "colorbar": {
             "outlinewidth": 0,
             "ticks": ""
            },
            "colorscale": [
             [
              0,
              "#0d0887"
             ],
             [
              0.1111111111111111,
              "#46039f"
             ],
             [
              0.2222222222222222,
              "#7201a8"
             ],
             [
              0.3333333333333333,
              "#9c179e"
             ],
             [
              0.4444444444444444,
              "#bd3786"
             ],
             [
              0.5555555555555556,
              "#d8576b"
             ],
             [
              0.6666666666666666,
              "#ed7953"
             ],
             [
              0.7777777777777778,
              "#fb9f3a"
             ],
             [
              0.8888888888888888,
              "#fdca26"
             ],
             [
              1,
              "#f0f921"
             ]
            ],
            "type": "histogram2d"
           }
          ],
          "histogram2dcontour": [
           {
            "colorbar": {
             "outlinewidth": 0,
             "ticks": ""
            },
            "colorscale": [
             [
              0,
              "#0d0887"
             ],
             [
              0.1111111111111111,
              "#46039f"
             ],
             [
              0.2222222222222222,
              "#7201a8"
             ],
             [
              0.3333333333333333,
              "#9c179e"
             ],
             [
              0.4444444444444444,
              "#bd3786"
             ],
             [
              0.5555555555555556,
              "#d8576b"
             ],
             [
              0.6666666666666666,
              "#ed7953"
             ],
             [
              0.7777777777777778,
              "#fb9f3a"
             ],
             [
              0.8888888888888888,
              "#fdca26"
             ],
             [
              1,
              "#f0f921"
             ]
            ],
            "type": "histogram2dcontour"
           }
          ],
          "mesh3d": [
           {
            "colorbar": {
             "outlinewidth": 0,
             "ticks": ""
            },
            "type": "mesh3d"
           }
          ],
          "parcoords": [
           {
            "line": {
             "colorbar": {
              "outlinewidth": 0,
              "ticks": ""
             }
            },
            "type": "parcoords"
           }
          ],
          "pie": [
           {
            "automargin": true,
            "type": "pie"
           }
          ],
          "scatter": [
           {
            "fillpattern": {
             "fillmode": "overlay",
             "size": 10,
             "solidity": 0.2
            },
            "type": "scatter"
           }
          ],
          "scatter3d": [
           {
            "line": {
             "colorbar": {
              "outlinewidth": 0,
              "ticks": ""
             }
            },
            "marker": {
             "colorbar": {
              "outlinewidth": 0,
              "ticks": ""
             }
            },
            "type": "scatter3d"
           }
          ],
          "scattercarpet": [
           {
            "marker": {
             "colorbar": {
              "outlinewidth": 0,
              "ticks": ""
             }
            },
            "type": "scattercarpet"
           }
          ],
          "scattergeo": [
           {
            "marker": {
             "colorbar": {
              "outlinewidth": 0,
              "ticks": ""
             }
            },
            "type": "scattergeo"
           }
          ],
          "scattergl": [
           {
            "marker": {
             "colorbar": {
              "outlinewidth": 0,
              "ticks": ""
             }
            },
            "type": "scattergl"
           }
          ],
          "scattermap": [
           {
            "marker": {
             "colorbar": {
              "outlinewidth": 0,
              "ticks": ""
             }
            },
            "type": "scattermap"
           }
          ],
          "scattermapbox": [
           {
            "marker": {
             "colorbar": {
              "outlinewidth": 0,
              "ticks": ""
             }
            },
            "type": "scattermapbox"
           }
          ],
          "scatterpolar": [
           {
            "marker": {
             "colorbar": {
              "outlinewidth": 0,
              "ticks": ""
             }
            },
            "type": "scatterpolar"
           }
          ],
          "scatterpolargl": [
           {
            "marker": {
             "colorbar": {
              "outlinewidth": 0,
              "ticks": ""
             }
            },
            "type": "scatterpolargl"
           }
          ],
          "scatterternary": [
           {
            "marker": {
             "colorbar": {
              "outlinewidth": 0,
              "ticks": ""
             }
            },
            "type": "scatterternary"
           }
          ],
          "surface": [
           {
            "colorbar": {
             "outlinewidth": 0,
             "ticks": ""
            },
            "colorscale": [
             [
              0,
              "#0d0887"
             ],
             [
              0.1111111111111111,
              "#46039f"
             ],
             [
              0.2222222222222222,
              "#7201a8"
             ],
             [
              0.3333333333333333,
              "#9c179e"
             ],
             [
              0.4444444444444444,
              "#bd3786"
             ],
             [
              0.5555555555555556,
              "#d8576b"
             ],
             [
              0.6666666666666666,
              "#ed7953"
             ],
             [
              0.7777777777777778,
              "#fb9f3a"
             ],
             [
              0.8888888888888888,
              "#fdca26"
             ],
             [
              1,
              "#f0f921"
             ]
            ],
            "type": "surface"
           }
          ],
          "table": [
           {
            "cells": {
             "fill": {
              "color": "#EBF0F8"
             },
             "line": {
              "color": "white"
             }
            },
            "header": {
             "fill": {
              "color": "#C8D4E3"
             },
             "line": {
              "color": "white"
             }
            },
            "type": "table"
           }
          ]
         },
         "layout": {
          "annotationdefaults": {
           "arrowcolor": "#2a3f5f",
           "arrowhead": 0,
           "arrowwidth": 1
          },
          "autotypenumbers": "strict",
          "coloraxis": {
           "colorbar": {
            "outlinewidth": 0,
            "ticks": ""
           }
          },
          "colorscale": {
           "diverging": [
            [
             0,
             "#8e0152"
            ],
            [
             0.1,
             "#c51b7d"
            ],
            [
             0.2,
             "#de77ae"
            ],
            [
             0.3,
             "#f1b6da"
            ],
            [
             0.4,
             "#fde0ef"
            ],
            [
             0.5,
             "#f7f7f7"
            ],
            [
             0.6,
             "#e6f5d0"
            ],
            [
             0.7,
             "#b8e186"
            ],
            [
             0.8,
             "#7fbc41"
            ],
            [
             0.9,
             "#4d9221"
            ],
            [
             1,
             "#276419"
            ]
           ],
           "sequential": [
            [
             0,
             "#0d0887"
            ],
            [
             0.1111111111111111,
             "#46039f"
            ],
            [
             0.2222222222222222,
             "#7201a8"
            ],
            [
             0.3333333333333333,
             "#9c179e"
            ],
            [
             0.4444444444444444,
             "#bd3786"
            ],
            [
             0.5555555555555556,
             "#d8576b"
            ],
            [
             0.6666666666666666,
             "#ed7953"
            ],
            [
             0.7777777777777778,
             "#fb9f3a"
            ],
            [
             0.8888888888888888,
             "#fdca26"
            ],
            [
             1,
             "#f0f921"
            ]
           ],
           "sequentialminus": [
            [
             0,
             "#0d0887"
            ],
            [
             0.1111111111111111,
             "#46039f"
            ],
            [
             0.2222222222222222,
             "#7201a8"
            ],
            [
             0.3333333333333333,
             "#9c179e"
            ],
            [
             0.4444444444444444,
             "#bd3786"
            ],
            [
             0.5555555555555556,
             "#d8576b"
            ],
            [
             0.6666666666666666,
             "#ed7953"
            ],
            [
             0.7777777777777778,
             "#fb9f3a"
            ],
            [
             0.8888888888888888,
             "#fdca26"
            ],
            [
             1,
             "#f0f921"
            ]
           ]
          },
          "colorway": [
           "#636efa",
           "#EF553B",
           "#00cc96",
           "#ab63fa",
           "#FFA15A",
           "#19d3f3",
           "#FF6692",
           "#B6E880",
           "#FF97FF",
           "#FECB52"
          ],
          "font": {
           "color": "#2a3f5f"
          },
          "geo": {
           "bgcolor": "white",
           "lakecolor": "white",
           "landcolor": "#E5ECF6",
           "showlakes": true,
           "showland": true,
           "subunitcolor": "white"
          },
          "hoverlabel": {
           "align": "left"
          },
          "hovermode": "closest",
          "mapbox": {
           "style": "light"
          },
          "paper_bgcolor": "white",
          "plot_bgcolor": "#E5ECF6",
          "polar": {
           "angularaxis": {
            "gridcolor": "white",
            "linecolor": "white",
            "ticks": ""
           },
           "bgcolor": "#E5ECF6",
           "radialaxis": {
            "gridcolor": "white",
            "linecolor": "white",
            "ticks": ""
           }
          },
          "scene": {
           "xaxis": {
            "backgroundcolor": "#E5ECF6",
            "gridcolor": "white",
            "gridwidth": 2,
            "linecolor": "white",
            "showbackground": true,
            "ticks": "",
            "zerolinecolor": "white"
           },
           "yaxis": {
            "backgroundcolor": "#E5ECF6",
            "gridcolor": "white",
            "gridwidth": 2,
            "linecolor": "white",
            "showbackground": true,
            "ticks": "",
            "zerolinecolor": "white"
           },
           "zaxis": {
            "backgroundcolor": "#E5ECF6",
            "gridcolor": "white",
            "gridwidth": 2,
            "linecolor": "white",
            "showbackground": true,
            "ticks": "",
            "zerolinecolor": "white"
           }
          },
          "shapedefaults": {
           "line": {
            "color": "#2a3f5f"
           }
          },
          "ternary": {
           "aaxis": {
            "gridcolor": "white",
            "linecolor": "white",
            "ticks": ""
           },
           "baxis": {
            "gridcolor": "white",
            "linecolor": "white",
            "ticks": ""
           },
           "bgcolor": "#E5ECF6",
           "caxis": {
            "gridcolor": "white",
            "linecolor": "white",
            "ticks": ""
           }
          },
          "title": {
           "x": 0.05
          },
          "xaxis": {
           "automargin": true,
           "gridcolor": "white",
           "linecolor": "white",
           "ticks": "",
           "title": {
            "standoff": 15
           },
           "zerolinecolor": "white",
           "zerolinewidth": 2
          },
          "yaxis": {
           "automargin": true,
           "gridcolor": "white",
           "linecolor": "white",
           "ticks": "",
           "title": {
            "standoff": 15
           },
           "zerolinecolor": "white",
           "zerolinewidth": 2
          }
         }
        },
        "xaxis": {
         "anchor": "y",
         "domain": [
          0,
          1
         ]
        },
        "yaxis": {
         "anchor": "x",
         "domain": [
          0,
          1
         ]
        }
       }
      }
     },
     "metadata": {},
     "output_type": "display_data"
    }
   ],
   "source": [
    "_, scaled, predictions, model_summary = await get_model_scaled(200, ddf, news_articles)\n",
    "fig = make_subplots(rows = 1, cols = 1, shared_xaxes=True, vertical_spacing=0.02)\n",
    "fig.add_trace(go.Bar(x=scaled.index, y=scaled.corrected_relevant, name='Corrected Relevant Tweets', opacity=.5), row=1, col=1)\n",
    "fig.add_trace(go.Scatter(x=scaled.index, y=predictions['obs'].mean(axis = 0), mode='lines', name='Predicted Relevant Tweets'), row=1, col=1)"
   ]
  },
  {
   "cell_type": "code",
   "execution_count": null,
   "metadata": {},
   "outputs": [
    {
     "data": {
      "text/plain": [
       "{'change_point': OrderedDict([('mean', 102.396065),\n",
       "              ('std', 7.340388),\n",
       "              ('median', 101.47816),\n",
       "              ('5.0%', 101.044785),\n",
       "              ('95.0%', 101.91685),\n",
       "              ('n_eff', 1213.735665811439),\n",
       "              ('r_hat', 1.0090249638489899)]),\n",
       " 'post_baseline': OrderedDict([('mean', 26.37337),\n",
       "              ('std', 2.8077643),\n",
       "              ('median', 26.579819),\n",
       "              ('5.0%', 22.257168),\n",
       "              ('95.0%', 31.061129),\n",
       "              ('n_eff', 3371.028698049127),\n",
       "              ('r_hat', 1.0012136438678112)]),\n",
       " 'pre_baseline': OrderedDict([('mean', 24.206583),\n",
       "              ('std', 1.0600921),\n",
       "              ('median', 24.111942),\n",
       "              ('5.0%', 22.959293),\n",
       "              ('95.0%', 25.264353),\n",
       "              ('n_eff', 5127.485307291253),\n",
       "              ('r_hat', 1.002612777985948)]),\n",
       " 'relevance_beta': OrderedDict([('mean', 3.8848991),\n",
       "              ('std', 0.1079204),\n",
       "              ('median', 3.8954573),\n",
       "              ('5.0%', 3.78063),\n",
       "              ('95.0%', 4.009333),\n",
       "              ('n_eff', 1924.7862849806554),\n",
       "              ('r_hat', 1.004048922316218)]),\n",
       " 'relevance_decay': OrderedDict([('mean', 0.19213651),\n",
       "              ('std', 1.2557925),\n",
       "              ('median', 0.052792225),\n",
       "              ('5.0%', 0.03599193),\n",
       "              ('95.0%', 0.07102471),\n",
       "              ('n_eff', 1637.9583474262097),\n",
       "              ('r_hat', 1.007101019948349)]),\n",
       " 'std': OrderedDict([('mean', 8.854858),\n",
       "              ('std', 0.76644975),\n",
       "              ('median', 8.762648),\n",
       "              ('5.0%', 8.1089),\n",
       "              ('95.0%', 9.408877),\n",
       "              ('n_eff', 1189.0950397646993),\n",
       "              ('r_hat', 1.010537208904441)])}"
      ]
     },
     "execution_count": 84,
     "metadata": {},
     "output_type": "execute_result"
    }
   ],
   "source": [
    "model_summary"
   ]
  },
  {
   "cell_type": "code",
   "execution_count": null,
   "metadata": {},
   "outputs": [
    {
     "data": {
      "application/vnd.plotly.v1+json": {
       "config": {
        "plotlyServerURL": "https://plot.ly"
       },
       "data": [
        {
         "mode": "lines",
         "name": "Corrected Relevant Tweets",
         "opacity": 0.5,
         "type": "scatter",
         "x": [
          "2022-07-29T00:00:00",
          "2022-07-29T01:00:00",
          "2022-07-29T02:00:00",
          "2022-07-29T03:00:00",
          "2022-07-29T04:00:00",
          "2022-07-29T05:00:00",
          "2022-07-29T06:00:00",
          "2022-07-29T07:00:00",
          "2022-07-29T08:00:00",
          "2022-07-29T09:00:00",
          "2022-07-29T10:00:00",
          "2022-07-29T11:00:00",
          "2022-07-29T12:00:00",
          "2022-07-29T13:00:00",
          "2022-07-29T14:00:00",
          "2022-07-29T15:00:00",
          "2022-07-29T16:00:00",
          "2022-07-29T17:00:00",
          "2022-07-29T18:00:00",
          "2022-07-29T19:00:00",
          "2022-07-29T20:00:00",
          "2022-07-29T21:00:00",
          "2022-07-29T22:00:00",
          "2022-07-29T23:00:00",
          "2022-07-30T00:00:00",
          "2022-07-30T01:00:00",
          "2022-07-30T02:00:00",
          "2022-07-30T03:00:00",
          "2022-07-30T04:00:00",
          "2022-07-30T05:00:00",
          "2022-07-30T06:00:00",
          "2022-07-30T07:00:00",
          "2022-07-30T08:00:00",
          "2022-07-30T09:00:00",
          "2022-07-30T10:00:00",
          "2022-07-30T11:00:00",
          "2022-07-30T12:00:00",
          "2022-07-30T13:00:00",
          "2022-07-30T14:00:00",
          "2022-07-30T15:00:00",
          "2022-07-30T16:00:00",
          "2022-07-30T17:00:00",
          "2022-07-30T18:00:00",
          "2022-07-30T19:00:00",
          "2022-07-30T20:00:00",
          "2022-07-30T21:00:00",
          "2022-07-30T22:00:00",
          "2022-07-30T23:00:00",
          "2022-07-31T00:00:00",
          "2022-07-31T01:00:00",
          "2022-07-31T02:00:00",
          "2022-07-31T03:00:00",
          "2022-07-31T04:00:00",
          "2022-07-31T05:00:00",
          "2022-07-31T06:00:00",
          "2022-07-31T07:00:00",
          "2022-07-31T08:00:00",
          "2022-07-31T09:00:00",
          "2022-07-31T10:00:00",
          "2022-07-31T11:00:00",
          "2022-07-31T12:00:00",
          "2022-07-31T13:00:00",
          "2022-07-31T14:00:00",
          "2022-07-31T15:00:00",
          "2022-07-31T16:00:00",
          "2022-07-31T17:00:00",
          "2022-07-31T18:00:00",
          "2022-07-31T19:00:00",
          "2022-07-31T20:00:00",
          "2022-07-31T21:00:00",
          "2022-07-31T22:00:00",
          "2022-07-31T23:00:00",
          "2022-08-01T00:00:00",
          "2022-08-01T01:00:00",
          "2022-08-01T02:00:00",
          "2022-08-01T03:00:00",
          "2022-08-01T04:00:00",
          "2022-08-01T05:00:00",
          "2022-08-01T06:00:00",
          "2022-08-01T07:00:00",
          "2022-08-01T08:00:00",
          "2022-08-01T09:00:00",
          "2022-08-01T10:00:00",
          "2022-08-01T11:00:00",
          "2022-08-01T12:00:00",
          "2022-08-01T13:00:00",
          "2022-08-01T14:00:00",
          "2022-08-01T15:00:00",
          "2022-08-01T16:00:00",
          "2022-08-01T17:00:00",
          "2022-08-01T18:00:00",
          "2022-08-01T19:00:00",
          "2022-08-01T20:00:00",
          "2022-08-01T21:00:00",
          "2022-08-01T22:00:00",
          "2022-08-01T23:00:00",
          "2022-08-02T00:00:00",
          "2022-08-02T01:00:00",
          "2022-08-02T02:00:00",
          "2022-08-02T03:00:00",
          "2022-08-02T04:00:00",
          "2022-08-02T05:00:00",
          "2022-08-02T06:00:00",
          "2022-08-02T07:00:00",
          "2022-08-02T08:00:00",
          "2022-08-02T09:00:00",
          "2022-08-02T10:00:00",
          "2022-08-02T11:00:00",
          "2022-08-02T12:00:00",
          "2022-08-02T13:00:00",
          "2022-08-02T14:00:00",
          "2022-08-02T15:00:00",
          "2022-08-02T16:00:00",
          "2022-08-02T17:00:00",
          "2022-08-02T18:00:00",
          "2022-08-02T19:00:00",
          "2022-08-02T20:00:00",
          "2022-08-02T21:00:00",
          "2022-08-02T22:00:00",
          "2022-08-02T23:00:00",
          "2022-08-03T00:00:00",
          "2022-08-03T01:00:00",
          "2022-08-03T02:00:00",
          "2022-08-03T03:00:00",
          "2022-08-03T04:00:00",
          "2022-08-03T05:00:00",
          "2022-08-03T06:00:00",
          "2022-08-03T07:00:00",
          "2022-08-03T08:00:00",
          "2022-08-03T09:00:00",
          "2022-08-03T10:00:00",
          "2022-08-03T11:00:00",
          "2022-08-03T12:00:00",
          "2022-08-03T13:00:00",
          "2022-08-03T14:00:00",
          "2022-08-03T15:00:00",
          "2022-08-03T16:00:00",
          "2022-08-03T17:00:00",
          "2022-08-03T18:00:00",
          "2022-08-03T19:00:00",
          "2022-08-03T20:00:00",
          "2022-08-03T21:00:00",
          "2022-08-03T22:00:00",
          "2022-08-03T23:00:00",
          "2022-08-04T00:00:00",
          "2022-08-04T01:00:00",
          "2022-08-04T02:00:00",
          "2022-08-04T03:00:00",
          "2022-08-04T04:00:00",
          "2022-08-04T05:00:00",
          "2022-08-04T06:00:00",
          "2022-08-04T07:00:00",
          "2022-08-04T08:00:00",
          "2022-08-04T09:00:00",
          "2022-08-04T10:00:00",
          "2022-08-04T11:00:00",
          "2022-08-04T12:00:00",
          "2022-08-04T13:00:00",
          "2022-08-04T14:00:00",
          "2022-08-04T15:00:00",
          "2022-08-04T16:00:00",
          "2022-08-04T17:00:00",
          "2022-08-04T18:00:00",
          "2022-08-04T19:00:00",
          "2022-08-04T20:00:00",
          "2022-08-04T21:00:00",
          "2022-08-04T22:00:00",
          "2022-08-04T23:00:00"
         ],
         "xaxis": "x",
         "y": [
          19.98300795372379,
          18.919685088374408,
          20.06671693476318,
          10.414271102497846,
          17.42528373266078,
          24.68704748472026,
          25.77157511020685,
          31.02485766979392,
          22.435391077227163,
          34.015764059837146,
          54.897571446879404,
          59.599609488838375,
          61.76740102171136,
          54.61114551996697,
          30.137949836423115,
          35.88059416526653,
          32.60669138715658,
          36.90643325785287,
          32.60476053823098,
          28.749905428409303,
          38.05182926829268,
          38.10084581563455,
          31.239449886963076,
          21.54388836919239,
          18.317757290913473,
          24.079599203385612,
          15.435936103663984,
          22.316295219638242,
          17.42528373266078,
          27.285684062059236,
          28.11444557477111,
          45.429255873626815,
          27.312650007059155,
          28.782569589092972,
          26.56334102268358,
          24.967403975053912,
          21.658699059561126,
          16.30183448357223,
          20.091966557615407,
          17.58852655160124,
          28.724942412495082,
          20.05784416187656,
          12.336936419871181,
          24.39385915137759,
          38.05182926829268,
          30.892577688352336,
          21.983316587122165,
          17.235110695353914,
          16.652506628103158,
          13.759770973363207,
          23.153904155495976,
          17.853036175710592,
          31.946353509878097,
          32.482957216737184,
          38.65736266531027,
          33.24091893192206,
          36.09171608075674,
          34.88796313829451,
          22.136117518902985,
          25.77280410328146,
          26.471743295019156,
          20.377293104465284,
          30.855520070623665,
          28.141642482561984,
          17.85604528344289,
          24.06941299425187,
          29.961131305401437,
          19.166603618939536,
          30.803861788617883,
          29.862825098740593,
          26.61138323704262,
          17.235110695353914,
          24.978759942154735,
          22.359627831715212,
          27.78468498659517,
          14.877530146425496,
          34.85056746532156,
          31.183638928067698,
          42.171668362156666,
          57.61759281533157,
          58.5271071579839,
          40.12115760903869,
          45.15767973856209,
          42.68620679605991,
          46.52609427609427,
          37.494219312216124,
          31.573090304824213,
          32.362888854946284,
          30.27764200235968,
          32.89486442547756,
          22.030243606912823,
          39.204416493285414,
          25.367886178861784,
          29.862825098740593,
          27.768399899522734,
          27.288925267643695,
          31.639762593395997,
          29.239513318396813,
          16.97952971403038,
          25.291801248923342,
          34.85056746532156,
          28.585002350728722,
          32.800186503899624,
          89.75048111618956,
          100.47153395453903,
          144.78504702392223,
          26.56334102268358,
          35.437605642012,
          69.78914141414141,
          62.76206276175308,
          49.512346159837975,
          70.35410620640496,
          52.015436260464064,
          40.11568832375312,
          56.397423633696825,
          49.65892755816152,
          54.35975609756097,
          68.99342350398689,
          27.768399899522734,
          27.288925267643695,
          24.978759942154735,
          27.519541946726413,
          41.67702747989276,
          89.26518087855297,
          31.946353509878097,
          36.380912082745645,
          44.51453882672092,
          69.80592975703632,
          30.23900536495835,
          39.248958530581326,
          26.56334102268358,
          24.162003846826366,
          21.658699059561126,
          30.973485518787236,
          23.67981772861816,
          25.327478234305786,
          23.290493847968985,
          22.464785461301744,
          18.50540462980677,
          27.87869617300296,
          16.30792682926829,
          18.5355466130114,
          16.198233274721595,
          25.85266604303087,
          13.322005302482525,
          24.079599203385612,
          20.06671693476318,
          16.365283161068046,
          27.5900325767129,
          14.292501175364361,
          23.42870464564259,
          35.456980194050196,
          32.18990893689114,
          23.549375118348795,
          36.3032327310009,
          20.940403333916187,
          29.680439451991173,
          26.898026897894177,
          25.832528431219814,
          23.21685504811364,
          22.514144053036684,
          24.06941299425187,
          27.317502072571898,
          26.136277662190277,
          29.897865853658534,
          23.684309561070123,
          18.512266599681823,
          33.033962166095
         ],
         "yaxis": "y"
        },
        {
         "mode": "lines",
         "name": "Predicted Relevant Tweets",
         "type": "scatter",
         "x": [
          "2022-07-29T00:00:00",
          "2022-07-29T01:00:00",
          "2022-07-29T02:00:00",
          "2022-07-29T03:00:00",
          "2022-07-29T04:00:00",
          "2022-07-29T05:00:00",
          "2022-07-29T06:00:00",
          "2022-07-29T07:00:00",
          "2022-07-29T08:00:00",
          "2022-07-29T09:00:00",
          "2022-07-29T10:00:00",
          "2022-07-29T11:00:00",
          "2022-07-29T12:00:00",
          "2022-07-29T13:00:00",
          "2022-07-29T14:00:00",
          "2022-07-29T15:00:00",
          "2022-07-29T16:00:00",
          "2022-07-29T17:00:00",
          "2022-07-29T18:00:00",
          "2022-07-29T19:00:00",
          "2022-07-29T20:00:00",
          "2022-07-29T21:00:00",
          "2022-07-29T22:00:00",
          "2022-07-29T23:00:00",
          "2022-07-30T00:00:00",
          "2022-07-30T01:00:00",
          "2022-07-30T02:00:00",
          "2022-07-30T03:00:00",
          "2022-07-30T04:00:00",
          "2022-07-30T05:00:00",
          "2022-07-30T06:00:00",
          "2022-07-30T07:00:00",
          "2022-07-30T08:00:00",
          "2022-07-30T09:00:00",
          "2022-07-30T10:00:00",
          "2022-07-30T11:00:00",
          "2022-07-30T12:00:00",
          "2022-07-30T13:00:00",
          "2022-07-30T14:00:00",
          "2022-07-30T15:00:00",
          "2022-07-30T16:00:00",
          "2022-07-30T17:00:00",
          "2022-07-30T18:00:00",
          "2022-07-30T19:00:00",
          "2022-07-30T20:00:00",
          "2022-07-30T21:00:00",
          "2022-07-30T22:00:00",
          "2022-07-30T23:00:00",
          "2022-07-31T00:00:00",
          "2022-07-31T01:00:00",
          "2022-07-31T02:00:00",
          "2022-07-31T03:00:00",
          "2022-07-31T04:00:00",
          "2022-07-31T05:00:00",
          "2022-07-31T06:00:00",
          "2022-07-31T07:00:00",
          "2022-07-31T08:00:00",
          "2022-07-31T09:00:00",
          "2022-07-31T10:00:00",
          "2022-07-31T11:00:00",
          "2022-07-31T12:00:00",
          "2022-07-31T13:00:00",
          "2022-07-31T14:00:00",
          "2022-07-31T15:00:00",
          "2022-07-31T16:00:00",
          "2022-07-31T17:00:00",
          "2022-07-31T18:00:00",
          "2022-07-31T19:00:00",
          "2022-07-31T20:00:00",
          "2022-07-31T21:00:00",
          "2022-07-31T22:00:00",
          "2022-07-31T23:00:00",
          "2022-08-01T00:00:00",
          "2022-08-01T01:00:00",
          "2022-08-01T02:00:00",
          "2022-08-01T03:00:00",
          "2022-08-01T04:00:00",
          "2022-08-01T05:00:00",
          "2022-08-01T06:00:00",
          "2022-08-01T07:00:00",
          "2022-08-01T08:00:00",
          "2022-08-01T09:00:00",
          "2022-08-01T10:00:00",
          "2022-08-01T11:00:00",
          "2022-08-01T12:00:00",
          "2022-08-01T13:00:00",
          "2022-08-01T14:00:00",
          "2022-08-01T15:00:00",
          "2022-08-01T16:00:00",
          "2022-08-01T17:00:00",
          "2022-08-01T18:00:00",
          "2022-08-01T19:00:00",
          "2022-08-01T20:00:00",
          "2022-08-01T21:00:00",
          "2022-08-01T22:00:00",
          "2022-08-01T23:00:00",
          "2022-08-02T00:00:00",
          "2022-08-02T01:00:00",
          "2022-08-02T02:00:00",
          "2022-08-02T03:00:00",
          "2022-08-02T04:00:00",
          "2022-08-02T05:00:00",
          "2022-08-02T06:00:00",
          "2022-08-02T07:00:00",
          "2022-08-02T08:00:00",
          "2022-08-02T09:00:00",
          "2022-08-02T10:00:00",
          "2022-08-02T11:00:00",
          "2022-08-02T12:00:00",
          "2022-08-02T13:00:00",
          "2022-08-02T14:00:00",
          "2022-08-02T15:00:00",
          "2022-08-02T16:00:00",
          "2022-08-02T17:00:00",
          "2022-08-02T18:00:00",
          "2022-08-02T19:00:00",
          "2022-08-02T20:00:00",
          "2022-08-02T21:00:00",
          "2022-08-02T22:00:00",
          "2022-08-02T23:00:00",
          "2022-08-03T00:00:00",
          "2022-08-03T01:00:00",
          "2022-08-03T02:00:00",
          "2022-08-03T03:00:00",
          "2022-08-03T04:00:00",
          "2022-08-03T05:00:00",
          "2022-08-03T06:00:00",
          "2022-08-03T07:00:00",
          "2022-08-03T08:00:00",
          "2022-08-03T09:00:00",
          "2022-08-03T10:00:00",
          "2022-08-03T11:00:00",
          "2022-08-03T12:00:00",
          "2022-08-03T13:00:00",
          "2022-08-03T14:00:00",
          "2022-08-03T15:00:00",
          "2022-08-03T16:00:00",
          "2022-08-03T17:00:00",
          "2022-08-03T18:00:00",
          "2022-08-03T19:00:00",
          "2022-08-03T20:00:00",
          "2022-08-03T21:00:00",
          "2022-08-03T22:00:00",
          "2022-08-03T23:00:00",
          "2022-08-04T00:00:00",
          "2022-08-04T01:00:00",
          "2022-08-04T02:00:00",
          "2022-08-04T03:00:00",
          "2022-08-04T04:00:00",
          "2022-08-04T05:00:00",
          "2022-08-04T06:00:00",
          "2022-08-04T07:00:00",
          "2022-08-04T08:00:00",
          "2022-08-04T09:00:00",
          "2022-08-04T10:00:00",
          "2022-08-04T11:00:00",
          "2022-08-04T12:00:00",
          "2022-08-04T13:00:00",
          "2022-08-04T14:00:00",
          "2022-08-04T15:00:00",
          "2022-08-04T16:00:00",
          "2022-08-04T17:00:00",
          "2022-08-04T18:00:00",
          "2022-08-04T19:00:00",
          "2022-08-04T20:00:00",
          "2022-08-04T21:00:00",
          "2022-08-04T22:00:00",
          "2022-08-04T23:00:00"
         ],
         "xaxis": "x",
         "y": [
          27.914207458496094,
          27.907638549804688,
          28.051986694335938,
          27.97528648376465,
          28.101806640625,
          28.219703674316406,
          27.943077087402344,
          27.874801635742188,
          27.98163604736328,
          27.831661224365234,
          27.999187469482422,
          28.003089904785156,
          27.8404598236084,
          27.965513229370117,
          27.93397331237793,
          27.93174171447754,
          27.983983993530273,
          27.89703369140625,
          28.11511993408203,
          28.195133209228516,
          27.91063690185547,
          27.940738677978516,
          27.89179229736328,
          28.30088996887207,
          27.96331214904785,
          27.945026397705078,
          27.902923583984375,
          28.018484115600586,
          28.03486442565918,
          28.208749771118164,
          28.069021224975586,
          28.175453186035156,
          27.898386001586914,
          28.00405502319336,
          28.10167694091797,
          28.092134475708008,
          28.249908447265625,
          28.015233993530273,
          28.202512741088867,
          27.92759132385254,
          28.015399932861328,
          27.86202621459961,
          27.9986515045166,
          27.878591537475586,
          27.951980590820312,
          27.95452117919922,
          27.964567184448242,
          28.026451110839844,
          27.83870506286621,
          28.145296096801758,
          28.27396583557129,
          28.067974090576172,
          27.97454071044922,
          27.867233276367188,
          28.12876319885254,
          27.818775177001953,
          28.146562576293945,
          27.952457427978516,
          28.004127502441406,
          27.885986328125,
          28.212627410888672,
          28.067989349365234,
          28.038686752319336,
          28.038806915283203,
          27.99466323852539,
          28.062902450561523,
          28.0161190032959,
          28.00528335571289,
          27.849946975708008,
          28.08091926574707,
          28.046960830688477,
          28.040573120117188,
          28.134521484375,
          27.897212982177734,
          27.958065032958984,
          28.01348876953125,
          28.227170944213867,
          28.059350967407227,
          28.21835708618164,
          28.015968322753906,
          27.932376861572266,
          28.244977951049805,
          28.013795852661133,
          28.28681755065918,
          28.155792236328125,
          28.146575927734375,
          27.9364013671875,
          28.033559799194336,
          27.883317947387695,
          28.00111198425293,
          27.9407958984375,
          28.236021041870117,
          28.105064392089844,
          28.024187088012695,
          27.996707916259766,
          27.956396102905273,
          27.971338272094727,
          27.993785858154297,
          27.879148483276367,
          27.9586238861084,
          27.95628547668457,
          28.096590042114258,
          28.007476806640625,
          96.47943878173828,
          89.32174682617188,
          82.47161102294922,
          76.30657196044922,
          71.15791320800781,
          66.77350616455078,
          62.4983024597168,
          59.17081069946289,
          55.610713958740234,
          52.79592514038086,
          50.23986053466797,
          47.91834259033203,
          45.995391845703125,
          44.04423522949219,
          42.49448776245117,
          41.194862365722656,
          40.03793716430664,
          38.5029182434082,
          37.52588653564453,
          36.73576736450195,
          35.931724548339844,
          35.262779235839844,
          34.6568603515625,
          33.946170806884766,
          33.104515075683594,
          33.1366081237793,
          32.62625503540039,
          32.29896926879883,
          31.877437591552734,
          31.696130752563477,
          31.461280822753906,
          31.126962661743164,
          30.963653564453125,
          30.90210723876953,
          30.7268009185791,
          30.416358947753906,
          30.297880172729492,
          30.240549087524414,
          30.41884422302246,
          29.980764389038086,
          29.79463005065918,
          29.852741241455078,
          29.738525390625,
          29.632614135742188,
          29.522676467895508,
          29.621971130371094,
          29.574003219604492,
          29.549699783325195,
          29.666820526123047,
          29.638172149658203,
          29.377336502075195,
          29.222450256347656,
          29.292400360107422,
          29.344900131225586,
          29.327356338500977,
          29.429580688476562,
          29.23409652709961,
          29.3370418548584,
          29.35428810119629,
          29.076078414916992,
          29.297134399414062,
          29.220325469970703,
          29.23101043701172,
          29.24333381652832,
          29.294260025024414
         ],
         "yaxis": "y"
        }
       ],
       "layout": {
        "template": {
         "data": {
          "bar": [
           {
            "error_x": {
             "color": "#2a3f5f"
            },
            "error_y": {
             "color": "#2a3f5f"
            },
            "marker": {
             "line": {
              "color": "#E5ECF6",
              "width": 0.5
             },
             "pattern": {
              "fillmode": "overlay",
              "size": 10,
              "solidity": 0.2
             }
            },
            "type": "bar"
           }
          ],
          "barpolar": [
           {
            "marker": {
             "line": {
              "color": "#E5ECF6",
              "width": 0.5
             },
             "pattern": {
              "fillmode": "overlay",
              "size": 10,
              "solidity": 0.2
             }
            },
            "type": "barpolar"
           }
          ],
          "carpet": [
           {
            "aaxis": {
             "endlinecolor": "#2a3f5f",
             "gridcolor": "white",
             "linecolor": "white",
             "minorgridcolor": "white",
             "startlinecolor": "#2a3f5f"
            },
            "baxis": {
             "endlinecolor": "#2a3f5f",
             "gridcolor": "white",
             "linecolor": "white",
             "minorgridcolor": "white",
             "startlinecolor": "#2a3f5f"
            },
            "type": "carpet"
           }
          ],
          "choropleth": [
           {
            "colorbar": {
             "outlinewidth": 0,
             "ticks": ""
            },
            "type": "choropleth"
           }
          ],
          "contour": [
           {
            "colorbar": {
             "outlinewidth": 0,
             "ticks": ""
            },
            "colorscale": [
             [
              0,
              "#0d0887"
             ],
             [
              0.1111111111111111,
              "#46039f"
             ],
             [
              0.2222222222222222,
              "#7201a8"
             ],
             [
              0.3333333333333333,
              "#9c179e"
             ],
             [
              0.4444444444444444,
              "#bd3786"
             ],
             [
              0.5555555555555556,
              "#d8576b"
             ],
             [
              0.6666666666666666,
              "#ed7953"
             ],
             [
              0.7777777777777778,
              "#fb9f3a"
             ],
             [
              0.8888888888888888,
              "#fdca26"
             ],
             [
              1,
              "#f0f921"
             ]
            ],
            "type": "contour"
           }
          ],
          "contourcarpet": [
           {
            "colorbar": {
             "outlinewidth": 0,
             "ticks": ""
            },
            "type": "contourcarpet"
           }
          ],
          "heatmap": [
           {
            "colorbar": {
             "outlinewidth": 0,
             "ticks": ""
            },
            "colorscale": [
             [
              0,
              "#0d0887"
             ],
             [
              0.1111111111111111,
              "#46039f"
             ],
             [
              0.2222222222222222,
              "#7201a8"
             ],
             [
              0.3333333333333333,
              "#9c179e"
             ],
             [
              0.4444444444444444,
              "#bd3786"
             ],
             [
              0.5555555555555556,
              "#d8576b"
             ],
             [
              0.6666666666666666,
              "#ed7953"
             ],
             [
              0.7777777777777778,
              "#fb9f3a"
             ],
             [
              0.8888888888888888,
              "#fdca26"
             ],
             [
              1,
              "#f0f921"
             ]
            ],
            "type": "heatmap"
           }
          ],
          "heatmapgl": [
           {
            "colorbar": {
             "outlinewidth": 0,
             "ticks": ""
            },
            "colorscale": [
             [
              0,
              "#0d0887"
             ],
             [
              0.1111111111111111,
              "#46039f"
             ],
             [
              0.2222222222222222,
              "#7201a8"
             ],
             [
              0.3333333333333333,
              "#9c179e"
             ],
             [
              0.4444444444444444,
              "#bd3786"
             ],
             [
              0.5555555555555556,
              "#d8576b"
             ],
             [
              0.6666666666666666,
              "#ed7953"
             ],
             [
              0.7777777777777778,
              "#fb9f3a"
             ],
             [
              0.8888888888888888,
              "#fdca26"
             ],
             [
              1,
              "#f0f921"
             ]
            ],
            "type": "heatmapgl"
           }
          ],
          "histogram": [
           {
            "marker": {
             "pattern": {
              "fillmode": "overlay",
              "size": 10,
              "solidity": 0.2
             }
            },
            "type": "histogram"
           }
          ],
          "histogram2d": [
           {
            "colorbar": {
             "outlinewidth": 0,
             "ticks": ""
            },
            "colorscale": [
             [
              0,
              "#0d0887"
             ],
             [
              0.1111111111111111,
              "#46039f"
             ],
             [
              0.2222222222222222,
              "#7201a8"
             ],
             [
              0.3333333333333333,
              "#9c179e"
             ],
             [
              0.4444444444444444,
              "#bd3786"
             ],
             [
              0.5555555555555556,
              "#d8576b"
             ],
             [
              0.6666666666666666,
              "#ed7953"
             ],
             [
              0.7777777777777778,
              "#fb9f3a"
             ],
             [
              0.8888888888888888,
              "#fdca26"
             ],
             [
              1,
              "#f0f921"
             ]
            ],
            "type": "histogram2d"
           }
          ],
          "histogram2dcontour": [
           {
            "colorbar": {
             "outlinewidth": 0,
             "ticks": ""
            },
            "colorscale": [
             [
              0,
              "#0d0887"
             ],
             [
              0.1111111111111111,
              "#46039f"
             ],
             [
              0.2222222222222222,
              "#7201a8"
             ],
             [
              0.3333333333333333,
              "#9c179e"
             ],
             [
              0.4444444444444444,
              "#bd3786"
             ],
             [
              0.5555555555555556,
              "#d8576b"
             ],
             [
              0.6666666666666666,
              "#ed7953"
             ],
             [
              0.7777777777777778,
              "#fb9f3a"
             ],
             [
              0.8888888888888888,
              "#fdca26"
             ],
             [
              1,
              "#f0f921"
             ]
            ],
            "type": "histogram2dcontour"
           }
          ],
          "mesh3d": [
           {
            "colorbar": {
             "outlinewidth": 0,
             "ticks": ""
            },
            "type": "mesh3d"
           }
          ],
          "parcoords": [
           {
            "line": {
             "colorbar": {
              "outlinewidth": 0,
              "ticks": ""
             }
            },
            "type": "parcoords"
           }
          ],
          "pie": [
           {
            "automargin": true,
            "type": "pie"
           }
          ],
          "scatter": [
           {
            "fillpattern": {
             "fillmode": "overlay",
             "size": 10,
             "solidity": 0.2
            },
            "type": "scatter"
           }
          ],
          "scatter3d": [
           {
            "line": {
             "colorbar": {
              "outlinewidth": 0,
              "ticks": ""
             }
            },
            "marker": {
             "colorbar": {
              "outlinewidth": 0,
              "ticks": ""
             }
            },
            "type": "scatter3d"
           }
          ],
          "scattercarpet": [
           {
            "marker": {
             "colorbar": {
              "outlinewidth": 0,
              "ticks": ""
             }
            },
            "type": "scattercarpet"
           }
          ],
          "scattergeo": [
           {
            "marker": {
             "colorbar": {
              "outlinewidth": 0,
              "ticks": ""
             }
            },
            "type": "scattergeo"
           }
          ],
          "scattergl": [
           {
            "marker": {
             "colorbar": {
              "outlinewidth": 0,
              "ticks": ""
             }
            },
            "type": "scattergl"
           }
          ],
          "scattermapbox": [
           {
            "marker": {
             "colorbar": {
              "outlinewidth": 0,
              "ticks": ""
             }
            },
            "type": "scattermapbox"
           }
          ],
          "scatterpolar": [
           {
            "marker": {
             "colorbar": {
              "outlinewidth": 0,
              "ticks": ""
             }
            },
            "type": "scatterpolar"
           }
          ],
          "scatterpolargl": [
           {
            "marker": {
             "colorbar": {
              "outlinewidth": 0,
              "ticks": ""
             }
            },
            "type": "scatterpolargl"
           }
          ],
          "scatterternary": [
           {
            "marker": {
             "colorbar": {
              "outlinewidth": 0,
              "ticks": ""
             }
            },
            "type": "scatterternary"
           }
          ],
          "surface": [
           {
            "colorbar": {
             "outlinewidth": 0,
             "ticks": ""
            },
            "colorscale": [
             [
              0,
              "#0d0887"
             ],
             [
              0.1111111111111111,
              "#46039f"
             ],
             [
              0.2222222222222222,
              "#7201a8"
             ],
             [
              0.3333333333333333,
              "#9c179e"
             ],
             [
              0.4444444444444444,
              "#bd3786"
             ],
             [
              0.5555555555555556,
              "#d8576b"
             ],
             [
              0.6666666666666666,
              "#ed7953"
             ],
             [
              0.7777777777777778,
              "#fb9f3a"
             ],
             [
              0.8888888888888888,
              "#fdca26"
             ],
             [
              1,
              "#f0f921"
             ]
            ],
            "type": "surface"
           }
          ],
          "table": [
           {
            "cells": {
             "fill": {
              "color": "#EBF0F8"
             },
             "line": {
              "color": "white"
             }
            },
            "header": {
             "fill": {
              "color": "#C8D4E3"
             },
             "line": {
              "color": "white"
             }
            },
            "type": "table"
           }
          ]
         },
         "layout": {
          "annotationdefaults": {
           "arrowcolor": "#2a3f5f",
           "arrowhead": 0,
           "arrowwidth": 1
          },
          "autotypenumbers": "strict",
          "coloraxis": {
           "colorbar": {
            "outlinewidth": 0,
            "ticks": ""
           }
          },
          "colorscale": {
           "diverging": [
            [
             0,
             "#8e0152"
            ],
            [
             0.1,
             "#c51b7d"
            ],
            [
             0.2,
             "#de77ae"
            ],
            [
             0.3,
             "#f1b6da"
            ],
            [
             0.4,
             "#fde0ef"
            ],
            [
             0.5,
             "#f7f7f7"
            ],
            [
             0.6,
             "#e6f5d0"
            ],
            [
             0.7,
             "#b8e186"
            ],
            [
             0.8,
             "#7fbc41"
            ],
            [
             0.9,
             "#4d9221"
            ],
            [
             1,
             "#276419"
            ]
           ],
           "sequential": [
            [
             0,
             "#0d0887"
            ],
            [
             0.1111111111111111,
             "#46039f"
            ],
            [
             0.2222222222222222,
             "#7201a8"
            ],
            [
             0.3333333333333333,
             "#9c179e"
            ],
            [
             0.4444444444444444,
             "#bd3786"
            ],
            [
             0.5555555555555556,
             "#d8576b"
            ],
            [
             0.6666666666666666,
             "#ed7953"
            ],
            [
             0.7777777777777778,
             "#fb9f3a"
            ],
            [
             0.8888888888888888,
             "#fdca26"
            ],
            [
             1,
             "#f0f921"
            ]
           ],
           "sequentialminus": [
            [
             0,
             "#0d0887"
            ],
            [
             0.1111111111111111,
             "#46039f"
            ],
            [
             0.2222222222222222,
             "#7201a8"
            ],
            [
             0.3333333333333333,
             "#9c179e"
            ],
            [
             0.4444444444444444,
             "#bd3786"
            ],
            [
             0.5555555555555556,
             "#d8576b"
            ],
            [
             0.6666666666666666,
             "#ed7953"
            ],
            [
             0.7777777777777778,
             "#fb9f3a"
            ],
            [
             0.8888888888888888,
             "#fdca26"
            ],
            [
             1,
             "#f0f921"
            ]
           ]
          },
          "colorway": [
           "#636efa",
           "#EF553B",
           "#00cc96",
           "#ab63fa",
           "#FFA15A",
           "#19d3f3",
           "#FF6692",
           "#B6E880",
           "#FF97FF",
           "#FECB52"
          ],
          "font": {
           "color": "#2a3f5f"
          },
          "geo": {
           "bgcolor": "white",
           "lakecolor": "white",
           "landcolor": "#E5ECF6",
           "showlakes": true,
           "showland": true,
           "subunitcolor": "white"
          },
          "hoverlabel": {
           "align": "left"
          },
          "hovermode": "closest",
          "mapbox": {
           "style": "light"
          },
          "paper_bgcolor": "white",
          "plot_bgcolor": "#E5ECF6",
          "polar": {
           "angularaxis": {
            "gridcolor": "white",
            "linecolor": "white",
            "ticks": ""
           },
           "bgcolor": "#E5ECF6",
           "radialaxis": {
            "gridcolor": "white",
            "linecolor": "white",
            "ticks": ""
           }
          },
          "scene": {
           "xaxis": {
            "backgroundcolor": "#E5ECF6",
            "gridcolor": "white",
            "gridwidth": 2,
            "linecolor": "white",
            "showbackground": true,
            "ticks": "",
            "zerolinecolor": "white"
           },
           "yaxis": {
            "backgroundcolor": "#E5ECF6",
            "gridcolor": "white",
            "gridwidth": 2,
            "linecolor": "white",
            "showbackground": true,
            "ticks": "",
            "zerolinecolor": "white"
           },
           "zaxis": {
            "backgroundcolor": "#E5ECF6",
            "gridcolor": "white",
            "gridwidth": 2,
            "linecolor": "white",
            "showbackground": true,
            "ticks": "",
            "zerolinecolor": "white"
           }
          },
          "shapedefaults": {
           "line": {
            "color": "#2a3f5f"
           }
          },
          "ternary": {
           "aaxis": {
            "gridcolor": "white",
            "linecolor": "white",
            "ticks": ""
           },
           "baxis": {
            "gridcolor": "white",
            "linecolor": "white",
            "ticks": ""
           },
           "bgcolor": "#E5ECF6",
           "caxis": {
            "gridcolor": "white",
            "linecolor": "white",
            "ticks": ""
           }
          },
          "title": {
           "x": 0.05
          },
          "xaxis": {
           "automargin": true,
           "gridcolor": "white",
           "linecolor": "white",
           "ticks": "",
           "title": {
            "standoff": 15
           },
           "zerolinecolor": "white",
           "zerolinewidth": 2
          },
          "yaxis": {
           "automargin": true,
           "gridcolor": "white",
           "linecolor": "white",
           "ticks": "",
           "title": {
            "standoff": 15
           },
           "zerolinecolor": "white",
           "zerolinewidth": 2
          }
         }
        },
        "xaxis": {
         "anchor": "y",
         "domain": [
          0,
          1
         ]
        },
        "yaxis": {
         "anchor": "x",
         "domain": [
          0,
          1
         ]
        }
       }
      }
     },
     "metadata": {},
     "output_type": "display_data"
    }
   ],
   "source": [
    "fig = make_subplots(rows=2, cols=1, shared_xaxes=True, vertical_spacing=0.02)\n",
    "fig.add_trace(go.Scatter(x=scaled.index, y=scaled.relevant, mode='lines', name='Relevant Tweets'), row=1, col=1)\n",
    "fig.add_trace(go.Scatter(x=scaled.index, y=scaled.corrected_relevant, mode='lines', name='Corrected Relevant Tweets'), row=1, col=1)\n",
    "fig.add_trace(go.Scatter(x=scaled.index, y=predictions['obs'].mean(axis = 0), mode='lines', name='Predicted Relevant Tweets'), row=2, col=1)"
   ]
  }
 ],
 "metadata": {
  "kernelspec": {
   "display_name": "ukraine_war_sentiment",
   "language": "python",
   "name": "python3"
  },
  "language_info": {
   "codemirror_mode": {
    "name": "ipython",
    "version": 3
   },
   "file_extension": ".py",
   "mimetype": "text/x-python",
   "name": "python",
   "nbconvert_exporter": "python",
   "pygments_lexer": "ipython3",
   "version": "3.12.9"
  }
 },
 "nbformat": 4,
 "nbformat_minor": 2
}
